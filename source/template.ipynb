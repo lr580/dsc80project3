{
 "cells": [
  {
   "cell_type": "markdown",
   "metadata": {},
   "source": [
    "# Your Title Here\n",
    "\n",
    "**Name(s)**: (your name(s) here)\n",
    "\n",
    "**Website Link**: [https://lr580.github.io/power_outages_stats/](https://lr580.github.io/power_outages_stats/)"
   ]
  },
  {
   "cell_type": "markdown",
   "metadata": {},
   "source": [
    "## Code"
   ]
  },
  {
   "cell_type": "code",
   "execution_count": 87,
   "metadata": {
    "ExecuteTime": {
     "end_time": "2019-10-31T23:36:28.652554Z",
     "start_time": "2019-10-31T23:36:27.180520Z"
    }
   },
   "outputs": [],
   "source": [
    "import pandas as pd\n",
    "import numpy as np\n",
    "import os\n",
    "import plotly.express as px\n",
    "pd.options.plotting.backend = 'plotly'"
   ]
  },
  {
   "cell_type": "markdown",
   "metadata": {},
   "source": [
    "### Cleaning and EDA"
   ]
  },
  {
   "cell_type": "markdown",
   "metadata": {},
   "source": [
    "#### Data Cleaning"
   ]
  },
  {
   "cell_type": "markdown",
   "metadata": {},
   "source": [
    "##### Read the Data"
   ]
  },
  {
   "cell_type": "markdown",
   "metadata": {},
   "source": [
    "Since the data is not large(as stated above, only over a thousand rows), we opened it beforehand via Microsoft Excel and found that the columns names are located at 6th rows, while the data starts at 8th row. And it's noticed that the first column is empty, which means that the real column starts at the second column. Therefore, we need to open the dataset starting from the 8th row and the 2nd column, while reading the 6th column as column names.\n",
    "\n",
    "To realize this, we first use `header=5` to skip the first 5 rows and uses the 6th row as the names for columns. Then, we drop the first row(actually the 7th row in the raw file) and the first column.\n"
   ]
  },
  {
   "cell_type": "code",
   "execution_count": 88,
   "metadata": {},
   "outputs": [
    {
     "name": "stdout",
     "output_type": "stream",
     "text": [
      "         OBS    YEAR  MONTH    U.S._STATE POSTAL.CODE NERC.REGION  \\\n",
      "1        1.0  2011.0    7.0     Minnesota          MN         MRO   \n",
      "2        2.0  2014.0    5.0     Minnesota          MN         MRO   \n",
      "3        3.0  2010.0   10.0     Minnesota          MN         MRO   \n",
      "4        4.0  2012.0    6.0     Minnesota          MN         MRO   \n",
      "5        5.0  2015.0    7.0     Minnesota          MN         MRO   \n",
      "...      ...     ...    ...           ...         ...         ...   \n",
      "1530  1530.0  2011.0   12.0  North Dakota          ND         MRO   \n",
      "1531  1531.0  2006.0    NaN  North Dakota          ND         MRO   \n",
      "1532  1532.0  2009.0    8.0  South Dakota          SD         RFC   \n",
      "1533  1533.0  2009.0    8.0  South Dakota          SD         MRO   \n",
      "1534  1534.0  2000.0    NaN        Alaska          AK        ASCC   \n",
      "\n",
      "          CLIMATE.REGION ANOMALY.LEVEL CLIMATE.CATEGORY    OUTAGE.START.DATE  \\\n",
      "1     East North Central          -0.3           normal  2011-07-01 00:00:00   \n",
      "2     East North Central          -0.1           normal  2014-05-11 00:00:00   \n",
      "3     East North Central          -1.5             cold  2010-10-26 00:00:00   \n",
      "4     East North Central          -0.1           normal  2012-06-19 00:00:00   \n",
      "5     East North Central           1.2             warm  2015-07-18 00:00:00   \n",
      "...                  ...           ...              ...                  ...   \n",
      "1530  West North Central          -0.9             cold  2011-12-06 00:00:00   \n",
      "1531  West North Central           NaN              NaN                  NaN   \n",
      "1532  West North Central           0.5             warm  2009-08-29 00:00:00   \n",
      "1533  West North Central           0.5             warm  2009-08-29 00:00:00   \n",
      "1534                 NaN           NaN              NaN                  NaN   \n",
      "\n",
      "      ... POPPCT_URBAN POPPCT_UC POPDEN_URBAN POPDEN_UC POPDEN_RURAL  \\\n",
      "1     ...        73.27     15.28         2279    1700.5         18.2   \n",
      "2     ...        73.27     15.28         2279    1700.5         18.2   \n",
      "3     ...        73.27     15.28         2279    1700.5         18.2   \n",
      "4     ...        73.27     15.28         2279    1700.5         18.2   \n",
      "5     ...        73.27     15.28         2279    1700.5         18.2   \n",
      "...   ...          ...       ...          ...       ...          ...   \n",
      "1530  ...         59.9      19.9       2192.2    1868.2          3.9   \n",
      "1531  ...         59.9      19.9       2192.2    1868.2          3.9   \n",
      "1532  ...        56.65     26.73       2038.3    1905.4          4.7   \n",
      "1533  ...        56.65     26.73       2038.3    1905.4          4.7   \n",
      "1534  ...        66.02     21.56       1802.6      1276          0.4   \n",
      "\n",
      "     AREAPCT_URBAN AREAPCT_UC   PCT_LAND  PCT_WATER_TOT PCT_WATER_INLAND  \n",
      "1             2.14        0.6  91.592666       8.407334         5.478743  \n",
      "2             2.14        0.6  91.592666       8.407334         5.478743  \n",
      "3             2.14        0.6  91.592666       8.407334         5.478743  \n",
      "4             2.14        0.6  91.592666       8.407334         5.478743  \n",
      "5             2.14        0.6  91.592666       8.407334         5.478743  \n",
      "...            ...        ...        ...            ...              ...  \n",
      "1530          0.27        0.1  97.599649       2.401765         2.401765  \n",
      "1531          0.27        0.1  97.599649       2.401765         2.401765  \n",
      "1532           0.3       0.15  98.307744       1.692256         1.692256  \n",
      "1533           0.3       0.15  98.307744       1.692256         1.692256  \n",
      "1534          0.05       0.02  85.761154      14.238846         2.901182  \n",
      "\n",
      "[1534 rows x 56 columns]\n"
     ]
    }
   ],
   "source": [
    "# skip first 5 rows\n",
    "data = pd.read_excel(\"outage.xlsx\", header=5)\n",
    "# drop the 7th row\n",
    "data = data.drop(0)\n",
    "# drop the 1st column\n",
    "data = data.drop(data.columns[0], axis=1)\n",
    "# show the data\n",
    "print(data)"
   ]
  },
  {
   "cell_type": "markdown",
   "metadata": {},
   "source": [
    "##### Combine Date Column and Time Column"
   ]
  },
  {
   "cell_type": "markdown",
   "metadata": {},
   "source": [
    "It's not convenience if a specific datetime is described by two columns, so first we combine the `OUTAGE.START.DATE` column and the `OUTAGE.START.TIME` column into a single `OUTAGE.START` column with the `pd.Timestamp` type.\n",
    "\n",
    "Before the convertion, we first check the two columns to see its types and raw data."
   ]
  },
  {
   "cell_type": "code",
   "execution_count": 89,
   "metadata": {
    "ExecuteTime": {
     "end_time": "2019-10-31T23:36:28.657068Z",
     "start_time": "2019-10-31T23:36:28.654650Z"
    }
   },
   "outputs": [
    {
     "name": "stdout",
     "output_type": "stream",
     "text": [
      "object\n",
      "object\n",
      "2011-07-01 00:00:00\n",
      "17:00:00\n",
      "nan\n",
      "nan\n"
     ]
    }
   ],
   "source": [
    "print(data['OUTAGE.START.DATE'].dtype)\n",
    "print(data['OUTAGE.START.TIME'].dtype)\n",
    "print(data.loc[1,'OUTAGE.START.DATE'])\n",
    "print(data.loc[1,'OUTAGE.START.TIME'])\n",
    "print(data.loc[240,'OUTAGE.START.DATE'])\n",
    "print(data.loc[240,'OUTAGE.START.TIME'])"
   ]
  },
  {
   "cell_type": "markdown",
   "metadata": {},
   "source": [
    "It's noticed that some rows(like 240th row shown above) have NaN, so we should consider such special case when converting. The steps is shown below."
   ]
  },
  {
   "cell_type": "code",
   "execution_count": 90,
   "metadata": {},
   "outputs": [],
   "source": [
    "# clone the raw data\n",
    "df = data.copy()\n",
    "\n",
    "# data type convertion\n",
    "df['OUTAGE.START.DATE'] = pd.to_datetime(df['OUTAGE.START.DATE'])\n",
    "df['OUTAGE.START.TIME'] = pd.to_timedelta(df['OUTAGE.START.TIME'].astype(str))\n",
    "\n",
    "# combine two columns into one column\n",
    "df['OUTAGE.START'] = df['OUTAGE.START.DATE'] + df['OUTAGE.START.TIME']"
   ]
  },
  {
   "cell_type": "markdown",
   "metadata": {},
   "source": [
    "We check the result of the convertion."
   ]
  },
  {
   "cell_type": "code",
   "execution_count": 91,
   "metadata": {},
   "outputs": [
    {
     "name": "stdout",
     "output_type": "stream",
     "text": [
      "datetime64[ns]\n",
      "2011-07-01 17:00:00 0 days 17:00:00 2011-07-01 00:00:00\n",
      "NaT NaT NaT\n"
     ]
    }
   ],
   "source": [
    "print(df['OUTAGE.START'].dtype)\n",
    "print(df.loc[1,'OUTAGE.START'],df.loc[1,'OUTAGE.START.TIME'],df.loc[1,'OUTAGE.START.DATE'])\n",
    "print(df.loc[240,'OUTAGE.START'],df.loc[240,'OUTAGE.START.TIME'],df.loc[240,'OUTAGE.START.DATE'])"
   ]
  },
  {
   "cell_type": "markdown",
   "metadata": {},
   "source": [
    "The cleaned dataframe's datatype for each useful column is listed below."
   ]
  },
  {
   "cell_type": "code",
   "execution_count": 92,
   "metadata": {},
   "outputs": [
    {
     "name": "stdout",
     "output_type": "stream",
     "text": [
      "OUTAGE.START               datetime64[ns]\n",
      "OUTAGE.DURATION                    object\n",
      "U.S._STATE                         object\n",
      "CLIMATE.CATEGORY                   object\n",
      "OUTAGE.RESTORATION.DATE            object\n",
      "CAUSE.CATEGORY.DETAIL              object\n",
      "dtype: object\n"
     ]
    }
   ],
   "source": [
    "selected_columns = ['OUTAGE.START', 'OUTAGE.DURATION', 'U.S._STATE', 'CLIMATE.CATEGORY', 'OUTAGE.RESTORATION.DATE', 'CAUSE.CATEGORY.DETAIL']\n",
    "print(df[selected_columns].dtypes)\n",
    "df = df[selected_columns] # drop other useless columns\n"
   ]
  },
  {
   "cell_type": "markdown",
   "metadata": {},
   "source": [
    "The cleaned dataframe is shown below(with only representative rows selected for display)."
   ]
  },
  {
   "cell_type": "code",
   "execution_count": 129,
   "metadata": {},
   "outputs": [
    {
     "name": "stdout",
     "output_type": "stream",
     "text": [
      "           OUTAGE.START OUTAGE.DURATION U.S._STATE CLIMATE.CATEGORY  \\\n",
      "5   2015-07-18 02:00:00            1740  Minnesota             warm   \n",
      "4   2012-06-19 04:30:00            2550  Minnesota           normal   \n",
      "3   2010-10-26 20:00:00            3000  Minnesota             cold   \n",
      "54  2014-01-24 00:00:00          108653  Wisconsin             cold   \n",
      "833 2013-08-12 11:55:00               4     Oregon           normal   \n",
      "\n",
      "    OUTAGE.RESTORATION.DATE CAUSE.CATEGORY.DETAIL  OUTAGE.RESTORATION.MISSING  \\\n",
      "5       2015-07-19 00:00:00                   NaN                       False   \n",
      "4       2012-06-20 00:00:00          thunderstorm                       False   \n",
      "3       2010-10-28 00:00:00            heavy wind                       False   \n",
      "54      2014-04-09 00:00:00                  Coal                       False   \n",
      "833     2013-08-12 00:00:00   suspicious activity                       False   \n",
      "\n",
      "     OUTAGE.DURATION.MISSING  OUTAGE.START.MISSING  \\\n",
      "5                      False                 False   \n",
      "4                      False                 False   \n",
      "3                      False                 False   \n",
      "54                     False                 False   \n",
      "833                    False                 False   \n",
      "\n",
      "     CAUSE.CATEGORY.DETAIL.MISSING RANDOM  NO_RANDOM  \n",
      "5                             True      a      False  \n",
      "4                            False      b      False  \n",
      "3                            False      b       True  \n",
      "54                           False      b       True  \n",
      "833                          False      b      False  \n"
     ]
    }
   ],
   "source": [
    "selected_rows = df.loc[[5,4,3,54,833]]\n",
    "print(selected_rows)\n",
    "with open('table1.txt', 'w') as f:\n",
    "    f.write(selected_rows.to_markdown(index=False))"
   ]
  },
  {
   "cell_type": "markdown",
   "metadata": {},
   "source": [
    "#### Exploratory Data Analysis"
   ]
  },
  {
   "cell_type": "markdown",
   "metadata": {},
   "source": [
    "##### Univariate Analysis"
   ]
  },
  {
   "cell_type": "markdown",
   "metadata": {},
   "source": [
    "In the univariate analysis, we would analyze the distribution of the outage duration and U.S. states."
   ]
  },
  {
   "cell_type": "markdown",
   "metadata": {},
   "source": [
    "##### Distribution of Outage Duration"
   ]
  },
  {
   "cell_type": "markdown",
   "metadata": {},
   "source": [
    "First, we write codes to analyse our first chosen column: outage duration."
   ]
  },
  {
   "cell_type": "code",
   "execution_count": 113,
   "metadata": {},
   "outputs": [
    {
     "data": {
      "application/vnd.plotly.v1+json": {
       "config": {
        "plotlyServerURL": "https://plot.ly"
       },
       "data": [
        {
         "alignmentgroup": "True",
         "bingroup": "x",
         "hovertemplate": "OUTAGE.DURATION=%{x}<br>count=%{y}<extra></extra>",
         "legendgroup": "",
         "marker": {
          "color": "#636efa",
          "pattern": {
           "shape": ""
          }
         },
         "name": "",
         "offsetgroup": "",
         "orientation": "v",
         "showlegend": false,
         "type": "histogram",
         "x": [
          3060,
          1,
          3000,
          2550,
          1740,
          1860,
          2970,
          3960,
          155,
          3621,
          7740,
          8880,
          0,
          1322,
          60,
          19,
          0,
          21,
          196,
          840,
          935,
          1260,
          null,
          619,
          150,
          762,
          0,
          660,
          1,
          2700,
          1,
          4921,
          95,
          251,
          4125,
          2550,
          null,
          1200,
          310,
          2818,
          5054,
          136,
          528,
          150,
          46,
          1,
          1920,
          null,
          32,
          null,
          135,
          3000,
          32,
          108653,
          8468,
          960,
          44,
          1605,
          4410,
          388,
          480,
          1219,
          90,
          18660,
          538,
          104,
          60,
          1272,
          60,
          1,
          1000,
          17339,
          9576,
          3090,
          6510,
          5820,
          1078,
          1513,
          4830,
          3051,
          4200,
          2085,
          5730,
          4290,
          2670,
          3540,
          3637,
          1710,
          4320,
          3915,
          3120,
          4590,
          7530,
          5034,
          8160,
          3300,
          4320,
          1770,
          9857,
          4080,
          5670,
          5700,
          1995,
          300,
          5115,
          2670,
          7650,
          4338,
          761,
          5760,
          2820,
          4110,
          3360,
          3015,
          232,
          11525,
          6420,
          46080,
          5700,
          5610,
          78377,
          270,
          4050,
          5865,
          1,
          2325,
          4170,
          4485,
          2694,
          168,
          5580,
          705,
          11850,
          3494,
          4560,
          2760,
          5760,
          8922,
          6030,
          7800,
          4242,
          3120,
          5700,
          900,
          1046,
          7620,
          3630,
          1260,
          5840,
          5790,
          2820,
          600,
          4259,
          2939,
          7080,
          3600,
          1588,
          4260,
          2700,
          200,
          8430,
          85,
          9150,
          1019,
          420,
          1140,
          7440,
          4458,
          373,
          1203,
          868,
          1455,
          206,
          1195,
          1559,
          900,
          2690,
          5115,
          5,
          189,
          2142,
          360,
          null,
          225,
          2340,
          480,
          9486,
          480,
          3000,
          300,
          3020,
          766,
          null,
          1335,
          197,
          245,
          3255,
          12180,
          1077,
          600,
          186,
          690,
          27698,
          402,
          2420,
          327,
          1,
          1860,
          220,
          455,
          318,
          757,
          847,
          410,
          215,
          5,
          570,
          12124,
          2655,
          20160,
          1440,
          600,
          39,
          181,
          1185,
          1500,
          0,
          271,
          1860,
          1200,
          2159,
          6300,
          null,
          1620,
          224,
          70,
          1697,
          95,
          2220,
          null,
          7809,
          1200,
          121,
          63,
          5595,
          1,
          557,
          240,
          3360,
          685,
          2280,
          210,
          167,
          1920,
          3569,
          3300,
          10,
          1560,
          840,
          240,
          990,
          6000,
          17865,
          1282,
          1080,
          7540,
          1320,
          1110,
          27698,
          130,
          3040,
          394,
          10140,
          20160,
          21540,
          45,
          1,
          1200,
          550,
          900,
          885,
          940,
          null,
          3050,
          1830,
          6000,
          1500,
          150,
          1955,
          2220,
          330,
          74,
          420,
          1440,
          255,
          1060,
          12240,
          5250,
          4320,
          120,
          233,
          null,
          65,
          2120,
          96,
          3,
          4320,
          65,
          2146,
          96,
          4032,
          2580,
          6,
          569,
          0,
          15950,
          200,
          1980,
          4045,
          2730,
          3314,
          7319,
          1,
          47,
          1440,
          276,
          0,
          0,
          3646,
          1130,
          2880,
          513,
          35,
          23773,
          10,
          3872,
          23187,
          12240,
          390,
          null,
          3264,
          1230,
          803,
          77,
          30,
          300,
          1,
          5,
          1450,
          2680,
          null,
          7609,
          150,
          3000,
          420,
          479,
          1680,
          2700,
          149,
          1110,
          2790,
          659,
          1320,
          1830,
          3000,
          null,
          870,
          810,
          1336,
          1695,
          360,
          360,
          120,
          3000,
          1290,
          1530,
          2370,
          1200,
          1200,
          90,
          120,
          1200,
          2761,
          720,
          1120,
          2100,
          960,
          450,
          1440,
          1020,
          0,
          2010,
          120,
          9230,
          1240,
          465,
          0,
          2460,
          1183,
          8880,
          394,
          219,
          487,
          19,
          28,
          0,
          1,
          5340,
          8940,
          467,
          0,
          1920,
          0,
          25,
          420,
          2040,
          0,
          1,
          1423,
          60,
          1620,
          3300,
          385,
          663,
          123,
          1276,
          1919,
          null,
          440,
          6690,
          null,
          0,
          null,
          717,
          1204,
          292,
          313,
          1,
          5,
          6276,
          0,
          74,
          0,
          null,
          248,
          1,
          2700,
          25,
          126,
          1,
          255,
          1207,
          0,
          0,
          245,
          476,
          null,
          null,
          null,
          1,
          2639,
          502,
          548,
          369,
          6480,
          15,
          5,
          null,
          1,
          0,
          432,
          21,
          1697,
          0,
          2615,
          9630,
          3507,
          2820,
          314,
          5855,
          0,
          0,
          1,
          22769,
          70,
          4285,
          355,
          0,
          2520,
          0,
          180,
          554,
          50,
          70,
          180,
          3842,
          35,
          1,
          189,
          49320,
          4200,
          353,
          1,
          87,
          66,
          null,
          1,
          227,
          null,
          1440,
          1,
          2700,
          null,
          49320,
          2,
          215,
          451,
          418,
          100,
          2021,
          1671,
          3938,
          4470,
          2279,
          4440,
          2760,
          0,
          1,
          0,
          1,
          1840,
          428,
          331,
          1980,
          1,
          1,
          1950,
          3037,
          1,
          1,
          1196,
          5628,
          1440,
          7700,
          2,
          12890,
          4232,
          95,
          2610,
          4320,
          17,
          113,
          0,
          2507,
          0,
          1,
          4920,
          1,
          4080,
          0,
          960,
          185,
          1320,
          1673,
          2855,
          3060,
          565,
          1,
          1,
          7298,
          5790,
          3040,
          11700,
          7987,
          304,
          4517,
          0,
          3058,
          13381,
          2865,
          152,
          380,
          9450,
          7803,
          5579,
          8979,
          4800,
          3060,
          4792,
          3894,
          1757,
          2880,
          2985,
          164,
          3232,
          2319,
          4338,
          2880,
          1714,
          90,
          59,
          4139,
          10530,
          6938,
          930,
          278,
          299,
          5320,
          2880,
          1,
          4260,
          6713,
          5160,
          1440,
          78,
          7523,
          2668,
          1,
          376,
          1324,
          6940,
          2684,
          54,
          100,
          720,
          2880,
          3189,
          2790,
          13679,
          2843,
          13488,
          1642,
          7709,
          7080,
          1440,
          1,
          1680,
          1579,
          652,
          108,
          300,
          1020,
          3570,
          6492,
          23700,
          10499,
          15180,
          0,
          120,
          1,
          1,
          1,
          1,
          1,
          1,
          60,
          113,
          204,
          31,
          57,
          13,
          2,
          11,
          283,
          0,
          1,
          871,
          1631,
          56,
          15,
          15,
          20,
          60,
          1,
          95,
          300,
          1,
          3186,
          575,
          2275,
          15,
          1,
          44,
          21,
          1,
          114,
          1,
          60,
          4920,
          null,
          4920,
          420,
          0,
          7,
          21,
          340,
          4200,
          805,
          5040,
          7430,
          5490,
          165,
          3630,
          11640,
          1590,
          3137,
          1440,
          7920,
          360,
          0,
          1440,
          1372,
          6480,
          2190,
          285,
          75,
          1843,
          1,
          11531,
          1420,
          0,
          930,
          11420,
          0,
          352,
          0,
          960,
          1733,
          3690,
          10619,
          634,
          11280,
          1440,
          180,
          1574,
          45,
          563,
          388,
          373,
          4510,
          290,
          1950,
          270,
          1355,
          1318,
          2490,
          1265,
          195,
          3120,
          3388,
          1025,
          990,
          240,
          1485,
          129,
          0,
          1528,
          1890,
          2551,
          985,
          405,
          1698,
          167,
          1460,
          182,
          4113,
          null,
          885,
          15,
          42,
          1050,
          1,
          132,
          4140,
          2880,
          null,
          11430,
          3599,
          0,
          2941,
          null,
          6090,
          1365,
          375,
          2520,
          10080,
          76,
          0,
          3720,
          333,
          0,
          353,
          11337,
          0,
          0,
          7020,
          11058,
          null,
          9360,
          3300,
          3339,
          2880,
          11580,
          9600,
          13201,
          9719,
          488,
          2415,
          180,
          4177,
          7440,
          3480,
          6600,
          300,
          1526,
          60,
          210,
          2,
          1350,
          73,
          1,
          200,
          0,
          null,
          4380,
          0,
          120,
          2680,
          840,
          989,
          4313,
          214,
          4,
          164,
          91,
          1050,
          838,
          60,
          1,
          1,
          9886,
          2425,
          390,
          14500,
          6660,
          159,
          54,
          30,
          8077,
          855,
          65,
          810,
          4150,
          4740,
          25,
          0,
          null,
          2070,
          870,
          12652,
          2880,
          120,
          1199,
          null,
          1470,
          4140,
          15420,
          50,
          0,
          1,
          1,
          0,
          0,
          0,
          457,
          1,
          1,
          0,
          30,
          1,
          1,
          65,
          1,
          0,
          0,
          0,
          1,
          null,
          1,
          0,
          1,
          1,
          110,
          39,
          1,
          1,
          1,
          1,
          1,
          1,
          507,
          213,
          4254,
          1,
          1,
          53,
          0,
          0,
          251,
          347,
          1637,
          21360,
          2161,
          2880,
          1044,
          8670,
          56,
          93,
          13,
          2089,
          20280,
          14639,
          2880,
          681,
          494,
          1,
          5355,
          0,
          3943,
          3300,
          191,
          0,
          73,
          4680,
          17310,
          10080,
          10726,
          1,
          5,
          2515,
          25920,
          2730,
          9480,
          5400,
          30,
          3584,
          3600,
          5850,
          4710,
          1,
          1732,
          0,
          23040,
          1800,
          6074,
          null,
          49,
          2299,
          5760,
          420,
          7320,
          2880,
          448,
          2520,
          18717,
          5513,
          21,
          2100,
          3120,
          8221,
          3240,
          2880,
          255,
          2355,
          161,
          50,
          258,
          13140,
          8640,
          18240,
          15492,
          8268,
          0,
          300,
          14400,
          7962,
          2400,
          11296,
          48,
          60480,
          28170,
          300,
          8054,
          2775,
          2775,
          2160,
          2100,
          2775,
          3180,
          2775,
          1440,
          430,
          2129,
          1755,
          null,
          692,
          732,
          7,
          510,
          420,
          13215,
          557,
          300,
          17812,
          20416,
          6240,
          467,
          3067,
          3060,
          355,
          430,
          300,
          227,
          52,
          null,
          2880,
          18804,
          1867,
          1690,
          295,
          17,
          240,
          17520,
          8189,
          182,
          5820,
          83,
          230,
          2009,
          720,
          155,
          4320,
          4320,
          480,
          1005,
          221,
          372,
          13430,
          4320,
          91,
          1419,
          3600,
          10080,
          5071,
          152,
          6840,
          221,
          24780,
          38,
          61,
          7560,
          90,
          10380,
          396,
          2040,
          12060,
          1080,
          1680,
          13920,
          14101,
          1099,
          2460,
          540,
          52,
          816,
          420,
          155,
          437,
          247,
          540,
          1135,
          437,
          180,
          171,
          656,
          84,
          202,
          255,
          1054,
          1,
          1254,
          1456,
          177,
          106,
          32,
          2464,
          55,
          144,
          70,
          64,
          8873,
          945,
          null,
          523,
          56,
          3,
          8472,
          155,
          33,
          749,
          159,
          null,
          270,
          2790,
          224,
          1470,
          334,
          2050,
          370,
          26,
          797,
          12,
          195,
          1,
          230,
          125,
          15,
          316,
          365,
          1560,
          4740,
          294,
          455,
          2878,
          336,
          295,
          480,
          25,
          null,
          223,
          2645,
          2016,
          7371,
          360,
          3408,
          3698,
          4890,
          1,
          871,
          2759,
          250,
          3301,
          249,
          164,
          435,
          420,
          854,
          5160,
          133,
          15180,
          2055,
          451,
          140,
          199,
          721,
          179,
          1524,
          78,
          268,
          39,
          1,
          14190,
          47,
          161,
          900,
          6070,
          697,
          234,
          14,
          5910,
          null,
          34390,
          40,
          166,
          182,
          829,
          15,
          64,
          13,
          245,
          1080,
          null,
          390,
          47,
          269,
          null,
          400,
          660,
          213,
          null,
          761,
          8100,
          180,
          124,
          4320,
          2820,
          3100,
          49427,
          989,
          125,
          44,
          26,
          245,
          null,
          98,
          1,
          0,
          135,
          50,
          1008,
          53,
          554,
          1260,
          2895,
          89,
          98,
          865,
          128,
          230,
          252,
          130,
          5,
          157,
          6914,
          11,
          13,
          2880,
          270,
          962,
          47,
          null,
          20,
          108,
          9855,
          75,
          17,
          21,
          1950,
          11867,
          141,
          959,
          1035,
          617,
          1230,
          572,
          324,
          1835,
          6780,
          900,
          null,
          37,
          72,
          1,
          251,
          620,
          89,
          909,
          236,
          326,
          300,
          751,
          122,
          214,
          193,
          8,
          5227,
          null,
          1414,
          448,
          4605,
          4080,
          null,
          1914,
          759,
          1,
          10274,
          3,
          2700,
          105,
          240,
          210,
          1,
          1201,
          30,
          2806,
          1226,
          300,
          206,
          270,
          2880,
          513,
          8160,
          3314,
          414,
          126,
          60,
          285,
          110,
          62,
          2363,
          424,
          180,
          0,
          448,
          2,
          624,
          2435,
          131,
          null,
          208,
          103,
          1355,
          1523,
          90,
          1205,
          385,
          144,
          235,
          241,
          6787,
          1337,
          1673,
          3366,
          2640,
          1826,
          570,
          1565,
          2691,
          1072,
          115,
          816,
          168,
          30,
          160,
          485,
          1508,
          1301,
          159,
          60,
          4,
          9600,
          106,
          0,
          0,
          1,
          32,
          61,
          314,
          30,
          0,
          92,
          390,
          161,
          60,
          76,
          1,
          1,
          160,
          20,
          1,
          1,
          70,
          50,
          15,
          810,
          1380,
          1800,
          1560,
          2054,
          1452,
          1865,
          1999,
          120,
          1950,
          360,
          1087,
          1200,
          4122,
          360,
          645,
          108,
          0,
          1,
          1440,
          4560,
          1,
          1,
          110,
          210,
          120,
          0,
          4260,
          76,
          210,
          3305,
          5880,
          145,
          60,
          2640,
          1042,
          110,
          11880,
          2245,
          984,
          7200,
          1381,
          148,
          13972,
          null,
          796,
          300,
          null,
          2612,
          3000,
          431,
          5310,
          1732,
          0,
          6685,
          3300,
          280,
          117,
          2895,
          480,
          31,
          1,
          0,
          0,
          103,
          4745,
          307,
          1656,
          3525,
          374,
          1068,
          1569,
          114,
          115,
          15,
          2891,
          1,
          1676,
          0,
          0,
          3604,
          195,
          1,
          0,
          2108,
          198,
          3667,
          1037,
          673,
          null,
          2652,
          300,
          881,
          618,
          1187,
          950,
          2535,
          27,
          108,
          73,
          200,
          5,
          75,
          0,
          77,
          660,
          0,
          92,
          30,
          33,
          1895,
          274,
          1,
          1534,
          1,
          60,
          108,
          2,
          175,
          null,
          2040,
          2710,
          284,
          105,
          4019,
          1,
          391,
          439,
          5,
          201,
          2140,
          103,
          null,
          187,
          1406,
          348,
          13650,
          90,
          913,
          null,
          14040,
          1367,
          174,
          543,
          237,
          1906,
          224,
          0,
          95,
          360,
          1548,
          870,
          0,
          null,
          220,
          720,
          null,
          59,
          181,
          null
         ],
         "xaxis": "x",
         "yaxis": "y"
        }
       ],
       "layout": {
        "barmode": "relative",
        "legend": {
         "tracegroupgap": 0
        },
        "template": {
         "data": {
          "bar": [
           {
            "error_x": {
             "color": "#2a3f5f"
            },
            "error_y": {
             "color": "#2a3f5f"
            },
            "marker": {
             "line": {
              "color": "#E5ECF6",
              "width": 0.5
             },
             "pattern": {
              "fillmode": "overlay",
              "size": 10,
              "solidity": 0.2
             }
            },
            "type": "bar"
           }
          ],
          "barpolar": [
           {
            "marker": {
             "line": {
              "color": "#E5ECF6",
              "width": 0.5
             },
             "pattern": {
              "fillmode": "overlay",
              "size": 10,
              "solidity": 0.2
             }
            },
            "type": "barpolar"
           }
          ],
          "carpet": [
           {
            "aaxis": {
             "endlinecolor": "#2a3f5f",
             "gridcolor": "white",
             "linecolor": "white",
             "minorgridcolor": "white",
             "startlinecolor": "#2a3f5f"
            },
            "baxis": {
             "endlinecolor": "#2a3f5f",
             "gridcolor": "white",
             "linecolor": "white",
             "minorgridcolor": "white",
             "startlinecolor": "#2a3f5f"
            },
            "type": "carpet"
           }
          ],
          "choropleth": [
           {
            "colorbar": {
             "outlinewidth": 0,
             "ticks": ""
            },
            "type": "choropleth"
           }
          ],
          "contour": [
           {
            "colorbar": {
             "outlinewidth": 0,
             "ticks": ""
            },
            "colorscale": [
             [
              0,
              "#0d0887"
             ],
             [
              0.1111111111111111,
              "#46039f"
             ],
             [
              0.2222222222222222,
              "#7201a8"
             ],
             [
              0.3333333333333333,
              "#9c179e"
             ],
             [
              0.4444444444444444,
              "#bd3786"
             ],
             [
              0.5555555555555556,
              "#d8576b"
             ],
             [
              0.6666666666666666,
              "#ed7953"
             ],
             [
              0.7777777777777778,
              "#fb9f3a"
             ],
             [
              0.8888888888888888,
              "#fdca26"
             ],
             [
              1,
              "#f0f921"
             ]
            ],
            "type": "contour"
           }
          ],
          "contourcarpet": [
           {
            "colorbar": {
             "outlinewidth": 0,
             "ticks": ""
            },
            "type": "contourcarpet"
           }
          ],
          "heatmap": [
           {
            "colorbar": {
             "outlinewidth": 0,
             "ticks": ""
            },
            "colorscale": [
             [
              0,
              "#0d0887"
             ],
             [
              0.1111111111111111,
              "#46039f"
             ],
             [
              0.2222222222222222,
              "#7201a8"
             ],
             [
              0.3333333333333333,
              "#9c179e"
             ],
             [
              0.4444444444444444,
              "#bd3786"
             ],
             [
              0.5555555555555556,
              "#d8576b"
             ],
             [
              0.6666666666666666,
              "#ed7953"
             ],
             [
              0.7777777777777778,
              "#fb9f3a"
             ],
             [
              0.8888888888888888,
              "#fdca26"
             ],
             [
              1,
              "#f0f921"
             ]
            ],
            "type": "heatmap"
           }
          ],
          "heatmapgl": [
           {
            "colorbar": {
             "outlinewidth": 0,
             "ticks": ""
            },
            "colorscale": [
             [
              0,
              "#0d0887"
             ],
             [
              0.1111111111111111,
              "#46039f"
             ],
             [
              0.2222222222222222,
              "#7201a8"
             ],
             [
              0.3333333333333333,
              "#9c179e"
             ],
             [
              0.4444444444444444,
              "#bd3786"
             ],
             [
              0.5555555555555556,
              "#d8576b"
             ],
             [
              0.6666666666666666,
              "#ed7953"
             ],
             [
              0.7777777777777778,
              "#fb9f3a"
             ],
             [
              0.8888888888888888,
              "#fdca26"
             ],
             [
              1,
              "#f0f921"
             ]
            ],
            "type": "heatmapgl"
           }
          ],
          "histogram": [
           {
            "marker": {
             "pattern": {
              "fillmode": "overlay",
              "size": 10,
              "solidity": 0.2
             }
            },
            "type": "histogram"
           }
          ],
          "histogram2d": [
           {
            "colorbar": {
             "outlinewidth": 0,
             "ticks": ""
            },
            "colorscale": [
             [
              0,
              "#0d0887"
             ],
             [
              0.1111111111111111,
              "#46039f"
             ],
             [
              0.2222222222222222,
              "#7201a8"
             ],
             [
              0.3333333333333333,
              "#9c179e"
             ],
             [
              0.4444444444444444,
              "#bd3786"
             ],
             [
              0.5555555555555556,
              "#d8576b"
             ],
             [
              0.6666666666666666,
              "#ed7953"
             ],
             [
              0.7777777777777778,
              "#fb9f3a"
             ],
             [
              0.8888888888888888,
              "#fdca26"
             ],
             [
              1,
              "#f0f921"
             ]
            ],
            "type": "histogram2d"
           }
          ],
          "histogram2dcontour": [
           {
            "colorbar": {
             "outlinewidth": 0,
             "ticks": ""
            },
            "colorscale": [
             [
              0,
              "#0d0887"
             ],
             [
              0.1111111111111111,
              "#46039f"
             ],
             [
              0.2222222222222222,
              "#7201a8"
             ],
             [
              0.3333333333333333,
              "#9c179e"
             ],
             [
              0.4444444444444444,
              "#bd3786"
             ],
             [
              0.5555555555555556,
              "#d8576b"
             ],
             [
              0.6666666666666666,
              "#ed7953"
             ],
             [
              0.7777777777777778,
              "#fb9f3a"
             ],
             [
              0.8888888888888888,
              "#fdca26"
             ],
             [
              1,
              "#f0f921"
             ]
            ],
            "type": "histogram2dcontour"
           }
          ],
          "mesh3d": [
           {
            "colorbar": {
             "outlinewidth": 0,
             "ticks": ""
            },
            "type": "mesh3d"
           }
          ],
          "parcoords": [
           {
            "line": {
             "colorbar": {
              "outlinewidth": 0,
              "ticks": ""
             }
            },
            "type": "parcoords"
           }
          ],
          "pie": [
           {
            "automargin": true,
            "type": "pie"
           }
          ],
          "scatter": [
           {
            "fillpattern": {
             "fillmode": "overlay",
             "size": 10,
             "solidity": 0.2
            },
            "type": "scatter"
           }
          ],
          "scatter3d": [
           {
            "line": {
             "colorbar": {
              "outlinewidth": 0,
              "ticks": ""
             }
            },
            "marker": {
             "colorbar": {
              "outlinewidth": 0,
              "ticks": ""
             }
            },
            "type": "scatter3d"
           }
          ],
          "scattercarpet": [
           {
            "marker": {
             "colorbar": {
              "outlinewidth": 0,
              "ticks": ""
             }
            },
            "type": "scattercarpet"
           }
          ],
          "scattergeo": [
           {
            "marker": {
             "colorbar": {
              "outlinewidth": 0,
              "ticks": ""
             }
            },
            "type": "scattergeo"
           }
          ],
          "scattergl": [
           {
            "marker": {
             "colorbar": {
              "outlinewidth": 0,
              "ticks": ""
             }
            },
            "type": "scattergl"
           }
          ],
          "scattermapbox": [
           {
            "marker": {
             "colorbar": {
              "outlinewidth": 0,
              "ticks": ""
             }
            },
            "type": "scattermapbox"
           }
          ],
          "scatterpolar": [
           {
            "marker": {
             "colorbar": {
              "outlinewidth": 0,
              "ticks": ""
             }
            },
            "type": "scatterpolar"
           }
          ],
          "scatterpolargl": [
           {
            "marker": {
             "colorbar": {
              "outlinewidth": 0,
              "ticks": ""
             }
            },
            "type": "scatterpolargl"
           }
          ],
          "scatterternary": [
           {
            "marker": {
             "colorbar": {
              "outlinewidth": 0,
              "ticks": ""
             }
            },
            "type": "scatterternary"
           }
          ],
          "surface": [
           {
            "colorbar": {
             "outlinewidth": 0,
             "ticks": ""
            },
            "colorscale": [
             [
              0,
              "#0d0887"
             ],
             [
              0.1111111111111111,
              "#46039f"
             ],
             [
              0.2222222222222222,
              "#7201a8"
             ],
             [
              0.3333333333333333,
              "#9c179e"
             ],
             [
              0.4444444444444444,
              "#bd3786"
             ],
             [
              0.5555555555555556,
              "#d8576b"
             ],
             [
              0.6666666666666666,
              "#ed7953"
             ],
             [
              0.7777777777777778,
              "#fb9f3a"
             ],
             [
              0.8888888888888888,
              "#fdca26"
             ],
             [
              1,
              "#f0f921"
             ]
            ],
            "type": "surface"
           }
          ],
          "table": [
           {
            "cells": {
             "fill": {
              "color": "#EBF0F8"
             },
             "line": {
              "color": "white"
             }
            },
            "header": {
             "fill": {
              "color": "#C8D4E3"
             },
             "line": {
              "color": "white"
             }
            },
            "type": "table"
           }
          ]
         },
         "layout": {
          "annotationdefaults": {
           "arrowcolor": "#2a3f5f",
           "arrowhead": 0,
           "arrowwidth": 1
          },
          "autotypenumbers": "strict",
          "coloraxis": {
           "colorbar": {
            "outlinewidth": 0,
            "ticks": ""
           }
          },
          "colorscale": {
           "diverging": [
            [
             0,
             "#8e0152"
            ],
            [
             0.1,
             "#c51b7d"
            ],
            [
             0.2,
             "#de77ae"
            ],
            [
             0.3,
             "#f1b6da"
            ],
            [
             0.4,
             "#fde0ef"
            ],
            [
             0.5,
             "#f7f7f7"
            ],
            [
             0.6,
             "#e6f5d0"
            ],
            [
             0.7,
             "#b8e186"
            ],
            [
             0.8,
             "#7fbc41"
            ],
            [
             0.9,
             "#4d9221"
            ],
            [
             1,
             "#276419"
            ]
           ],
           "sequential": [
            [
             0,
             "#0d0887"
            ],
            [
             0.1111111111111111,
             "#46039f"
            ],
            [
             0.2222222222222222,
             "#7201a8"
            ],
            [
             0.3333333333333333,
             "#9c179e"
            ],
            [
             0.4444444444444444,
             "#bd3786"
            ],
            [
             0.5555555555555556,
             "#d8576b"
            ],
            [
             0.6666666666666666,
             "#ed7953"
            ],
            [
             0.7777777777777778,
             "#fb9f3a"
            ],
            [
             0.8888888888888888,
             "#fdca26"
            ],
            [
             1,
             "#f0f921"
            ]
           ],
           "sequentialminus": [
            [
             0,
             "#0d0887"
            ],
            [
             0.1111111111111111,
             "#46039f"
            ],
            [
             0.2222222222222222,
             "#7201a8"
            ],
            [
             0.3333333333333333,
             "#9c179e"
            ],
            [
             0.4444444444444444,
             "#bd3786"
            ],
            [
             0.5555555555555556,
             "#d8576b"
            ],
            [
             0.6666666666666666,
             "#ed7953"
            ],
            [
             0.7777777777777778,
             "#fb9f3a"
            ],
            [
             0.8888888888888888,
             "#fdca26"
            ],
            [
             1,
             "#f0f921"
            ]
           ]
          },
          "colorway": [
           "#636efa",
           "#EF553B",
           "#00cc96",
           "#ab63fa",
           "#FFA15A",
           "#19d3f3",
           "#FF6692",
           "#B6E880",
           "#FF97FF",
           "#FECB52"
          ],
          "font": {
           "color": "#2a3f5f"
          },
          "geo": {
           "bgcolor": "white",
           "lakecolor": "white",
           "landcolor": "#E5ECF6",
           "showlakes": true,
           "showland": true,
           "subunitcolor": "white"
          },
          "hoverlabel": {
           "align": "left"
          },
          "hovermode": "closest",
          "mapbox": {
           "style": "light"
          },
          "paper_bgcolor": "white",
          "plot_bgcolor": "#E5ECF6",
          "polar": {
           "angularaxis": {
            "gridcolor": "white",
            "linecolor": "white",
            "ticks": ""
           },
           "bgcolor": "#E5ECF6",
           "radialaxis": {
            "gridcolor": "white",
            "linecolor": "white",
            "ticks": ""
           }
          },
          "scene": {
           "xaxis": {
            "backgroundcolor": "#E5ECF6",
            "gridcolor": "white",
            "gridwidth": 2,
            "linecolor": "white",
            "showbackground": true,
            "ticks": "",
            "zerolinecolor": "white"
           },
           "yaxis": {
            "backgroundcolor": "#E5ECF6",
            "gridcolor": "white",
            "gridwidth": 2,
            "linecolor": "white",
            "showbackground": true,
            "ticks": "",
            "zerolinecolor": "white"
           },
           "zaxis": {
            "backgroundcolor": "#E5ECF6",
            "gridcolor": "white",
            "gridwidth": 2,
            "linecolor": "white",
            "showbackground": true,
            "ticks": "",
            "zerolinecolor": "white"
           }
          },
          "shapedefaults": {
           "line": {
            "color": "#2a3f5f"
           }
          },
          "ternary": {
           "aaxis": {
            "gridcolor": "white",
            "linecolor": "white",
            "ticks": ""
           },
           "baxis": {
            "gridcolor": "white",
            "linecolor": "white",
            "ticks": ""
           },
           "bgcolor": "#E5ECF6",
           "caxis": {
            "gridcolor": "white",
            "linecolor": "white",
            "ticks": ""
           }
          },
          "title": {
           "x": 0.05
          },
          "xaxis": {
           "automargin": true,
           "gridcolor": "white",
           "linecolor": "white",
           "ticks": "",
           "title": {
            "standoff": 15
           },
           "zerolinecolor": "white",
           "zerolinewidth": 2
          },
          "yaxis": {
           "automargin": true,
           "gridcolor": "white",
           "linecolor": "white",
           "ticks": "",
           "title": {
            "standoff": 15
           },
           "zerolinecolor": "white",
           "zerolinewidth": 2
          }
         }
        },
        "title": {
         "text": "Distribution of Outage Duration"
        },
        "xaxis": {
         "anchor": "y",
         "domain": [
          0,
          1
         ],
         "title": {
          "text": "Outage Duration (Minutes)"
         }
        },
        "yaxis": {
         "anchor": "x",
         "domain": [
          0,
          1
         ],
         "title": {
          "text": "count"
         }
        }
       }
      }
     },
     "metadata": {},
     "output_type": "display_data"
    }
   ],
   "source": [
    "fig = px.histogram(df, x='OUTAGE.DURATION', title = 'Distribution of Outage Duration')\n",
    "fig.update_layout(xaxis_title='Outage Duration (Minutes)')\n",
    "fig.show()"
   ]
  },
  {
   "cell_type": "markdown",
   "metadata": {},
   "source": [
    "This shows that exception from very few data, most of the duration is short. About half outages are less than 1,000 minutes, and most are less than 5,00 minutes, while only few outages lasting longer than that. Also, it means that the variance may be large since the minimal and maximal values differ a lot."
   ]
  },
  {
   "cell_type": "markdown",
   "metadata": {},
   "source": [
    "For convenience, we write a helper function to export the `plotly` figure into HTML file."
   ]
  },
  {
   "cell_type": "code",
   "execution_count": 112,
   "metadata": {},
   "outputs": [],
   "source": [
    "def export_plotly_fig(fig, filename):\n",
    "    fig.write_html(filename, include_plotlyjs='cdn')"
   ]
  },
  {
   "cell_type": "markdown",
   "metadata": {},
   "source": [
    "We export the `fig` using the above function to local disk, which will be useful later in next part."
   ]
  },
  {
   "cell_type": "code",
   "execution_count": 114,
   "metadata": {},
   "outputs": [],
   "source": [
    "export_plotly_fig(fig, 'univariate1.html')"
   ]
  },
  {
   "cell_type": "markdown",
   "metadata": {},
   "source": [
    "##### Distribution of Outage U.S. States"
   ]
  },
  {
   "cell_type": "markdown",
   "metadata": {},
   "source": [
    "Then, we use the same way to analyze the distribution of U.S. states of the outages."
   ]
  },
  {
   "cell_type": "code",
   "execution_count": 116,
   "metadata": {},
   "outputs": [
    {
     "data": {
      "application/vnd.plotly.v1+json": {
       "config": {
        "plotlyServerURL": "https://plot.ly"
       },
       "data": [
        {
         "alignmentgroup": "True",
         "hovertemplate": "index=%{x}<br>U.S._STATE=%{y}<extra></extra>",
         "legendgroup": "",
         "marker": {
          "color": "#636efa",
          "pattern": {
           "shape": ""
          }
         },
         "name": "",
         "offsetgroup": "",
         "orientation": "v",
         "showlegend": false,
         "textposition": "auto",
         "type": "bar",
         "x": [
          "California",
          "Texas",
          "Washington",
          "Michigan",
          "New York",
          "Maryland",
          "Pennsylvania",
          "Illinois",
          "Florida",
          "Ohio",
          "Indiana",
          "Utah",
          "Delaware",
          "North Carolina",
          "Louisiana",
          "Virginia",
          "New Jersey",
          "Tennessee",
          "Arizona",
          "Oregon",
          "Arkansas",
          "Oklahoma",
          "Wisconsin",
          "Maine",
          "Massachusetts",
          "Connecticut",
          "Georgia",
          "Missouri",
          "Colorado",
          "Minnesota",
          "New Hampshire",
          "Kentucky",
          "District of Columbia",
          "Idaho",
          "Vermont",
          "Kansas",
          "Iowa",
          "New Mexico",
          "South Carolina",
          "Nevada",
          "Wyoming",
          "Alabama",
          "Hawaii",
          "Nebraska",
          "Mississippi",
          "West Virginia",
          "Montana",
          "North Dakota",
          "South Dakota",
          "Alaska"
         ],
         "xaxis": "x",
         "y": [
          210,
          127,
          97,
          95,
          71,
          58,
          57,
          46,
          45,
          43,
          43,
          41,
          41,
          40,
          40,
          37,
          35,
          34,
          28,
          26,
          25,
          24,
          20,
          19,
          18,
          18,
          17,
          17,
          15,
          15,
          14,
          13,
          10,
          9,
          9,
          9,
          8,
          8,
          8,
          7,
          6,
          6,
          5,
          4,
          4,
          4,
          3,
          2,
          2,
          1
         ],
         "yaxis": "y"
        }
       ],
       "layout": {
        "barmode": "relative",
        "legend": {
         "tracegroupgap": 0
        },
        "template": {
         "data": {
          "bar": [
           {
            "error_x": {
             "color": "#2a3f5f"
            },
            "error_y": {
             "color": "#2a3f5f"
            },
            "marker": {
             "line": {
              "color": "#E5ECF6",
              "width": 0.5
             },
             "pattern": {
              "fillmode": "overlay",
              "size": 10,
              "solidity": 0.2
             }
            },
            "type": "bar"
           }
          ],
          "barpolar": [
           {
            "marker": {
             "line": {
              "color": "#E5ECF6",
              "width": 0.5
             },
             "pattern": {
              "fillmode": "overlay",
              "size": 10,
              "solidity": 0.2
             }
            },
            "type": "barpolar"
           }
          ],
          "carpet": [
           {
            "aaxis": {
             "endlinecolor": "#2a3f5f",
             "gridcolor": "white",
             "linecolor": "white",
             "minorgridcolor": "white",
             "startlinecolor": "#2a3f5f"
            },
            "baxis": {
             "endlinecolor": "#2a3f5f",
             "gridcolor": "white",
             "linecolor": "white",
             "minorgridcolor": "white",
             "startlinecolor": "#2a3f5f"
            },
            "type": "carpet"
           }
          ],
          "choropleth": [
           {
            "colorbar": {
             "outlinewidth": 0,
             "ticks": ""
            },
            "type": "choropleth"
           }
          ],
          "contour": [
           {
            "colorbar": {
             "outlinewidth": 0,
             "ticks": ""
            },
            "colorscale": [
             [
              0,
              "#0d0887"
             ],
             [
              0.1111111111111111,
              "#46039f"
             ],
             [
              0.2222222222222222,
              "#7201a8"
             ],
             [
              0.3333333333333333,
              "#9c179e"
             ],
             [
              0.4444444444444444,
              "#bd3786"
             ],
             [
              0.5555555555555556,
              "#d8576b"
             ],
             [
              0.6666666666666666,
              "#ed7953"
             ],
             [
              0.7777777777777778,
              "#fb9f3a"
             ],
             [
              0.8888888888888888,
              "#fdca26"
             ],
             [
              1,
              "#f0f921"
             ]
            ],
            "type": "contour"
           }
          ],
          "contourcarpet": [
           {
            "colorbar": {
             "outlinewidth": 0,
             "ticks": ""
            },
            "type": "contourcarpet"
           }
          ],
          "heatmap": [
           {
            "colorbar": {
             "outlinewidth": 0,
             "ticks": ""
            },
            "colorscale": [
             [
              0,
              "#0d0887"
             ],
             [
              0.1111111111111111,
              "#46039f"
             ],
             [
              0.2222222222222222,
              "#7201a8"
             ],
             [
              0.3333333333333333,
              "#9c179e"
             ],
             [
              0.4444444444444444,
              "#bd3786"
             ],
             [
              0.5555555555555556,
              "#d8576b"
             ],
             [
              0.6666666666666666,
              "#ed7953"
             ],
             [
              0.7777777777777778,
              "#fb9f3a"
             ],
             [
              0.8888888888888888,
              "#fdca26"
             ],
             [
              1,
              "#f0f921"
             ]
            ],
            "type": "heatmap"
           }
          ],
          "heatmapgl": [
           {
            "colorbar": {
             "outlinewidth": 0,
             "ticks": ""
            },
            "colorscale": [
             [
              0,
              "#0d0887"
             ],
             [
              0.1111111111111111,
              "#46039f"
             ],
             [
              0.2222222222222222,
              "#7201a8"
             ],
             [
              0.3333333333333333,
              "#9c179e"
             ],
             [
              0.4444444444444444,
              "#bd3786"
             ],
             [
              0.5555555555555556,
              "#d8576b"
             ],
             [
              0.6666666666666666,
              "#ed7953"
             ],
             [
              0.7777777777777778,
              "#fb9f3a"
             ],
             [
              0.8888888888888888,
              "#fdca26"
             ],
             [
              1,
              "#f0f921"
             ]
            ],
            "type": "heatmapgl"
           }
          ],
          "histogram": [
           {
            "marker": {
             "pattern": {
              "fillmode": "overlay",
              "size": 10,
              "solidity": 0.2
             }
            },
            "type": "histogram"
           }
          ],
          "histogram2d": [
           {
            "colorbar": {
             "outlinewidth": 0,
             "ticks": ""
            },
            "colorscale": [
             [
              0,
              "#0d0887"
             ],
             [
              0.1111111111111111,
              "#46039f"
             ],
             [
              0.2222222222222222,
              "#7201a8"
             ],
             [
              0.3333333333333333,
              "#9c179e"
             ],
             [
              0.4444444444444444,
              "#bd3786"
             ],
             [
              0.5555555555555556,
              "#d8576b"
             ],
             [
              0.6666666666666666,
              "#ed7953"
             ],
             [
              0.7777777777777778,
              "#fb9f3a"
             ],
             [
              0.8888888888888888,
              "#fdca26"
             ],
             [
              1,
              "#f0f921"
             ]
            ],
            "type": "histogram2d"
           }
          ],
          "histogram2dcontour": [
           {
            "colorbar": {
             "outlinewidth": 0,
             "ticks": ""
            },
            "colorscale": [
             [
              0,
              "#0d0887"
             ],
             [
              0.1111111111111111,
              "#46039f"
             ],
             [
              0.2222222222222222,
              "#7201a8"
             ],
             [
              0.3333333333333333,
              "#9c179e"
             ],
             [
              0.4444444444444444,
              "#bd3786"
             ],
             [
              0.5555555555555556,
              "#d8576b"
             ],
             [
              0.6666666666666666,
              "#ed7953"
             ],
             [
              0.7777777777777778,
              "#fb9f3a"
             ],
             [
              0.8888888888888888,
              "#fdca26"
             ],
             [
              1,
              "#f0f921"
             ]
            ],
            "type": "histogram2dcontour"
           }
          ],
          "mesh3d": [
           {
            "colorbar": {
             "outlinewidth": 0,
             "ticks": ""
            },
            "type": "mesh3d"
           }
          ],
          "parcoords": [
           {
            "line": {
             "colorbar": {
              "outlinewidth": 0,
              "ticks": ""
             }
            },
            "type": "parcoords"
           }
          ],
          "pie": [
           {
            "automargin": true,
            "type": "pie"
           }
          ],
          "scatter": [
           {
            "fillpattern": {
             "fillmode": "overlay",
             "size": 10,
             "solidity": 0.2
            },
            "type": "scatter"
           }
          ],
          "scatter3d": [
           {
            "line": {
             "colorbar": {
              "outlinewidth": 0,
              "ticks": ""
             }
            },
            "marker": {
             "colorbar": {
              "outlinewidth": 0,
              "ticks": ""
             }
            },
            "type": "scatter3d"
           }
          ],
          "scattercarpet": [
           {
            "marker": {
             "colorbar": {
              "outlinewidth": 0,
              "ticks": ""
             }
            },
            "type": "scattercarpet"
           }
          ],
          "scattergeo": [
           {
            "marker": {
             "colorbar": {
              "outlinewidth": 0,
              "ticks": ""
             }
            },
            "type": "scattergeo"
           }
          ],
          "scattergl": [
           {
            "marker": {
             "colorbar": {
              "outlinewidth": 0,
              "ticks": ""
             }
            },
            "type": "scattergl"
           }
          ],
          "scattermapbox": [
           {
            "marker": {
             "colorbar": {
              "outlinewidth": 0,
              "ticks": ""
             }
            },
            "type": "scattermapbox"
           }
          ],
          "scatterpolar": [
           {
            "marker": {
             "colorbar": {
              "outlinewidth": 0,
              "ticks": ""
             }
            },
            "type": "scatterpolar"
           }
          ],
          "scatterpolargl": [
           {
            "marker": {
             "colorbar": {
              "outlinewidth": 0,
              "ticks": ""
             }
            },
            "type": "scatterpolargl"
           }
          ],
          "scatterternary": [
           {
            "marker": {
             "colorbar": {
              "outlinewidth": 0,
              "ticks": ""
             }
            },
            "type": "scatterternary"
           }
          ],
          "surface": [
           {
            "colorbar": {
             "outlinewidth": 0,
             "ticks": ""
            },
            "colorscale": [
             [
              0,
              "#0d0887"
             ],
             [
              0.1111111111111111,
              "#46039f"
             ],
             [
              0.2222222222222222,
              "#7201a8"
             ],
             [
              0.3333333333333333,
              "#9c179e"
             ],
             [
              0.4444444444444444,
              "#bd3786"
             ],
             [
              0.5555555555555556,
              "#d8576b"
             ],
             [
              0.6666666666666666,
              "#ed7953"
             ],
             [
              0.7777777777777778,
              "#fb9f3a"
             ],
             [
              0.8888888888888888,
              "#fdca26"
             ],
             [
              1,
              "#f0f921"
             ]
            ],
            "type": "surface"
           }
          ],
          "table": [
           {
            "cells": {
             "fill": {
              "color": "#EBF0F8"
             },
             "line": {
              "color": "white"
             }
            },
            "header": {
             "fill": {
              "color": "#C8D4E3"
             },
             "line": {
              "color": "white"
             }
            },
            "type": "table"
           }
          ]
         },
         "layout": {
          "annotationdefaults": {
           "arrowcolor": "#2a3f5f",
           "arrowhead": 0,
           "arrowwidth": 1
          },
          "autotypenumbers": "strict",
          "coloraxis": {
           "colorbar": {
            "outlinewidth": 0,
            "ticks": ""
           }
          },
          "colorscale": {
           "diverging": [
            [
             0,
             "#8e0152"
            ],
            [
             0.1,
             "#c51b7d"
            ],
            [
             0.2,
             "#de77ae"
            ],
            [
             0.3,
             "#f1b6da"
            ],
            [
             0.4,
             "#fde0ef"
            ],
            [
             0.5,
             "#f7f7f7"
            ],
            [
             0.6,
             "#e6f5d0"
            ],
            [
             0.7,
             "#b8e186"
            ],
            [
             0.8,
             "#7fbc41"
            ],
            [
             0.9,
             "#4d9221"
            ],
            [
             1,
             "#276419"
            ]
           ],
           "sequential": [
            [
             0,
             "#0d0887"
            ],
            [
             0.1111111111111111,
             "#46039f"
            ],
            [
             0.2222222222222222,
             "#7201a8"
            ],
            [
             0.3333333333333333,
             "#9c179e"
            ],
            [
             0.4444444444444444,
             "#bd3786"
            ],
            [
             0.5555555555555556,
             "#d8576b"
            ],
            [
             0.6666666666666666,
             "#ed7953"
            ],
            [
             0.7777777777777778,
             "#fb9f3a"
            ],
            [
             0.8888888888888888,
             "#fdca26"
            ],
            [
             1,
             "#f0f921"
            ]
           ],
           "sequentialminus": [
            [
             0,
             "#0d0887"
            ],
            [
             0.1111111111111111,
             "#46039f"
            ],
            [
             0.2222222222222222,
             "#7201a8"
            ],
            [
             0.3333333333333333,
             "#9c179e"
            ],
            [
             0.4444444444444444,
             "#bd3786"
            ],
            [
             0.5555555555555556,
             "#d8576b"
            ],
            [
             0.6666666666666666,
             "#ed7953"
            ],
            [
             0.7777777777777778,
             "#fb9f3a"
            ],
            [
             0.8888888888888888,
             "#fdca26"
            ],
            [
             1,
             "#f0f921"
            ]
           ]
          },
          "colorway": [
           "#636efa",
           "#EF553B",
           "#00cc96",
           "#ab63fa",
           "#FFA15A",
           "#19d3f3",
           "#FF6692",
           "#B6E880",
           "#FF97FF",
           "#FECB52"
          ],
          "font": {
           "color": "#2a3f5f"
          },
          "geo": {
           "bgcolor": "white",
           "lakecolor": "white",
           "landcolor": "#E5ECF6",
           "showlakes": true,
           "showland": true,
           "subunitcolor": "white"
          },
          "hoverlabel": {
           "align": "left"
          },
          "hovermode": "closest",
          "mapbox": {
           "style": "light"
          },
          "paper_bgcolor": "white",
          "plot_bgcolor": "#E5ECF6",
          "polar": {
           "angularaxis": {
            "gridcolor": "white",
            "linecolor": "white",
            "ticks": ""
           },
           "bgcolor": "#E5ECF6",
           "radialaxis": {
            "gridcolor": "white",
            "linecolor": "white",
            "ticks": ""
           }
          },
          "scene": {
           "xaxis": {
            "backgroundcolor": "#E5ECF6",
            "gridcolor": "white",
            "gridwidth": 2,
            "linecolor": "white",
            "showbackground": true,
            "ticks": "",
            "zerolinecolor": "white"
           },
           "yaxis": {
            "backgroundcolor": "#E5ECF6",
            "gridcolor": "white",
            "gridwidth": 2,
            "linecolor": "white",
            "showbackground": true,
            "ticks": "",
            "zerolinecolor": "white"
           },
           "zaxis": {
            "backgroundcolor": "#E5ECF6",
            "gridcolor": "white",
            "gridwidth": 2,
            "linecolor": "white",
            "showbackground": true,
            "ticks": "",
            "zerolinecolor": "white"
           }
          },
          "shapedefaults": {
           "line": {
            "color": "#2a3f5f"
           }
          },
          "ternary": {
           "aaxis": {
            "gridcolor": "white",
            "linecolor": "white",
            "ticks": ""
           },
           "baxis": {
            "gridcolor": "white",
            "linecolor": "white",
            "ticks": ""
           },
           "bgcolor": "#E5ECF6",
           "caxis": {
            "gridcolor": "white",
            "linecolor": "white",
            "ticks": ""
           }
          },
          "title": {
           "x": 0.05
          },
          "xaxis": {
           "automargin": true,
           "gridcolor": "white",
           "linecolor": "white",
           "ticks": "",
           "title": {
            "standoff": 15
           },
           "zerolinecolor": "white",
           "zerolinewidth": 2
          },
          "yaxis": {
           "automargin": true,
           "gridcolor": "white",
           "linecolor": "white",
           "ticks": "",
           "title": {
            "standoff": 15
           },
           "zerolinecolor": "white",
           "zerolinewidth": 2
          }
         }
        },
        "title": {
         "text": "Distribution of Outage's U.S. State"
        },
        "xaxis": {
         "anchor": "y",
         "domain": [
          0,
          1
         ],
         "title": {
          "text": "Outage U.S. State"
         }
        },
        "yaxis": {
         "anchor": "x",
         "domain": [
          0,
          1
         ],
         "title": {
          "text": "counts"
         }
        }
       }
      }
     },
     "metadata": {},
     "output_type": "display_data"
    }
   ],
   "source": [
    "# sorted by counts\n",
    "count_df = df['U.S._STATE'].value_counts()\n",
    "\n",
    "fig = px.bar(count_df, y='U.S._STATE', title = 'Distribution of Outage\\'s U.S. State')\n",
    "fig.update_layout(xaxis_title='Outage U.S. State', yaxis_title='counts')\n",
    "fig.show()\n",
    "export_plotly_fig(fig, 'univariate2.html')"
   ]
  },
  {
   "cell_type": "markdown",
   "metadata": {},
   "source": [
    "This shows that some states frequently occur power outages(more than 50 times in total), and most others are less frequent, even several states only have several power outages. It's seems that the distribution is similar to gaussian distribution."
   ]
  },
  {
   "cell_type": "markdown",
   "metadata": {},
   "source": [
    "#### Bivariate Analysis"
   ]
  },
  {
   "cell_type": "markdown",
   "metadata": {},
   "source": [
    "Then, we do bivariate analysis between the outage duration and the state where the outage occurs."
   ]
  },
  {
   "cell_type": "code",
   "execution_count": 117,
   "metadata": {},
   "outputs": [
    {
     "data": {
      "application/vnd.plotly.v1+json": {
       "config": {
        "plotlyServerURL": "https://plot.ly"
       },
       "data": [
        {
         "hovertemplate": "U.S._STATE=%{x}<br>OUTAGE.DURATION=%{y}<extra></extra>",
         "legendgroup": "",
         "marker": {
          "color": "#636efa",
          "symbol": "circle"
         },
         "mode": "markers",
         "name": "",
         "showlegend": false,
         "type": "scattergl",
         "x": [
          "Minnesota",
          "Minnesota",
          "Minnesota",
          "Minnesota",
          "Minnesota",
          "Minnesota",
          "Minnesota",
          "Minnesota",
          "Minnesota",
          "Minnesota",
          "Minnesota",
          "Minnesota",
          "Minnesota",
          "Minnesota",
          "Minnesota",
          "Tennessee",
          "Tennessee",
          "Tennessee",
          "Tennessee",
          "Tennessee",
          "Tennessee",
          "Tennessee",
          "Tennessee",
          "Tennessee",
          "Tennessee",
          "Tennessee",
          "Tennessee",
          "Tennessee",
          "Tennessee",
          "Tennessee",
          "Tennessee",
          "Tennessee",
          "Tennessee",
          "Tennessee",
          "Tennessee",
          "Tennessee",
          "Tennessee",
          "Tennessee",
          "Tennessee",
          "Tennessee",
          "Tennessee",
          "Tennessee",
          "Tennessee",
          "Tennessee",
          "Tennessee",
          "Tennessee",
          "Tennessee",
          "Tennessee",
          "Tennessee",
          "Wisconsin",
          "Wisconsin",
          "Wisconsin",
          "Wisconsin",
          "Wisconsin",
          "Wisconsin",
          "Wisconsin",
          "Wisconsin",
          "Wisconsin",
          "Wisconsin",
          "Wisconsin",
          "Wisconsin",
          "Wisconsin",
          "Wisconsin",
          "Wisconsin",
          "Wisconsin",
          "Wisconsin",
          "Wisconsin",
          "Wisconsin",
          "Wisconsin",
          "West Virginia",
          "West Virginia",
          "West Virginia",
          "West Virginia",
          "Michigan",
          "Michigan",
          "Michigan",
          "Michigan",
          "Michigan",
          "Michigan",
          "Michigan",
          "Michigan",
          "Michigan",
          "Michigan",
          "Michigan",
          "Michigan",
          "Michigan",
          "Michigan",
          "Michigan",
          "Michigan",
          "Michigan",
          "Michigan",
          "Michigan",
          "Michigan",
          "Michigan",
          "Michigan",
          "Michigan",
          "Michigan",
          "Michigan",
          "Michigan",
          "Michigan",
          "Michigan",
          "Michigan",
          "Michigan",
          "Michigan",
          "Michigan",
          "Michigan",
          "Michigan",
          "Michigan",
          "Michigan",
          "Michigan",
          "Michigan",
          "Michigan",
          "Michigan",
          "Michigan",
          "Michigan",
          "Michigan",
          "Michigan",
          "Michigan",
          "Michigan",
          "Michigan",
          "Michigan",
          "Michigan",
          "Michigan",
          "Michigan",
          "Michigan",
          "Michigan",
          "Michigan",
          "Michigan",
          "Michigan",
          "Michigan",
          "Michigan",
          "Michigan",
          "Michigan",
          "Michigan",
          "Michigan",
          "Michigan",
          "Michigan",
          "Michigan",
          "Michigan",
          "Michigan",
          "Michigan",
          "Michigan",
          "Michigan",
          "Michigan",
          "Michigan",
          "Michigan",
          "Michigan",
          "Michigan",
          "Michigan",
          "Michigan",
          "Michigan",
          "Michigan",
          "Michigan",
          "Michigan",
          "Michigan",
          "Michigan",
          "Michigan",
          "Michigan",
          "Michigan",
          "Michigan",
          "Michigan",
          "Michigan",
          "Michigan",
          "Michigan",
          "Michigan",
          "Michigan",
          "Michigan",
          "Michigan",
          "Texas",
          "Texas",
          "Texas",
          "Texas",
          "Texas",
          "Texas",
          "Texas",
          "Texas",
          "Texas",
          "Texas",
          "Texas",
          "Texas",
          "Texas",
          "Texas",
          "Texas",
          "Texas",
          "Texas",
          "Texas",
          "Texas",
          "Texas",
          "Texas",
          "Texas",
          "Texas",
          "Texas",
          "Texas",
          "Texas",
          "Texas",
          "Texas",
          "Texas",
          "Texas",
          "Texas",
          "Texas",
          "Texas",
          "Texas",
          "Texas",
          "Texas",
          "Texas",
          "Texas",
          "Texas",
          "Texas",
          "Texas",
          "Texas",
          "Texas",
          "Texas",
          "Texas",
          "Texas",
          "Texas",
          "Texas",
          "Texas",
          "Texas",
          "Texas",
          "Texas",
          "Texas",
          "Texas",
          "Texas",
          "Texas",
          "Texas",
          "Texas",
          "Texas",
          "Texas",
          "Texas",
          "Texas",
          "Texas",
          "Texas",
          "Texas",
          "Texas",
          "Texas",
          "Texas",
          "Texas",
          "Texas",
          "Texas",
          "Texas",
          "Texas",
          "Texas",
          "Texas",
          "Texas",
          "Texas",
          "Texas",
          "Texas",
          "Texas",
          "Texas",
          "Texas",
          "Texas",
          "Texas",
          "Texas",
          "Texas",
          "Texas",
          "Texas",
          "Texas",
          "Texas",
          "Texas",
          "Texas",
          "Texas",
          "Texas",
          "Texas",
          "Texas",
          "Texas",
          "Texas",
          "Texas",
          "Texas",
          "Texas",
          "Texas",
          "Texas",
          "Texas",
          "Texas",
          "Texas",
          "Texas",
          "Texas",
          "Texas",
          "Texas",
          "Texas",
          "Texas",
          "Texas",
          "Texas",
          "Texas",
          "Texas",
          "Texas",
          "Texas",
          "Texas",
          "Texas",
          "Texas",
          "Texas",
          "Texas",
          "Texas",
          "Texas",
          "Texas",
          "Texas",
          "Indiana",
          "Indiana",
          "Indiana",
          "Indiana",
          "Indiana",
          "Indiana",
          "Indiana",
          "Indiana",
          "Indiana",
          "Indiana",
          "Indiana",
          "Indiana",
          "Indiana",
          "Indiana",
          "Indiana",
          "Indiana",
          "Indiana",
          "Indiana",
          "Indiana",
          "Indiana",
          "Indiana",
          "Indiana",
          "Indiana",
          "Indiana",
          "Indiana",
          "Indiana",
          "Indiana",
          "Indiana",
          "Indiana",
          "Indiana",
          "Indiana",
          "Indiana",
          "Indiana",
          "Indiana",
          "Indiana",
          "Indiana",
          "Indiana",
          "Indiana",
          "Indiana",
          "Indiana",
          "Indiana",
          "Indiana",
          "Indiana",
          "Alabama",
          "Alabama",
          "Alabama",
          "Alabama",
          "Alabama",
          "Alabama",
          "Mississippi",
          "Mississippi",
          "Mississippi",
          "Mississippi",
          "Illinois",
          "Illinois",
          "Illinois",
          "Illinois",
          "Illinois",
          "Illinois",
          "Illinois",
          "Illinois",
          "Illinois",
          "Illinois",
          "Illinois",
          "Illinois",
          "Illinois",
          "Illinois",
          "Illinois",
          "Illinois",
          "Illinois",
          "Illinois",
          "Illinois",
          "Illinois",
          "Illinois",
          "Illinois",
          "Illinois",
          "Illinois",
          "Illinois",
          "Illinois",
          "Illinois",
          "Illinois",
          "Illinois",
          "Illinois",
          "Illinois",
          "Illinois",
          "Illinois",
          "Illinois",
          "Illinois",
          "Illinois",
          "Illinois",
          "Illinois",
          "Illinois",
          "Illinois",
          "Illinois",
          "Illinois",
          "Illinois",
          "Illinois",
          "Illinois",
          "Illinois",
          "Washington",
          "Washington",
          "Washington",
          "Washington",
          "Washington",
          "Washington",
          "Washington",
          "Washington",
          "Washington",
          "Washington",
          "Washington",
          "Washington",
          "Washington",
          "Washington",
          "Washington",
          "Washington",
          "Washington",
          "Washington",
          "Washington",
          "Washington",
          "Washington",
          "Washington",
          "Washington",
          "Washington",
          "Washington",
          "Washington",
          "Washington",
          "Washington",
          "Washington",
          "Washington",
          "Washington",
          "Washington",
          "Washington",
          "Washington",
          "Washington",
          "Washington",
          "Washington",
          "Washington",
          "Washington",
          "Washington",
          "Washington",
          "Washington",
          "Washington",
          "Washington",
          "Washington",
          "Washington",
          "Washington",
          "Washington",
          "Washington",
          "Washington",
          "Washington",
          "Washington",
          "Washington",
          "Washington",
          "Washington",
          "Washington",
          "Washington",
          "Washington",
          "Washington",
          "Washington",
          "Washington",
          "Washington",
          "Washington",
          "Washington",
          "Washington",
          "Washington",
          "Washington",
          "Washington",
          "Washington",
          "Washington",
          "Washington",
          "Washington",
          "Washington",
          "Washington",
          "Washington",
          "Washington",
          "Washington",
          "Washington",
          "Washington",
          "Washington",
          "Washington",
          "Washington",
          "Washington",
          "Washington",
          "Washington",
          "Washington",
          "Washington",
          "Washington",
          "Washington",
          "Washington",
          "Washington",
          "Washington",
          "Washington",
          "Washington",
          "Washington",
          "Washington",
          "Washington",
          "Arizona",
          "Arizona",
          "Arizona",
          "Arizona",
          "Arizona",
          "Arizona",
          "Arizona",
          "Arizona",
          "Arizona",
          "Arizona",
          "Arizona",
          "Arizona",
          "Arizona",
          "Arizona",
          "Arizona",
          "Arizona",
          "Arizona",
          "Arizona",
          "Arizona",
          "Arizona",
          "Arizona",
          "Arizona",
          "Arizona",
          "Arizona",
          "Arizona",
          "Arizona",
          "Arizona",
          "Arizona",
          "Maryland",
          "Maryland",
          "Maryland",
          "Maryland",
          "Maryland",
          "Maryland",
          "Maryland",
          "Maryland",
          "Maryland",
          "Maryland",
          "Maryland",
          "Maryland",
          "Maryland",
          "Maryland",
          "Maryland",
          "Maryland",
          "Maryland",
          "Maryland",
          "Maryland",
          "Maryland",
          "Maryland",
          "Maryland",
          "Maryland",
          "Maryland",
          "Maryland",
          "Maryland",
          "Maryland",
          "Maryland",
          "Maryland",
          "Maryland",
          "Maryland",
          "Maryland",
          "Maryland",
          "Maryland",
          "Maryland",
          "Maryland",
          "Maryland",
          "Maryland",
          "Maryland",
          "Maryland",
          "Maryland",
          "Maryland",
          "Maryland",
          "Maryland",
          "Maryland",
          "Maryland",
          "Maryland",
          "Maryland",
          "Maryland",
          "Maryland",
          "Maryland",
          "Maryland",
          "Maryland",
          "Maryland",
          "Maryland",
          "Maryland",
          "Maryland",
          "Maryland",
          "Pennsylvania",
          "Pennsylvania",
          "Pennsylvania",
          "Pennsylvania",
          "Pennsylvania",
          "Pennsylvania",
          "Pennsylvania",
          "Pennsylvania",
          "Pennsylvania",
          "Pennsylvania",
          "Pennsylvania",
          "Pennsylvania",
          "Pennsylvania",
          "Pennsylvania",
          "Pennsylvania",
          "Pennsylvania",
          "Pennsylvania",
          "Pennsylvania",
          "Pennsylvania",
          "Pennsylvania",
          "Pennsylvania",
          "Pennsylvania",
          "Pennsylvania",
          "Pennsylvania",
          "Pennsylvania",
          "Pennsylvania",
          "Pennsylvania",
          "Pennsylvania",
          "Pennsylvania",
          "Pennsylvania",
          "Pennsylvania",
          "Pennsylvania",
          "Pennsylvania",
          "Pennsylvania",
          "Pennsylvania",
          "Pennsylvania",
          "Pennsylvania",
          "Pennsylvania",
          "Pennsylvania",
          "Pennsylvania",
          "Pennsylvania",
          "Pennsylvania",
          "Pennsylvania",
          "Pennsylvania",
          "Pennsylvania",
          "Pennsylvania",
          "Pennsylvania",
          "Pennsylvania",
          "Pennsylvania",
          "Pennsylvania",
          "Pennsylvania",
          "Pennsylvania",
          "Pennsylvania",
          "Pennsylvania",
          "Pennsylvania",
          "Pennsylvania",
          "Pennsylvania",
          "Kentucky",
          "Kentucky",
          "Kentucky",
          "Kentucky",
          "Kentucky",
          "Kentucky",
          "Kentucky",
          "Kentucky",
          "Kentucky",
          "Kentucky",
          "Kentucky",
          "Kentucky",
          "Kentucky",
          "Utah",
          "Utah",
          "Utah",
          "Utah",
          "Utah",
          "Utah",
          "Utah",
          "Utah",
          "Utah",
          "Utah",
          "Utah",
          "Utah",
          "Utah",
          "Utah",
          "Utah",
          "Utah",
          "Utah",
          "Utah",
          "Utah",
          "Utah",
          "Utah",
          "Utah",
          "Utah",
          "Utah",
          "Utah",
          "Utah",
          "Utah",
          "Utah",
          "Utah",
          "Utah",
          "Utah",
          "Utah",
          "Utah",
          "Utah",
          "Utah",
          "Utah",
          "Utah",
          "Utah",
          "Utah",
          "Utah",
          "Utah",
          "Ohio",
          "Ohio",
          "Ohio",
          "Ohio",
          "Ohio",
          "Ohio",
          "Ohio",
          "Ohio",
          "Ohio",
          "Ohio",
          "Ohio",
          "Ohio",
          "Ohio",
          "Ohio",
          "Ohio",
          "Ohio",
          "Ohio",
          "Ohio",
          "Ohio",
          "Ohio",
          "Ohio",
          "Ohio",
          "Ohio",
          "Ohio",
          "Ohio",
          "Ohio",
          "Ohio",
          "Ohio",
          "Ohio",
          "Ohio",
          "Ohio",
          "Ohio",
          "Ohio",
          "Ohio",
          "Ohio",
          "Ohio",
          "Ohio",
          "Ohio",
          "Ohio",
          "Ohio",
          "Ohio",
          "Ohio",
          "Ohio",
          "North Carolina",
          "North Carolina",
          "North Carolina",
          "North Carolina",
          "North Carolina",
          "North Carolina",
          "North Carolina",
          "North Carolina",
          "North Carolina",
          "North Carolina",
          "North Carolina",
          "North Carolina",
          "North Carolina",
          "North Carolina",
          "North Carolina",
          "North Carolina",
          "North Carolina",
          "North Carolina",
          "North Carolina",
          "North Carolina",
          "North Carolina",
          "North Carolina",
          "North Carolina",
          "North Carolina",
          "North Carolina",
          "North Carolina",
          "North Carolina",
          "North Carolina",
          "North Carolina",
          "North Carolina",
          "North Carolina",
          "North Carolina",
          "North Carolina",
          "North Carolina",
          "North Carolina",
          "North Carolina",
          "North Carolina",
          "North Carolina",
          "North Carolina",
          "North Carolina",
          "New Jersey",
          "New Jersey",
          "New Jersey",
          "New Jersey",
          "New Jersey",
          "New Jersey",
          "New Jersey",
          "New Jersey",
          "New Jersey",
          "New Jersey",
          "New Jersey",
          "New Jersey",
          "New Jersey",
          "New Jersey",
          "New Jersey",
          "New Jersey",
          "New Jersey",
          "New Jersey",
          "New Jersey",
          "New Jersey",
          "New Jersey",
          "New Jersey",
          "New Jersey",
          "New Jersey",
          "New Jersey",
          "New Jersey",
          "New Jersey",
          "New Jersey",
          "New Jersey",
          "New Jersey",
          "New Jersey",
          "New Jersey",
          "New Jersey",
          "New Jersey",
          "New Jersey",
          "South Carolina",
          "South Carolina",
          "South Carolina",
          "South Carolina",
          "South Carolina",
          "South Carolina",
          "South Carolina",
          "South Carolina",
          "Oregon",
          "Oregon",
          "Oregon",
          "Oregon",
          "Oregon",
          "Oregon",
          "Oregon",
          "Oregon",
          "Oregon",
          "Oregon",
          "Oregon",
          "Oregon",
          "Oregon",
          "Oregon",
          "Oregon",
          "Oregon",
          "Oregon",
          "Oregon",
          "Oregon",
          "Oregon",
          "Oregon",
          "Oregon",
          "Oregon",
          "Oregon",
          "Oregon",
          "Oregon",
          "District of Columbia",
          "District of Columbia",
          "District of Columbia",
          "District of Columbia",
          "District of Columbia",
          "District of Columbia",
          "District of Columbia",
          "District of Columbia",
          "District of Columbia",
          "District of Columbia",
          "Missouri",
          "Missouri",
          "Missouri",
          "Missouri",
          "Missouri",
          "Missouri",
          "Missouri",
          "Missouri",
          "Missouri",
          "Missouri",
          "Missouri",
          "Missouri",
          "Missouri",
          "Missouri",
          "Missouri",
          "Missouri",
          "Missouri",
          "Delaware",
          "Delaware",
          "Delaware",
          "Delaware",
          "Delaware",
          "Delaware",
          "Delaware",
          "Delaware",
          "Delaware",
          "Delaware",
          "Delaware",
          "Delaware",
          "Delaware",
          "Delaware",
          "Delaware",
          "Delaware",
          "Delaware",
          "Delaware",
          "Delaware",
          "Delaware",
          "Delaware",
          "Delaware",
          "Delaware",
          "Delaware",
          "Delaware",
          "Delaware",
          "Delaware",
          "Delaware",
          "Delaware",
          "Delaware",
          "Delaware",
          "Delaware",
          "Delaware",
          "Delaware",
          "Delaware",
          "Delaware",
          "Delaware",
          "Delaware",
          "Delaware",
          "Delaware",
          "Delaware",
          "Iowa",
          "Iowa",
          "Iowa",
          "Iowa",
          "Iowa",
          "Iowa",
          "Iowa",
          "Iowa",
          "Montana",
          "Montana",
          "Montana",
          "New York",
          "New York",
          "New York",
          "New York",
          "New York",
          "New York",
          "New York",
          "New York",
          "New York",
          "New York",
          "New York",
          "New York",
          "New York",
          "New York",
          "New York",
          "New York",
          "New York",
          "New York",
          "New York",
          "New York",
          "New York",
          "New York",
          "New York",
          "New York",
          "New York",
          "New York",
          "New York",
          "New York",
          "New York",
          "New York",
          "New York",
          "New York",
          "New York",
          "New York",
          "New York",
          "New York",
          "New York",
          "New York",
          "New York",
          "New York",
          "New York",
          "New York",
          "New York",
          "New York",
          "New York",
          "New York",
          "New York",
          "New York",
          "New York",
          "New York",
          "New York",
          "New York",
          "New York",
          "New York",
          "New York",
          "New York",
          "New York",
          "New York",
          "New York",
          "New York",
          "New York",
          "New York",
          "New York",
          "New York",
          "New York",
          "New York",
          "New York",
          "New York",
          "New York",
          "New York",
          "New York",
          "Louisiana",
          "Louisiana",
          "Louisiana",
          "Louisiana",
          "Louisiana",
          "Louisiana",
          "Louisiana",
          "Louisiana",
          "Louisiana",
          "Louisiana",
          "Louisiana",
          "Louisiana",
          "Louisiana",
          "Louisiana",
          "Louisiana",
          "Louisiana",
          "Louisiana",
          "Louisiana",
          "Louisiana",
          "Louisiana",
          "Louisiana",
          "Louisiana",
          "Louisiana",
          "Louisiana",
          "Louisiana",
          "Louisiana",
          "Louisiana",
          "Louisiana",
          "Louisiana",
          "Louisiana",
          "Louisiana",
          "Louisiana",
          "Louisiana",
          "Louisiana",
          "Louisiana",
          "Louisiana",
          "Louisiana",
          "Louisiana",
          "Louisiana",
          "Louisiana",
          "Florida",
          "Florida",
          "Florida",
          "Florida",
          "Florida",
          "Florida",
          "Florida",
          "Florida",
          "Florida",
          "Florida",
          "Florida",
          "Florida",
          "Florida",
          "Florida",
          "Florida",
          "Florida",
          "Florida",
          "Florida",
          "Florida",
          "Florida",
          "Florida",
          "Florida",
          "Florida",
          "Florida",
          "Florida",
          "Florida",
          "Florida",
          "Florida",
          "Florida",
          "Florida",
          "Florida",
          "Florida",
          "Florida",
          "Florida",
          "Florida",
          "Florida",
          "Florida",
          "Florida",
          "Florida",
          "Florida",
          "Florida",
          "Florida",
          "Florida",
          "Florida",
          "Florida",
          "California",
          "California",
          "California",
          "California",
          "California",
          "California",
          "California",
          "California",
          "California",
          "California",
          "California",
          "California",
          "California",
          "California",
          "California",
          "California",
          "California",
          "California",
          "California",
          "California",
          "California",
          "California",
          "California",
          "California",
          "California",
          "California",
          "California",
          "California",
          "California",
          "California",
          "California",
          "California",
          "California",
          "California",
          "California",
          "California",
          "California",
          "California",
          "California",
          "California",
          "California",
          "California",
          "California",
          "California",
          "California",
          "California",
          "California",
          "California",
          "California",
          "California",
          "California",
          "California",
          "California",
          "California",
          "California",
          "California",
          "California",
          "California",
          "California",
          "California",
          "California",
          "California",
          "California",
          "California",
          "California",
          "California",
          "California",
          "California",
          "California",
          "California",
          "California",
          "California",
          "California",
          "California",
          "California",
          "California",
          "California",
          "California",
          "California",
          "California",
          "California",
          "California",
          "California",
          "California",
          "California",
          "California",
          "California",
          "California",
          "California",
          "California",
          "California",
          "California",
          "California",
          "California",
          "California",
          "California",
          "California",
          "California",
          "California",
          "California",
          "California",
          "California",
          "California",
          "California",
          "California",
          "California",
          "California",
          "California",
          "California",
          "California",
          "California",
          "California",
          "California",
          "California",
          "California",
          "California",
          "California",
          "California",
          "California",
          "California",
          "California",
          "California",
          "California",
          "California",
          "California",
          "California",
          "California",
          "California",
          "California",
          "California",
          "California",
          "California",
          "California",
          "California",
          "California",
          "California",
          "California",
          "California",
          "California",
          "California",
          "California",
          "California",
          "California",
          "California",
          "California",
          "California",
          "California",
          "California",
          "California",
          "California",
          "California",
          "California",
          "California",
          "California",
          "California",
          "California",
          "California",
          "California",
          "California",
          "California",
          "California",
          "California",
          "California",
          "California",
          "California",
          "California",
          "California",
          "California",
          "California",
          "California",
          "California",
          "California",
          "California",
          "California",
          "California",
          "California",
          "California",
          "California",
          "California",
          "California",
          "California",
          "California",
          "California",
          "California",
          "California",
          "California",
          "California",
          "California",
          "California",
          "California",
          "California",
          "California",
          "California",
          "California",
          "California",
          "California",
          "California",
          "California",
          "California",
          "California",
          "California",
          "California",
          "California",
          "California",
          "California",
          "California",
          "California",
          "California",
          "California",
          "California",
          "Arkansas",
          "Arkansas",
          "Arkansas",
          "Arkansas",
          "Arkansas",
          "Arkansas",
          "Arkansas",
          "Arkansas",
          "Arkansas",
          "Arkansas",
          "Arkansas",
          "Arkansas",
          "Arkansas",
          "Arkansas",
          "Arkansas",
          "Arkansas",
          "Arkansas",
          "Arkansas",
          "Arkansas",
          "Arkansas",
          "Arkansas",
          "Arkansas",
          "Arkansas",
          "Arkansas",
          "Arkansas",
          "Virginia",
          "Virginia",
          "Virginia",
          "Virginia",
          "Virginia",
          "Virginia",
          "Virginia",
          "Virginia",
          "Virginia",
          "Virginia",
          "Virginia",
          "Virginia",
          "Virginia",
          "Virginia",
          "Virginia",
          "Virginia",
          "Virginia",
          "Virginia",
          "Virginia",
          "Virginia",
          "Virginia",
          "Virginia",
          "Virginia",
          "Virginia",
          "Virginia",
          "Virginia",
          "Virginia",
          "Virginia",
          "Virginia",
          "Virginia",
          "Virginia",
          "Virginia",
          "Virginia",
          "Virginia",
          "Virginia",
          "Virginia",
          "Virginia",
          "Nebraska",
          "Nebraska",
          "Nebraska",
          "Nebraska",
          "Wyoming",
          "Wyoming",
          "Wyoming",
          "Wyoming",
          "Wyoming",
          "Wyoming",
          "New Mexico",
          "New Mexico",
          "New Mexico",
          "New Mexico",
          "New Mexico",
          "New Mexico",
          "New Mexico",
          "New Mexico",
          "Vermont",
          "Vermont",
          "Vermont",
          "Vermont",
          "Vermont",
          "Vermont",
          "Vermont",
          "Vermont",
          "Vermont",
          "Georgia",
          "Georgia",
          "Georgia",
          "Georgia",
          "Georgia",
          "Georgia",
          "Georgia",
          "Georgia",
          "Georgia",
          "Georgia",
          "Georgia",
          "Georgia",
          "Georgia",
          "Georgia",
          "Georgia",
          "Georgia",
          "Georgia",
          "Connecticut",
          "Connecticut",
          "Connecticut",
          "Connecticut",
          "Connecticut",
          "Connecticut",
          "Connecticut",
          "Connecticut",
          "Connecticut",
          "Connecticut",
          "Connecticut",
          "Connecticut",
          "Connecticut",
          "Connecticut",
          "Connecticut",
          "Connecticut",
          "Connecticut",
          "Connecticut",
          "Oklahoma",
          "Oklahoma",
          "Oklahoma",
          "Oklahoma",
          "Oklahoma",
          "Oklahoma",
          "Oklahoma",
          "Oklahoma",
          "Oklahoma",
          "Oklahoma",
          "Oklahoma",
          "Oklahoma",
          "Oklahoma",
          "Oklahoma",
          "Oklahoma",
          "Oklahoma",
          "Oklahoma",
          "Oklahoma",
          "Oklahoma",
          "Oklahoma",
          "Oklahoma",
          "Oklahoma",
          "Oklahoma",
          "Oklahoma",
          "Massachusetts",
          "Massachusetts",
          "Massachusetts",
          "Massachusetts",
          "Massachusetts",
          "Massachusetts",
          "Massachusetts",
          "Massachusetts",
          "Massachusetts",
          "Massachusetts",
          "Massachusetts",
          "Massachusetts",
          "Massachusetts",
          "Massachusetts",
          "Massachusetts",
          "Massachusetts",
          "Massachusetts",
          "Massachusetts",
          "Maine",
          "Maine",
          "Maine",
          "Maine",
          "Maine",
          "Maine",
          "Maine",
          "Maine",
          "Maine",
          "Maine",
          "Maine",
          "Maine",
          "Maine",
          "Maine",
          "Maine",
          "Maine",
          "Maine",
          "Maine",
          "Maine",
          "New Hampshire",
          "New Hampshire",
          "New Hampshire",
          "New Hampshire",
          "New Hampshire",
          "New Hampshire",
          "New Hampshire",
          "New Hampshire",
          "New Hampshire",
          "New Hampshire",
          "New Hampshire",
          "New Hampshire",
          "New Hampshire",
          "New Hampshire",
          "Nevada",
          "Nevada",
          "Nevada",
          "Nevada",
          "Nevada",
          "Nevada",
          "Nevada",
          "Colorado",
          "Colorado",
          "Colorado",
          "Colorado",
          "Colorado",
          "Colorado",
          "Colorado",
          "Colorado",
          "Colorado",
          "Colorado",
          "Colorado",
          "Colorado",
          "Colorado",
          "Colorado",
          "Colorado",
          "Kansas",
          "Kansas",
          "Kansas",
          "Kansas",
          "Kansas",
          "Kansas",
          "Kansas",
          "Kansas",
          "Kansas",
          "Hawaii",
          "Hawaii",
          "Hawaii",
          "Hawaii",
          "Hawaii",
          "Idaho",
          "Idaho",
          "Idaho",
          "Idaho",
          "Idaho",
          "Idaho",
          "Idaho",
          "Idaho",
          "Idaho",
          "North Dakota",
          "North Dakota",
          "South Dakota",
          "South Dakota",
          "Alaska"
         ],
         "xaxis": "x",
         "y": [
          3060,
          1,
          3000,
          2550,
          1740,
          1860,
          2970,
          3960,
          155,
          3621,
          7740,
          8880,
          0,
          1322,
          60,
          19,
          0,
          21,
          196,
          840,
          935,
          1260,
          null,
          619,
          150,
          762,
          0,
          660,
          1,
          2700,
          1,
          4921,
          95,
          251,
          4125,
          2550,
          null,
          1200,
          310,
          2818,
          5054,
          136,
          528,
          150,
          46,
          1,
          1920,
          null,
          32,
          null,
          135,
          3000,
          32,
          108653,
          8468,
          960,
          44,
          1605,
          4410,
          388,
          480,
          1219,
          90,
          18660,
          538,
          104,
          60,
          1272,
          60,
          1,
          1000,
          17339,
          9576,
          3090,
          6510,
          5820,
          1078,
          1513,
          4830,
          3051,
          4200,
          2085,
          5730,
          4290,
          2670,
          3540,
          3637,
          1710,
          4320,
          3915,
          3120,
          4590,
          7530,
          5034,
          8160,
          3300,
          4320,
          1770,
          9857,
          4080,
          5670,
          5700,
          1995,
          300,
          5115,
          2670,
          7650,
          4338,
          761,
          5760,
          2820,
          4110,
          3360,
          3015,
          232,
          11525,
          6420,
          46080,
          5700,
          5610,
          78377,
          270,
          4050,
          5865,
          1,
          2325,
          4170,
          4485,
          2694,
          168,
          5580,
          705,
          11850,
          3494,
          4560,
          2760,
          5760,
          8922,
          6030,
          7800,
          4242,
          3120,
          5700,
          900,
          1046,
          7620,
          3630,
          1260,
          5840,
          5790,
          2820,
          600,
          4259,
          2939,
          7080,
          3600,
          1588,
          4260,
          2700,
          200,
          8430,
          85,
          9150,
          1019,
          420,
          1140,
          7440,
          4458,
          373,
          1203,
          868,
          1455,
          206,
          1195,
          1559,
          900,
          2690,
          5115,
          5,
          189,
          2142,
          360,
          null,
          225,
          2340,
          480,
          9486,
          480,
          3000,
          300,
          3020,
          766,
          null,
          1335,
          197,
          245,
          3255,
          12180,
          1077,
          600,
          186,
          690,
          27698,
          402,
          2420,
          327,
          1,
          1860,
          220,
          455,
          318,
          757,
          847,
          410,
          215,
          5,
          570,
          12124,
          2655,
          20160,
          1440,
          600,
          39,
          181,
          1185,
          1500,
          0,
          271,
          1860,
          1200,
          2159,
          6300,
          null,
          1620,
          224,
          70,
          1697,
          95,
          2220,
          null,
          7809,
          1200,
          121,
          63,
          5595,
          1,
          557,
          240,
          3360,
          685,
          2280,
          210,
          167,
          1920,
          3569,
          3300,
          10,
          1560,
          840,
          240,
          990,
          6000,
          17865,
          1282,
          1080,
          7540,
          1320,
          1110,
          27698,
          130,
          3040,
          394,
          10140,
          20160,
          21540,
          45,
          1,
          1200,
          550,
          900,
          885,
          940,
          null,
          3050,
          1830,
          6000,
          1500,
          150,
          1955,
          2220,
          330,
          74,
          420,
          1440,
          255,
          1060,
          12240,
          5250,
          4320,
          120,
          233,
          null,
          65,
          2120,
          96,
          3,
          4320,
          65,
          2146,
          96,
          4032,
          2580,
          6,
          569,
          0,
          15950,
          200,
          1980,
          4045,
          2730,
          3314,
          7319,
          1,
          47,
          1440,
          276,
          0,
          0,
          3646,
          1130,
          2880,
          513,
          35,
          23773,
          10,
          3872,
          23187,
          12240,
          390,
          null,
          3264,
          1230,
          803,
          77,
          30,
          300,
          1,
          5,
          1450,
          2680,
          null,
          7609,
          150,
          3000,
          420,
          479,
          1680,
          2700,
          149,
          1110,
          2790,
          659,
          1320,
          1830,
          3000,
          null,
          870,
          810,
          1336,
          1695,
          360,
          360,
          120,
          3000,
          1290,
          1530,
          2370,
          1200,
          1200,
          90,
          120,
          1200,
          2761,
          720,
          1120,
          2100,
          960,
          450,
          1440,
          1020,
          0,
          2010,
          120,
          9230,
          1240,
          465,
          0,
          2460,
          1183,
          8880,
          394,
          219,
          487,
          19,
          28,
          0,
          1,
          5340,
          8940,
          467,
          0,
          1920,
          0,
          25,
          420,
          2040,
          0,
          1,
          1423,
          60,
          1620,
          3300,
          385,
          663,
          123,
          1276,
          1919,
          null,
          440,
          6690,
          null,
          0,
          null,
          717,
          1204,
          292,
          313,
          1,
          5,
          6276,
          0,
          74,
          0,
          null,
          248,
          1,
          2700,
          25,
          126,
          1,
          255,
          1207,
          0,
          0,
          245,
          476,
          null,
          null,
          null,
          1,
          2639,
          502,
          548,
          369,
          6480,
          15,
          5,
          null,
          1,
          0,
          432,
          21,
          1697,
          0,
          2615,
          9630,
          3507,
          2820,
          314,
          5855,
          0,
          0,
          1,
          22769,
          70,
          4285,
          355,
          0,
          2520,
          0,
          180,
          554,
          50,
          70,
          180,
          3842,
          35,
          1,
          189,
          49320,
          4200,
          353,
          1,
          87,
          66,
          null,
          1,
          227,
          null,
          1440,
          1,
          2700,
          null,
          49320,
          2,
          215,
          451,
          418,
          100,
          2021,
          1671,
          3938,
          4470,
          2279,
          4440,
          2760,
          0,
          1,
          0,
          1,
          1840,
          428,
          331,
          1980,
          1,
          1,
          1950,
          3037,
          1,
          1,
          1196,
          5628,
          1440,
          7700,
          2,
          12890,
          4232,
          95,
          2610,
          4320,
          17,
          113,
          0,
          2507,
          0,
          1,
          4920,
          1,
          4080,
          0,
          960,
          185,
          1320,
          1673,
          2855,
          3060,
          565,
          1,
          1,
          7298,
          5790,
          3040,
          11700,
          7987,
          304,
          4517,
          0,
          3058,
          13381,
          2865,
          152,
          380,
          9450,
          7803,
          5579,
          8979,
          4800,
          3060,
          4792,
          3894,
          1757,
          2880,
          2985,
          164,
          3232,
          2319,
          4338,
          2880,
          1714,
          90,
          59,
          4139,
          10530,
          6938,
          930,
          278,
          299,
          5320,
          2880,
          1,
          4260,
          6713,
          5160,
          1440,
          78,
          7523,
          2668,
          1,
          376,
          1324,
          6940,
          2684,
          54,
          100,
          720,
          2880,
          3189,
          2790,
          13679,
          2843,
          13488,
          1642,
          7709,
          7080,
          1440,
          1,
          1680,
          1579,
          652,
          108,
          300,
          1020,
          3570,
          6492,
          23700,
          10499,
          15180,
          0,
          120,
          1,
          1,
          1,
          1,
          1,
          1,
          60,
          113,
          204,
          31,
          57,
          13,
          2,
          11,
          283,
          0,
          1,
          871,
          1631,
          56,
          15,
          15,
          20,
          60,
          1,
          95,
          300,
          1,
          3186,
          575,
          2275,
          15,
          1,
          44,
          21,
          1,
          114,
          1,
          60,
          4920,
          null,
          4920,
          420,
          0,
          7,
          21,
          340,
          4200,
          805,
          5040,
          7430,
          5490,
          165,
          3630,
          11640,
          1590,
          3137,
          1440,
          7920,
          360,
          0,
          1440,
          1372,
          6480,
          2190,
          285,
          75,
          1843,
          1,
          11531,
          1420,
          0,
          930,
          11420,
          0,
          352,
          0,
          960,
          1733,
          3690,
          10619,
          634,
          11280,
          1440,
          180,
          1574,
          45,
          563,
          388,
          373,
          4510,
          290,
          1950,
          270,
          1355,
          1318,
          2490,
          1265,
          195,
          3120,
          3388,
          1025,
          990,
          240,
          1485,
          129,
          0,
          1528,
          1890,
          2551,
          985,
          405,
          1698,
          167,
          1460,
          182,
          4113,
          null,
          885,
          15,
          42,
          1050,
          1,
          132,
          4140,
          2880,
          null,
          11430,
          3599,
          0,
          2941,
          null,
          6090,
          1365,
          375,
          2520,
          10080,
          76,
          0,
          3720,
          333,
          0,
          353,
          11337,
          0,
          0,
          7020,
          11058,
          null,
          9360,
          3300,
          3339,
          2880,
          11580,
          9600,
          13201,
          9719,
          488,
          2415,
          180,
          4177,
          7440,
          3480,
          6600,
          300,
          1526,
          60,
          210,
          2,
          1350,
          73,
          1,
          200,
          0,
          null,
          4380,
          0,
          120,
          2680,
          840,
          989,
          4313,
          214,
          4,
          164,
          91,
          1050,
          838,
          60,
          1,
          1,
          9886,
          2425,
          390,
          14500,
          6660,
          159,
          54,
          30,
          8077,
          855,
          65,
          810,
          4150,
          4740,
          25,
          0,
          null,
          2070,
          870,
          12652,
          2880,
          120,
          1199,
          null,
          1470,
          4140,
          15420,
          50,
          0,
          1,
          1,
          0,
          0,
          0,
          457,
          1,
          1,
          0,
          30,
          1,
          1,
          65,
          1,
          0,
          0,
          0,
          1,
          null,
          1,
          0,
          1,
          1,
          110,
          39,
          1,
          1,
          1,
          1,
          1,
          1,
          507,
          213,
          4254,
          1,
          1,
          53,
          0,
          0,
          251,
          347,
          1637,
          21360,
          2161,
          2880,
          1044,
          8670,
          56,
          93,
          13,
          2089,
          20280,
          14639,
          2880,
          681,
          494,
          1,
          5355,
          0,
          3943,
          3300,
          191,
          0,
          73,
          4680,
          17310,
          10080,
          10726,
          1,
          5,
          2515,
          25920,
          2730,
          9480,
          5400,
          30,
          3584,
          3600,
          5850,
          4710,
          1,
          1732,
          0,
          23040,
          1800,
          6074,
          null,
          49,
          2299,
          5760,
          420,
          7320,
          2880,
          448,
          2520,
          18717,
          5513,
          21,
          2100,
          3120,
          8221,
          3240,
          2880,
          255,
          2355,
          161,
          50,
          258,
          13140,
          8640,
          18240,
          15492,
          8268,
          0,
          300,
          14400,
          7962,
          2400,
          11296,
          48,
          60480,
          28170,
          300,
          8054,
          2775,
          2775,
          2160,
          2100,
          2775,
          3180,
          2775,
          1440,
          430,
          2129,
          1755,
          null,
          692,
          732,
          7,
          510,
          420,
          13215,
          557,
          300,
          17812,
          20416,
          6240,
          467,
          3067,
          3060,
          355,
          430,
          300,
          227,
          52,
          null,
          2880,
          18804,
          1867,
          1690,
          295,
          17,
          240,
          17520,
          8189,
          182,
          5820,
          83,
          230,
          2009,
          720,
          155,
          4320,
          4320,
          480,
          1005,
          221,
          372,
          13430,
          4320,
          91,
          1419,
          3600,
          10080,
          5071,
          152,
          6840,
          221,
          24780,
          38,
          61,
          7560,
          90,
          10380,
          396,
          2040,
          12060,
          1080,
          1680,
          13920,
          14101,
          1099,
          2460,
          540,
          52,
          816,
          420,
          155,
          437,
          247,
          540,
          1135,
          437,
          180,
          171,
          656,
          84,
          202,
          255,
          1054,
          1,
          1254,
          1456,
          177,
          106,
          32,
          2464,
          55,
          144,
          70,
          64,
          8873,
          945,
          null,
          523,
          56,
          3,
          8472,
          155,
          33,
          749,
          159,
          null,
          270,
          2790,
          224,
          1470,
          334,
          2050,
          370,
          26,
          797,
          12,
          195,
          1,
          230,
          125,
          15,
          316,
          365,
          1560,
          4740,
          294,
          455,
          2878,
          336,
          295,
          480,
          25,
          null,
          223,
          2645,
          2016,
          7371,
          360,
          3408,
          3698,
          4890,
          1,
          871,
          2759,
          250,
          3301,
          249,
          164,
          435,
          420,
          854,
          5160,
          133,
          15180,
          2055,
          451,
          140,
          199,
          721,
          179,
          1524,
          78,
          268,
          39,
          1,
          14190,
          47,
          161,
          900,
          6070,
          697,
          234,
          14,
          5910,
          null,
          34390,
          40,
          166,
          182,
          829,
          15,
          64,
          13,
          245,
          1080,
          null,
          390,
          47,
          269,
          null,
          400,
          660,
          213,
          null,
          761,
          8100,
          180,
          124,
          4320,
          2820,
          3100,
          49427,
          989,
          125,
          44,
          26,
          245,
          null,
          98,
          1,
          0,
          135,
          50,
          1008,
          53,
          554,
          1260,
          2895,
          89,
          98,
          865,
          128,
          230,
          252,
          130,
          5,
          157,
          6914,
          11,
          13,
          2880,
          270,
          962,
          47,
          null,
          20,
          108,
          9855,
          75,
          17,
          21,
          1950,
          11867,
          141,
          959,
          1035,
          617,
          1230,
          572,
          324,
          1835,
          6780,
          900,
          null,
          37,
          72,
          1,
          251,
          620,
          89,
          909,
          236,
          326,
          300,
          751,
          122,
          214,
          193,
          8,
          5227,
          null,
          1414,
          448,
          4605,
          4080,
          null,
          1914,
          759,
          1,
          10274,
          3,
          2700,
          105,
          240,
          210,
          1,
          1201,
          30,
          2806,
          1226,
          300,
          206,
          270,
          2880,
          513,
          8160,
          3314,
          414,
          126,
          60,
          285,
          110,
          62,
          2363,
          424,
          180,
          0,
          448,
          2,
          624,
          2435,
          131,
          null,
          208,
          103,
          1355,
          1523,
          90,
          1205,
          385,
          144,
          235,
          241,
          6787,
          1337,
          1673,
          3366,
          2640,
          1826,
          570,
          1565,
          2691,
          1072,
          115,
          816,
          168,
          30,
          160,
          485,
          1508,
          1301,
          159,
          60,
          4,
          9600,
          106,
          0,
          0,
          1,
          32,
          61,
          314,
          30,
          0,
          92,
          390,
          161,
          60,
          76,
          1,
          1,
          160,
          20,
          1,
          1,
          70,
          50,
          15,
          810,
          1380,
          1800,
          1560,
          2054,
          1452,
          1865,
          1999,
          120,
          1950,
          360,
          1087,
          1200,
          4122,
          360,
          645,
          108,
          0,
          1,
          1440,
          4560,
          1,
          1,
          110,
          210,
          120,
          0,
          4260,
          76,
          210,
          3305,
          5880,
          145,
          60,
          2640,
          1042,
          110,
          11880,
          2245,
          984,
          7200,
          1381,
          148,
          13972,
          null,
          796,
          300,
          null,
          2612,
          3000,
          431,
          5310,
          1732,
          0,
          6685,
          3300,
          280,
          117,
          2895,
          480,
          31,
          1,
          0,
          0,
          103,
          4745,
          307,
          1656,
          3525,
          374,
          1068,
          1569,
          114,
          115,
          15,
          2891,
          1,
          1676,
          0,
          0,
          3604,
          195,
          1,
          0,
          2108,
          198,
          3667,
          1037,
          673,
          null,
          2652,
          300,
          881,
          618,
          1187,
          950,
          2535,
          27,
          108,
          73,
          200,
          5,
          75,
          0,
          77,
          660,
          0,
          92,
          30,
          33,
          1895,
          274,
          1,
          1534,
          1,
          60,
          108,
          2,
          175,
          null,
          2040,
          2710,
          284,
          105,
          4019,
          1,
          391,
          439,
          5,
          201,
          2140,
          103,
          null,
          187,
          1406,
          348,
          13650,
          90,
          913,
          null,
          14040,
          1367,
          174,
          543,
          237,
          1906,
          224,
          0,
          95,
          360,
          1548,
          870,
          0,
          null,
          220,
          720,
          null,
          59,
          181,
          null
         ],
         "yaxis": "y"
        }
       ],
       "layout": {
        "legend": {
         "tracegroupgap": 0
        },
        "template": {
         "data": {
          "bar": [
           {
            "error_x": {
             "color": "#2a3f5f"
            },
            "error_y": {
             "color": "#2a3f5f"
            },
            "marker": {
             "line": {
              "color": "#E5ECF6",
              "width": 0.5
             },
             "pattern": {
              "fillmode": "overlay",
              "size": 10,
              "solidity": 0.2
             }
            },
            "type": "bar"
           }
          ],
          "barpolar": [
           {
            "marker": {
             "line": {
              "color": "#E5ECF6",
              "width": 0.5
             },
             "pattern": {
              "fillmode": "overlay",
              "size": 10,
              "solidity": 0.2
             }
            },
            "type": "barpolar"
           }
          ],
          "carpet": [
           {
            "aaxis": {
             "endlinecolor": "#2a3f5f",
             "gridcolor": "white",
             "linecolor": "white",
             "minorgridcolor": "white",
             "startlinecolor": "#2a3f5f"
            },
            "baxis": {
             "endlinecolor": "#2a3f5f",
             "gridcolor": "white",
             "linecolor": "white",
             "minorgridcolor": "white",
             "startlinecolor": "#2a3f5f"
            },
            "type": "carpet"
           }
          ],
          "choropleth": [
           {
            "colorbar": {
             "outlinewidth": 0,
             "ticks": ""
            },
            "type": "choropleth"
           }
          ],
          "contour": [
           {
            "colorbar": {
             "outlinewidth": 0,
             "ticks": ""
            },
            "colorscale": [
             [
              0,
              "#0d0887"
             ],
             [
              0.1111111111111111,
              "#46039f"
             ],
             [
              0.2222222222222222,
              "#7201a8"
             ],
             [
              0.3333333333333333,
              "#9c179e"
             ],
             [
              0.4444444444444444,
              "#bd3786"
             ],
             [
              0.5555555555555556,
              "#d8576b"
             ],
             [
              0.6666666666666666,
              "#ed7953"
             ],
             [
              0.7777777777777778,
              "#fb9f3a"
             ],
             [
              0.8888888888888888,
              "#fdca26"
             ],
             [
              1,
              "#f0f921"
             ]
            ],
            "type": "contour"
           }
          ],
          "contourcarpet": [
           {
            "colorbar": {
             "outlinewidth": 0,
             "ticks": ""
            },
            "type": "contourcarpet"
           }
          ],
          "heatmap": [
           {
            "colorbar": {
             "outlinewidth": 0,
             "ticks": ""
            },
            "colorscale": [
             [
              0,
              "#0d0887"
             ],
             [
              0.1111111111111111,
              "#46039f"
             ],
             [
              0.2222222222222222,
              "#7201a8"
             ],
             [
              0.3333333333333333,
              "#9c179e"
             ],
             [
              0.4444444444444444,
              "#bd3786"
             ],
             [
              0.5555555555555556,
              "#d8576b"
             ],
             [
              0.6666666666666666,
              "#ed7953"
             ],
             [
              0.7777777777777778,
              "#fb9f3a"
             ],
             [
              0.8888888888888888,
              "#fdca26"
             ],
             [
              1,
              "#f0f921"
             ]
            ],
            "type": "heatmap"
           }
          ],
          "heatmapgl": [
           {
            "colorbar": {
             "outlinewidth": 0,
             "ticks": ""
            },
            "colorscale": [
             [
              0,
              "#0d0887"
             ],
             [
              0.1111111111111111,
              "#46039f"
             ],
             [
              0.2222222222222222,
              "#7201a8"
             ],
             [
              0.3333333333333333,
              "#9c179e"
             ],
             [
              0.4444444444444444,
              "#bd3786"
             ],
             [
              0.5555555555555556,
              "#d8576b"
             ],
             [
              0.6666666666666666,
              "#ed7953"
             ],
             [
              0.7777777777777778,
              "#fb9f3a"
             ],
             [
              0.8888888888888888,
              "#fdca26"
             ],
             [
              1,
              "#f0f921"
             ]
            ],
            "type": "heatmapgl"
           }
          ],
          "histogram": [
           {
            "marker": {
             "pattern": {
              "fillmode": "overlay",
              "size": 10,
              "solidity": 0.2
             }
            },
            "type": "histogram"
           }
          ],
          "histogram2d": [
           {
            "colorbar": {
             "outlinewidth": 0,
             "ticks": ""
            },
            "colorscale": [
             [
              0,
              "#0d0887"
             ],
             [
              0.1111111111111111,
              "#46039f"
             ],
             [
              0.2222222222222222,
              "#7201a8"
             ],
             [
              0.3333333333333333,
              "#9c179e"
             ],
             [
              0.4444444444444444,
              "#bd3786"
             ],
             [
              0.5555555555555556,
              "#d8576b"
             ],
             [
              0.6666666666666666,
              "#ed7953"
             ],
             [
              0.7777777777777778,
              "#fb9f3a"
             ],
             [
              0.8888888888888888,
              "#fdca26"
             ],
             [
              1,
              "#f0f921"
             ]
            ],
            "type": "histogram2d"
           }
          ],
          "histogram2dcontour": [
           {
            "colorbar": {
             "outlinewidth": 0,
             "ticks": ""
            },
            "colorscale": [
             [
              0,
              "#0d0887"
             ],
             [
              0.1111111111111111,
              "#46039f"
             ],
             [
              0.2222222222222222,
              "#7201a8"
             ],
             [
              0.3333333333333333,
              "#9c179e"
             ],
             [
              0.4444444444444444,
              "#bd3786"
             ],
             [
              0.5555555555555556,
              "#d8576b"
             ],
             [
              0.6666666666666666,
              "#ed7953"
             ],
             [
              0.7777777777777778,
              "#fb9f3a"
             ],
             [
              0.8888888888888888,
              "#fdca26"
             ],
             [
              1,
              "#f0f921"
             ]
            ],
            "type": "histogram2dcontour"
           }
          ],
          "mesh3d": [
           {
            "colorbar": {
             "outlinewidth": 0,
             "ticks": ""
            },
            "type": "mesh3d"
           }
          ],
          "parcoords": [
           {
            "line": {
             "colorbar": {
              "outlinewidth": 0,
              "ticks": ""
             }
            },
            "type": "parcoords"
           }
          ],
          "pie": [
           {
            "automargin": true,
            "type": "pie"
           }
          ],
          "scatter": [
           {
            "fillpattern": {
             "fillmode": "overlay",
             "size": 10,
             "solidity": 0.2
            },
            "type": "scatter"
           }
          ],
          "scatter3d": [
           {
            "line": {
             "colorbar": {
              "outlinewidth": 0,
              "ticks": ""
             }
            },
            "marker": {
             "colorbar": {
              "outlinewidth": 0,
              "ticks": ""
             }
            },
            "type": "scatter3d"
           }
          ],
          "scattercarpet": [
           {
            "marker": {
             "colorbar": {
              "outlinewidth": 0,
              "ticks": ""
             }
            },
            "type": "scattercarpet"
           }
          ],
          "scattergeo": [
           {
            "marker": {
             "colorbar": {
              "outlinewidth": 0,
              "ticks": ""
             }
            },
            "type": "scattergeo"
           }
          ],
          "scattergl": [
           {
            "marker": {
             "colorbar": {
              "outlinewidth": 0,
              "ticks": ""
             }
            },
            "type": "scattergl"
           }
          ],
          "scattermapbox": [
           {
            "marker": {
             "colorbar": {
              "outlinewidth": 0,
              "ticks": ""
             }
            },
            "type": "scattermapbox"
           }
          ],
          "scatterpolar": [
           {
            "marker": {
             "colorbar": {
              "outlinewidth": 0,
              "ticks": ""
             }
            },
            "type": "scatterpolar"
           }
          ],
          "scatterpolargl": [
           {
            "marker": {
             "colorbar": {
              "outlinewidth": 0,
              "ticks": ""
             }
            },
            "type": "scatterpolargl"
           }
          ],
          "scatterternary": [
           {
            "marker": {
             "colorbar": {
              "outlinewidth": 0,
              "ticks": ""
             }
            },
            "type": "scatterternary"
           }
          ],
          "surface": [
           {
            "colorbar": {
             "outlinewidth": 0,
             "ticks": ""
            },
            "colorscale": [
             [
              0,
              "#0d0887"
             ],
             [
              0.1111111111111111,
              "#46039f"
             ],
             [
              0.2222222222222222,
              "#7201a8"
             ],
             [
              0.3333333333333333,
              "#9c179e"
             ],
             [
              0.4444444444444444,
              "#bd3786"
             ],
             [
              0.5555555555555556,
              "#d8576b"
             ],
             [
              0.6666666666666666,
              "#ed7953"
             ],
             [
              0.7777777777777778,
              "#fb9f3a"
             ],
             [
              0.8888888888888888,
              "#fdca26"
             ],
             [
              1,
              "#f0f921"
             ]
            ],
            "type": "surface"
           }
          ],
          "table": [
           {
            "cells": {
             "fill": {
              "color": "#EBF0F8"
             },
             "line": {
              "color": "white"
             }
            },
            "header": {
             "fill": {
              "color": "#C8D4E3"
             },
             "line": {
              "color": "white"
             }
            },
            "type": "table"
           }
          ]
         },
         "layout": {
          "annotationdefaults": {
           "arrowcolor": "#2a3f5f",
           "arrowhead": 0,
           "arrowwidth": 1
          },
          "autotypenumbers": "strict",
          "coloraxis": {
           "colorbar": {
            "outlinewidth": 0,
            "ticks": ""
           }
          },
          "colorscale": {
           "diverging": [
            [
             0,
             "#8e0152"
            ],
            [
             0.1,
             "#c51b7d"
            ],
            [
             0.2,
             "#de77ae"
            ],
            [
             0.3,
             "#f1b6da"
            ],
            [
             0.4,
             "#fde0ef"
            ],
            [
             0.5,
             "#f7f7f7"
            ],
            [
             0.6,
             "#e6f5d0"
            ],
            [
             0.7,
             "#b8e186"
            ],
            [
             0.8,
             "#7fbc41"
            ],
            [
             0.9,
             "#4d9221"
            ],
            [
             1,
             "#276419"
            ]
           ],
           "sequential": [
            [
             0,
             "#0d0887"
            ],
            [
             0.1111111111111111,
             "#46039f"
            ],
            [
             0.2222222222222222,
             "#7201a8"
            ],
            [
             0.3333333333333333,
             "#9c179e"
            ],
            [
             0.4444444444444444,
             "#bd3786"
            ],
            [
             0.5555555555555556,
             "#d8576b"
            ],
            [
             0.6666666666666666,
             "#ed7953"
            ],
            [
             0.7777777777777778,
             "#fb9f3a"
            ],
            [
             0.8888888888888888,
             "#fdca26"
            ],
            [
             1,
             "#f0f921"
            ]
           ],
           "sequentialminus": [
            [
             0,
             "#0d0887"
            ],
            [
             0.1111111111111111,
             "#46039f"
            ],
            [
             0.2222222222222222,
             "#7201a8"
            ],
            [
             0.3333333333333333,
             "#9c179e"
            ],
            [
             0.4444444444444444,
             "#bd3786"
            ],
            [
             0.5555555555555556,
             "#d8576b"
            ],
            [
             0.6666666666666666,
             "#ed7953"
            ],
            [
             0.7777777777777778,
             "#fb9f3a"
            ],
            [
             0.8888888888888888,
             "#fdca26"
            ],
            [
             1,
             "#f0f921"
            ]
           ]
          },
          "colorway": [
           "#636efa",
           "#EF553B",
           "#00cc96",
           "#ab63fa",
           "#FFA15A",
           "#19d3f3",
           "#FF6692",
           "#B6E880",
           "#FF97FF",
           "#FECB52"
          ],
          "font": {
           "color": "#2a3f5f"
          },
          "geo": {
           "bgcolor": "white",
           "lakecolor": "white",
           "landcolor": "#E5ECF6",
           "showlakes": true,
           "showland": true,
           "subunitcolor": "white"
          },
          "hoverlabel": {
           "align": "left"
          },
          "hovermode": "closest",
          "mapbox": {
           "style": "light"
          },
          "paper_bgcolor": "white",
          "plot_bgcolor": "#E5ECF6",
          "polar": {
           "angularaxis": {
            "gridcolor": "white",
            "linecolor": "white",
            "ticks": ""
           },
           "bgcolor": "#E5ECF6",
           "radialaxis": {
            "gridcolor": "white",
            "linecolor": "white",
            "ticks": ""
           }
          },
          "scene": {
           "xaxis": {
            "backgroundcolor": "#E5ECF6",
            "gridcolor": "white",
            "gridwidth": 2,
            "linecolor": "white",
            "showbackground": true,
            "ticks": "",
            "zerolinecolor": "white"
           },
           "yaxis": {
            "backgroundcolor": "#E5ECF6",
            "gridcolor": "white",
            "gridwidth": 2,
            "linecolor": "white",
            "showbackground": true,
            "ticks": "",
            "zerolinecolor": "white"
           },
           "zaxis": {
            "backgroundcolor": "#E5ECF6",
            "gridcolor": "white",
            "gridwidth": 2,
            "linecolor": "white",
            "showbackground": true,
            "ticks": "",
            "zerolinecolor": "white"
           }
          },
          "shapedefaults": {
           "line": {
            "color": "#2a3f5f"
           }
          },
          "ternary": {
           "aaxis": {
            "gridcolor": "white",
            "linecolor": "white",
            "ticks": ""
           },
           "baxis": {
            "gridcolor": "white",
            "linecolor": "white",
            "ticks": ""
           },
           "bgcolor": "#E5ECF6",
           "caxis": {
            "gridcolor": "white",
            "linecolor": "white",
            "ticks": ""
           }
          },
          "title": {
           "x": 0.05
          },
          "xaxis": {
           "automargin": true,
           "gridcolor": "white",
           "linecolor": "white",
           "ticks": "",
           "title": {
            "standoff": 15
           },
           "zerolinecolor": "white",
           "zerolinewidth": 2
          },
          "yaxis": {
           "automargin": true,
           "gridcolor": "white",
           "linecolor": "white",
           "ticks": "",
           "title": {
            "standoff": 15
           },
           "zerolinecolor": "white",
           "zerolinewidth": 2
          }
         }
        },
        "title": {
         "text": "Distribution of Outage Duration between Different States"
        },
        "xaxis": {
         "anchor": "y",
         "domain": [
          0,
          1
         ],
         "title": {
          "text": "U.S. State"
         }
        },
        "yaxis": {
         "anchor": "x",
         "domain": [
          0,
          1
         ],
         "title": {
          "text": "Outage Duration"
         }
        }
       }
      }
     },
     "metadata": {},
     "output_type": "display_data"
    }
   ],
   "source": [
    "fig = px.scatter(df, x = 'U.S._STATE', y = 'OUTAGE.DURATION', title = 'Distribution of Outage Duration between Different States')\n",
    "fig.update_layout(xaxis_title='U.S. State', yaxis_title='Outage Duration')\n",
    "fig.show()\n",
    "export_plotly_fig(fig, 'bivariate1.html')"
   ]
  },
  {
   "cell_type": "markdown",
   "metadata": {},
   "source": [
    "The scatter plot shows that they may exist very strong correlation between the outage duration and the state. We could say that there may have positive relationship between the two variables."
   ]
  },
  {
   "cell_type": "markdown",
   "metadata": {},
   "source": [
    "To further explore it, we calculate the average outage duration minutes of different states and plot a line graph."
   ]
  },
  {
   "cell_type": "code",
   "execution_count": 118,
   "metadata": {},
   "outputs": [
    {
     "data": {
      "application/vnd.plotly.v1+json": {
       "config": {
        "plotlyServerURL": "https://plot.ly"
       },
       "data": [
        {
         "hovertemplate": "variable=OUTAGE.DURATION<br>U.S._STATE=%{x}<br>value=%{y}<extra></extra>",
         "legendgroup": "OUTAGE.DURATION",
         "line": {
          "color": "#636efa",
          "dash": "solid"
         },
         "marker": {
          "symbol": "circle"
         },
         "mode": "lines",
         "name": "OUTAGE.DURATION",
         "orientation": "v",
         "showlegend": true,
         "type": "scatter",
         "x": [
          "Wyoming",
          "Vermont",
          "Montana",
          "Mississippi",
          "South Dakota",
          "New Mexico",
          "Delaware",
          "Utah",
          "New Hampshire",
          "Idaho",
          "Nevada",
          "North Dakota",
          "Oregon",
          "Hawaii",
          "Colorado",
          "Massachusetts",
          "Tennessee",
          "Virginia",
          "Maine",
          "Alabama",
          "Connecticut",
          "Georgia",
          "North Carolina",
          "Washington",
          "Arkansas",
          "Illinois",
          "California",
          "Maryland",
          "Nebraska",
          "Texas",
          "Minnesota",
          "Ohio",
          "Oklahoma",
          "South Carolina",
          "Missouri",
          "Indiana",
          "Pennsylvania",
          "Louisiana",
          "Florida",
          "District of Columbia",
          "Kansas",
          "New Jersey",
          "Arizona",
          "Iowa",
          "Kentucky",
          "Michigan",
          "New York",
          "West Virginia",
          "Wisconsin",
          "Alaska"
         ],
         "xaxis": "x",
         "y": [
          33.333333333333336,
          35.44444444444444,
          54,
          84,
          120,
          140.375,
          144.925,
          250.21951219512195,
          279.64285714285717,
          414.625,
          553.2857142857143,
          720,
          766.68,
          845.4,
          901.0714285714286,
          944.1666666666666,
          1041.967741935484,
          1051.1944444444443,
          1097.0555555555557,
          1152.8,
          1278.8333333333333,
          1345.4117647058824,
          1457.2820512820513,
          1508.1460674157304,
          1514.36,
          1602.4545454545455,
          1666.3383838383838,
          2313.0862068965516,
          2455.75,
          2704.8196721311474,
          2727.9333333333334,
          2867.8571428571427,
          3019.090909090909,
          3135,
          3374.0666666666666,
          3521.6428571428573,
          3811.7017543859647,
          4084.5526315789475,
          4094.6666666666665,
          4303.6,
          4376.285714285715,
          4450.90625,
          4552.92,
          4793.75,
          5093.923076923077,
          5302.978947368421,
          6034.957142857143,
          6979,
          7904.105263157895,
          null
         ],
         "yaxis": "y"
        }
       ],
       "layout": {
        "legend": {
         "title": {
          "text": "variable"
         },
         "tracegroupgap": 0
        },
        "template": {
         "data": {
          "bar": [
           {
            "error_x": {
             "color": "#2a3f5f"
            },
            "error_y": {
             "color": "#2a3f5f"
            },
            "marker": {
             "line": {
              "color": "#E5ECF6",
              "width": 0.5
             },
             "pattern": {
              "fillmode": "overlay",
              "size": 10,
              "solidity": 0.2
             }
            },
            "type": "bar"
           }
          ],
          "barpolar": [
           {
            "marker": {
             "line": {
              "color": "#E5ECF6",
              "width": 0.5
             },
             "pattern": {
              "fillmode": "overlay",
              "size": 10,
              "solidity": 0.2
             }
            },
            "type": "barpolar"
           }
          ],
          "carpet": [
           {
            "aaxis": {
             "endlinecolor": "#2a3f5f",
             "gridcolor": "white",
             "linecolor": "white",
             "minorgridcolor": "white",
             "startlinecolor": "#2a3f5f"
            },
            "baxis": {
             "endlinecolor": "#2a3f5f",
             "gridcolor": "white",
             "linecolor": "white",
             "minorgridcolor": "white",
             "startlinecolor": "#2a3f5f"
            },
            "type": "carpet"
           }
          ],
          "choropleth": [
           {
            "colorbar": {
             "outlinewidth": 0,
             "ticks": ""
            },
            "type": "choropleth"
           }
          ],
          "contour": [
           {
            "colorbar": {
             "outlinewidth": 0,
             "ticks": ""
            },
            "colorscale": [
             [
              0,
              "#0d0887"
             ],
             [
              0.1111111111111111,
              "#46039f"
             ],
             [
              0.2222222222222222,
              "#7201a8"
             ],
             [
              0.3333333333333333,
              "#9c179e"
             ],
             [
              0.4444444444444444,
              "#bd3786"
             ],
             [
              0.5555555555555556,
              "#d8576b"
             ],
             [
              0.6666666666666666,
              "#ed7953"
             ],
             [
              0.7777777777777778,
              "#fb9f3a"
             ],
             [
              0.8888888888888888,
              "#fdca26"
             ],
             [
              1,
              "#f0f921"
             ]
            ],
            "type": "contour"
           }
          ],
          "contourcarpet": [
           {
            "colorbar": {
             "outlinewidth": 0,
             "ticks": ""
            },
            "type": "contourcarpet"
           }
          ],
          "heatmap": [
           {
            "colorbar": {
             "outlinewidth": 0,
             "ticks": ""
            },
            "colorscale": [
             [
              0,
              "#0d0887"
             ],
             [
              0.1111111111111111,
              "#46039f"
             ],
             [
              0.2222222222222222,
              "#7201a8"
             ],
             [
              0.3333333333333333,
              "#9c179e"
             ],
             [
              0.4444444444444444,
              "#bd3786"
             ],
             [
              0.5555555555555556,
              "#d8576b"
             ],
             [
              0.6666666666666666,
              "#ed7953"
             ],
             [
              0.7777777777777778,
              "#fb9f3a"
             ],
             [
              0.8888888888888888,
              "#fdca26"
             ],
             [
              1,
              "#f0f921"
             ]
            ],
            "type": "heatmap"
           }
          ],
          "heatmapgl": [
           {
            "colorbar": {
             "outlinewidth": 0,
             "ticks": ""
            },
            "colorscale": [
             [
              0,
              "#0d0887"
             ],
             [
              0.1111111111111111,
              "#46039f"
             ],
             [
              0.2222222222222222,
              "#7201a8"
             ],
             [
              0.3333333333333333,
              "#9c179e"
             ],
             [
              0.4444444444444444,
              "#bd3786"
             ],
             [
              0.5555555555555556,
              "#d8576b"
             ],
             [
              0.6666666666666666,
              "#ed7953"
             ],
             [
              0.7777777777777778,
              "#fb9f3a"
             ],
             [
              0.8888888888888888,
              "#fdca26"
             ],
             [
              1,
              "#f0f921"
             ]
            ],
            "type": "heatmapgl"
           }
          ],
          "histogram": [
           {
            "marker": {
             "pattern": {
              "fillmode": "overlay",
              "size": 10,
              "solidity": 0.2
             }
            },
            "type": "histogram"
           }
          ],
          "histogram2d": [
           {
            "colorbar": {
             "outlinewidth": 0,
             "ticks": ""
            },
            "colorscale": [
             [
              0,
              "#0d0887"
             ],
             [
              0.1111111111111111,
              "#46039f"
             ],
             [
              0.2222222222222222,
              "#7201a8"
             ],
             [
              0.3333333333333333,
              "#9c179e"
             ],
             [
              0.4444444444444444,
              "#bd3786"
             ],
             [
              0.5555555555555556,
              "#d8576b"
             ],
             [
              0.6666666666666666,
              "#ed7953"
             ],
             [
              0.7777777777777778,
              "#fb9f3a"
             ],
             [
              0.8888888888888888,
              "#fdca26"
             ],
             [
              1,
              "#f0f921"
             ]
            ],
            "type": "histogram2d"
           }
          ],
          "histogram2dcontour": [
           {
            "colorbar": {
             "outlinewidth": 0,
             "ticks": ""
            },
            "colorscale": [
             [
              0,
              "#0d0887"
             ],
             [
              0.1111111111111111,
              "#46039f"
             ],
             [
              0.2222222222222222,
              "#7201a8"
             ],
             [
              0.3333333333333333,
              "#9c179e"
             ],
             [
              0.4444444444444444,
              "#bd3786"
             ],
             [
              0.5555555555555556,
              "#d8576b"
             ],
             [
              0.6666666666666666,
              "#ed7953"
             ],
             [
              0.7777777777777778,
              "#fb9f3a"
             ],
             [
              0.8888888888888888,
              "#fdca26"
             ],
             [
              1,
              "#f0f921"
             ]
            ],
            "type": "histogram2dcontour"
           }
          ],
          "mesh3d": [
           {
            "colorbar": {
             "outlinewidth": 0,
             "ticks": ""
            },
            "type": "mesh3d"
           }
          ],
          "parcoords": [
           {
            "line": {
             "colorbar": {
              "outlinewidth": 0,
              "ticks": ""
             }
            },
            "type": "parcoords"
           }
          ],
          "pie": [
           {
            "automargin": true,
            "type": "pie"
           }
          ],
          "scatter": [
           {
            "fillpattern": {
             "fillmode": "overlay",
             "size": 10,
             "solidity": 0.2
            },
            "type": "scatter"
           }
          ],
          "scatter3d": [
           {
            "line": {
             "colorbar": {
              "outlinewidth": 0,
              "ticks": ""
             }
            },
            "marker": {
             "colorbar": {
              "outlinewidth": 0,
              "ticks": ""
             }
            },
            "type": "scatter3d"
           }
          ],
          "scattercarpet": [
           {
            "marker": {
             "colorbar": {
              "outlinewidth": 0,
              "ticks": ""
             }
            },
            "type": "scattercarpet"
           }
          ],
          "scattergeo": [
           {
            "marker": {
             "colorbar": {
              "outlinewidth": 0,
              "ticks": ""
             }
            },
            "type": "scattergeo"
           }
          ],
          "scattergl": [
           {
            "marker": {
             "colorbar": {
              "outlinewidth": 0,
              "ticks": ""
             }
            },
            "type": "scattergl"
           }
          ],
          "scattermapbox": [
           {
            "marker": {
             "colorbar": {
              "outlinewidth": 0,
              "ticks": ""
             }
            },
            "type": "scattermapbox"
           }
          ],
          "scatterpolar": [
           {
            "marker": {
             "colorbar": {
              "outlinewidth": 0,
              "ticks": ""
             }
            },
            "type": "scatterpolar"
           }
          ],
          "scatterpolargl": [
           {
            "marker": {
             "colorbar": {
              "outlinewidth": 0,
              "ticks": ""
             }
            },
            "type": "scatterpolargl"
           }
          ],
          "scatterternary": [
           {
            "marker": {
             "colorbar": {
              "outlinewidth": 0,
              "ticks": ""
             }
            },
            "type": "scatterternary"
           }
          ],
          "surface": [
           {
            "colorbar": {
             "outlinewidth": 0,
             "ticks": ""
            },
            "colorscale": [
             [
              0,
              "#0d0887"
             ],
             [
              0.1111111111111111,
              "#46039f"
             ],
             [
              0.2222222222222222,
              "#7201a8"
             ],
             [
              0.3333333333333333,
              "#9c179e"
             ],
             [
              0.4444444444444444,
              "#bd3786"
             ],
             [
              0.5555555555555556,
              "#d8576b"
             ],
             [
              0.6666666666666666,
              "#ed7953"
             ],
             [
              0.7777777777777778,
              "#fb9f3a"
             ],
             [
              0.8888888888888888,
              "#fdca26"
             ],
             [
              1,
              "#f0f921"
             ]
            ],
            "type": "surface"
           }
          ],
          "table": [
           {
            "cells": {
             "fill": {
              "color": "#EBF0F8"
             },
             "line": {
              "color": "white"
             }
            },
            "header": {
             "fill": {
              "color": "#C8D4E3"
             },
             "line": {
              "color": "white"
             }
            },
            "type": "table"
           }
          ]
         },
         "layout": {
          "annotationdefaults": {
           "arrowcolor": "#2a3f5f",
           "arrowhead": 0,
           "arrowwidth": 1
          },
          "autotypenumbers": "strict",
          "coloraxis": {
           "colorbar": {
            "outlinewidth": 0,
            "ticks": ""
           }
          },
          "colorscale": {
           "diverging": [
            [
             0,
             "#8e0152"
            ],
            [
             0.1,
             "#c51b7d"
            ],
            [
             0.2,
             "#de77ae"
            ],
            [
             0.3,
             "#f1b6da"
            ],
            [
             0.4,
             "#fde0ef"
            ],
            [
             0.5,
             "#f7f7f7"
            ],
            [
             0.6,
             "#e6f5d0"
            ],
            [
             0.7,
             "#b8e186"
            ],
            [
             0.8,
             "#7fbc41"
            ],
            [
             0.9,
             "#4d9221"
            ],
            [
             1,
             "#276419"
            ]
           ],
           "sequential": [
            [
             0,
             "#0d0887"
            ],
            [
             0.1111111111111111,
             "#46039f"
            ],
            [
             0.2222222222222222,
             "#7201a8"
            ],
            [
             0.3333333333333333,
             "#9c179e"
            ],
            [
             0.4444444444444444,
             "#bd3786"
            ],
            [
             0.5555555555555556,
             "#d8576b"
            ],
            [
             0.6666666666666666,
             "#ed7953"
            ],
            [
             0.7777777777777778,
             "#fb9f3a"
            ],
            [
             0.8888888888888888,
             "#fdca26"
            ],
            [
             1,
             "#f0f921"
            ]
           ],
           "sequentialminus": [
            [
             0,
             "#0d0887"
            ],
            [
             0.1111111111111111,
             "#46039f"
            ],
            [
             0.2222222222222222,
             "#7201a8"
            ],
            [
             0.3333333333333333,
             "#9c179e"
            ],
            [
             0.4444444444444444,
             "#bd3786"
            ],
            [
             0.5555555555555556,
             "#d8576b"
            ],
            [
             0.6666666666666666,
             "#ed7953"
            ],
            [
             0.7777777777777778,
             "#fb9f3a"
            ],
            [
             0.8888888888888888,
             "#fdca26"
            ],
            [
             1,
             "#f0f921"
            ]
           ]
          },
          "colorway": [
           "#636efa",
           "#EF553B",
           "#00cc96",
           "#ab63fa",
           "#FFA15A",
           "#19d3f3",
           "#FF6692",
           "#B6E880",
           "#FF97FF",
           "#FECB52"
          ],
          "font": {
           "color": "#2a3f5f"
          },
          "geo": {
           "bgcolor": "white",
           "lakecolor": "white",
           "landcolor": "#E5ECF6",
           "showlakes": true,
           "showland": true,
           "subunitcolor": "white"
          },
          "hoverlabel": {
           "align": "left"
          },
          "hovermode": "closest",
          "mapbox": {
           "style": "light"
          },
          "paper_bgcolor": "white",
          "plot_bgcolor": "#E5ECF6",
          "polar": {
           "angularaxis": {
            "gridcolor": "white",
            "linecolor": "white",
            "ticks": ""
           },
           "bgcolor": "#E5ECF6",
           "radialaxis": {
            "gridcolor": "white",
            "linecolor": "white",
            "ticks": ""
           }
          },
          "scene": {
           "xaxis": {
            "backgroundcolor": "#E5ECF6",
            "gridcolor": "white",
            "gridwidth": 2,
            "linecolor": "white",
            "showbackground": true,
            "ticks": "",
            "zerolinecolor": "white"
           },
           "yaxis": {
            "backgroundcolor": "#E5ECF6",
            "gridcolor": "white",
            "gridwidth": 2,
            "linecolor": "white",
            "showbackground": true,
            "ticks": "",
            "zerolinecolor": "white"
           },
           "zaxis": {
            "backgroundcolor": "#E5ECF6",
            "gridcolor": "white",
            "gridwidth": 2,
            "linecolor": "white",
            "showbackground": true,
            "ticks": "",
            "zerolinecolor": "white"
           }
          },
          "shapedefaults": {
           "line": {
            "color": "#2a3f5f"
           }
          },
          "ternary": {
           "aaxis": {
            "gridcolor": "white",
            "linecolor": "white",
            "ticks": ""
           },
           "baxis": {
            "gridcolor": "white",
            "linecolor": "white",
            "ticks": ""
           },
           "bgcolor": "#E5ECF6",
           "caxis": {
            "gridcolor": "white",
            "linecolor": "white",
            "ticks": ""
           }
          },
          "title": {
           "x": 0.05
          },
          "xaxis": {
           "automargin": true,
           "gridcolor": "white",
           "linecolor": "white",
           "ticks": "",
           "title": {
            "standoff": 15
           },
           "zerolinecolor": "white",
           "zerolinewidth": 2
          },
          "yaxis": {
           "automargin": true,
           "gridcolor": "white",
           "linecolor": "white",
           "ticks": "",
           "title": {
            "standoff": 15
           },
           "zerolinecolor": "white",
           "zerolinewidth": 2
          }
         }
        },
        "title": {
         "text": "Average Outage Duration of Different States"
        },
        "xaxis": {
         "anchor": "y",
         "domain": [
          0,
          1
         ],
         "title": {
          "text": "U.S. State"
         }
        },
        "yaxis": {
         "anchor": "x",
         "domain": [
          0,
          1
         ],
         "title": {
          "text": "value"
         }
        }
       }
      }
     },
     "metadata": {},
     "output_type": "display_data"
    }
   ],
   "source": [
    "# calculate the average duration for each states\n",
    "avg_df = df.groupby('U.S._STATE')['OUTAGE.DURATION'].mean()\n",
    "# sorted in ascending order\n",
    "avg_df = avg_df.sort_values()\n",
    "fig = px.line(avg_df, title = 'Average Outage Duration of Different States')\n",
    "fig.update_layout(xaxis_title='U.S. State')\n",
    "fig.show()\n",
    "export_plotly_fig(fig, 'bivariate2.html')"
   ]
  },
  {
   "cell_type": "markdown",
   "metadata": {},
   "source": [
    "It seems that the average outage duration is different between different states. To check it further, we calculate the median, and the quartile below."
   ]
  },
  {
   "cell_type": "code",
   "execution_count": 119,
   "metadata": {},
   "outputs": [
    {
     "data": {
      "application/vnd.plotly.v1+json": {
       "config": {
        "plotlyServerURL": "https://plot.ly"
       },
       "data": [
        {
         "hovertemplate": "variable=mean<br>U.S._STATE=%{x}<br>value=%{y}<extra></extra>",
         "legendgroup": "mean",
         "line": {
          "color": "#636efa",
          "dash": "solid"
         },
         "marker": {
          "symbol": "circle"
         },
         "mode": "lines",
         "name": "mean",
         "orientation": "v",
         "showlegend": true,
         "type": "scatter",
         "x": [
          "Wyoming",
          "Vermont",
          "Montana",
          "Mississippi",
          "South Dakota",
          "New Mexico",
          "Delaware",
          "Utah",
          "New Hampshire",
          "Idaho",
          "Nevada",
          "North Dakota",
          "Oregon",
          "Hawaii",
          "Colorado",
          "Massachusetts",
          "Tennessee",
          "Virginia",
          "Maine",
          "Alabama",
          "Connecticut",
          "Georgia",
          "North Carolina",
          "Washington",
          "Arkansas",
          "Illinois",
          "California",
          "Maryland",
          "Nebraska",
          "Texas",
          "Minnesota",
          "Ohio",
          "Oklahoma",
          "South Carolina",
          "Missouri",
          "Indiana",
          "Pennsylvania",
          "Louisiana",
          "Florida",
          "District of Columbia",
          "Kansas",
          "New Jersey",
          "Arizona",
          "Iowa",
          "Kentucky",
          "Michigan",
          "New York",
          "West Virginia",
          "Wisconsin",
          "Alaska"
         ],
         "xaxis": "x",
         "y": [
          33.333333333333336,
          35.44444444444444,
          54,
          84,
          120,
          140.375,
          144.925,
          250.21951219512195,
          279.64285714285717,
          414.625,
          553.2857142857143,
          720,
          766.68,
          845.4,
          901.0714285714286,
          944.1666666666666,
          1041.967741935484,
          1051.1944444444443,
          1097.0555555555557,
          1152.8,
          1278.8333333333333,
          1345.4117647058824,
          1457.2820512820513,
          1508.1460674157304,
          1514.36,
          1602.4545454545455,
          1666.3383838383838,
          2313.0862068965516,
          2455.75,
          2704.8196721311474,
          2727.9333333333334,
          2867.8571428571427,
          3019.090909090909,
          3135,
          3374.0666666666666,
          3521.6428571428573,
          3811.7017543859647,
          4084.5526315789475,
          4094.6666666666665,
          4303.6,
          4376.285714285715,
          4450.90625,
          4552.92,
          4793.75,
          5093.923076923077,
          5302.978947368421,
          6034.957142857143,
          6979,
          7904.105263157895,
          null
         ],
         "yaxis": "y"
        },
        {
         "hovertemplate": "variable=median<br>U.S._STATE=%{x}<br>value=%{y}<extra></extra>",
         "legendgroup": "median",
         "line": {
          "color": "#EF553B",
          "dash": "solid"
         },
         "marker": {
          "symbol": "circle"
         },
         "mode": "lines",
         "name": "median",
         "orientation": "v",
         "showlegend": true,
         "type": "scatter",
         "x": [
          "Wyoming",
          "Vermont",
          "Montana",
          "Mississippi",
          "South Dakota",
          "New Mexico",
          "Delaware",
          "Utah",
          "New Hampshire",
          "Idaho",
          "Nevada",
          "North Dakota",
          "Oregon",
          "Hawaii",
          "Colorado",
          "Massachusetts",
          "Tennessee",
          "Virginia",
          "Maine",
          "Alabama",
          "Connecticut",
          "Georgia",
          "North Carolina",
          "Washington",
          "Arkansas",
          "Illinois",
          "California",
          "Maryland",
          "Nebraska",
          "Texas",
          "Minnesota",
          "Ohio",
          "Oklahoma",
          "South Carolina",
          "Missouri",
          "Indiana",
          "Pennsylvania",
          "Louisiana",
          "Florida",
          "District of Columbia",
          "Kansas",
          "New Jersey",
          "Arizona",
          "Iowa",
          "Kentucky",
          "Michigan",
          "New York",
          "West Virginia",
          "Wisconsin",
          "Alaska"
         ],
         "xaxis": "x",
         "y": [
          16.5,
          15,
          56,
          17.5,
          120,
          84,
          1,
          20,
          74,
          222,
          108,
          720,
          164,
          543,
          242.5,
          211,
          310,
          527.5,
          777,
          803,
          132.5,
          1380,
          1025,
          314,
          285,
          1200,
          294.5,
          1555.5,
          109.5,
          965,
          2550,
          1430,
          1556.5,
          2947.5,
          1470,
          1285,
          2880,
          1811,
          1099,
          1640,
          913,
          3120.5,
          189,
          1899,
          1579,
          4110,
          2880,
          5288,
          538,
          null
         ],
         "yaxis": "y"
        },
        {
         "hovertemplate": "variable=Q1<br>U.S._STATE=%{x}<br>value=%{y}<extra></extra>",
         "legendgroup": "Q1",
         "line": {
          "color": "#00cc96",
          "dash": "solid"
         },
         "marker": {
          "symbol": "circle"
         },
         "mode": "lines",
         "name": "Q1",
         "orientation": "v",
         "showlegend": true,
         "type": "scatter",
         "x": [
          "Wyoming",
          "Vermont",
          "Montana",
          "Mississippi",
          "South Dakota",
          "New Mexico",
          "Delaware",
          "Utah",
          "New Hampshire",
          "Idaho",
          "Nevada",
          "North Dakota",
          "Oregon",
          "Hawaii",
          "Colorado",
          "Massachusetts",
          "Tennessee",
          "Virginia",
          "Maine",
          "Alabama",
          "Connecticut",
          "Georgia",
          "North Carolina",
          "Washington",
          "Arkansas",
          "Illinois",
          "California",
          "Maryland",
          "Nebraska",
          "Texas",
          "Minnesota",
          "Ohio",
          "Oklahoma",
          "South Carolina",
          "Missouri",
          "Indiana",
          "Pennsylvania",
          "Louisiana",
          "Florida",
          "District of Columbia",
          "Kansas",
          "New Jersey",
          "Arizona",
          "Iowa",
          "Kentucky",
          "Michigan",
          "New York",
          "West Virginia",
          "Wisconsin",
          "Alaska"
         ],
         "xaxis": "x",
         "y": [
          0.25,
          1,
          34.5,
          4,
          89.5,
          52.5,
          0,
          1,
          27.75,
          71.25,
          30.5,
          720,
          4,
          237,
          103.5,
          19,
          39,
          166,
          195.75,
          390,
          15.75,
          645,
          255,
          1,
          110,
          471.75,
          111.5,
          1,
          46,
          259,
          738.5,
          298.75,
          332.75,
          441,
          465,
          72.75,
          930,
          430,
          221,
          216.75,
          267.5,
          282.75,
          50,
          869.75,
          652,
          2497.5,
          268.5,
          750.25,
          97,
          null
         ],
         "yaxis": "y"
        },
        {
         "hovertemplate": "variable=Q3<br>U.S._STATE=%{x}<br>value=%{y}<extra></extra>",
         "legendgroup": "Q3",
         "line": {
          "color": "#ab63fa",
          "dash": "solid"
         },
         "marker": {
          "symbol": "circle"
         },
         "mode": "lines",
         "name": "Q3",
         "orientation": "v",
         "showlegend": true,
         "type": "scatter",
         "x": [
          "Wyoming",
          "Vermont",
          "Montana",
          "Mississippi",
          "South Dakota",
          "New Mexico",
          "Delaware",
          "Utah",
          "New Hampshire",
          "Idaho",
          "Nevada",
          "North Dakota",
          "Oregon",
          "Hawaii",
          "Colorado",
          "Massachusetts",
          "Tennessee",
          "Virginia",
          "Maine",
          "Alabama",
          "Connecticut",
          "Georgia",
          "North Carolina",
          "Washington",
          "Arkansas",
          "Illinois",
          "California",
          "Maryland",
          "Nebraska",
          "Texas",
          "Minnesota",
          "Ohio",
          "Oklahoma",
          "South Carolina",
          "Missouri",
          "Indiana",
          "Pennsylvania",
          "Louisiana",
          "Florida",
          "District of Columbia",
          "Kansas",
          "New Jersey",
          "Arizona",
          "Iowa",
          "Kentucky",
          "Michigan",
          "New York",
          "West Virginia",
          "Wisconsin",
          "Alaska"
         ],
         "xaxis": "x",
         "y": [
          53.75,
          50,
          74.5,
          97.5,
          150.5,
          199.25,
          8.25,
          113,
          104,
          487.5,
          904,
          720,
          989,
          1367,
          1639.75,
          1443.75,
          1230,
          1511.75,
          1553.75,
          1230,
          2340,
          1865,
          1636,
          1620,
          2363,
          2032.5,
          1049.25,
          3718.5,
          2519.25,
          2220,
          3340.5,
          4740,
          3225,
          4782.75,
          4145,
          3992,
          5320,
          3015,
          5820,
          7722.75,
          7528,
          9420,
          554,
          4327.5,
          6492,
          5745,
          8156.25,
          11516.75,
          2302.5,
          null
         ],
         "yaxis": "y"
        }
       ],
       "layout": {
        "legend": {
         "title": {
          "text": "variable"
         },
         "tracegroupgap": 0
        },
        "template": {
         "data": {
          "bar": [
           {
            "error_x": {
             "color": "#2a3f5f"
            },
            "error_y": {
             "color": "#2a3f5f"
            },
            "marker": {
             "line": {
              "color": "#E5ECF6",
              "width": 0.5
             },
             "pattern": {
              "fillmode": "overlay",
              "size": 10,
              "solidity": 0.2
             }
            },
            "type": "bar"
           }
          ],
          "barpolar": [
           {
            "marker": {
             "line": {
              "color": "#E5ECF6",
              "width": 0.5
             },
             "pattern": {
              "fillmode": "overlay",
              "size": 10,
              "solidity": 0.2
             }
            },
            "type": "barpolar"
           }
          ],
          "carpet": [
           {
            "aaxis": {
             "endlinecolor": "#2a3f5f",
             "gridcolor": "white",
             "linecolor": "white",
             "minorgridcolor": "white",
             "startlinecolor": "#2a3f5f"
            },
            "baxis": {
             "endlinecolor": "#2a3f5f",
             "gridcolor": "white",
             "linecolor": "white",
             "minorgridcolor": "white",
             "startlinecolor": "#2a3f5f"
            },
            "type": "carpet"
           }
          ],
          "choropleth": [
           {
            "colorbar": {
             "outlinewidth": 0,
             "ticks": ""
            },
            "type": "choropleth"
           }
          ],
          "contour": [
           {
            "colorbar": {
             "outlinewidth": 0,
             "ticks": ""
            },
            "colorscale": [
             [
              0,
              "#0d0887"
             ],
             [
              0.1111111111111111,
              "#46039f"
             ],
             [
              0.2222222222222222,
              "#7201a8"
             ],
             [
              0.3333333333333333,
              "#9c179e"
             ],
             [
              0.4444444444444444,
              "#bd3786"
             ],
             [
              0.5555555555555556,
              "#d8576b"
             ],
             [
              0.6666666666666666,
              "#ed7953"
             ],
             [
              0.7777777777777778,
              "#fb9f3a"
             ],
             [
              0.8888888888888888,
              "#fdca26"
             ],
             [
              1,
              "#f0f921"
             ]
            ],
            "type": "contour"
           }
          ],
          "contourcarpet": [
           {
            "colorbar": {
             "outlinewidth": 0,
             "ticks": ""
            },
            "type": "contourcarpet"
           }
          ],
          "heatmap": [
           {
            "colorbar": {
             "outlinewidth": 0,
             "ticks": ""
            },
            "colorscale": [
             [
              0,
              "#0d0887"
             ],
             [
              0.1111111111111111,
              "#46039f"
             ],
             [
              0.2222222222222222,
              "#7201a8"
             ],
             [
              0.3333333333333333,
              "#9c179e"
             ],
             [
              0.4444444444444444,
              "#bd3786"
             ],
             [
              0.5555555555555556,
              "#d8576b"
             ],
             [
              0.6666666666666666,
              "#ed7953"
             ],
             [
              0.7777777777777778,
              "#fb9f3a"
             ],
             [
              0.8888888888888888,
              "#fdca26"
             ],
             [
              1,
              "#f0f921"
             ]
            ],
            "type": "heatmap"
           }
          ],
          "heatmapgl": [
           {
            "colorbar": {
             "outlinewidth": 0,
             "ticks": ""
            },
            "colorscale": [
             [
              0,
              "#0d0887"
             ],
             [
              0.1111111111111111,
              "#46039f"
             ],
             [
              0.2222222222222222,
              "#7201a8"
             ],
             [
              0.3333333333333333,
              "#9c179e"
             ],
             [
              0.4444444444444444,
              "#bd3786"
             ],
             [
              0.5555555555555556,
              "#d8576b"
             ],
             [
              0.6666666666666666,
              "#ed7953"
             ],
             [
              0.7777777777777778,
              "#fb9f3a"
             ],
             [
              0.8888888888888888,
              "#fdca26"
             ],
             [
              1,
              "#f0f921"
             ]
            ],
            "type": "heatmapgl"
           }
          ],
          "histogram": [
           {
            "marker": {
             "pattern": {
              "fillmode": "overlay",
              "size": 10,
              "solidity": 0.2
             }
            },
            "type": "histogram"
           }
          ],
          "histogram2d": [
           {
            "colorbar": {
             "outlinewidth": 0,
             "ticks": ""
            },
            "colorscale": [
             [
              0,
              "#0d0887"
             ],
             [
              0.1111111111111111,
              "#46039f"
             ],
             [
              0.2222222222222222,
              "#7201a8"
             ],
             [
              0.3333333333333333,
              "#9c179e"
             ],
             [
              0.4444444444444444,
              "#bd3786"
             ],
             [
              0.5555555555555556,
              "#d8576b"
             ],
             [
              0.6666666666666666,
              "#ed7953"
             ],
             [
              0.7777777777777778,
              "#fb9f3a"
             ],
             [
              0.8888888888888888,
              "#fdca26"
             ],
             [
              1,
              "#f0f921"
             ]
            ],
            "type": "histogram2d"
           }
          ],
          "histogram2dcontour": [
           {
            "colorbar": {
             "outlinewidth": 0,
             "ticks": ""
            },
            "colorscale": [
             [
              0,
              "#0d0887"
             ],
             [
              0.1111111111111111,
              "#46039f"
             ],
             [
              0.2222222222222222,
              "#7201a8"
             ],
             [
              0.3333333333333333,
              "#9c179e"
             ],
             [
              0.4444444444444444,
              "#bd3786"
             ],
             [
              0.5555555555555556,
              "#d8576b"
             ],
             [
              0.6666666666666666,
              "#ed7953"
             ],
             [
              0.7777777777777778,
              "#fb9f3a"
             ],
             [
              0.8888888888888888,
              "#fdca26"
             ],
             [
              1,
              "#f0f921"
             ]
            ],
            "type": "histogram2dcontour"
           }
          ],
          "mesh3d": [
           {
            "colorbar": {
             "outlinewidth": 0,
             "ticks": ""
            },
            "type": "mesh3d"
           }
          ],
          "parcoords": [
           {
            "line": {
             "colorbar": {
              "outlinewidth": 0,
              "ticks": ""
             }
            },
            "type": "parcoords"
           }
          ],
          "pie": [
           {
            "automargin": true,
            "type": "pie"
           }
          ],
          "scatter": [
           {
            "fillpattern": {
             "fillmode": "overlay",
             "size": 10,
             "solidity": 0.2
            },
            "type": "scatter"
           }
          ],
          "scatter3d": [
           {
            "line": {
             "colorbar": {
              "outlinewidth": 0,
              "ticks": ""
             }
            },
            "marker": {
             "colorbar": {
              "outlinewidth": 0,
              "ticks": ""
             }
            },
            "type": "scatter3d"
           }
          ],
          "scattercarpet": [
           {
            "marker": {
             "colorbar": {
              "outlinewidth": 0,
              "ticks": ""
             }
            },
            "type": "scattercarpet"
           }
          ],
          "scattergeo": [
           {
            "marker": {
             "colorbar": {
              "outlinewidth": 0,
              "ticks": ""
             }
            },
            "type": "scattergeo"
           }
          ],
          "scattergl": [
           {
            "marker": {
             "colorbar": {
              "outlinewidth": 0,
              "ticks": ""
             }
            },
            "type": "scattergl"
           }
          ],
          "scattermapbox": [
           {
            "marker": {
             "colorbar": {
              "outlinewidth": 0,
              "ticks": ""
             }
            },
            "type": "scattermapbox"
           }
          ],
          "scatterpolar": [
           {
            "marker": {
             "colorbar": {
              "outlinewidth": 0,
              "ticks": ""
             }
            },
            "type": "scatterpolar"
           }
          ],
          "scatterpolargl": [
           {
            "marker": {
             "colorbar": {
              "outlinewidth": 0,
              "ticks": ""
             }
            },
            "type": "scatterpolargl"
           }
          ],
          "scatterternary": [
           {
            "marker": {
             "colorbar": {
              "outlinewidth": 0,
              "ticks": ""
             }
            },
            "type": "scatterternary"
           }
          ],
          "surface": [
           {
            "colorbar": {
             "outlinewidth": 0,
             "ticks": ""
            },
            "colorscale": [
             [
              0,
              "#0d0887"
             ],
             [
              0.1111111111111111,
              "#46039f"
             ],
             [
              0.2222222222222222,
              "#7201a8"
             ],
             [
              0.3333333333333333,
              "#9c179e"
             ],
             [
              0.4444444444444444,
              "#bd3786"
             ],
             [
              0.5555555555555556,
              "#d8576b"
             ],
             [
              0.6666666666666666,
              "#ed7953"
             ],
             [
              0.7777777777777778,
              "#fb9f3a"
             ],
             [
              0.8888888888888888,
              "#fdca26"
             ],
             [
              1,
              "#f0f921"
             ]
            ],
            "type": "surface"
           }
          ],
          "table": [
           {
            "cells": {
             "fill": {
              "color": "#EBF0F8"
             },
             "line": {
              "color": "white"
             }
            },
            "header": {
             "fill": {
              "color": "#C8D4E3"
             },
             "line": {
              "color": "white"
             }
            },
            "type": "table"
           }
          ]
         },
         "layout": {
          "annotationdefaults": {
           "arrowcolor": "#2a3f5f",
           "arrowhead": 0,
           "arrowwidth": 1
          },
          "autotypenumbers": "strict",
          "coloraxis": {
           "colorbar": {
            "outlinewidth": 0,
            "ticks": ""
           }
          },
          "colorscale": {
           "diverging": [
            [
             0,
             "#8e0152"
            ],
            [
             0.1,
             "#c51b7d"
            ],
            [
             0.2,
             "#de77ae"
            ],
            [
             0.3,
             "#f1b6da"
            ],
            [
             0.4,
             "#fde0ef"
            ],
            [
             0.5,
             "#f7f7f7"
            ],
            [
             0.6,
             "#e6f5d0"
            ],
            [
             0.7,
             "#b8e186"
            ],
            [
             0.8,
             "#7fbc41"
            ],
            [
             0.9,
             "#4d9221"
            ],
            [
             1,
             "#276419"
            ]
           ],
           "sequential": [
            [
             0,
             "#0d0887"
            ],
            [
             0.1111111111111111,
             "#46039f"
            ],
            [
             0.2222222222222222,
             "#7201a8"
            ],
            [
             0.3333333333333333,
             "#9c179e"
            ],
            [
             0.4444444444444444,
             "#bd3786"
            ],
            [
             0.5555555555555556,
             "#d8576b"
            ],
            [
             0.6666666666666666,
             "#ed7953"
            ],
            [
             0.7777777777777778,
             "#fb9f3a"
            ],
            [
             0.8888888888888888,
             "#fdca26"
            ],
            [
             1,
             "#f0f921"
            ]
           ],
           "sequentialminus": [
            [
             0,
             "#0d0887"
            ],
            [
             0.1111111111111111,
             "#46039f"
            ],
            [
             0.2222222222222222,
             "#7201a8"
            ],
            [
             0.3333333333333333,
             "#9c179e"
            ],
            [
             0.4444444444444444,
             "#bd3786"
            ],
            [
             0.5555555555555556,
             "#d8576b"
            ],
            [
             0.6666666666666666,
             "#ed7953"
            ],
            [
             0.7777777777777778,
             "#fb9f3a"
            ],
            [
             0.8888888888888888,
             "#fdca26"
            ],
            [
             1,
             "#f0f921"
            ]
           ]
          },
          "colorway": [
           "#636efa",
           "#EF553B",
           "#00cc96",
           "#ab63fa",
           "#FFA15A",
           "#19d3f3",
           "#FF6692",
           "#B6E880",
           "#FF97FF",
           "#FECB52"
          ],
          "font": {
           "color": "#2a3f5f"
          },
          "geo": {
           "bgcolor": "white",
           "lakecolor": "white",
           "landcolor": "#E5ECF6",
           "showlakes": true,
           "showland": true,
           "subunitcolor": "white"
          },
          "hoverlabel": {
           "align": "left"
          },
          "hovermode": "closest",
          "mapbox": {
           "style": "light"
          },
          "paper_bgcolor": "white",
          "plot_bgcolor": "#E5ECF6",
          "polar": {
           "angularaxis": {
            "gridcolor": "white",
            "linecolor": "white",
            "ticks": ""
           },
           "bgcolor": "#E5ECF6",
           "radialaxis": {
            "gridcolor": "white",
            "linecolor": "white",
            "ticks": ""
           }
          },
          "scene": {
           "xaxis": {
            "backgroundcolor": "#E5ECF6",
            "gridcolor": "white",
            "gridwidth": 2,
            "linecolor": "white",
            "showbackground": true,
            "ticks": "",
            "zerolinecolor": "white"
           },
           "yaxis": {
            "backgroundcolor": "#E5ECF6",
            "gridcolor": "white",
            "gridwidth": 2,
            "linecolor": "white",
            "showbackground": true,
            "ticks": "",
            "zerolinecolor": "white"
           },
           "zaxis": {
            "backgroundcolor": "#E5ECF6",
            "gridcolor": "white",
            "gridwidth": 2,
            "linecolor": "white",
            "showbackground": true,
            "ticks": "",
            "zerolinecolor": "white"
           }
          },
          "shapedefaults": {
           "line": {
            "color": "#2a3f5f"
           }
          },
          "ternary": {
           "aaxis": {
            "gridcolor": "white",
            "linecolor": "white",
            "ticks": ""
           },
           "baxis": {
            "gridcolor": "white",
            "linecolor": "white",
            "ticks": ""
           },
           "bgcolor": "#E5ECF6",
           "caxis": {
            "gridcolor": "white",
            "linecolor": "white",
            "ticks": ""
           }
          },
          "title": {
           "x": 0.05
          },
          "xaxis": {
           "automargin": true,
           "gridcolor": "white",
           "linecolor": "white",
           "ticks": "",
           "title": {
            "standoff": 15
           },
           "zerolinecolor": "white",
           "zerolinewidth": 2
          },
          "yaxis": {
           "automargin": true,
           "gridcolor": "white",
           "linecolor": "white",
           "ticks": "",
           "title": {
            "standoff": 15
           },
           "zerolinecolor": "white",
           "zerolinewidth": 2
          }
         }
        },
        "title": {
         "text": "Statistics Outage Duration of Different States"
        },
        "xaxis": {
         "anchor": "y",
         "domain": [
          0,
          1
         ],
         "title": {
          "text": "U.S. State"
         }
        },
        "yaxis": {
         "anchor": "x",
         "domain": [
          0,
          1
         ],
         "title": {
          "text": "value"
         }
        }
       }
      }
     },
     "metadata": {},
     "output_type": "display_data"
    }
   ],
   "source": [
    "df2 = df.copy()\n",
    "df2.dropna(subset=['OUTAGE.DURATION'])\n",
    "df2['OUTAGE.DURATION'] = df2['OUTAGE.DURATION'].astype(float)\n",
    "stat_df = df2.groupby('U.S._STATE')['OUTAGE.DURATION'].agg(['mean', 'median'])\n",
    "stat_df = stat_df.sort_values(by='mean')\n",
    "q1 = df2.groupby('U.S._STATE')['OUTAGE.DURATION'].quantile(0.25)\n",
    "q3 = df2.groupby('U.S._STATE')['OUTAGE.DURATION'].quantile(0.75)\n",
    "stat_df = pd.merge(stat_df, q1, on='U.S._STATE')\n",
    "stat_df = pd.merge(stat_df, q3, on='U.S._STATE')\n",
    "stat_df.columns = ['mean', 'median', 'Q1', 'Q3']\n",
    "fig = px.line(stat_df, title = 'Statistics Outage Duration of Different States')\n",
    "fig.update_layout(xaxis_title='U.S. State')\n",
    "fig.show()\n",
    "export_plotly_fig(fig, 'bivariate3.html')"
   ]
  },
  {
   "cell_type": "markdown",
   "metadata": {},
   "source": [
    "It seems that the durtion time differs a lot between different states. So we can roughly conclude that it may have strong correlation."
   ]
  },
  {
   "cell_type": "markdown",
   "metadata": {},
   "source": [
    "#### Interesting Aggregates"
   ]
  },
  {
   "cell_type": "markdown",
   "metadata": {},
   "source": [
    "In the above mentioned bivariate analysis, we get a grouped table `stat_df`. Here, we show it again in table form. Below shows some rows of a grouped table aggreated by states and calculated the mean, median, and quartile of the outage duration."
   ]
  },
  {
   "cell_type": "code",
   "execution_count": 127,
   "metadata": {},
   "outputs": [
    {
     "name": "stdout",
     "output_type": "stream",
     "text": [
      "                      mean  median     Q1       Q3\n",
      "U.S._STATE                                        \n",
      "Mississippi      84.000000    17.5    4.0    97.50\n",
      "Hawaii          845.400000   543.0  237.0  1367.00\n",
      "Massachusetts   944.166667   211.0   19.0  1443.75\n",
      "Tennessee      1041.967742   310.0   39.0  1230.00\n",
      "New York       6034.957143  2880.0  268.5  8156.25\n"
     ]
    }
   ],
   "source": [
    "print(stat_df.loc[['Mississippi', 'Hawaii', 'Massachusetts', 'Tennessee', 'New York']])\n",
    "with open('table2.txt','w') as f:\n",
    "    f.write(stat_df.loc[['Mississippi', 'Hawaii', 'Massachusetts', 'Tennessee', 'New York']].to_markdown())"
   ]
  },
  {
   "cell_type": "markdown",
   "metadata": {},
   "source": [
    "Furthermore, we want to explore the relationship between different climate catogory(i.e. `CLIMATE.CATEGORY` column) and the outage duration of different states. So we plot an pivot table below (Also, only show some rows)."
   ]
  },
  {
   "cell_type": "code",
   "execution_count": 131,
   "metadata": {},
   "outputs": [
    {
     "name": "stdout",
     "output_type": "stream",
     "text": [
      "CLIMATE.CATEGORY          cold       normal         warm\n",
      "U.S._STATE                                              \n",
      "Wisconsin         12545.555556  3962.555556  1605.000000\n",
      "Hawaii             1367.000000   205.500000  1224.500000\n",
      "Massachusetts       160.333333  1159.384615   721.000000\n",
      "Tennessee          1476.583333  1015.750000   341.857143\n",
      "New York           8914.576923  3673.562500  6092.833333\n"
     ]
    }
   ],
   "source": [
    "pivot_table = df2.pivot_table(index='U.S._STATE', columns='CLIMATE.CATEGORY', values='OUTAGE.DURATION', aggfunc='mean')\n",
    "rows = pivot_table.loc[['Wisconsin', 'Hawaii', 'Massachusetts', 'Tennessee', 'New York']]\n",
    "print(rows)\n",
    "with open('table3.txt','w') as f:\n",
    "    f.write(rows.to_markdown())"
   ]
  },
  {
   "cell_type": "markdown",
   "metadata": {},
   "source": [
    "To observe it more intuitively, we plot the table below."
   ]
  },
  {
   "cell_type": "code",
   "execution_count": 132,
   "metadata": {},
   "outputs": [
    {
     "data": {
      "application/vnd.plotly.v1+json": {
       "config": {
        "plotlyServerURL": "https://plot.ly"
       },
       "data": [
        {
         "alignmentgroup": "True",
         "hovertemplate": "CLIMATE.CATEGORY=cold<br>U.S._STATE=%{x}<br>value=%{y}<extra></extra>",
         "legendgroup": "cold",
         "marker": {
          "color": "#636efa",
          "pattern": {
           "shape": ""
          }
         },
         "name": "cold",
         "offsetgroup": "cold",
         "orientation": "v",
         "showlegend": true,
         "textposition": "auto",
         "type": "bar",
         "x": [
          "Alabama",
          "Arizona",
          "Arkansas",
          "California",
          "Colorado",
          "Connecticut",
          "Delaware",
          "District of Columbia",
          "Florida",
          "Georgia",
          "Hawaii",
          "Idaho",
          "Illinois",
          "Indiana",
          "Iowa",
          "Kansas",
          "Kentucky",
          "Louisiana",
          "Maine",
          "Maryland",
          "Massachusetts",
          "Michigan",
          "Minnesota",
          "Mississippi",
          "Missouri",
          "Montana",
          "Nebraska",
          "Nevada",
          "New Hampshire",
          "New Jersey",
          "New Mexico",
          "New York",
          "North Carolina",
          "North Dakota",
          "Ohio",
          "Oklahoma",
          "Oregon",
          "Pennsylvania",
          "South Carolina",
          "South Dakota",
          "Tennessee",
          "Texas",
          "Utah",
          "Vermont",
          "Virginia",
          "Washington",
          "West Virginia",
          "Wisconsin",
          "Wyoming"
         ],
         "xaxis": "x",
         "y": [
          2247,
          74,
          2538.1428571428573,
          1787.672131147541,
          860.6666666666666,
          316,
          50.90909090909091,
          2076.8,
          494.3,
          2256,
          1367,
          180,
          1986.6666666666667,
          4162.5,
          8670,
          13650,
          6652.75,
          1910.125,
          1337,
          3117.9375,
          160.33333333333334,
          4808.16,
          2610,
          null,
          1995.8333333333333,
          null,
          109.5,
          1001.5,
          107.5,
          2867.4117647058824,
          0,
          8914.576923076924,
          2731,
          720,
          1304.6153846153845,
          2801,
          323.44444444444446,
          3560.16,
          3739.4,
          null,
          1476.5833333333333,
          1406.2727272727273,
          694.5384615384615,
          1,
          739.9230769230769,
          1051.0833333333333,
          null,
          12545.555555555555,
          30.5
         ],
         "yaxis": "y"
        },
        {
         "alignmentgroup": "True",
         "hovertemplate": "CLIMATE.CATEGORY=normal<br>U.S._STATE=%{x}<br>value=%{y}<extra></extra>",
         "legendgroup": "normal",
         "marker": {
          "color": "#EF553B",
          "pattern": {
           "shape": ""
          }
         },
         "name": "normal",
         "offsetgroup": "normal",
         "orientation": "v",
         "showlegend": true,
         "textposition": "auto",
         "type": "bar",
         "x": [
          "Alabama",
          "Arizona",
          "Arkansas",
          "California",
          "Colorado",
          "Connecticut",
          "Delaware",
          "District of Columbia",
          "Florida",
          "Georgia",
          "Hawaii",
          "Idaho",
          "Illinois",
          "Indiana",
          "Iowa",
          "Kansas",
          "Kentucky",
          "Louisiana",
          "Maine",
          "Maryland",
          "Massachusetts",
          "Michigan",
          "Minnesota",
          "Mississippi",
          "Missouri",
          "Montana",
          "Nebraska",
          "Nevada",
          "New Hampshire",
          "New Jersey",
          "New Mexico",
          "New York",
          "North Carolina",
          "North Dakota",
          "Ohio",
          "Oklahoma",
          "Oregon",
          "Pennsylvania",
          "South Carolina",
          "South Dakota",
          "Tennessee",
          "Texas",
          "Utah",
          "Vermont",
          "Virginia",
          "Washington",
          "West Virginia",
          "Wisconsin",
          "Wyoming"
         ],
         "xaxis": "x",
         "y": [
          233.5,
          789.5384615384615,
          556.2,
          1273.5,
          151.28571428571428,
          1193.8,
          27.115384615384617,
          5691.5,
          6109,
          1152.7142857142858,
          205.5,
          591.4,
          1501.7142857142858,
          2732.56,
          4240,
          913,
          3222.75,
          5855.545454545455,
          1056.2222222222222,
          2051.6923076923076,
          1159.3846153846155,
          5994.696428571428,
          3119.4,
          110.33333333333333,
          5338.857142857143,
          54,
          4,
          603,
          348.5,
          6832,
          160.42857142857142,
          3673.5625,
          803.5714285714286,
          null,
          3311.3636363636365,
          3484.3,
          868.1428571428571,
          4334.428571428572,
          2947.5,
          null,
          1015.75,
          4066.0689655172414,
          34.35294117647059,
          39.75,
          1123.7,
          727.3783783783783,
          9305,
          3962.5555555555557,
          11
         ],
         "yaxis": "y"
        },
        {
         "alignmentgroup": "True",
         "hovertemplate": "CLIMATE.CATEGORY=warm<br>U.S._STATE=%{x}<br>value=%{y}<extra></extra>",
         "legendgroup": "warm",
         "marker": {
          "color": "#00cc96",
          "pattern": {
           "shape": ""
          }
         },
         "name": "warm",
         "offsetgroup": "warm",
         "orientation": "v",
         "showlegend": true,
         "textposition": "auto",
         "type": "bar",
         "x": [
          "Alabama",
          "Arizona",
          "Arkansas",
          "California",
          "Colorado",
          "Connecticut",
          "Delaware",
          "District of Columbia",
          "Florida",
          "Georgia",
          "Hawaii",
          "Idaho",
          "Illinois",
          "Indiana",
          "Iowa",
          "Kansas",
          "Kentucky",
          "Louisiana",
          "Maine",
          "Maryland",
          "Massachusetts",
          "Michigan",
          "Minnesota",
          "Mississippi",
          "Missouri",
          "Montana",
          "Nebraska",
          "Nevada",
          "New Hampshire",
          "New Jersey",
          "New Mexico",
          "New York",
          "North Carolina",
          "North Dakota",
          "Ohio",
          "Oklahoma",
          "Oregon",
          "Pennsylvania",
          "South Carolina",
          "South Dakota",
          "Tennessee",
          "Texas",
          "Utah",
          "Vermont",
          "Virginia",
          "Washington",
          "West Virginia",
          "Wisconsin",
          "Wyoming"
         ],
         "xaxis": "x",
         "y": [
          803,
          14741.285714285714,
          3916.3333333333335,
          2117.4545454545455,
          2243.5,
          4592.5,
          1510.6666666666667,
          9886,
          3952.875,
          963.1666666666666,
          1224.5,
          0,
          1155,
          7106.666666666667,
          null,
          3214.2,
          108,
          1388.75,
          441,
          1418.6666666666667,
          721,
          3419.714285714286,
          947.5,
          5,
          632,
          null,
          9600,
          30.5,
          null,
          5575.285714285715,
          null,
          6092.833333333333,
          1416.857142857143,
          null,
          4377.142857142857,
          2394,
          1131,
          3385.4545454545455,
          488,
          120,
          341.85714285714283,
          1540.2903225806451,
          58.72727272727273,
          null,
          1916.6666666666667,
          4342.0625,
          1,
          1605,
          106
         ],
         "yaxis": "y"
        }
       ],
       "layout": {
        "barmode": "relative",
        "legend": {
         "title": {
          "text": "CLIMATE.CATEGORY"
         },
         "tracegroupgap": 0
        },
        "template": {
         "data": {
          "bar": [
           {
            "error_x": {
             "color": "#2a3f5f"
            },
            "error_y": {
             "color": "#2a3f5f"
            },
            "marker": {
             "line": {
              "color": "#E5ECF6",
              "width": 0.5
             },
             "pattern": {
              "fillmode": "overlay",
              "size": 10,
              "solidity": 0.2
             }
            },
            "type": "bar"
           }
          ],
          "barpolar": [
           {
            "marker": {
             "line": {
              "color": "#E5ECF6",
              "width": 0.5
             },
             "pattern": {
              "fillmode": "overlay",
              "size": 10,
              "solidity": 0.2
             }
            },
            "type": "barpolar"
           }
          ],
          "carpet": [
           {
            "aaxis": {
             "endlinecolor": "#2a3f5f",
             "gridcolor": "white",
             "linecolor": "white",
             "minorgridcolor": "white",
             "startlinecolor": "#2a3f5f"
            },
            "baxis": {
             "endlinecolor": "#2a3f5f",
             "gridcolor": "white",
             "linecolor": "white",
             "minorgridcolor": "white",
             "startlinecolor": "#2a3f5f"
            },
            "type": "carpet"
           }
          ],
          "choropleth": [
           {
            "colorbar": {
             "outlinewidth": 0,
             "ticks": ""
            },
            "type": "choropleth"
           }
          ],
          "contour": [
           {
            "colorbar": {
             "outlinewidth": 0,
             "ticks": ""
            },
            "colorscale": [
             [
              0,
              "#0d0887"
             ],
             [
              0.1111111111111111,
              "#46039f"
             ],
             [
              0.2222222222222222,
              "#7201a8"
             ],
             [
              0.3333333333333333,
              "#9c179e"
             ],
             [
              0.4444444444444444,
              "#bd3786"
             ],
             [
              0.5555555555555556,
              "#d8576b"
             ],
             [
              0.6666666666666666,
              "#ed7953"
             ],
             [
              0.7777777777777778,
              "#fb9f3a"
             ],
             [
              0.8888888888888888,
              "#fdca26"
             ],
             [
              1,
              "#f0f921"
             ]
            ],
            "type": "contour"
           }
          ],
          "contourcarpet": [
           {
            "colorbar": {
             "outlinewidth": 0,
             "ticks": ""
            },
            "type": "contourcarpet"
           }
          ],
          "heatmap": [
           {
            "colorbar": {
             "outlinewidth": 0,
             "ticks": ""
            },
            "colorscale": [
             [
              0,
              "#0d0887"
             ],
             [
              0.1111111111111111,
              "#46039f"
             ],
             [
              0.2222222222222222,
              "#7201a8"
             ],
             [
              0.3333333333333333,
              "#9c179e"
             ],
             [
              0.4444444444444444,
              "#bd3786"
             ],
             [
              0.5555555555555556,
              "#d8576b"
             ],
             [
              0.6666666666666666,
              "#ed7953"
             ],
             [
              0.7777777777777778,
              "#fb9f3a"
             ],
             [
              0.8888888888888888,
              "#fdca26"
             ],
             [
              1,
              "#f0f921"
             ]
            ],
            "type": "heatmap"
           }
          ],
          "heatmapgl": [
           {
            "colorbar": {
             "outlinewidth": 0,
             "ticks": ""
            },
            "colorscale": [
             [
              0,
              "#0d0887"
             ],
             [
              0.1111111111111111,
              "#46039f"
             ],
             [
              0.2222222222222222,
              "#7201a8"
             ],
             [
              0.3333333333333333,
              "#9c179e"
             ],
             [
              0.4444444444444444,
              "#bd3786"
             ],
             [
              0.5555555555555556,
              "#d8576b"
             ],
             [
              0.6666666666666666,
              "#ed7953"
             ],
             [
              0.7777777777777778,
              "#fb9f3a"
             ],
             [
              0.8888888888888888,
              "#fdca26"
             ],
             [
              1,
              "#f0f921"
             ]
            ],
            "type": "heatmapgl"
           }
          ],
          "histogram": [
           {
            "marker": {
             "pattern": {
              "fillmode": "overlay",
              "size": 10,
              "solidity": 0.2
             }
            },
            "type": "histogram"
           }
          ],
          "histogram2d": [
           {
            "colorbar": {
             "outlinewidth": 0,
             "ticks": ""
            },
            "colorscale": [
             [
              0,
              "#0d0887"
             ],
             [
              0.1111111111111111,
              "#46039f"
             ],
             [
              0.2222222222222222,
              "#7201a8"
             ],
             [
              0.3333333333333333,
              "#9c179e"
             ],
             [
              0.4444444444444444,
              "#bd3786"
             ],
             [
              0.5555555555555556,
              "#d8576b"
             ],
             [
              0.6666666666666666,
              "#ed7953"
             ],
             [
              0.7777777777777778,
              "#fb9f3a"
             ],
             [
              0.8888888888888888,
              "#fdca26"
             ],
             [
              1,
              "#f0f921"
             ]
            ],
            "type": "histogram2d"
           }
          ],
          "histogram2dcontour": [
           {
            "colorbar": {
             "outlinewidth": 0,
             "ticks": ""
            },
            "colorscale": [
             [
              0,
              "#0d0887"
             ],
             [
              0.1111111111111111,
              "#46039f"
             ],
             [
              0.2222222222222222,
              "#7201a8"
             ],
             [
              0.3333333333333333,
              "#9c179e"
             ],
             [
              0.4444444444444444,
              "#bd3786"
             ],
             [
              0.5555555555555556,
              "#d8576b"
             ],
             [
              0.6666666666666666,
              "#ed7953"
             ],
             [
              0.7777777777777778,
              "#fb9f3a"
             ],
             [
              0.8888888888888888,
              "#fdca26"
             ],
             [
              1,
              "#f0f921"
             ]
            ],
            "type": "histogram2dcontour"
           }
          ],
          "mesh3d": [
           {
            "colorbar": {
             "outlinewidth": 0,
             "ticks": ""
            },
            "type": "mesh3d"
           }
          ],
          "parcoords": [
           {
            "line": {
             "colorbar": {
              "outlinewidth": 0,
              "ticks": ""
             }
            },
            "type": "parcoords"
           }
          ],
          "pie": [
           {
            "automargin": true,
            "type": "pie"
           }
          ],
          "scatter": [
           {
            "fillpattern": {
             "fillmode": "overlay",
             "size": 10,
             "solidity": 0.2
            },
            "type": "scatter"
           }
          ],
          "scatter3d": [
           {
            "line": {
             "colorbar": {
              "outlinewidth": 0,
              "ticks": ""
             }
            },
            "marker": {
             "colorbar": {
              "outlinewidth": 0,
              "ticks": ""
             }
            },
            "type": "scatter3d"
           }
          ],
          "scattercarpet": [
           {
            "marker": {
             "colorbar": {
              "outlinewidth": 0,
              "ticks": ""
             }
            },
            "type": "scattercarpet"
           }
          ],
          "scattergeo": [
           {
            "marker": {
             "colorbar": {
              "outlinewidth": 0,
              "ticks": ""
             }
            },
            "type": "scattergeo"
           }
          ],
          "scattergl": [
           {
            "marker": {
             "colorbar": {
              "outlinewidth": 0,
              "ticks": ""
             }
            },
            "type": "scattergl"
           }
          ],
          "scattermapbox": [
           {
            "marker": {
             "colorbar": {
              "outlinewidth": 0,
              "ticks": ""
             }
            },
            "type": "scattermapbox"
           }
          ],
          "scatterpolar": [
           {
            "marker": {
             "colorbar": {
              "outlinewidth": 0,
              "ticks": ""
             }
            },
            "type": "scatterpolar"
           }
          ],
          "scatterpolargl": [
           {
            "marker": {
             "colorbar": {
              "outlinewidth": 0,
              "ticks": ""
             }
            },
            "type": "scatterpolargl"
           }
          ],
          "scatterternary": [
           {
            "marker": {
             "colorbar": {
              "outlinewidth": 0,
              "ticks": ""
             }
            },
            "type": "scatterternary"
           }
          ],
          "surface": [
           {
            "colorbar": {
             "outlinewidth": 0,
             "ticks": ""
            },
            "colorscale": [
             [
              0,
              "#0d0887"
             ],
             [
              0.1111111111111111,
              "#46039f"
             ],
             [
              0.2222222222222222,
              "#7201a8"
             ],
             [
              0.3333333333333333,
              "#9c179e"
             ],
             [
              0.4444444444444444,
              "#bd3786"
             ],
             [
              0.5555555555555556,
              "#d8576b"
             ],
             [
              0.6666666666666666,
              "#ed7953"
             ],
             [
              0.7777777777777778,
              "#fb9f3a"
             ],
             [
              0.8888888888888888,
              "#fdca26"
             ],
             [
              1,
              "#f0f921"
             ]
            ],
            "type": "surface"
           }
          ],
          "table": [
           {
            "cells": {
             "fill": {
              "color": "#EBF0F8"
             },
             "line": {
              "color": "white"
             }
            },
            "header": {
             "fill": {
              "color": "#C8D4E3"
             },
             "line": {
              "color": "white"
             }
            },
            "type": "table"
           }
          ]
         },
         "layout": {
          "annotationdefaults": {
           "arrowcolor": "#2a3f5f",
           "arrowhead": 0,
           "arrowwidth": 1
          },
          "autotypenumbers": "strict",
          "coloraxis": {
           "colorbar": {
            "outlinewidth": 0,
            "ticks": ""
           }
          },
          "colorscale": {
           "diverging": [
            [
             0,
             "#8e0152"
            ],
            [
             0.1,
             "#c51b7d"
            ],
            [
             0.2,
             "#de77ae"
            ],
            [
             0.3,
             "#f1b6da"
            ],
            [
             0.4,
             "#fde0ef"
            ],
            [
             0.5,
             "#f7f7f7"
            ],
            [
             0.6,
             "#e6f5d0"
            ],
            [
             0.7,
             "#b8e186"
            ],
            [
             0.8,
             "#7fbc41"
            ],
            [
             0.9,
             "#4d9221"
            ],
            [
             1,
             "#276419"
            ]
           ],
           "sequential": [
            [
             0,
             "#0d0887"
            ],
            [
             0.1111111111111111,
             "#46039f"
            ],
            [
             0.2222222222222222,
             "#7201a8"
            ],
            [
             0.3333333333333333,
             "#9c179e"
            ],
            [
             0.4444444444444444,
             "#bd3786"
            ],
            [
             0.5555555555555556,
             "#d8576b"
            ],
            [
             0.6666666666666666,
             "#ed7953"
            ],
            [
             0.7777777777777778,
             "#fb9f3a"
            ],
            [
             0.8888888888888888,
             "#fdca26"
            ],
            [
             1,
             "#f0f921"
            ]
           ],
           "sequentialminus": [
            [
             0,
             "#0d0887"
            ],
            [
             0.1111111111111111,
             "#46039f"
            ],
            [
             0.2222222222222222,
             "#7201a8"
            ],
            [
             0.3333333333333333,
             "#9c179e"
            ],
            [
             0.4444444444444444,
             "#bd3786"
            ],
            [
             0.5555555555555556,
             "#d8576b"
            ],
            [
             0.6666666666666666,
             "#ed7953"
            ],
            [
             0.7777777777777778,
             "#fb9f3a"
            ],
            [
             0.8888888888888888,
             "#fdca26"
            ],
            [
             1,
             "#f0f921"
            ]
           ]
          },
          "colorway": [
           "#636efa",
           "#EF553B",
           "#00cc96",
           "#ab63fa",
           "#FFA15A",
           "#19d3f3",
           "#FF6692",
           "#B6E880",
           "#FF97FF",
           "#FECB52"
          ],
          "font": {
           "color": "#2a3f5f"
          },
          "geo": {
           "bgcolor": "white",
           "lakecolor": "white",
           "landcolor": "#E5ECF6",
           "showlakes": true,
           "showland": true,
           "subunitcolor": "white"
          },
          "hoverlabel": {
           "align": "left"
          },
          "hovermode": "closest",
          "mapbox": {
           "style": "light"
          },
          "paper_bgcolor": "white",
          "plot_bgcolor": "#E5ECF6",
          "polar": {
           "angularaxis": {
            "gridcolor": "white",
            "linecolor": "white",
            "ticks": ""
           },
           "bgcolor": "#E5ECF6",
           "radialaxis": {
            "gridcolor": "white",
            "linecolor": "white",
            "ticks": ""
           }
          },
          "scene": {
           "xaxis": {
            "backgroundcolor": "#E5ECF6",
            "gridcolor": "white",
            "gridwidth": 2,
            "linecolor": "white",
            "showbackground": true,
            "ticks": "",
            "zerolinecolor": "white"
           },
           "yaxis": {
            "backgroundcolor": "#E5ECF6",
            "gridcolor": "white",
            "gridwidth": 2,
            "linecolor": "white",
            "showbackground": true,
            "ticks": "",
            "zerolinecolor": "white"
           },
           "zaxis": {
            "backgroundcolor": "#E5ECF6",
            "gridcolor": "white",
            "gridwidth": 2,
            "linecolor": "white",
            "showbackground": true,
            "ticks": "",
            "zerolinecolor": "white"
           }
          },
          "shapedefaults": {
           "line": {
            "color": "#2a3f5f"
           }
          },
          "ternary": {
           "aaxis": {
            "gridcolor": "white",
            "linecolor": "white",
            "ticks": ""
           },
           "baxis": {
            "gridcolor": "white",
            "linecolor": "white",
            "ticks": ""
           },
           "bgcolor": "#E5ECF6",
           "caxis": {
            "gridcolor": "white",
            "linecolor": "white",
            "ticks": ""
           }
          },
          "title": {
           "x": 0.05
          },
          "xaxis": {
           "automargin": true,
           "gridcolor": "white",
           "linecolor": "white",
           "ticks": "",
           "title": {
            "standoff": 15
           },
           "zerolinecolor": "white",
           "zerolinewidth": 2
          },
          "yaxis": {
           "automargin": true,
           "gridcolor": "white",
           "linecolor": "white",
           "ticks": "",
           "title": {
            "standoff": 15
           },
           "zerolinecolor": "white",
           "zerolinewidth": 2
          }
         }
        },
        "title": {
         "text": "Average Outage Duration of Different Climate Category of Different States"
        },
        "xaxis": {
         "anchor": "y",
         "domain": [
          0,
          1
         ],
         "title": {
          "text": "U.S. State"
         }
        },
        "yaxis": {
         "anchor": "x",
         "domain": [
          0,
          1
         ],
         "title": {
          "text": "Average Outage Duration"
         }
        }
       }
      }
     },
     "metadata": {},
     "output_type": "display_data"
    }
   ],
   "source": [
    "fig = px.bar(pivot_table, title = 'Average Outage Duration of Different Climate Category of Different States')\n",
    "fig.update_layout(xaxis_title='U.S. State', yaxis_title='Average Outage Duration')\n",
    "fig.show()\n",
    "export_plotly_fig(fig, filename='bar_climate_category.html')"
   ]
  },
  {
   "cell_type": "markdown",
   "metadata": {},
   "source": [
    "It seems that the outage duration differ a lot in different climate. The warmer, the longer it lasts. But it's not necessary that it's true, so we'd check that in the hypothesis test below."
   ]
  },
  {
   "cell_type": "markdown",
   "metadata": {},
   "source": [
    "### Assessment of Missingness"
   ]
  },
  {
   "cell_type": "markdown",
   "metadata": {},
   "source": [
    "#### NMAR Analysis"
   ]
  },
  {
   "cell_type": "markdown",
   "metadata": {},
   "source": [
    "One of the column in our dataset with missing values that is possibly NMAR is the `OUTAGE.DURATION` column. The reason for its missingness is most likely due to some reasons that why the `OUTAGE.START.DATE` or more frequently, the `OUTAGE.RESTORATION.DATE` is missing. Any of these columns miss will lead to the `OUTAGE.DURATION` miss. However, there's no clear reasoning why they miss recorded in the dataset. If we want additional data to record the reason why the start and restoration datetime of a outage is missing, then we could make it MAR."
   ]
  },
  {
   "cell_type": "markdown",
   "metadata": {},
   "source": [
    "#### Missingness Dependency"
   ]
  },
  {
   "cell_type": "markdown",
   "metadata": {},
   "source": [
    "\n",
    "We constructed permutation tests to determine the relationship. We've decided to test the dependency between the missingness of `OUTAGE.DURATION` with two columns: `OUTAGE.RESTORATION.DATE` and `CAUSE.CATEGORY.DETAIL`."
   ]
  },
  {
   "cell_type": "markdown",
   "metadata": {},
   "source": [
    "##### OUTAGE.DURATION and OUTAGE.RESTORATION.DATE (MAR)"
   ]
  },
  {
   "cell_type": "markdown",
   "metadata": {},
   "source": [
    "To make our code suitable for more different columns, we first build a universal function to check whether the missingness of one column depends on another column."
   ]
  },
  {
   "cell_type": "markdown",
   "metadata": {},
   "source": [
    "It's no doubt that the missingness of the `OUTAGE.DURATION` depend on the missingness `OUTAGE.RESTORATION.DATE`. We can easily figure out this from both observing the data and reasoning in the reality. And now, we'd like check it by performing permutation tests."
   ]
  },
  {
   "cell_type": "markdown",
   "metadata": {},
   "source": [
    "More specifically, it means that the missingness of `OUTAGE.RESTORATION.DATE` affects the missingness of `OUTAGE.DURATION`. So, we first create an additional \n",
    "column `OUTAGE.RESTORATION.MISSING` to record the whether the `OUTAGE.RESTORATION.DATE` is missing."
   ]
  },
  {
   "cell_type": "code",
   "execution_count": 102,
   "metadata": {},
   "outputs": [
    {
     "name": "stdout",
     "output_type": "stream",
     "text": [
      "1530    False\n",
      "1531     True\n",
      "1532    False\n",
      "1533    False\n",
      "1534     True\n",
      "Name: OUTAGE.RESTORATION.MISSING, dtype: bool\n"
     ]
    }
   ],
   "source": [
    "df['OUTAGE.RESTORATION.MISSING'] = df['OUTAGE.RESTORATION.DATE'].isna()\n",
    "print(df['OUTAGE.RESTORATION.MISSING'].tail())"
   ]
  },
  {
   "cell_type": "markdown",
   "metadata": {},
   "source": [
    "Since it's a category column, we use TVD(Total Variation Distance) to perform permutation test. Recall that:\n",
    "\n",
    "$$\n",
    "TVD(X,Y) = \\dfrac 12\\sum_{i=1}^{n} \\left| X_i - Y_i \\right|\n",
    "$$\n",
    "\n",
    "The null hypothesis for the permutation test is that the specific column does not depend on another column. So if p-value is less than the significance level, we reject the null hypothesis, which means that we may think the column depend on another. Otherwise, we fail to reject the null hypothesis, which means that it's more possible to believe the column does not depend on another."
   ]
  },
  {
   "cell_type": "markdown",
   "metadata": {},
   "source": [
    "Below, we make codes to compute the TVD, run the permutation tests of 500 rounds, set the significance level to 0.05, calculate the p-value, draw the plot and get the conclusion."
   ]
  },
  {
   "cell_type": "code",
   "execution_count": 133,
   "metadata": {},
   "outputs": [],
   "source": [
    "def TVD(df, col1, col2):\n",
    "    pivoted = (\n",
    "        df\n",
    "        .pivot_table(index=col1, columns=col2, aggfunc='size')\n",
    "        .apply(lambda x: x / x.sum() ).fillna(0)\n",
    "    )\n",
    "    return pivoted.diff(axis=1).iloc[:, -1].abs().sum() / 2\n",
    "\n",
    "def report_perm(original_tvd, p_value, tvds, col1, col2):\n",
    "    # plot\n",
    "    fig = px.histogram(pd.DataFrame(tvds), x=0, nbins=20, histnorm='probability')\n",
    "    fig.add_vline(x=original_tvd, line_color='red')\n",
    "    fig.add_annotation(text=f'<span style=\"color:red\">Observed TVD = {round(original_tvd, 2)}, p_value = {round(p_value ,2)}</span>',\n",
    "                   x= 0.4, showarrow=False, y=0.1)\n",
    "    fig.update_layout(title = f\"Permutation Test whether <br> {col1} Depends on <br> {col2}\", xaxis_title=\"TVD\")\n",
    "    fig.show()\n",
    "    export_plotly_fig(fig, f'permutation_test_{col1}_{col2}.html')\n",
    "    \n",
    "    # make conclusion\n",
    "    if p_value < 0.05:\n",
    "        print(f'Reject the null hypothesis, \\nit\\'s more likely that {col1} depends on {col2}.')\n",
    "    else:\n",
    "        print(f'Fail to reject the null hypothesis, \\nit\\'s more likely that {col1} does not depend on {col2}.')\n",
    "\n",
    "def permutation_test(df, col1, col2, n_permutations=500):\n",
    "    original_tvd = TVD(df, col1, col2)\n",
    "\n",
    "    permuted_tvds = []\n",
    "    shuffled = df.copy()\n",
    "    for _ in range(n_permutations):\n",
    "        shuffled[col1] = np.random.permutation(df[col1])\n",
    "        permuted_tvds.append(TVD(shuffled, col1, col2))\n",
    "\n",
    "    p_value = np.mean([tvd >= original_tvd for tvd in permuted_tvds])\n",
    "    report_perm(original_tvd, p_value, permuted_tvds, col1, col2)\n",
    "    return original_tvd, p_value, permuted_tvds\n"
   ]
  },
  {
   "cell_type": "markdown",
   "metadata": {},
   "source": [
    "We use the codes to check whether the `OUTAGE.DURATION` missingness depends on the `OUTAGE.RESTORATION` missingness."
   ]
  },
  {
   "cell_type": "code",
   "execution_count": 134,
   "metadata": {},
   "outputs": [
    {
     "data": {
      "application/vnd.plotly.v1+json": {
       "config": {
        "plotlyServerURL": "https://plot.ly"
       },
       "data": [
        {
         "alignmentgroup": "True",
         "bingroup": "x",
         "histnorm": "probability",
         "hovertemplate": "0=%{x}<br>probability=%{y}<extra></extra>",
         "legendgroup": "",
         "marker": {
          "color": "#636efa",
          "pattern": {
           "shape": ""
          }
         },
         "name": "",
         "nbinsx": 20,
         "offsetgroup": "",
         "orientation": "v",
         "showlegend": false,
         "type": "histogram",
         "x": [
          0.021376506868516925,
          0.03238015138772077,
          0.03929539295392956,
          0.021376506868516925,
          0.0034576207831043954,
          0.0034576207831043954,
          0.0034576207831043954,
          0.021376506868516925,
          0.03238015138772077,
          0.021376506868516925,
          0.03238015138772077,
          0.021376506868516925,
          0.021376506868516925,
          0.021376506868516925,
          0.014461265302308186,
          0.021376506868516925,
          0.021376506868516925,
          0.021376506868516925,
          0.014461265302308186,
          0.021376506868516925,
          0.03238015138772077,
          0.0034576207831043954,
          0.021376506868516925,
          0.0034576207831043954,
          0.0034576207831043954,
          0.014461265302308186,
          0.014461265302308186,
          0.0034576207831043954,
          0.0034576207831043954,
          0.0034576207831043954,
          0.0034576207831043954,
          0.021376506868516925,
          0.03929539295392956,
          0.03929539295392956,
          0.021376506868516925,
          0.03238015138772077,
          0.03929539295392956,
          0.0034576207831043954,
          0.021376506868516925,
          0.021376506868516925,
          0.0034576207831043954,
          0.03238015138772077,
          0.014461265302308186,
          0.05029903747313336,
          0.014461265302308186,
          0.021376506868516925,
          0.014461265302308186,
          0.0034576207831043954,
          0.0034576207831043954,
          0.03238015138772077,
          0.0034576207831043954,
          0.03238015138772077,
          0.05029903747313336,
          0.014461265302308186,
          0.014461265302308186,
          0.014461265302308186,
          0.05029903747313336,
          0.0034576207831043954,
          0.014461265302308186,
          0.0034576207831043954,
          0.0034576207831043954,
          0.0034576207831043954,
          0.03238015138772077,
          0.021376506868516925,
          0.021376506868516925,
          0.0034576207831043954,
          0.03238015138772077,
          0.0034576207831043954,
          0.014461265302308186,
          0.021376506868516925,
          0.021376506868516925,
          0.021376506868516925,
          0.0034576207831043954,
          0.0034576207831043954,
          0.014461265302308186,
          0.014461265302308186,
          0.014461265302308186,
          0.021376506868516925,
          0.021376506868516925,
          0.021376506868516925,
          0.014461265302308186,
          0.05029903747313336,
          0.021376506868516925,
          0.03238015138772077,
          0.0034576207831043954,
          0.014461265302308186,
          0.06821792355854595,
          0.021376506868516925,
          0.021376506868516925,
          0.021376506868516925,
          0.0034576207831043954,
          0.0034576207831043954,
          0.03929539295392956,
          0.05029903747313336,
          0.03929539295392956,
          0.021376506868516925,
          0.0034576207831043954,
          0.03929539295392956,
          0.021376506868516925,
          0.0034576207831043954,
          0.014461265302308186,
          0.03238015138772077,
          0.0034576207831043954,
          0.03238015138772077,
          0.021376506868516925,
          0.014461265302308186,
          0.021376506868516925,
          0.05029903747313336,
          0.021376506868516925,
          0.021376506868516925,
          0.014461265302308186,
          0.014461265302308186,
          0.021376506868516925,
          0.014461265302308186,
          0.014461265302308186,
          0.0034576207831043954,
          0.021376506868516925,
          0.0034576207831043954,
          0.03238015138772077,
          0.0034576207831043954,
          0.03929539295392956,
          0.014461265302308186,
          0.03929539295392956,
          0.0034576207831043954,
          0.021376506868516925,
          0.0034576207831043954,
          0.03238015138772077,
          0.03238015138772077,
          0.021376506868516925,
          0.0034576207831043954,
          0.0034576207831043954,
          0.03929539295392956,
          0.0034576207831043954,
          0.0034576207831043954,
          0.0034576207831043954,
          0.0034576207831043954,
          0.03929539295392956,
          0.021376506868516925,
          0.021376506868516925,
          0.03238015138772077,
          0.0034576207831043954,
          0.03238015138772077,
          0.021376506868516925,
          0.03929539295392956,
          0.021376506868516925,
          0.03929539295392956,
          0.03929539295392956,
          0.014461265302308186,
          0.021376506868516925,
          0.0034576207831043954,
          0.0034576207831043954,
          0.021376506868516925,
          0.014461265302308186,
          0.03929539295392956,
          0.021376506868516925,
          0.014461265302308186,
          0.0034576207831043954,
          0.03238015138772077,
          0.03238015138772077,
          0.014461265302308186,
          0.014461265302308186,
          0.014461265302308186,
          0.021376506868516925,
          0.021376506868516925,
          0.014461265302308186,
          0.014461265302308186,
          0.014461265302308186,
          0.021376506868516925,
          0.021376506868516925,
          0.014461265302308186,
          0.014461265302308186,
          0.03929539295392956,
          0.014461265302308186,
          0.014461265302308186,
          0.021376506868516925,
          0.03929539295392956,
          0.05029903747313336,
          0.0034576207831043954,
          0.014461265302308186,
          0.05029903747313336,
          0.014461265302308186,
          0.05029903747313336,
          0.03929539295392956,
          0.0034576207831043954,
          0.021376506868516925,
          0.03238015138772077,
          0.014461265302308186,
          0.014461265302308186,
          0.021376506868516925,
          0.021376506868516925,
          0.0034576207831043954,
          0.05029903747313336,
          0.03929539295392956,
          0.021376506868516925,
          0.021376506868516925,
          0.03238015138772077,
          0.03929539295392956,
          0.03238015138772077,
          0.014461265302308186,
          0.014461265302308186,
          0.021376506868516925,
          0.021376506868516925,
          0.014461265302308186,
          0.0034576207831043954,
          0.0034576207831043954,
          0.0034576207831043954,
          0.0034576207831043954,
          0.021376506868516925,
          0.014461265302308186,
          0.0034576207831043954,
          0.014461265302308186,
          0.0034576207831043954,
          0.021376506868516925,
          0.05029903747313336,
          0.014461265302308186,
          0.021376506868516925,
          0.014461265302308186,
          0.014461265302308186,
          0.0034576207831043954,
          0.014461265302308186,
          0.03238015138772077,
          0.03238015138772077,
          0.021376506868516925,
          0.0034576207831043954,
          0.014461265302308186,
          0.0034576207831043954,
          0.021376506868516925,
          0.014461265302308186,
          0.014461265302308186,
          0.014461265302308186,
          0.021376506868516925,
          0.021376506868516925,
          0.0034576207831043954,
          0.05029903747313336,
          0.021376506868516925,
          0.0034576207831043954,
          0.014461265302308186,
          0.0034576207831043954,
          0.0034576207831043954,
          0.014461265302308186,
          0.03238015138772077,
          0.021376506868516925,
          0.014461265302308186,
          0.021376506868516925,
          0.014461265302308186,
          0.03238015138772077,
          0.0034576207831043954,
          0.0034576207831043954,
          0.021376506868516925,
          0.0034576207831043954,
          0.0034576207831043954,
          0.03929539295392956,
          0.0034576207831043954,
          0.03238015138772077,
          0.0034576207831043954,
          0.0034576207831043954,
          0.021376506868516925,
          0.0034576207831043954,
          0.0034576207831043954,
          0.021376506868516925,
          0.014461265302308186,
          0.021376506868516925,
          0.014461265302308186,
          0.0034576207831043954,
          0.05029903747313336,
          0.0034576207831043954,
          0.014461265302308186,
          0.021376506868516925,
          0.03929539295392956,
          0.0034576207831043954,
          0.021376506868516925,
          0.0034576207831043954,
          0.03238015138772077,
          0.03238015138772077,
          0.021376506868516925,
          0.03929539295392956,
          0.0034576207831043954,
          0.0034576207831043954,
          0.0034576207831043954,
          0.0034576207831043954,
          0.021376506868516925,
          0.03238015138772077,
          0.021376506868516925,
          0.014461265302308186,
          0.03238015138772077,
          0.05029903747313336,
          0.03929539295392956,
          0.014461265302308186,
          0.014461265302308186,
          0.03929539295392956,
          0.0034576207831043954,
          0.021376506868516925,
          0.0034576207831043954,
          0.0034576207831043954,
          0.021376506868516925,
          0.03929539295392956,
          0.014461265302308186,
          0.021376506868516925,
          0.08613680964395852,
          0.021376506868516925,
          0.014461265302308186,
          0.014461265302308186,
          0.014461265302308186,
          0.021376506868516925,
          0.0034576207831043954,
          0.03929539295392956,
          0.0034576207831043954,
          0.03238015138772077,
          0.021376506868516925,
          0.0034576207831043954,
          0.021376506868516925,
          0.021376506868516925,
          0.03238015138772077,
          0.03238015138772077,
          0.021376506868516925,
          0.0034576207831043954,
          0.021376506868516925,
          0.0034576207831043954,
          0.021376506868516925,
          0.0034576207831043954,
          0.03238015138772077,
          0.014461265302308186,
          0.014461265302308186,
          0.0034576207831043954,
          0.03929539295392956,
          0.021376506868516925,
          0.03238015138772077,
          0.0034576207831043954,
          0.0034576207831043954,
          0.03238015138772077,
          0.014461265302308186,
          0.014461265302308186,
          0.0034576207831043954,
          0.0034576207831043954,
          0.014461265302308186,
          0.0034576207831043954,
          0.06821792355854595,
          0.03929539295392956,
          0.0034576207831043954,
          0.0034576207831043954,
          0.021376506868516925,
          0.0034576207831043954,
          0.0034576207831043954,
          0.014461265302308186,
          0.021376506868516925,
          0.014461265302308186,
          0.0034576207831043954,
          0.03929539295392956,
          0.0034576207831043954,
          0.021376506868516925,
          0.0034576207831043954,
          0.0034576207831043954,
          0.0034576207831043954,
          0.03238015138772077,
          0.014461265302308186,
          0.03238015138772077,
          0.021376506868516925,
          0.08613680964395852,
          0.0034576207831043954,
          0.0034576207831043954,
          0.021376506868516925,
          0.03238015138772077,
          0.014461265302308186,
          0.021376506868516925,
          0.03238015138772077,
          0.0034576207831043954,
          0.03238015138772077,
          0.03929539295392956,
          0.014461265302308186,
          0.021376506868516925,
          0.021376506868516925,
          0.0034576207831043954,
          0.014461265302308186,
          0.021376506868516925,
          0.021376506868516925,
          0.03238015138772077,
          0.021376506868516925,
          0.021376506868516925,
          0.0034576207831043954,
          0.03238015138772077,
          0.05029903747313336,
          0.03929539295392956,
          0.03238015138772077,
          0.0034576207831043954,
          0.03238015138772077,
          0.0034576207831043954,
          0.021376506868516925,
          0.0034576207831043954,
          0.014461265302308186,
          0.014461265302308186,
          0.021376506868516925,
          0.021376506868516925,
          0.03929539295392956,
          0.03929539295392956,
          0.03238015138772077,
          0.021376506868516925,
          0.08613680964395852,
          0.0034576207831043954,
          0.021376506868516925,
          0.03238015138772077,
          0.03238015138772077,
          0.03238015138772077,
          0.0034576207831043954,
          0.03238015138772077,
          0.021376506868516925,
          0.021376506868516925,
          0.03238015138772077,
          0.03238015138772077,
          0.03929539295392956,
          0.0034576207831043954,
          0.021376506868516925,
          0.03238015138772077,
          0.021376506868516925,
          0.03929539295392956,
          0.021376506868516925,
          0.021376506868516925,
          0.0034576207831043954,
          0.021376506868516925,
          0.0034576207831043954,
          0.0034576207831043954,
          0.0034576207831043954,
          0.021376506868516925,
          0.021376506868516925,
          0.021376506868516925,
          0.014461265302308186,
          0.03238015138772077,
          0.03238015138772077,
          0.021376506868516925,
          0.06821792355854595,
          0.021376506868516925,
          0.014461265302308186,
          0.03238015138772077,
          0.021376506868516925,
          0.0034576207831043954,
          0.0034576207831043954,
          0.0034576207831043954,
          0.014461265302308186,
          0.021376506868516925,
          0.021376506868516925,
          0.021376506868516925,
          0.0034576207831043954,
          0.03238015138772077,
          0.0034576207831043954,
          0.0034576207831043954,
          0.014461265302308186,
          0.0034576207831043954,
          0.0034576207831043954,
          0.014461265302308186,
          0.0034576207831043954,
          0.03929539295392956,
          0.0034576207831043954,
          0.03238015138772077,
          0.014461265302308186,
          0.03929539295392956,
          0.0034576207831043954,
          0.014461265302308186,
          0.021376506868516925,
          0.014461265302308186,
          0.014461265302308186,
          0.014461265302308186,
          0.021376506868516925,
          0.03238015138772077,
          0.014461265302308186,
          0.03929539295392956,
          0.0034576207831043954,
          0.014461265302308186,
          0.03238015138772077,
          0.021376506868516925,
          0.014461265302308186,
          0.021376506868516925,
          0.021376506868516925,
          0.0034576207831043954,
          0.021376506868516925,
          0.0034576207831043954,
          0.021376506868516925,
          0.03929539295392956,
          0.0034576207831043954,
          0.0034576207831043954,
          0.014461265302308186,
          0.021376506868516925,
          0.03238015138772077,
          0.03929539295392956,
          0.03238015138772077,
          0.03929539295392956,
          0.0034576207831043954,
          0.06821792355854595,
          0.03238015138772077,
          0.014461265302308186,
          0.021376506868516925,
          0.03238015138772077,
          0.03929539295392956,
          0.03929539295392956,
          0.014461265302308186,
          0.0034576207831043954,
          0.03238015138772077,
          0.03929539295392956,
          0.03238015138772077,
          0.0034576207831043954,
          0.0034576207831043954,
          0.014461265302308186
         ],
         "xaxis": "x",
         "yaxis": "y"
        }
       ],
       "layout": {
        "annotations": [
         {
          "showarrow": false,
          "text": "<span style=\"color:red\">Observed TVD = 1.0, p_value = 0.0</span>",
          "x": 0.4,
          "y": 0.1
         }
        ],
        "barmode": "relative",
        "legend": {
         "tracegroupgap": 0
        },
        "margin": {
         "t": 60
        },
        "shapes": [
         {
          "line": {
           "color": "red"
          },
          "type": "line",
          "x0": 1,
          "x1": 1,
          "xref": "x",
          "y0": 0,
          "y1": 1,
          "yref": "y domain"
         }
        ],
        "template": {
         "data": {
          "bar": [
           {
            "error_x": {
             "color": "#2a3f5f"
            },
            "error_y": {
             "color": "#2a3f5f"
            },
            "marker": {
             "line": {
              "color": "#E5ECF6",
              "width": 0.5
             },
             "pattern": {
              "fillmode": "overlay",
              "size": 10,
              "solidity": 0.2
             }
            },
            "type": "bar"
           }
          ],
          "barpolar": [
           {
            "marker": {
             "line": {
              "color": "#E5ECF6",
              "width": 0.5
             },
             "pattern": {
              "fillmode": "overlay",
              "size": 10,
              "solidity": 0.2
             }
            },
            "type": "barpolar"
           }
          ],
          "carpet": [
           {
            "aaxis": {
             "endlinecolor": "#2a3f5f",
             "gridcolor": "white",
             "linecolor": "white",
             "minorgridcolor": "white",
             "startlinecolor": "#2a3f5f"
            },
            "baxis": {
             "endlinecolor": "#2a3f5f",
             "gridcolor": "white",
             "linecolor": "white",
             "minorgridcolor": "white",
             "startlinecolor": "#2a3f5f"
            },
            "type": "carpet"
           }
          ],
          "choropleth": [
           {
            "colorbar": {
             "outlinewidth": 0,
             "ticks": ""
            },
            "type": "choropleth"
           }
          ],
          "contour": [
           {
            "colorbar": {
             "outlinewidth": 0,
             "ticks": ""
            },
            "colorscale": [
             [
              0,
              "#0d0887"
             ],
             [
              0.1111111111111111,
              "#46039f"
             ],
             [
              0.2222222222222222,
              "#7201a8"
             ],
             [
              0.3333333333333333,
              "#9c179e"
             ],
             [
              0.4444444444444444,
              "#bd3786"
             ],
             [
              0.5555555555555556,
              "#d8576b"
             ],
             [
              0.6666666666666666,
              "#ed7953"
             ],
             [
              0.7777777777777778,
              "#fb9f3a"
             ],
             [
              0.8888888888888888,
              "#fdca26"
             ],
             [
              1,
              "#f0f921"
             ]
            ],
            "type": "contour"
           }
          ],
          "contourcarpet": [
           {
            "colorbar": {
             "outlinewidth": 0,
             "ticks": ""
            },
            "type": "contourcarpet"
           }
          ],
          "heatmap": [
           {
            "colorbar": {
             "outlinewidth": 0,
             "ticks": ""
            },
            "colorscale": [
             [
              0,
              "#0d0887"
             ],
             [
              0.1111111111111111,
              "#46039f"
             ],
             [
              0.2222222222222222,
              "#7201a8"
             ],
             [
              0.3333333333333333,
              "#9c179e"
             ],
             [
              0.4444444444444444,
              "#bd3786"
             ],
             [
              0.5555555555555556,
              "#d8576b"
             ],
             [
              0.6666666666666666,
              "#ed7953"
             ],
             [
              0.7777777777777778,
              "#fb9f3a"
             ],
             [
              0.8888888888888888,
              "#fdca26"
             ],
             [
              1,
              "#f0f921"
             ]
            ],
            "type": "heatmap"
           }
          ],
          "heatmapgl": [
           {
            "colorbar": {
             "outlinewidth": 0,
             "ticks": ""
            },
            "colorscale": [
             [
              0,
              "#0d0887"
             ],
             [
              0.1111111111111111,
              "#46039f"
             ],
             [
              0.2222222222222222,
              "#7201a8"
             ],
             [
              0.3333333333333333,
              "#9c179e"
             ],
             [
              0.4444444444444444,
              "#bd3786"
             ],
             [
              0.5555555555555556,
              "#d8576b"
             ],
             [
              0.6666666666666666,
              "#ed7953"
             ],
             [
              0.7777777777777778,
              "#fb9f3a"
             ],
             [
              0.8888888888888888,
              "#fdca26"
             ],
             [
              1,
              "#f0f921"
             ]
            ],
            "type": "heatmapgl"
           }
          ],
          "histogram": [
           {
            "marker": {
             "pattern": {
              "fillmode": "overlay",
              "size": 10,
              "solidity": 0.2
             }
            },
            "type": "histogram"
           }
          ],
          "histogram2d": [
           {
            "colorbar": {
             "outlinewidth": 0,
             "ticks": ""
            },
            "colorscale": [
             [
              0,
              "#0d0887"
             ],
             [
              0.1111111111111111,
              "#46039f"
             ],
             [
              0.2222222222222222,
              "#7201a8"
             ],
             [
              0.3333333333333333,
              "#9c179e"
             ],
             [
              0.4444444444444444,
              "#bd3786"
             ],
             [
              0.5555555555555556,
              "#d8576b"
             ],
             [
              0.6666666666666666,
              "#ed7953"
             ],
             [
              0.7777777777777778,
              "#fb9f3a"
             ],
             [
              0.8888888888888888,
              "#fdca26"
             ],
             [
              1,
              "#f0f921"
             ]
            ],
            "type": "histogram2d"
           }
          ],
          "histogram2dcontour": [
           {
            "colorbar": {
             "outlinewidth": 0,
             "ticks": ""
            },
            "colorscale": [
             [
              0,
              "#0d0887"
             ],
             [
              0.1111111111111111,
              "#46039f"
             ],
             [
              0.2222222222222222,
              "#7201a8"
             ],
             [
              0.3333333333333333,
              "#9c179e"
             ],
             [
              0.4444444444444444,
              "#bd3786"
             ],
             [
              0.5555555555555556,
              "#d8576b"
             ],
             [
              0.6666666666666666,
              "#ed7953"
             ],
             [
              0.7777777777777778,
              "#fb9f3a"
             ],
             [
              0.8888888888888888,
              "#fdca26"
             ],
             [
              1,
              "#f0f921"
             ]
            ],
            "type": "histogram2dcontour"
           }
          ],
          "mesh3d": [
           {
            "colorbar": {
             "outlinewidth": 0,
             "ticks": ""
            },
            "type": "mesh3d"
           }
          ],
          "parcoords": [
           {
            "line": {
             "colorbar": {
              "outlinewidth": 0,
              "ticks": ""
             }
            },
            "type": "parcoords"
           }
          ],
          "pie": [
           {
            "automargin": true,
            "type": "pie"
           }
          ],
          "scatter": [
           {
            "fillpattern": {
             "fillmode": "overlay",
             "size": 10,
             "solidity": 0.2
            },
            "type": "scatter"
           }
          ],
          "scatter3d": [
           {
            "line": {
             "colorbar": {
              "outlinewidth": 0,
              "ticks": ""
             }
            },
            "marker": {
             "colorbar": {
              "outlinewidth": 0,
              "ticks": ""
             }
            },
            "type": "scatter3d"
           }
          ],
          "scattercarpet": [
           {
            "marker": {
             "colorbar": {
              "outlinewidth": 0,
              "ticks": ""
             }
            },
            "type": "scattercarpet"
           }
          ],
          "scattergeo": [
           {
            "marker": {
             "colorbar": {
              "outlinewidth": 0,
              "ticks": ""
             }
            },
            "type": "scattergeo"
           }
          ],
          "scattergl": [
           {
            "marker": {
             "colorbar": {
              "outlinewidth": 0,
              "ticks": ""
             }
            },
            "type": "scattergl"
           }
          ],
          "scattermapbox": [
           {
            "marker": {
             "colorbar": {
              "outlinewidth": 0,
              "ticks": ""
             }
            },
            "type": "scattermapbox"
           }
          ],
          "scatterpolar": [
           {
            "marker": {
             "colorbar": {
              "outlinewidth": 0,
              "ticks": ""
             }
            },
            "type": "scatterpolar"
           }
          ],
          "scatterpolargl": [
           {
            "marker": {
             "colorbar": {
              "outlinewidth": 0,
              "ticks": ""
             }
            },
            "type": "scatterpolargl"
           }
          ],
          "scatterternary": [
           {
            "marker": {
             "colorbar": {
              "outlinewidth": 0,
              "ticks": ""
             }
            },
            "type": "scatterternary"
           }
          ],
          "surface": [
           {
            "colorbar": {
             "outlinewidth": 0,
             "ticks": ""
            },
            "colorscale": [
             [
              0,
              "#0d0887"
             ],
             [
              0.1111111111111111,
              "#46039f"
             ],
             [
              0.2222222222222222,
              "#7201a8"
             ],
             [
              0.3333333333333333,
              "#9c179e"
             ],
             [
              0.4444444444444444,
              "#bd3786"
             ],
             [
              0.5555555555555556,
              "#d8576b"
             ],
             [
              0.6666666666666666,
              "#ed7953"
             ],
             [
              0.7777777777777778,
              "#fb9f3a"
             ],
             [
              0.8888888888888888,
              "#fdca26"
             ],
             [
              1,
              "#f0f921"
             ]
            ],
            "type": "surface"
           }
          ],
          "table": [
           {
            "cells": {
             "fill": {
              "color": "#EBF0F8"
             },
             "line": {
              "color": "white"
             }
            },
            "header": {
             "fill": {
              "color": "#C8D4E3"
             },
             "line": {
              "color": "white"
             }
            },
            "type": "table"
           }
          ]
         },
         "layout": {
          "annotationdefaults": {
           "arrowcolor": "#2a3f5f",
           "arrowhead": 0,
           "arrowwidth": 1
          },
          "autotypenumbers": "strict",
          "coloraxis": {
           "colorbar": {
            "outlinewidth": 0,
            "ticks": ""
           }
          },
          "colorscale": {
           "diverging": [
            [
             0,
             "#8e0152"
            ],
            [
             0.1,
             "#c51b7d"
            ],
            [
             0.2,
             "#de77ae"
            ],
            [
             0.3,
             "#f1b6da"
            ],
            [
             0.4,
             "#fde0ef"
            ],
            [
             0.5,
             "#f7f7f7"
            ],
            [
             0.6,
             "#e6f5d0"
            ],
            [
             0.7,
             "#b8e186"
            ],
            [
             0.8,
             "#7fbc41"
            ],
            [
             0.9,
             "#4d9221"
            ],
            [
             1,
             "#276419"
            ]
           ],
           "sequential": [
            [
             0,
             "#0d0887"
            ],
            [
             0.1111111111111111,
             "#46039f"
            ],
            [
             0.2222222222222222,
             "#7201a8"
            ],
            [
             0.3333333333333333,
             "#9c179e"
            ],
            [
             0.4444444444444444,
             "#bd3786"
            ],
            [
             0.5555555555555556,
             "#d8576b"
            ],
            [
             0.6666666666666666,
             "#ed7953"
            ],
            [
             0.7777777777777778,
             "#fb9f3a"
            ],
            [
             0.8888888888888888,
             "#fdca26"
            ],
            [
             1,
             "#f0f921"
            ]
           ],
           "sequentialminus": [
            [
             0,
             "#0d0887"
            ],
            [
             0.1111111111111111,
             "#46039f"
            ],
            [
             0.2222222222222222,
             "#7201a8"
            ],
            [
             0.3333333333333333,
             "#9c179e"
            ],
            [
             0.4444444444444444,
             "#bd3786"
            ],
            [
             0.5555555555555556,
             "#d8576b"
            ],
            [
             0.6666666666666666,
             "#ed7953"
            ],
            [
             0.7777777777777778,
             "#fb9f3a"
            ],
            [
             0.8888888888888888,
             "#fdca26"
            ],
            [
             1,
             "#f0f921"
            ]
           ]
          },
          "colorway": [
           "#636efa",
           "#EF553B",
           "#00cc96",
           "#ab63fa",
           "#FFA15A",
           "#19d3f3",
           "#FF6692",
           "#B6E880",
           "#FF97FF",
           "#FECB52"
          ],
          "font": {
           "color": "#2a3f5f"
          },
          "geo": {
           "bgcolor": "white",
           "lakecolor": "white",
           "landcolor": "#E5ECF6",
           "showlakes": true,
           "showland": true,
           "subunitcolor": "white"
          },
          "hoverlabel": {
           "align": "left"
          },
          "hovermode": "closest",
          "mapbox": {
           "style": "light"
          },
          "paper_bgcolor": "white",
          "plot_bgcolor": "#E5ECF6",
          "polar": {
           "angularaxis": {
            "gridcolor": "white",
            "linecolor": "white",
            "ticks": ""
           },
           "bgcolor": "#E5ECF6",
           "radialaxis": {
            "gridcolor": "white",
            "linecolor": "white",
            "ticks": ""
           }
          },
          "scene": {
           "xaxis": {
            "backgroundcolor": "#E5ECF6",
            "gridcolor": "white",
            "gridwidth": 2,
            "linecolor": "white",
            "showbackground": true,
            "ticks": "",
            "zerolinecolor": "white"
           },
           "yaxis": {
            "backgroundcolor": "#E5ECF6",
            "gridcolor": "white",
            "gridwidth": 2,
            "linecolor": "white",
            "showbackground": true,
            "ticks": "",
            "zerolinecolor": "white"
           },
           "zaxis": {
            "backgroundcolor": "#E5ECF6",
            "gridcolor": "white",
            "gridwidth": 2,
            "linecolor": "white",
            "showbackground": true,
            "ticks": "",
            "zerolinecolor": "white"
           }
          },
          "shapedefaults": {
           "line": {
            "color": "#2a3f5f"
           }
          },
          "ternary": {
           "aaxis": {
            "gridcolor": "white",
            "linecolor": "white",
            "ticks": ""
           },
           "baxis": {
            "gridcolor": "white",
            "linecolor": "white",
            "ticks": ""
           },
           "bgcolor": "#E5ECF6",
           "caxis": {
            "gridcolor": "white",
            "linecolor": "white",
            "ticks": ""
           }
          },
          "title": {
           "x": 0.05
          },
          "xaxis": {
           "automargin": true,
           "gridcolor": "white",
           "linecolor": "white",
           "ticks": "",
           "title": {
            "standoff": 15
           },
           "zerolinecolor": "white",
           "zerolinewidth": 2
          },
          "yaxis": {
           "automargin": true,
           "gridcolor": "white",
           "linecolor": "white",
           "ticks": "",
           "title": {
            "standoff": 15
           },
           "zerolinecolor": "white",
           "zerolinewidth": 2
          }
         }
        },
        "title": {
         "text": "Permutation Test whether <br> OUTAGE.DURATION.MISSING Depends on <br> OUTAGE.RESTORATION.MISSING"
        },
        "xaxis": {
         "anchor": "y",
         "domain": [
          0,
          1
         ],
         "title": {
          "text": "TVD"
         }
        },
        "yaxis": {
         "anchor": "x",
         "domain": [
          0,
          1
         ],
         "title": {
          "text": "probability"
         }
        }
       }
      }
     },
     "metadata": {},
     "output_type": "display_data"
    },
    {
     "name": "stdout",
     "output_type": "stream",
     "text": [
      "Reject the null hypothesis, \n",
      "it's more likely that OUTAGE.DURATION.MISSING depends on OUTAGE.RESTORATION.MISSING.\n",
      "1.0 0.0\n"
     ]
    }
   ],
   "source": [
    "df['OUTAGE.DURATION.MISSING'] = df['OUTAGE.DURATION'].isna()\n",
    "tvd, p, tvds = permutation_test(df, 'OUTAGE.DURATION.MISSING', 'OUTAGE.RESTORATION.MISSING')\n",
    "print(tvd, p)"
   ]
  },
  {
   "cell_type": "markdown",
   "metadata": {},
   "source": [
    "The result shows that p-value is 0.00, since the significance level is 5%, we reject the null hypothesis. Therefore, we conclude that it is highly possible that the missingness of the \n",
    "`OUTAGE.DURATION` depends on the missingness of the `OUTAGE.RESTORATION`."
   ]
  },
  {
   "cell_type": "markdown",
   "metadata": {},
   "source": [
    "We may get the same conclusion that the missingness of the `OUTAGE.DURATION` is also depends on the missingness of the `OUTAGE.START`, but the TVDs of the permutation tests should be larger than the previous ones, since the \n",
    "`OUTAGE.START` data miss less, which can be easily seen from the dataset. The result below shows that it's rational."
   ]
  },
  {
   "cell_type": "code",
   "execution_count": 105,
   "metadata": {},
   "outputs": [
    {
     "data": {
      "application/vnd.plotly.v1+json": {
       "config": {
        "plotlyServerURL": "https://plot.ly"
       },
       "data": [
        {
         "alignmentgroup": "True",
         "bingroup": "x",
         "histnorm": "probability",
         "hovertemplate": "0=%{x}<br>probability=%{y}<extra></extra>",
         "legendgroup": "",
         "marker": {
          "color": "#636efa",
          "pattern": {
           "shape": ""
          }
         },
         "name": "",
         "nbinsx": 20,
         "offsetgroup": "",
         "orientation": "v",
         "showlegend": false,
         "type": "histogram",
         "x": [
          0.07373406193078325,
          0.03803278688524591,
          0.07373406193078325,
          0.03803278688524591,
          0.03803278688524591,
          0.07373406193078325,
          0.03803278688524591,
          0.07373406193078325,
          0.03803278688524591,
          0.07373406193078325,
          0.03803278688524591,
          0.07373406193078325,
          0.07373406193078325,
          0.03803278688524591,
          0.03803278688524591,
          0.1855009107468124,
          0.07373406193078325,
          0.03803278688524591,
          0.03803278688524591,
          0.03803278688524591,
          0.03803278688524591,
          0.07373406193078325,
          0.03803278688524591,
          0.1855009107468124,
          0.07373406193078325,
          0.07373406193078325,
          0.03803278688524591,
          0.07373406193078325,
          0.03803278688524591,
          0.07373406193078325,
          0.07373406193078325,
          0.1855009107468124,
          0.07373406193078325,
          0.03803278688524591,
          0.03803278688524591,
          0.03803278688524591,
          0.03803278688524591,
          0.07373406193078325,
          0.03803278688524591,
          0.03803278688524591,
          0.03803278688524591,
          0.07373406193078325,
          0.03803278688524591,
          0.03803278688524591,
          0.07373406193078325,
          0.07373406193078325,
          0.07373406193078325,
          0.03803278688524591,
          0.03803278688524591,
          0.07373406193078325,
          0.07373406193078325,
          0.07373406193078325,
          0.07373406193078325,
          0.03803278688524591,
          0.03803278688524591,
          0.07373406193078325,
          0.03803278688524591,
          0.03803278688524591,
          0.03803278688524591,
          0.07373406193078325,
          0.03803278688524591,
          0.03803278688524591,
          0.03803278688524591,
          0.03803278688524591,
          0.03803278688524591,
          0.03803278688524591,
          0.03803278688524591,
          0.07373406193078325,
          0.07373406193078325,
          0.07373406193078325,
          0.03803278688524591,
          0.03803278688524591,
          0.03803278688524591,
          0.03803278688524591,
          0.03803278688524591,
          0.03803278688524591,
          0.03803278688524591,
          0.03803278688524591,
          0.03803278688524591,
          0.03803278688524591,
          0.07373406193078325,
          0.03803278688524591,
          0.03803278688524591,
          0.07373406193078325,
          0.03803278688524591,
          0.03803278688524591,
          0.03803278688524591,
          0.03803278688524591,
          0.07373406193078325,
          0.07373406193078325,
          0.03803278688524591,
          0.03803278688524591,
          0.03803278688524591,
          0.03803278688524591,
          0.03803278688524591,
          0.03803278688524591,
          0.03803278688524591,
          0.03803278688524591,
          0.07373406193078325,
          0.03803278688524591,
          0.03803278688524591,
          0.03803278688524591,
          0.07373406193078325,
          0.03803278688524591,
          0.03803278688524591,
          0.03803278688524591,
          0.03803278688524591,
          0.1855009107468124,
          0.1855009107468124,
          0.07373406193078325,
          0.07373406193078325,
          0.03803278688524591,
          0.03803278688524591,
          0.07373406193078325,
          0.03803278688524591,
          0.03803278688524591,
          0.07373406193078325,
          0.03803278688524591,
          0.03803278688524591,
          0.03803278688524591,
          0.03803278688524591,
          0.03803278688524591,
          0.03803278688524591,
          0.03803278688524591,
          0.03803278688524591,
          0.03803278688524591,
          0.03803278688524591,
          0.03803278688524591,
          0.03803278688524591,
          0.07373406193078325,
          0.07373406193078325,
          0.03803278688524591,
          0.03803278688524591,
          0.07373406193078325,
          0.03803278688524591,
          0.07373406193078325,
          0.1855009107468124,
          0.07373406193078325,
          0.03803278688524591,
          0.03803278688524591,
          0.03803278688524591,
          0.03803278688524591,
          0.03803278688524591,
          0.07373406193078325,
          0.03803278688524591,
          0.03803278688524591,
          0.03803278688524591,
          0.07373406193078325,
          0.1855009107468124,
          0.07373406193078325,
          0.03803278688524591,
          0.03803278688524591,
          0.03803278688524591,
          0.29726775956284157,
          0.03803278688524591,
          0.07373406193078325,
          0.07373406193078325,
          0.07373406193078325,
          0.03803278688524591,
          0.03803278688524591,
          0.03803278688524591,
          0.03803278688524591,
          0.07373406193078325,
          0.03803278688524591,
          0.03803278688524591,
          0.03803278688524591,
          0.03803278688524591,
          0.03803278688524591,
          0.03803278688524591,
          0.03803278688524591,
          0.07373406193078325,
          0.03803278688524591,
          0.07373406193078325,
          0.03803278688524591,
          0.03803278688524591,
          0.03803278688524591,
          0.03803278688524591,
          0.03803278688524591,
          0.03803278688524591,
          0.07373406193078325,
          0.07373406193078325,
          0.07373406193078325,
          0.07373406193078325,
          0.07373406193078325,
          0.03803278688524591,
          0.03803278688524591,
          0.1855009107468124,
          0.07373406193078325,
          0.03803278688524591,
          0.03803278688524591,
          0.03803278688524591,
          0.03803278688524591,
          0.07373406193078325,
          0.03803278688524591,
          0.03803278688524591,
          0.07373406193078325,
          0.03803278688524591,
          0.03803278688524591,
          0.03803278688524591,
          0.03803278688524591,
          0.03803278688524591,
          0.07373406193078325,
          0.07373406193078325,
          0.03803278688524591,
          0.03803278688524591,
          0.03803278688524591,
          0.07373406193078325,
          0.03803278688524591,
          0.07373406193078325,
          0.03803278688524591,
          0.1855009107468124,
          0.03803278688524591,
          0.07373406193078325,
          0.03803278688524591,
          0.07373406193078325,
          0.29726775956284157,
          0.03803278688524591,
          0.03803278688524591,
          0.03803278688524591,
          0.07373406193078325,
          0.03803278688524591,
          0.03803278688524591,
          0.07373406193078325,
          0.07373406193078325,
          0.03803278688524591,
          0.07373406193078325,
          0.03803278688524591,
          0.07373406193078325,
          0.03803278688524591,
          0.03803278688524591,
          0.07373406193078325,
          0.03803278688524591,
          0.03803278688524591,
          0.07373406193078325,
          0.03803278688524591,
          0.03803278688524591,
          0.03803278688524591,
          0.03803278688524591,
          0.03803278688524591,
          0.03803278688524591,
          0.03803278688524591,
          0.07373406193078325,
          0.07373406193078325,
          0.03803278688524591,
          0.03803278688524591,
          0.03803278688524591,
          0.03803278688524591,
          0.03803278688524591,
          0.07373406193078325,
          0.03803278688524591,
          0.03803278688524591,
          0.03803278688524591,
          0.07373406193078325,
          0.03803278688524591,
          0.03803278688524591,
          0.03803278688524591,
          0.07373406193078325,
          0.07373406193078325,
          0.03803278688524591,
          0.03803278688524591,
          0.03803278688524591,
          0.03803278688524591,
          0.03803278688524591,
          0.03803278688524591,
          0.03803278688524591,
          0.03803278688524591,
          0.07373406193078325,
          0.03803278688524591,
          0.07373406193078325,
          0.03803278688524591,
          0.03803278688524591,
          0.03803278688524591,
          0.03803278688524591,
          0.03803278688524591,
          0.03803278688524591,
          0.03803278688524591,
          0.03803278688524591,
          0.03803278688524591,
          0.03803278688524591,
          0.03803278688524591,
          0.03803278688524591,
          0.07373406193078325,
          0.03803278688524591,
          0.03803278688524591,
          0.03803278688524591,
          0.03803278688524591,
          0.03803278688524591,
          0.03803278688524591,
          0.03803278688524591,
          0.03803278688524591,
          0.03803278688524591,
          0.03803278688524591,
          0.07373406193078325,
          0.03803278688524591,
          0.03803278688524591,
          0.1855009107468124,
          0.1855009107468124,
          0.03803278688524591,
          0.03803278688524591,
          0.07373406193078325,
          0.07373406193078325,
          0.07373406193078325,
          0.03803278688524591,
          0.03803278688524591,
          0.03803278688524591,
          0.03803278688524591,
          0.1855009107468124,
          0.07373406193078325,
          0.07373406193078325,
          0.03803278688524591,
          0.03803278688524591,
          0.03803278688524591,
          0.03803278688524591,
          0.03803278688524591,
          0.03803278688524591,
          0.03803278688524591,
          0.07373406193078325,
          0.03803278688524591,
          0.03803278688524591,
          0.03803278688524591,
          0.03803278688524591,
          0.07373406193078325,
          0.07373406193078325,
          0.07373406193078325,
          0.03803278688524591,
          0.1855009107468124,
          0.07373406193078325,
          0.03803278688524591,
          0.07373406193078325,
          0.03803278688524591,
          0.03803278688524591,
          0.03803278688524591,
          0.07373406193078325,
          0.03803278688524591,
          0.03803278688524591,
          0.03803278688524591,
          0.03803278688524591,
          0.03803278688524591,
          0.03803278688524591,
          0.03803278688524591,
          0.03803278688524591,
          0.03803278688524591,
          0.03803278688524591,
          0.03803278688524591,
          0.03803278688524591,
          0.03803278688524591,
          0.03803278688524591,
          0.07373406193078325,
          0.03803278688524591,
          0.03803278688524591,
          0.03803278688524591,
          0.03803278688524591,
          0.03803278688524591,
          0.03803278688524591,
          0.03803278688524591,
          0.07373406193078325,
          0.03803278688524591,
          0.07373406193078325,
          0.07373406193078325,
          0.07373406193078325,
          0.03803278688524591,
          0.03803278688524591,
          0.03803278688524591,
          0.07373406193078325,
          0.03803278688524591,
          0.03803278688524591,
          0.03803278688524591,
          0.07373406193078325,
          0.03803278688524591,
          0.03803278688524591,
          0.03803278688524591,
          0.07373406193078325,
          0.03803278688524591,
          0.07373406193078325,
          0.03803278688524591,
          0.03803278688524591,
          0.03803278688524591,
          0.07373406193078325,
          0.03803278688524591,
          0.07373406193078325,
          0.1855009107468124,
          0.03803278688524591,
          0.07373406193078325,
          0.1855009107468124,
          0.07373406193078325,
          0.03803278688524591,
          0.03803278688524591,
          0.07373406193078325,
          0.03803278688524591,
          0.03803278688524591,
          0.03803278688524591,
          0.03803278688524591,
          0.07373406193078325,
          0.03803278688524591,
          0.03803278688524591,
          0.03803278688524591,
          0.03803278688524591,
          0.07373406193078325,
          0.03803278688524591,
          0.03803278688524591,
          0.07373406193078325,
          0.03803278688524591,
          0.03803278688524591,
          0.03803278688524591,
          0.03803278688524591,
          0.03803278688524591,
          0.1855009107468124,
          0.07373406193078325,
          0.03803278688524591,
          0.03803278688524591,
          0.03803278688524591,
          0.03803278688524591,
          0.03803278688524591,
          0.03803278688524591,
          0.03803278688524591,
          0.03803278688524591,
          0.1855009107468124,
          0.03803278688524591,
          0.07373406193078325,
          0.03803278688524591,
          0.03803278688524591,
          0.03803278688524591,
          0.03803278688524591,
          0.03803278688524591,
          0.03803278688524591,
          0.03803278688524591,
          0.03803278688524591,
          0.03803278688524591,
          0.03803278688524591,
          0.03803278688524591,
          0.03803278688524591,
          0.03803278688524591,
          0.07373406193078325,
          0.03803278688524591,
          0.03803278688524591,
          0.03803278688524591,
          0.03803278688524591,
          0.03803278688524591,
          0.03803278688524591,
          0.1855009107468124,
          0.03803278688524591,
          0.07373406193078325,
          0.03803278688524591,
          0.03803278688524591,
          0.03803278688524591,
          0.03803278688524591,
          0.07373406193078325,
          0.07373406193078325,
          0.07373406193078325,
          0.03803278688524591,
          0.03803278688524591,
          0.03803278688524591,
          0.03803278688524591,
          0.03803278688524591,
          0.07373406193078325,
          0.03803278688524591,
          0.03803278688524591,
          0.07373406193078325,
          0.03803278688524591,
          0.03803278688524591,
          0.07373406193078325,
          0.07373406193078325,
          0.03803278688524591,
          0.07373406193078325,
          0.07373406193078325,
          0.03803278688524591,
          0.03803278688524591,
          0.07373406193078325,
          0.03803278688524591,
          0.07373406193078325,
          0.03803278688524591,
          0.07373406193078325,
          0.1855009107468124,
          0.07373406193078325,
          0.03803278688524591,
          0.03803278688524591,
          0.03803278688524591,
          0.03803278688524591,
          0.03803278688524591,
          0.03803278688524591,
          0.03803278688524591,
          0.03803278688524591,
          0.1855009107468124,
          0.03803278688524591,
          0.03803278688524591,
          0.03803278688524591,
          0.07373406193078325,
          0.03803278688524591,
          0.07373406193078325,
          0.03803278688524591,
          0.03803278688524591,
          0.07373406193078325,
          0.03803278688524591,
          0.03803278688524591,
          0.07373406193078325,
          0.07373406193078325,
          0.03803278688524591,
          0.03803278688524591,
          0.03803278688524591,
          0.03803278688524591
         ],
         "xaxis": "x",
         "yaxis": "y"
        }
       ],
       "layout": {
        "annotations": [
         {
          "showarrow": false,
          "text": "<span style=\"color:red\">Observed TVD = 0.97, p_value = 0.0</span>",
          "x": 0.4,
          "y": 0.1
         }
        ],
        "barmode": "relative",
        "legend": {
         "tracegroupgap": 0
        },
        "margin": {
         "t": 60
        },
        "shapes": [
         {
          "line": {
           "color": "red"
          },
          "type": "line",
          "x0": 0.9678688524590164,
          "x1": 0.9678688524590164,
          "xref": "x",
          "y0": 0,
          "y1": 1,
          "yref": "y domain"
         }
        ],
        "template": {
         "data": {
          "bar": [
           {
            "error_x": {
             "color": "#2a3f5f"
            },
            "error_y": {
             "color": "#2a3f5f"
            },
            "marker": {
             "line": {
              "color": "#E5ECF6",
              "width": 0.5
             },
             "pattern": {
              "fillmode": "overlay",
              "size": 10,
              "solidity": 0.2
             }
            },
            "type": "bar"
           }
          ],
          "barpolar": [
           {
            "marker": {
             "line": {
              "color": "#E5ECF6",
              "width": 0.5
             },
             "pattern": {
              "fillmode": "overlay",
              "size": 10,
              "solidity": 0.2
             }
            },
            "type": "barpolar"
           }
          ],
          "carpet": [
           {
            "aaxis": {
             "endlinecolor": "#2a3f5f",
             "gridcolor": "white",
             "linecolor": "white",
             "minorgridcolor": "white",
             "startlinecolor": "#2a3f5f"
            },
            "baxis": {
             "endlinecolor": "#2a3f5f",
             "gridcolor": "white",
             "linecolor": "white",
             "minorgridcolor": "white",
             "startlinecolor": "#2a3f5f"
            },
            "type": "carpet"
           }
          ],
          "choropleth": [
           {
            "colorbar": {
             "outlinewidth": 0,
             "ticks": ""
            },
            "type": "choropleth"
           }
          ],
          "contour": [
           {
            "colorbar": {
             "outlinewidth": 0,
             "ticks": ""
            },
            "colorscale": [
             [
              0,
              "#0d0887"
             ],
             [
              0.1111111111111111,
              "#46039f"
             ],
             [
              0.2222222222222222,
              "#7201a8"
             ],
             [
              0.3333333333333333,
              "#9c179e"
             ],
             [
              0.4444444444444444,
              "#bd3786"
             ],
             [
              0.5555555555555556,
              "#d8576b"
             ],
             [
              0.6666666666666666,
              "#ed7953"
             ],
             [
              0.7777777777777778,
              "#fb9f3a"
             ],
             [
              0.8888888888888888,
              "#fdca26"
             ],
             [
              1,
              "#f0f921"
             ]
            ],
            "type": "contour"
           }
          ],
          "contourcarpet": [
           {
            "colorbar": {
             "outlinewidth": 0,
             "ticks": ""
            },
            "type": "contourcarpet"
           }
          ],
          "heatmap": [
           {
            "colorbar": {
             "outlinewidth": 0,
             "ticks": ""
            },
            "colorscale": [
             [
              0,
              "#0d0887"
             ],
             [
              0.1111111111111111,
              "#46039f"
             ],
             [
              0.2222222222222222,
              "#7201a8"
             ],
             [
              0.3333333333333333,
              "#9c179e"
             ],
             [
              0.4444444444444444,
              "#bd3786"
             ],
             [
              0.5555555555555556,
              "#d8576b"
             ],
             [
              0.6666666666666666,
              "#ed7953"
             ],
             [
              0.7777777777777778,
              "#fb9f3a"
             ],
             [
              0.8888888888888888,
              "#fdca26"
             ],
             [
              1,
              "#f0f921"
             ]
            ],
            "type": "heatmap"
           }
          ],
          "heatmapgl": [
           {
            "colorbar": {
             "outlinewidth": 0,
             "ticks": ""
            },
            "colorscale": [
             [
              0,
              "#0d0887"
             ],
             [
              0.1111111111111111,
              "#46039f"
             ],
             [
              0.2222222222222222,
              "#7201a8"
             ],
             [
              0.3333333333333333,
              "#9c179e"
             ],
             [
              0.4444444444444444,
              "#bd3786"
             ],
             [
              0.5555555555555556,
              "#d8576b"
             ],
             [
              0.6666666666666666,
              "#ed7953"
             ],
             [
              0.7777777777777778,
              "#fb9f3a"
             ],
             [
              0.8888888888888888,
              "#fdca26"
             ],
             [
              1,
              "#f0f921"
             ]
            ],
            "type": "heatmapgl"
           }
          ],
          "histogram": [
           {
            "marker": {
             "pattern": {
              "fillmode": "overlay",
              "size": 10,
              "solidity": 0.2
             }
            },
            "type": "histogram"
           }
          ],
          "histogram2d": [
           {
            "colorbar": {
             "outlinewidth": 0,
             "ticks": ""
            },
            "colorscale": [
             [
              0,
              "#0d0887"
             ],
             [
              0.1111111111111111,
              "#46039f"
             ],
             [
              0.2222222222222222,
              "#7201a8"
             ],
             [
              0.3333333333333333,
              "#9c179e"
             ],
             [
              0.4444444444444444,
              "#bd3786"
             ],
             [
              0.5555555555555556,
              "#d8576b"
             ],
             [
              0.6666666666666666,
              "#ed7953"
             ],
             [
              0.7777777777777778,
              "#fb9f3a"
             ],
             [
              0.8888888888888888,
              "#fdca26"
             ],
             [
              1,
              "#f0f921"
             ]
            ],
            "type": "histogram2d"
           }
          ],
          "histogram2dcontour": [
           {
            "colorbar": {
             "outlinewidth": 0,
             "ticks": ""
            },
            "colorscale": [
             [
              0,
              "#0d0887"
             ],
             [
              0.1111111111111111,
              "#46039f"
             ],
             [
              0.2222222222222222,
              "#7201a8"
             ],
             [
              0.3333333333333333,
              "#9c179e"
             ],
             [
              0.4444444444444444,
              "#bd3786"
             ],
             [
              0.5555555555555556,
              "#d8576b"
             ],
             [
              0.6666666666666666,
              "#ed7953"
             ],
             [
              0.7777777777777778,
              "#fb9f3a"
             ],
             [
              0.8888888888888888,
              "#fdca26"
             ],
             [
              1,
              "#f0f921"
             ]
            ],
            "type": "histogram2dcontour"
           }
          ],
          "mesh3d": [
           {
            "colorbar": {
             "outlinewidth": 0,
             "ticks": ""
            },
            "type": "mesh3d"
           }
          ],
          "parcoords": [
           {
            "line": {
             "colorbar": {
              "outlinewidth": 0,
              "ticks": ""
             }
            },
            "type": "parcoords"
           }
          ],
          "pie": [
           {
            "automargin": true,
            "type": "pie"
           }
          ],
          "scatter": [
           {
            "fillpattern": {
             "fillmode": "overlay",
             "size": 10,
             "solidity": 0.2
            },
            "type": "scatter"
           }
          ],
          "scatter3d": [
           {
            "line": {
             "colorbar": {
              "outlinewidth": 0,
              "ticks": ""
             }
            },
            "marker": {
             "colorbar": {
              "outlinewidth": 0,
              "ticks": ""
             }
            },
            "type": "scatter3d"
           }
          ],
          "scattercarpet": [
           {
            "marker": {
             "colorbar": {
              "outlinewidth": 0,
              "ticks": ""
             }
            },
            "type": "scattercarpet"
           }
          ],
          "scattergeo": [
           {
            "marker": {
             "colorbar": {
              "outlinewidth": 0,
              "ticks": ""
             }
            },
            "type": "scattergeo"
           }
          ],
          "scattergl": [
           {
            "marker": {
             "colorbar": {
              "outlinewidth": 0,
              "ticks": ""
             }
            },
            "type": "scattergl"
           }
          ],
          "scattermapbox": [
           {
            "marker": {
             "colorbar": {
              "outlinewidth": 0,
              "ticks": ""
             }
            },
            "type": "scattermapbox"
           }
          ],
          "scatterpolar": [
           {
            "marker": {
             "colorbar": {
              "outlinewidth": 0,
              "ticks": ""
             }
            },
            "type": "scatterpolar"
           }
          ],
          "scatterpolargl": [
           {
            "marker": {
             "colorbar": {
              "outlinewidth": 0,
              "ticks": ""
             }
            },
            "type": "scatterpolargl"
           }
          ],
          "scatterternary": [
           {
            "marker": {
             "colorbar": {
              "outlinewidth": 0,
              "ticks": ""
             }
            },
            "type": "scatterternary"
           }
          ],
          "surface": [
           {
            "colorbar": {
             "outlinewidth": 0,
             "ticks": ""
            },
            "colorscale": [
             [
              0,
              "#0d0887"
             ],
             [
              0.1111111111111111,
              "#46039f"
             ],
             [
              0.2222222222222222,
              "#7201a8"
             ],
             [
              0.3333333333333333,
              "#9c179e"
             ],
             [
              0.4444444444444444,
              "#bd3786"
             ],
             [
              0.5555555555555556,
              "#d8576b"
             ],
             [
              0.6666666666666666,
              "#ed7953"
             ],
             [
              0.7777777777777778,
              "#fb9f3a"
             ],
             [
              0.8888888888888888,
              "#fdca26"
             ],
             [
              1,
              "#f0f921"
             ]
            ],
            "type": "surface"
           }
          ],
          "table": [
           {
            "cells": {
             "fill": {
              "color": "#EBF0F8"
             },
             "line": {
              "color": "white"
             }
            },
            "header": {
             "fill": {
              "color": "#C8D4E3"
             },
             "line": {
              "color": "white"
             }
            },
            "type": "table"
           }
          ]
         },
         "layout": {
          "annotationdefaults": {
           "arrowcolor": "#2a3f5f",
           "arrowhead": 0,
           "arrowwidth": 1
          },
          "autotypenumbers": "strict",
          "coloraxis": {
           "colorbar": {
            "outlinewidth": 0,
            "ticks": ""
           }
          },
          "colorscale": {
           "diverging": [
            [
             0,
             "#8e0152"
            ],
            [
             0.1,
             "#c51b7d"
            ],
            [
             0.2,
             "#de77ae"
            ],
            [
             0.3,
             "#f1b6da"
            ],
            [
             0.4,
             "#fde0ef"
            ],
            [
             0.5,
             "#f7f7f7"
            ],
            [
             0.6,
             "#e6f5d0"
            ],
            [
             0.7,
             "#b8e186"
            ],
            [
             0.8,
             "#7fbc41"
            ],
            [
             0.9,
             "#4d9221"
            ],
            [
             1,
             "#276419"
            ]
           ],
           "sequential": [
            [
             0,
             "#0d0887"
            ],
            [
             0.1111111111111111,
             "#46039f"
            ],
            [
             0.2222222222222222,
             "#7201a8"
            ],
            [
             0.3333333333333333,
             "#9c179e"
            ],
            [
             0.4444444444444444,
             "#bd3786"
            ],
            [
             0.5555555555555556,
             "#d8576b"
            ],
            [
             0.6666666666666666,
             "#ed7953"
            ],
            [
             0.7777777777777778,
             "#fb9f3a"
            ],
            [
             0.8888888888888888,
             "#fdca26"
            ],
            [
             1,
             "#f0f921"
            ]
           ],
           "sequentialminus": [
            [
             0,
             "#0d0887"
            ],
            [
             0.1111111111111111,
             "#46039f"
            ],
            [
             0.2222222222222222,
             "#7201a8"
            ],
            [
             0.3333333333333333,
             "#9c179e"
            ],
            [
             0.4444444444444444,
             "#bd3786"
            ],
            [
             0.5555555555555556,
             "#d8576b"
            ],
            [
             0.6666666666666666,
             "#ed7953"
            ],
            [
             0.7777777777777778,
             "#fb9f3a"
            ],
            [
             0.8888888888888888,
             "#fdca26"
            ],
            [
             1,
             "#f0f921"
            ]
           ]
          },
          "colorway": [
           "#636efa",
           "#EF553B",
           "#00cc96",
           "#ab63fa",
           "#FFA15A",
           "#19d3f3",
           "#FF6692",
           "#B6E880",
           "#FF97FF",
           "#FECB52"
          ],
          "font": {
           "color": "#2a3f5f"
          },
          "geo": {
           "bgcolor": "white",
           "lakecolor": "white",
           "landcolor": "#E5ECF6",
           "showlakes": true,
           "showland": true,
           "subunitcolor": "white"
          },
          "hoverlabel": {
           "align": "left"
          },
          "hovermode": "closest",
          "mapbox": {
           "style": "light"
          },
          "paper_bgcolor": "white",
          "plot_bgcolor": "#E5ECF6",
          "polar": {
           "angularaxis": {
            "gridcolor": "white",
            "linecolor": "white",
            "ticks": ""
           },
           "bgcolor": "#E5ECF6",
           "radialaxis": {
            "gridcolor": "white",
            "linecolor": "white",
            "ticks": ""
           }
          },
          "scene": {
           "xaxis": {
            "backgroundcolor": "#E5ECF6",
            "gridcolor": "white",
            "gridwidth": 2,
            "linecolor": "white",
            "showbackground": true,
            "ticks": "",
            "zerolinecolor": "white"
           },
           "yaxis": {
            "backgroundcolor": "#E5ECF6",
            "gridcolor": "white",
            "gridwidth": 2,
            "linecolor": "white",
            "showbackground": true,
            "ticks": "",
            "zerolinecolor": "white"
           },
           "zaxis": {
            "backgroundcolor": "#E5ECF6",
            "gridcolor": "white",
            "gridwidth": 2,
            "linecolor": "white",
            "showbackground": true,
            "ticks": "",
            "zerolinecolor": "white"
           }
          },
          "shapedefaults": {
           "line": {
            "color": "#2a3f5f"
           }
          },
          "ternary": {
           "aaxis": {
            "gridcolor": "white",
            "linecolor": "white",
            "ticks": ""
           },
           "baxis": {
            "gridcolor": "white",
            "linecolor": "white",
            "ticks": ""
           },
           "bgcolor": "#E5ECF6",
           "caxis": {
            "gridcolor": "white",
            "linecolor": "white",
            "ticks": ""
           }
          },
          "title": {
           "x": 0.05
          },
          "xaxis": {
           "automargin": true,
           "gridcolor": "white",
           "linecolor": "white",
           "ticks": "",
           "title": {
            "standoff": 15
           },
           "zerolinecolor": "white",
           "zerolinewidth": 2
          },
          "yaxis": {
           "automargin": true,
           "gridcolor": "white",
           "linecolor": "white",
           "ticks": "",
           "title": {
            "standoff": 15
           },
           "zerolinecolor": "white",
           "zerolinewidth": 2
          }
         }
        },
        "title": {
         "text": "Permutation Test whether <br> OUTAGE.DURATION.MISSING Depends on <br> OUTAGE.START.MISSING"
        },
        "xaxis": {
         "anchor": "y",
         "domain": [
          0,
          1
         ],
         "title": {
          "text": "TVD"
         }
        },
        "yaxis": {
         "anchor": "x",
         "domain": [
          0,
          1
         ],
         "title": {
          "text": "probability"
         }
        }
       }
      }
     },
     "metadata": {},
     "output_type": "display_data"
    },
    {
     "name": "stdout",
     "output_type": "stream",
     "text": [
      "Reject the null hypothesis, \n",
      "it's more likely that OUTAGE.DURATION.MISSING depends on OUTAGE.START.MISSING.\n",
      "0.9678688524590164 0.0\n"
     ]
    }
   ],
   "source": [
    "df['OUTAGE.START.MISSING'] = df['OUTAGE.START'].isna()\n",
    "tvd, p, tvds = permutation_test(df, 'OUTAGE.DURATION.MISSING', 'OUTAGE.START.MISSING')\n",
    "print(tvd, p)"
   ]
  },
  {
   "cell_type": "markdown",
   "metadata": {},
   "source": [
    "We can easily find that, on the other hand, the missingness of the `CAUSE.CATEGORY.DETAIL`, have nothing to do with the missingness of `OUTAGE.DURATION`. Since it only dipicts some additional information of the `CAUSE.CATEGORY`. So we should find that the missingness of the `CAUSE.CATEGORY.DETAIL` is independent of the missingness of the `CAUSE.CATEGORY.DETAIL`. Below, we will check our conjecture."
   ]
  },
  {
   "cell_type": "code",
   "execution_count": 135,
   "metadata": {},
   "outputs": [
    {
     "data": {
      "application/vnd.plotly.v1+json": {
       "config": {
        "plotlyServerURL": "https://plot.ly"
       },
       "data": [
        {
         "alignmentgroup": "True",
         "bingroup": "x",
         "histnorm": "probability",
         "hovertemplate": "0=%{x}<br>probability=%{y}<extra></extra>",
         "legendgroup": "",
         "marker": {
          "color": "#636efa",
          "pattern": {
           "shape": ""
          }
         },
         "name": "",
         "nbinsx": 20,
         "offsetgroup": "",
         "orientation": "v",
         "showlegend": false,
         "type": "histogram",
         "x": [
          0.08695652173913046,
          0.02755058114507103,
          0.06715454154111064,
          0.029702970297029715,
          0.029702970297029715,
          0.06930693069306929,
          0.019801980198019813,
          0.013775290572535487,
          0.07705553164012055,
          0.017649591046061175,
          0.029702970297029715,
          0.019801980198019813,
          0.019801980198019813,
          0.0434782608695652,
          0.019801980198019813,
          0.02367628067154539,
          0.019801980198019813,
          0.04950495049504953,
          0.04950495049504953,
          0.019801980198019813,
          0.02367628067154539,
          0.06930693069306929,
          0.06715454154111064,
          0.006026689625484326,
          0.019801980198019813,
          0.06930693069306929,
          0.039603960396039625,
          0.019801980198019813,
          0.009900990099009906,
          0.013775290572535487,
          0.025828669823504083,
          0.06930693069306929,
          0.019801980198019813,
          0.013775290572535487,
          0.05940594059405943,
          0.0038743004735255805,
          0.006026689625484326,
          0.09083082221265604,
          0.03357727077055529,
          0.02755058114507103,
          0.0792079207920792,
          0.01592767972449423,
          0.02367628067154539,
          0.01592767972449423,
          0.013775290572535487,
          0.04950495049504953,
          0.047352561343090835,
          0.05940594059405943,
          0.02367628067154539,
          0.0038743004735255805,
          0.029702970297029715,
          0.013775290572535487,
          0.05940594059405943,
          0.04950495049504953,
          0.07705553164012055,
          0.02367628067154539,
          0.02367628067154539,
          0.047352561343090835,
          0.06715454154111064,
          0.01592767972449423,
          0.02367628067154539,
          0.009900990099009906,
          0.006026689625484326,
          0.02367628067154539,
          0.04950495049504953,
          0.08910891089108909,
          0.017649591046061175,
          0.04950495049504953,
          0.03745157124408093,
          0.039603960396039625,
          0.039603960396039625,
          0.04950495049504953,
          0.0434782608695652,
          0.019801980198019813,
          0.029702970297029715,
          0.029702970297029715,
          0.02367628067154539,
          0.01592767972449423,
          0.03745157124408093,
          0.0038743004735255805,
          0.13430908308222123,
          0.013775290572535487,
          0.013775290572535487,
          0.06715454154111064,
          0.009900990099009906,
          0.03357727077055529,
          0.0038743004735255805,
          0.029702970297029715,
          0.019801980198019813,
          0.057253551442100745,
          0.05940594059405943,
          0.03357727077055529,
          0.039603960396039625,
          0.06715454154111064,
          0.04950495049504953,
          0.006026689625484326,
          0.006026689625484326,
          0.03357727077055529,
          0.009900990099009906,
          0.029702970297029715,
          0.029702970297029715,
          0.06930693069306929,
          0.029702970297029715,
          0.02367628067154539,
          0.0038743004735255805,
          0.013775290572535487,
          0.02367628067154539,
          0.013775290572535487,
          0.04950495049504953,
          0.029702970297029715,
          0.0038743004735255805,
          0.029702970297029715,
          0.029702970297029715,
          0.019801980198019813,
          0.08910891089108909,
          0.06930693069306929,
          0.04950495049504953,
          0.029702970297029715,
          0.0038743004735255805,
          0.047352561343090835,
          0.04950495049504953,
          0.047352561343090835,
          0.039603960396039625,
          0.039603960396039625,
          0.047352561343090835,
          0.01592767972449423,
          0.04950495049504953,
          0.04950495049504953,
          0.029702970297029715,
          0.039603960396039625,
          0.03357727077055529,
          0.06715454154111064,
          0.013775290572535487,
          0.035729659922513986,
          0.006026689625484326,
          0.039603960396039625,
          0.025828669823504083,
          0.0038743004735255805,
          0.03745157124408093,
          0.009900990099009906,
          0.035729659922513986,
          0.029702970297029715,
          0.029702970297029715,
          0.02367628067154539,
          0.019801980198019813,
          0.029702970297029715,
          0.06930693069306929,
          0.013775290572535487,
          0.057253551442100745,
          0.02367628067154539,
          0.029702970297029715,
          0.01592767972449423,
          0.04950495049504953,
          0.013775290572535487,
          0.04950495049504953,
          0.02367628067154539,
          0.029702970297029715,
          0.057253551442100745,
          0.0038743004735255805,
          0.019801980198019813,
          0.039603960396039625,
          0.03745157124408093,
          0.035729659922513986,
          0.04950495049504953,
          0.025828669823504083,
          0.06715454154111064,
          0.039603960396039625,
          0.025828669823504083,
          0.019801980198019813,
          0.05940594059405943,
          0.013775290572535487,
          0.013775290572535487,
          0.039603960396039625,
          0.039603960396039625,
          0.025828669823504083,
          0.03357727077055529,
          0.057253551442100745,
          0.039603960396039625,
          0.06930693069306929,
          0.025828669823504083,
          0.06715454154111064,
          0.02367628067154539,
          0.013775290572535487,
          0.017649591046061175,
          0.04950495049504953,
          0.01592767972449423,
          0.019801980198019813,
          0.06930693069306929,
          0.039603960396039625,
          0.01592767972449423,
          0.013775290572535487,
          0.013775290572535487,
          0.039603960396039625,
          0.025828669823504083,
          0.08695652173913046,
          0.07705553164012055,
          0.05940594059405943,
          0.057253551442100745,
          0.029702970297029715,
          0.0038743004735255805,
          0.029702970297029715,
          0.11063280241067586,
          0.047352561343090835,
          0.006026689625484326,
          0.02367628067154539,
          0.013775290572535487,
          0.10073181231166595,
          0.02755058114507103,
          0.029702970297029715,
          0.06715454154111064,
          0.0038743004735255805,
          0.009900990099009906,
          0.029702970297029715,
          0.025828669823504083,
          0.0038743004735255805,
          0.047352561343090835,
          0.08695652173913046,
          0.039603960396039625,
          0.0434782608695652,
          0.047352561343090835,
          0.03357727077055529,
          0.019801980198019813,
          0.019801980198019813,
          0.057253551442100745,
          0.039603960396039625,
          0.03357727077055529,
          0.0038743004735255805,
          0.05940594059405943,
          0.009900990099009906,
          0.047352561343090835,
          0.06930693069306929,
          0.039603960396039625,
          0.013775290572535487,
          0.04950495049504953,
          0.12053379250968577,
          0.05940594059405943,
          0.006026689625484326,
          0.05940594059405943,
          0.10073181231166595,
          0.039603960396039625,
          0.0038743004735255805,
          0.013775290572535487,
          0.047352561343090835,
          0.05940594059405943,
          0.04950495049504953,
          0.019801980198019813,
          0.013775290572535487,
          0.029702970297029715,
          0.013775290572535487,
          0.006026689625484326,
          0.039603960396039625,
          0.006026689625484326,
          0.03745157124408093,
          0.029702970297029715,
          0.029702970297029715,
          0.04950495049504953,
          0.04950495049504953,
          0.01592767972449423,
          0.1188118811881188,
          0.057253551442100745,
          0.15411106328024105,
          0.019801980198019813,
          0.02367628067154539,
          0.14421007318123114,
          0.029702970297029715,
          0.03357727077055529,
          0.09083082221265604,
          0.06715454154111064,
          0.019801980198019813,
          0.025828669823504083,
          0.02367628067154539,
          0.047352561343090835,
          0.019801980198019813,
          0.05940594059405943,
          0.04950495049504953,
          0.039603960396039625,
          0.029702970297029715,
          0.04950495049504953,
          0.006026689625484326,
          0.029702970297029715,
          0.0792079207920792,
          0.019801980198019813,
          0.0038743004735255805,
          0.057253551442100745,
          0.02367628067154539,
          0.019801980198019813,
          0.04950495049504953,
          0.006026689625484326,
          0.039603960396039625,
          0.013775290572535487,
          0.01592767972449423,
          0,
          0.013775290572535487,
          0.03357727077055529,
          0.04950495049504953,
          0.03357727077055529,
          0.01592767972449423,
          0.006026689625484326,
          0.039603960396039625,
          0.06930693069306929,
          0.02367628067154539,
          0.02367628067154539,
          0.02367628067154539,
          0.06930693069306929,
          0.029702970297029715,
          0.035729659922513986,
          0.0038743004735255805,
          0.02367628067154539,
          0.029702970297029715,
          0.047352561343090835,
          0.006026689625484326,
          0.02367628067154539,
          0.04950495049504953,
          0.02367628067154539,
          0.01592767972449423,
          0.03357727077055529,
          0.01592767972449423,
          0.002152389151958631,
          0.03745157124408093,
          0.06715454154111064,
          0.047352561343090835,
          0.06930693069306929,
          0.0038743004735255805,
          0,
          0.06930693069306929,
          0.11063280241067586,
          0.07705553164012055,
          0.019801980198019813,
          0.02367628067154539,
          0.04950495049504953,
          0.029702970297029715,
          0.06715454154111064,
          0.05940594059405943,
          0.006026689625484326,
          0.039603960396039625,
          0.01592767972449423,
          0.10073181231166595,
          0.039603960396039625,
          0.047352561343090835,
          0.006026689625484326,
          0.07705553164012055,
          0.039603960396039625,
          0.03745157124408093,
          0.009900990099009906,
          0.029702970297029715,
          0.019801980198019813,
          0.02367628067154539,
          0.06715454154111064,
          0.01592767972449423,
          0.029702970297029715,
          0.04950495049504953,
          0.009900990099009906,
          0.047352561343090835,
          0.039603960396039625,
          0.02367628067154539,
          0.013775290572535487,
          0,
          0.03357727077055529,
          0.047352561343090835,
          0.0038743004735255805,
          0.02367628067154539,
          0.02367628067154539,
          0.01592767972449423,
          0.0792079207920792,
          0.029702970297029715,
          0.009900990099009906,
          0.02367628067154539,
          0.007748600947051272,
          0.06715454154111064,
          0.029702970297029715,
          0.04950495049504953,
          0.029702970297029715,
          0.02367628067154539,
          0.04950495049504953,
          0.04950495049504953,
          0.04950495049504953,
          0.02755058114507103,
          0.047352561343090835,
          0.047352561343090835,
          0.03357727077055529,
          0.01592767972449423,
          0.0038743004735255805,
          0.029702970297029715,
          0.08910891089108909,
          0.08092983211364613,
          0.02367628067154539,
          0.0038743004735255805,
          0.035729659922513986,
          0.019801980198019813,
          0.039603960396039625,
          0.057253551442100745,
          0.0038743004735255805,
          0.039603960396039625,
          0.029702970297029715,
          0.047352561343090835,
          0.039603960396039625,
          0.03357727077055529,
          0.029702970297029715,
          0.047352561343090835,
          0.013775290572535487,
          0.02367628067154539,
          0.08910891089108909,
          0.039603960396039625,
          0.009900990099009906,
          0.013775290572535487,
          0.029702970297029715,
          0.0038743004735255805,
          0.006026689625484326,
          0.12053379250968577,
          0.057253551442100745,
          0.006026689625484326,
          0.04950495049504953,
          0.007748600947051272,
          0.02755058114507103,
          0.029702970297029715,
          0.013775290572535487,
          0.013775290572535487,
          0.013775290572535487,
          0.05940594059405943,
          0.013775290572535487,
          0.05940594059405943,
          0.01592767972449423,
          0.09083082221265604,
          0.019801980198019813,
          0.05940594059405943,
          0.03357727077055529,
          0.009900990099009906,
          0.006026689625484326,
          0.025828669823504083,
          0.057253551442100745,
          0.019801980198019813,
          0.06930693069306929,
          0.025828669823504083,
          0.02367628067154539,
          0.02367628067154539,
          0.10073181231166595,
          0.013775290572535487,
          0.025828669823504083,
          0.06930693069306929,
          0.013775290572535487,
          0.025828669823504083,
          0.013775290572535487,
          0.04950495049504953,
          0.03745157124408093,
          0.04950495049504953,
          0.009900990099009906,
          0.03745157124408093,
          0.017649591046061175,
          0.013775290572535487,
          0.013775290572535487,
          0.06715454154111064,
          0.02755058114507103,
          0.0038743004735255805,
          0.047352561343090835,
          0.0038743004735255805,
          0.0038743004735255805,
          0.057253551442100745,
          0.039603960396039625,
          0.057253551442100745,
          0.047352561343090835,
          0.039603960396039625,
          0.019801980198019813,
          0.05940594059405943,
          0.04950495049504953,
          0.04950495049504953,
          0.05940594059405943,
          0.01592767972449423,
          0.0038743004735255805,
          0.039603960396039625,
          0.0038743004735255805,
          0.03357727077055529,
          0.04950495049504953,
          0.057253551442100745,
          0.02755058114507103,
          0.013775290572535487,
          0.013775290572535487,
          0.051226861816616474,
          0.02367628067154539,
          0.02367628067154539,
          0.013775290572535487,
          0.025828669823504083,
          0.04950495049504953,
          0.013775290572535487,
          0.019801980198019813,
          0.01592767972449423,
          0.013775290572535487,
          0.07102884201463623,
          0.0038743004735255805,
          0.029702970297029715,
          0.06930693069306929,
          0.05940594059405943,
          0.07102884201463623,
          0.047352561343090835,
          0.0038743004735255805,
          0.06930693069306929,
          0.02367628067154539,
          0.013775290572535487,
          0.057253551442100745,
          0,
          0.039603960396039625
         ],
         "xaxis": "x",
         "yaxis": "y"
        }
       ],
       "layout": {
        "annotations": [
         {
          "showarrow": false,
          "text": "<span style=\"color:red\">Observed TVD = 0.01, p_value = 0.89</span>",
          "x": 0.4,
          "y": 0.1
         }
        ],
        "barmode": "relative",
        "legend": {
         "tracegroupgap": 0
        },
        "margin": {
         "t": 60
        },
        "shapes": [
         {
          "line": {
           "color": "red"
          },
          "type": "line",
          "x0": 0.009900990099009906,
          "x1": 0.009900990099009906,
          "xref": "x",
          "y0": 0,
          "y1": 1,
          "yref": "y domain"
         }
        ],
        "template": {
         "data": {
          "bar": [
           {
            "error_x": {
             "color": "#2a3f5f"
            },
            "error_y": {
             "color": "#2a3f5f"
            },
            "marker": {
             "line": {
              "color": "#E5ECF6",
              "width": 0.5
             },
             "pattern": {
              "fillmode": "overlay",
              "size": 10,
              "solidity": 0.2
             }
            },
            "type": "bar"
           }
          ],
          "barpolar": [
           {
            "marker": {
             "line": {
              "color": "#E5ECF6",
              "width": 0.5
             },
             "pattern": {
              "fillmode": "overlay",
              "size": 10,
              "solidity": 0.2
             }
            },
            "type": "barpolar"
           }
          ],
          "carpet": [
           {
            "aaxis": {
             "endlinecolor": "#2a3f5f",
             "gridcolor": "white",
             "linecolor": "white",
             "minorgridcolor": "white",
             "startlinecolor": "#2a3f5f"
            },
            "baxis": {
             "endlinecolor": "#2a3f5f",
             "gridcolor": "white",
             "linecolor": "white",
             "minorgridcolor": "white",
             "startlinecolor": "#2a3f5f"
            },
            "type": "carpet"
           }
          ],
          "choropleth": [
           {
            "colorbar": {
             "outlinewidth": 0,
             "ticks": ""
            },
            "type": "choropleth"
           }
          ],
          "contour": [
           {
            "colorbar": {
             "outlinewidth": 0,
             "ticks": ""
            },
            "colorscale": [
             [
              0,
              "#0d0887"
             ],
             [
              0.1111111111111111,
              "#46039f"
             ],
             [
              0.2222222222222222,
              "#7201a8"
             ],
             [
              0.3333333333333333,
              "#9c179e"
             ],
             [
              0.4444444444444444,
              "#bd3786"
             ],
             [
              0.5555555555555556,
              "#d8576b"
             ],
             [
              0.6666666666666666,
              "#ed7953"
             ],
             [
              0.7777777777777778,
              "#fb9f3a"
             ],
             [
              0.8888888888888888,
              "#fdca26"
             ],
             [
              1,
              "#f0f921"
             ]
            ],
            "type": "contour"
           }
          ],
          "contourcarpet": [
           {
            "colorbar": {
             "outlinewidth": 0,
             "ticks": ""
            },
            "type": "contourcarpet"
           }
          ],
          "heatmap": [
           {
            "colorbar": {
             "outlinewidth": 0,
             "ticks": ""
            },
            "colorscale": [
             [
              0,
              "#0d0887"
             ],
             [
              0.1111111111111111,
              "#46039f"
             ],
             [
              0.2222222222222222,
              "#7201a8"
             ],
             [
              0.3333333333333333,
              "#9c179e"
             ],
             [
              0.4444444444444444,
              "#bd3786"
             ],
             [
              0.5555555555555556,
              "#d8576b"
             ],
             [
              0.6666666666666666,
              "#ed7953"
             ],
             [
              0.7777777777777778,
              "#fb9f3a"
             ],
             [
              0.8888888888888888,
              "#fdca26"
             ],
             [
              1,
              "#f0f921"
             ]
            ],
            "type": "heatmap"
           }
          ],
          "heatmapgl": [
           {
            "colorbar": {
             "outlinewidth": 0,
             "ticks": ""
            },
            "colorscale": [
             [
              0,
              "#0d0887"
             ],
             [
              0.1111111111111111,
              "#46039f"
             ],
             [
              0.2222222222222222,
              "#7201a8"
             ],
             [
              0.3333333333333333,
              "#9c179e"
             ],
             [
              0.4444444444444444,
              "#bd3786"
             ],
             [
              0.5555555555555556,
              "#d8576b"
             ],
             [
              0.6666666666666666,
              "#ed7953"
             ],
             [
              0.7777777777777778,
              "#fb9f3a"
             ],
             [
              0.8888888888888888,
              "#fdca26"
             ],
             [
              1,
              "#f0f921"
             ]
            ],
            "type": "heatmapgl"
           }
          ],
          "histogram": [
           {
            "marker": {
             "pattern": {
              "fillmode": "overlay",
              "size": 10,
              "solidity": 0.2
             }
            },
            "type": "histogram"
           }
          ],
          "histogram2d": [
           {
            "colorbar": {
             "outlinewidth": 0,
             "ticks": ""
            },
            "colorscale": [
             [
              0,
              "#0d0887"
             ],
             [
              0.1111111111111111,
              "#46039f"
             ],
             [
              0.2222222222222222,
              "#7201a8"
             ],
             [
              0.3333333333333333,
              "#9c179e"
             ],
             [
              0.4444444444444444,
              "#bd3786"
             ],
             [
              0.5555555555555556,
              "#d8576b"
             ],
             [
              0.6666666666666666,
              "#ed7953"
             ],
             [
              0.7777777777777778,
              "#fb9f3a"
             ],
             [
              0.8888888888888888,
              "#fdca26"
             ],
             [
              1,
              "#f0f921"
             ]
            ],
            "type": "histogram2d"
           }
          ],
          "histogram2dcontour": [
           {
            "colorbar": {
             "outlinewidth": 0,
             "ticks": ""
            },
            "colorscale": [
             [
              0,
              "#0d0887"
             ],
             [
              0.1111111111111111,
              "#46039f"
             ],
             [
              0.2222222222222222,
              "#7201a8"
             ],
             [
              0.3333333333333333,
              "#9c179e"
             ],
             [
              0.4444444444444444,
              "#bd3786"
             ],
             [
              0.5555555555555556,
              "#d8576b"
             ],
             [
              0.6666666666666666,
              "#ed7953"
             ],
             [
              0.7777777777777778,
              "#fb9f3a"
             ],
             [
              0.8888888888888888,
              "#fdca26"
             ],
             [
              1,
              "#f0f921"
             ]
            ],
            "type": "histogram2dcontour"
           }
          ],
          "mesh3d": [
           {
            "colorbar": {
             "outlinewidth": 0,
             "ticks": ""
            },
            "type": "mesh3d"
           }
          ],
          "parcoords": [
           {
            "line": {
             "colorbar": {
              "outlinewidth": 0,
              "ticks": ""
             }
            },
            "type": "parcoords"
           }
          ],
          "pie": [
           {
            "automargin": true,
            "type": "pie"
           }
          ],
          "scatter": [
           {
            "fillpattern": {
             "fillmode": "overlay",
             "size": 10,
             "solidity": 0.2
            },
            "type": "scatter"
           }
          ],
          "scatter3d": [
           {
            "line": {
             "colorbar": {
              "outlinewidth": 0,
              "ticks": ""
             }
            },
            "marker": {
             "colorbar": {
              "outlinewidth": 0,
              "ticks": ""
             }
            },
            "type": "scatter3d"
           }
          ],
          "scattercarpet": [
           {
            "marker": {
             "colorbar": {
              "outlinewidth": 0,
              "ticks": ""
             }
            },
            "type": "scattercarpet"
           }
          ],
          "scattergeo": [
           {
            "marker": {
             "colorbar": {
              "outlinewidth": 0,
              "ticks": ""
             }
            },
            "type": "scattergeo"
           }
          ],
          "scattergl": [
           {
            "marker": {
             "colorbar": {
              "outlinewidth": 0,
              "ticks": ""
             }
            },
            "type": "scattergl"
           }
          ],
          "scattermapbox": [
           {
            "marker": {
             "colorbar": {
              "outlinewidth": 0,
              "ticks": ""
             }
            },
            "type": "scattermapbox"
           }
          ],
          "scatterpolar": [
           {
            "marker": {
             "colorbar": {
              "outlinewidth": 0,
              "ticks": ""
             }
            },
            "type": "scatterpolar"
           }
          ],
          "scatterpolargl": [
           {
            "marker": {
             "colorbar": {
              "outlinewidth": 0,
              "ticks": ""
             }
            },
            "type": "scatterpolargl"
           }
          ],
          "scatterternary": [
           {
            "marker": {
             "colorbar": {
              "outlinewidth": 0,
              "ticks": ""
             }
            },
            "type": "scatterternary"
           }
          ],
          "surface": [
           {
            "colorbar": {
             "outlinewidth": 0,
             "ticks": ""
            },
            "colorscale": [
             [
              0,
              "#0d0887"
             ],
             [
              0.1111111111111111,
              "#46039f"
             ],
             [
              0.2222222222222222,
              "#7201a8"
             ],
             [
              0.3333333333333333,
              "#9c179e"
             ],
             [
              0.4444444444444444,
              "#bd3786"
             ],
             [
              0.5555555555555556,
              "#d8576b"
             ],
             [
              0.6666666666666666,
              "#ed7953"
             ],
             [
              0.7777777777777778,
              "#fb9f3a"
             ],
             [
              0.8888888888888888,
              "#fdca26"
             ],
             [
              1,
              "#f0f921"
             ]
            ],
            "type": "surface"
           }
          ],
          "table": [
           {
            "cells": {
             "fill": {
              "color": "#EBF0F8"
             },
             "line": {
              "color": "white"
             }
            },
            "header": {
             "fill": {
              "color": "#C8D4E3"
             },
             "line": {
              "color": "white"
             }
            },
            "type": "table"
           }
          ]
         },
         "layout": {
          "annotationdefaults": {
           "arrowcolor": "#2a3f5f",
           "arrowhead": 0,
           "arrowwidth": 1
          },
          "autotypenumbers": "strict",
          "coloraxis": {
           "colorbar": {
            "outlinewidth": 0,
            "ticks": ""
           }
          },
          "colorscale": {
           "diverging": [
            [
             0,
             "#8e0152"
            ],
            [
             0.1,
             "#c51b7d"
            ],
            [
             0.2,
             "#de77ae"
            ],
            [
             0.3,
             "#f1b6da"
            ],
            [
             0.4,
             "#fde0ef"
            ],
            [
             0.5,
             "#f7f7f7"
            ],
            [
             0.6,
             "#e6f5d0"
            ],
            [
             0.7,
             "#b8e186"
            ],
            [
             0.8,
             "#7fbc41"
            ],
            [
             0.9,
             "#4d9221"
            ],
            [
             1,
             "#276419"
            ]
           ],
           "sequential": [
            [
             0,
             "#0d0887"
            ],
            [
             0.1111111111111111,
             "#46039f"
            ],
            [
             0.2222222222222222,
             "#7201a8"
            ],
            [
             0.3333333333333333,
             "#9c179e"
            ],
            [
             0.4444444444444444,
             "#bd3786"
            ],
            [
             0.5555555555555556,
             "#d8576b"
            ],
            [
             0.6666666666666666,
             "#ed7953"
            ],
            [
             0.7777777777777778,
             "#fb9f3a"
            ],
            [
             0.8888888888888888,
             "#fdca26"
            ],
            [
             1,
             "#f0f921"
            ]
           ],
           "sequentialminus": [
            [
             0,
             "#0d0887"
            ],
            [
             0.1111111111111111,
             "#46039f"
            ],
            [
             0.2222222222222222,
             "#7201a8"
            ],
            [
             0.3333333333333333,
             "#9c179e"
            ],
            [
             0.4444444444444444,
             "#bd3786"
            ],
            [
             0.5555555555555556,
             "#d8576b"
            ],
            [
             0.6666666666666666,
             "#ed7953"
            ],
            [
             0.7777777777777778,
             "#fb9f3a"
            ],
            [
             0.8888888888888888,
             "#fdca26"
            ],
            [
             1,
             "#f0f921"
            ]
           ]
          },
          "colorway": [
           "#636efa",
           "#EF553B",
           "#00cc96",
           "#ab63fa",
           "#FFA15A",
           "#19d3f3",
           "#FF6692",
           "#B6E880",
           "#FF97FF",
           "#FECB52"
          ],
          "font": {
           "color": "#2a3f5f"
          },
          "geo": {
           "bgcolor": "white",
           "lakecolor": "white",
           "landcolor": "#E5ECF6",
           "showlakes": true,
           "showland": true,
           "subunitcolor": "white"
          },
          "hoverlabel": {
           "align": "left"
          },
          "hovermode": "closest",
          "mapbox": {
           "style": "light"
          },
          "paper_bgcolor": "white",
          "plot_bgcolor": "#E5ECF6",
          "polar": {
           "angularaxis": {
            "gridcolor": "white",
            "linecolor": "white",
            "ticks": ""
           },
           "bgcolor": "#E5ECF6",
           "radialaxis": {
            "gridcolor": "white",
            "linecolor": "white",
            "ticks": ""
           }
          },
          "scene": {
           "xaxis": {
            "backgroundcolor": "#E5ECF6",
            "gridcolor": "white",
            "gridwidth": 2,
            "linecolor": "white",
            "showbackground": true,
            "ticks": "",
            "zerolinecolor": "white"
           },
           "yaxis": {
            "backgroundcolor": "#E5ECF6",
            "gridcolor": "white",
            "gridwidth": 2,
            "linecolor": "white",
            "showbackground": true,
            "ticks": "",
            "zerolinecolor": "white"
           },
           "zaxis": {
            "backgroundcolor": "#E5ECF6",
            "gridcolor": "white",
            "gridwidth": 2,
            "linecolor": "white",
            "showbackground": true,
            "ticks": "",
            "zerolinecolor": "white"
           }
          },
          "shapedefaults": {
           "line": {
            "color": "#2a3f5f"
           }
          },
          "ternary": {
           "aaxis": {
            "gridcolor": "white",
            "linecolor": "white",
            "ticks": ""
           },
           "baxis": {
            "gridcolor": "white",
            "linecolor": "white",
            "ticks": ""
           },
           "bgcolor": "#E5ECF6",
           "caxis": {
            "gridcolor": "white",
            "linecolor": "white",
            "ticks": ""
           }
          },
          "title": {
           "x": 0.05
          },
          "xaxis": {
           "automargin": true,
           "gridcolor": "white",
           "linecolor": "white",
           "ticks": "",
           "title": {
            "standoff": 15
           },
           "zerolinecolor": "white",
           "zerolinewidth": 2
          },
          "yaxis": {
           "automargin": true,
           "gridcolor": "white",
           "linecolor": "white",
           "ticks": "",
           "title": {
            "standoff": 15
           },
           "zerolinecolor": "white",
           "zerolinewidth": 2
          }
         }
        },
        "title": {
         "text": "Permutation Test whether <br> OUTAGE.DURATION.MISSING Depends on <br> CAUSE.CATEGORY.DETAIL"
        },
        "xaxis": {
         "anchor": "y",
         "domain": [
          0,
          1
         ],
         "title": {
          "text": "TVD"
         }
        },
        "yaxis": {
         "anchor": "x",
         "domain": [
          0,
          1
         ],
         "title": {
          "text": "probability"
         }
        }
       }
      }
     },
     "metadata": {},
     "output_type": "display_data"
    },
    {
     "name": "stdout",
     "output_type": "stream",
     "text": [
      "Fail to reject the null hypothesis, \n",
      "it's more likely that OUTAGE.DURATION.MISSING does not depend on CAUSE.CATEGORY.DETAIL.\n",
      "0.009900990099009906 0.89\n"
     ]
    }
   ],
   "source": [
    "df['CAUSE.CATEGORY.DETAIL.MISSING'] = df['CAUSE.CATEGORY.DETAIL'].isna()\n",
    "tvd, p, tvds = permutation_test(df, 'OUTAGE.DURATION.MISSING', 'CAUSE.CATEGORY.DETAIL')\n",
    "print(tvd, p)"
   ]
  },
  {
   "cell_type": "markdown",
   "metadata": {},
   "source": [
    "The plot result shows that p-value is 0.89, which is largely greater than the significance level of 5%, so we fail to reject the null hypothesis. Hence, we conclude that the missingness of `OUTAGE.DURATION` does not depend on the missingness of `CAUSE.CATEGORY.DETAIL`."
   ]
  },
  {
   "cell_type": "markdown",
   "metadata": {},
   "source": [
    "### Hypothesis Testing"
   ]
  },
  {
   "cell_type": "markdown",
   "metadata": {},
   "source": [
    "\n",
    "### Permutation Test"
   ]
  },
  {
   "cell_type": "markdown",
   "metadata": {},
   "source": [
    "Going back to our investigation topic, we are investigating does climate category affect the duration of a power outage. Recalling the plot in the interesting aggregates part, we intuitively propose the idea that there are some relationships between the climate and the duration of power outages. But observation alone cannot be a good indicator. So we determined a good way to test is making a hypothesis test."
   ]
  },
  {
   "cell_type": "markdown",
   "metadata": {},
   "source": [
    "We think that permutation test on the distribution of outage durations in the warm climate areas and the distribution in the cold climate areas to see whether there is an actual increase in duration time to wamrer areas or not."
   ]
  },
  {
   "cell_type": "markdown",
   "metadata": {},
   "source": [
    "Null hypothesis: the outage duration time in the warm climate and the cold climate comes from the same distribution.\n",
    "\n",
    "Alternative hypothesis: the outage duration time in the warm climate and the cold climate comes from different distributions.\n",
    "\n",
    "Significance level: 5%. \n",
    "\n",
    "Number of permutation test rounds: 500."
   ]
  },
  {
   "cell_type": "markdown",
   "metadata": {},
   "source": [
    "Test statistics: the outage duration is numeric data rather than categorical. And recall that numeric data uses diff of means, which the categorical data uses TVD. Thereby, we use the diff of means as our test statistics."
   ]
  },
  {
   "cell_type": "markdown",
   "metadata": {},
   "source": [
    "The value is numeric rather than category, so we use the absolute difference between the mean of the two groups to check it. Recall the formula:\n",
    "\n",
    "$$\n",
    "diff\\_of\\_means(A,B) = |\\dfrac 1n\\sum_{i=1}^nA_i\n",
    "- \\dfrac 1m\\sum_{i=1}^mB_i|\n",
    "$$\n",
    "\n",
    "Using the similar way, we write codes of the permutation test below."
   ]
  },
  {
   "cell_type": "code",
   "execution_count": 136,
   "metadata": {
    "ExecuteTime": {
     "end_time": "2019-10-31T23:36:28.666489Z",
     "start_time": "2019-10-31T23:36:28.664381Z"
    }
   },
   "outputs": [],
   "source": [
    "def diff_of_means(df, col1, col2, v1, v2):\n",
    "    mean1 = df[df[col2] == v1][col1].mean()\n",
    "    mean2 = df[df[col2] == v2][col1].mean()\n",
    "    return abs(mean1 - mean2)\n",
    "def report_hyp(observed, p_value, simluated, col1, col2, v1, v2):\n",
    "    # plot\n",
    "    fig = px.histogram(pd.DataFrame(simluated), x=0, nbins=20, histnorm='probability')\n",
    "    fig.add_vline(x=observed, line_color='red')\n",
    "    fig.add_annotation(text=f'<span style=\"color:red\">Observed = {round(observed, 2)}, p_value = {round(p_value ,2)}</span>',\n",
    "                   x= 0.4, showarrow=False, y=0.1)\n",
    "    fig.update_layout(title = f\"Empirical Distribution to check whether <br> {col1} Have Different Distribution when <br> {col2} is {v1} and {v2}\", xaxis_title=\"Diff of Means\")\n",
    "    fig.show()\n",
    "    export_plotly_fig(fig, filename=f'hyp_{col1}_{col2}_{v1}_{v2}.html')\n",
    "    \n",
    "    # make conclusion\n",
    "    if p_value < 0.05:\n",
    "        print(f'Reject the null hypothesis, \\nit\\'s more likely that {col1} is different when {col2} is {v1} and {v2}.')\n",
    "    else:\n",
    "        print(f'Fail to reject the null hypothesis, \\nit\\'s more likely that {col1} is same when {col2} is {v1} and {v2}.')\n",
    "def hypothesis_test(df, col1, col2, v1, v2, rounds=500):\n",
    "    observed = diff_of_means(df, col1, col2, v1, v2)\n",
    "    df2 = df.copy()\n",
    "    simulated = np.zeros(rounds)\n",
    "    for _ in range(rounds):\n",
    "        df2[col2] = df[col2].sample(frac=1).reset_index(drop=True)\n",
    "        simulated[_] = diff_of_means(df2, col1, col2, v1, v2)\n",
    "    p_value = np.mean(simulated >= observed)\n",
    "    report_hyp(observed, p_value, simulated, col1, col2, v1, v2)\n",
    "    return observed, p_value"
   ]
  },
  {
   "cell_type": "code",
   "execution_count": 137,
   "metadata": {},
   "outputs": [
    {
     "data": {
      "application/vnd.plotly.v1+json": {
       "config": {
        "plotlyServerURL": "https://plot.ly"
       },
       "data": [
        {
         "alignmentgroup": "True",
         "bingroup": "x",
         "histnorm": "probability",
         "hovertemplate": "0=%{x}<br>probability=%{y}<extra></extra>",
         "legendgroup": "",
         "marker": {
          "color": "#636efa",
          "pattern": {
           "shape": ""
          }
         },
         "name": "",
         "nbinsx": 20,
         "offsetgroup": "",
         "orientation": "v",
         "showlegend": false,
         "type": "histogram",
         "x": [
          439.1977066411846,
          4.176527728717701,
          147.9771184940396,
          199.6436637764068,
          275.7937470800671,
          465.1692552117361,
          378.8837728405315,
          354.25806260022546,
          79.91013756203711,
          100.14181160223006,
          42.513761059979515,
          43.780804601100044,
          120.17777056532486,
          648.7997500781003,
          541.5691999970259,
          456.21317302044054,
          423.09159752354344,
          601.2557865425133,
          44.53699273436132,
          449.6246031214914,
          224.17056185781348,
          876.6912969156451,
          51.04443350635438,
          60.2540186109195,
          263.56852765399344,
          391.93186320894165,
          729.6296599969914,
          171.36071934379834,
          242.68881035814002,
          150.56669224065354,
          498.9713476047532,
          881.1945049409605,
          201.5887959866218,
          551.7698483496879,
          639.8279612622161,
          64.96740205372998,
          17.14565637065607,
          63.39116569513044,
          364.2928406875776,
          358.267033863729,
          268.11763882545347,
          52.01128701806692,
          751.0715628356606,
          220.3000855659152,
          348.8225277161864,
          283.3599949287036,
          51.06252078986381,
          496.12360102393177,
          8.727272727272975,
          216.99063537221446,
          64.4656687773072,
          100.6817914831131,
          282.0016481558473,
          2.711879140313613,
          307.4778708671802,
          168.06664449371783,
          303.84411220487027,
          63.568536239588866,
          928.2987006237004,
          644.5806038837131,
          186.8505441281991,
          232.6329303925213,
          246.62185264400023,
          244.88765046483877,
          337.1939735099336,
          358.05619788278455,
          236.1643702526053,
          159.15357116313635,
          995.2469264120687,
          485.26361655773417,
          631.9069609134826,
          480.0120978235818,
          61.729538484553814,
          205.75522048572884,
          93.64322040292745,
          381.6191624692083,
          117.60375536239735,
          1062.6163679095846,
          90.37489156484753,
          385.125228169346,
          20.07218855218889,
          561.7439544807967,
          377.54529231688184,
          12.079044393153708,
          336.96232086786995,
          33.75755474017069,
          391.6596852168227,
          285.9163603625052,
          761.3869588615166,
          24.63780227596044,
          142.23055187637965,
          325.57498064874153,
          289.45263265634367,
          25.7005690107967,
          177.58641842524958,
          110.31722891387744,
          96.07530753075343,
          299.838799684519,
          183.76731800431298,
          157.4344959388436,
          203.0962912251457,
          11.92052631578963,
          69.37014399280042,
          218.77520301049708,
          146.6615953702044,
          122.92912846767467,
          267.8275789123768,
          252.82100705146513,
          632.2007560262409,
          429.2706193263257,
          638.460308370044,
          489.15132299405104,
          69.27595174564976,
          36.80984734780532,
          409.41808125261923,
          133.24392098375483,
          101.51598220522783,
          441.84615097438973,
          625.7551169590643,
          686.8873724718096,
          142.64680355708788,
          330.95900543623566,
          492.0974817342285,
          310.3988871591273,
          174.1611626687927,
          763.4463314463314,
          272.91789863313033,
          226.23557365406987,
          121.31308739569613,
          331.4228438228438,
          553.0880530973454,
          6.748820928518853,
          358.75510143945303,
          482.96361115024956,
          499.0410304484776,
          106.54791035282642,
          478.7509024745268,
          692.5942760451612,
          271.65609966145985,
          626.5662624545075,
          368.89897963595513,
          404.0496881496879,
          300.83767875959666,
          270.7447740112998,
          180.14166271213253,
          213.2428589321371,
          542.8007159195554,
          162.62059580068217,
          24.554384672070682,
          852.007817109145,
          88.31086660549909,
          738.4662038891113,
          136.53215202876254,
          499.01986754966856,
          624.1053973013495,
          294.7899425974647,
          554.6335729418884,
          346.5010989010989,
          785.5472016591734,
          681.1306744920189,
          133.58309230335635,
          318.9638345102949,
          775.9668819476483,
          600.1678913786322,
          186.47126145969787,
          509.4213162818796,
          139.23646366465573,
          10.25048664981523,
          181.03613525419678,
          248.7353377876766,
          604.740517760385,
          466.48472004186306,
          77.89394481730051,
          331.6690631402498,
          166.17949411199197,
          859.051066087723,
          198.44599049599037,
          409.35200668896323,
          328.8341562269711,
          556.1461317193025,
          188.4389525512147,
          33.58174409496223,
          656.0994528847893,
          389.4520437485339,
          303.0546078112525,
          397.01677852348985,
          556.5253863134658,
          69.0960042668562,
          443.91459123885943,
          135.23752746926402,
          722.2958089668618,
          673.7936769005846,
          188.75473801560793,
          527.0775518341311,
          241.15059722885826,
          399.5008733624454,
          412.54015431676044,
          322.42275966058605,
          942.3315628842761,
          895.904650316571,
          378.9914834620713,
          16.53249081622198,
          123.85661044128983,
          456.035224760501,
          164.60525016761312,
          581.7493550322483,
          144.40139012786221,
          564.3640386459178,
          15.98064340640758,
          226.01948575955203,
          222.61927065418604,
          227.84965257715157,
          876.0032780778542,
          379.38980878429766,
          186.81335904758362,
          94.94837490108739,
          839.7841921591921,
          1.0603917821308642,
          384.3982119575344,
          237.3961362322707,
          262.2651524234884,
          82.58365256124716,
          831.7804913867799,
          414.8588974324789,
          696.1870805182061,
          258.0119108529466,
          57.67841065652874,
          277.9956521739132,
          346.82861625731675,
          360.7808958485607,
          278.0260906003268,
          44.748804113848564,
          608.7693420101232,
          756.2475389296583,
          448.17114190157645,
          103.05973925467288,
          181.8805309734512,
          176.55086657702077,
          240.14273874412038,
          695.861865353831,
          224.33222208752568,
          285.77933620433623,
          167.96230833482514,
          103.03404360970308,
          782.3131187933996,
          297.5312943871704,
          623.1806156806156,
          128.35332134345163,
          11.365003976650314,
          345.38552206348686,
          457.1347953216373,
          265.4137226628213,
          75.74387280635983,
          1.6541020623212717,
          178.392970681738,
          412.49060036385663,
          574.7139618182487,
          723.5487901551469,
          30.945262873361116,
          86.49760609760597,
          554.1007485963819,
          229.19977649469183,
          467.1495633187774,
          115.65640567309401,
          1049.4072495791247,
          358.4881814114833,
          345.4037639839862,
          303.62178072111874,
          175.54412280701717,
          634.937725140782,
          307.3026341849868,
          376.88803935514443,
          198.84227379553477,
          39.687308679946,
          476.41775949070006,
          816.1186531505382,
          255.19748358862125,
          37.515683290058405,
          36.69724052115362,
          1035.448195723196,
          345.23058122604243,
          15.192966075318964,
          18.122927609043472,
          642.9999246704333,
          893.5675824175828,
          756.907496612976,
          814.0621428571426,
          306.1558434808435,
          632.7193575154101,
          305.1208424908423,
          761.0692242314117,
          568.7812329995736,
          506.0550435058094,
          553.7058883994127,
          375.9503935253938,
          91.6027321660772,
          72.05913249745845,
          17.176381153093644,
          357.4187747705273,
          370.82175072672226,
          453.129258098224,
          584.6818580922536,
          329.14882008808263,
          699.2945054945053,
          124.99545539206565,
          24.135462292541888,
          268.72005454789314,
          218.579074935863,
          200.11998884946024,
          281.4014188154947,
          217.18053097345137,
          279.7559169287738,
          281.1795153530911,
          498.355811589292,
          477.5646427943502,
          368.17401658865083,
          850.6288513333529,
          375.1993565794937,
          382.39887459335887,
          18.2895389553546,
          109.96758876191734,
          598.3733733733734,
          343.91949362526475,
          64.61475135034425,
          161.31455838740612,
          230.6699065143198,
          170.20600666746031,
          978.9662453806354,
          232.74425605383158,
          824.6288844979345,
          118.03016924208987,
          169.08662607227006,
          24.07478670723731,
          86.45569874551666,
          401.449696969697,
          96.98875278396463,
          362.0171295426362,
          57.7621662990141,
          47.92899372586908,
          344.1798920086394,
          455.5039122464491,
          23.252190553684613,
          765.2890661349284,
          487.32022019334045,
          543.7698996655517,
          432.3881015452539,
          343.6033198601208,
          513.6274387712747,
          297.71602401088194,
          358.1765600201725,
          98.54397182417324,
          15.01156752341194,
          315.4718839888519,
          407.3685791640396,
          11.185559620697404,
          124.77431696042686,
          142.93023255813978,
          183.855511982571,
          601.0022129116014,
          1153.0567957092348,
          355.06460690625545,
          40.87934652833883,
          289.02904220009486,
          343.65370555001664,
          452.2621568921554,
          520.0075753065839,
          340.79489764830487,
          157.2692797540626,
          192.50188423717827,
          48.41097820525192,
          256.47281419658066,
          26.629665255868076,
          55.9178348678347,
          212.6288084092962,
          28.214968957015117,
          382.37616201371657,
          899.873760171052,
          647.035546822668,
          263.2467880559984,
          350.03627156568336,
          211.80302763598002,
          274.18020341551573,
          101.03632592989015,
          564.4838478747201,
          65.62934264560408,
          294.4938564790914,
          63.64033504010422,
          241.58188351262424,
          55.50014688601641,
          20.252058747978936,
          136.07012618532053,
          685.7856165335947,
          536.391533923304,
          299.73765494062627,
          84.5634609652725,
          379.00435729847504,
          84.89562859539774,
          172.97380507143407,
          75.54763383614318,
          89.7038098095095,
          832.9395679438412,
          425.21727854769415,
          530.2392795628675,
          320.2512690922913,
          619.6463263797759,
          391.06817490635285,
          281.48301239078864,
          956.6505974237043,
          56.97309734513283,
          308.33519749122706,
          863.4621542779068,
          420.4365922101247,
          48.01575593060306,
          757.282223415682,
          204.3249880554231,
          6.149489280502621,
          452.31984302182946,
          512.0755846906509,
          68.70648259303744,
          600.8622107621295,
          593.1676573532072,
          556.8146156326015,
          39.597545787546096,
          427.5388306865416,
          425.218201754386,
          160.44432121339287,
          239.6168570752061,
          604.0267522385425,
          806.4384250970684,
          675.0194260485655,
          72.54765433207558,
          53.944032167460136,
          28.97173064002891,
          178.8319517430241,
          1103.874725274725,
          146.3197761277229,
          773.0494601692444,
          339.4685348208841,
          376.182312645165,
          102.95944320712715,
          372.382014939667,
          637.8555749544871,
          608.8265845271767,
          217.37464948844263,
          66.65489169727289,
          137.69580934529404,
          694.8532991191346,
          29.046737566561205,
          346.4936542477835,
          768.9914767708883,
          634.2004383883577,
          466.6623903163718,
          479.2411493911495,
          476.9823114599317,
          298.0381451565004,
          1143.8447010383097,
          41.31908282039467,
          251.0393527707938,
          873.9284158107689,
          493.08496926802036,
          1019.80960910575,
          156.45320300708227,
          181.60914976651839,
          74.85949658449636,
          196.46257681522593,
          76.08905822121687,
          54.233979720228035,
          206.8618265738496,
          25.053691275167694,
          83.97221350078462,
          419.7935501003185,
          288.6380364425486,
          597.4933032764015,
          442.7999420251076,
          106.7099852616061,
          532.1055906262773,
          475.70526536605803,
          600.8129553870044,
          344.73147784590265,
          23.69660681634241,
          179.46896858658147,
          153.3760970573053,
          479.3607356224734,
          405.5927213518744,
          150.3422925137529,
          21.99345018382246,
          799.193930772878,
          861.1338794546759,
          46.798430141287554,
          52.755372663412345,
          553.050378021193,
          167.1729415865152,
          168.48142520185093,
          22.958366013071554,
          356.97413328543234,
          490.4447472397619,
          426.1952233067136,
          255.39789279619708,
          1031.9598225139803,
          237.53185718731947
         ],
         "xaxis": "x",
         "yaxis": "y"
        }
       ],
       "layout": {
        "annotations": [
         {
          "showarrow": false,
          "text": "<span style=\"color:red\">Observed = 160.36, p_value = 0.71</span>",
          "x": 0.4,
          "y": 0.1
         }
        ],
        "barmode": "relative",
        "legend": {
         "tracegroupgap": 0
        },
        "margin": {
         "t": 60
        },
        "shapes": [
         {
          "line": {
           "color": "red"
          },
          "type": "line",
          "x0": 160.36121774568983,
          "x1": 160.36121774568983,
          "xref": "x",
          "y0": 0,
          "y1": 1,
          "yref": "y domain"
         }
        ],
        "template": {
         "data": {
          "bar": [
           {
            "error_x": {
             "color": "#2a3f5f"
            },
            "error_y": {
             "color": "#2a3f5f"
            },
            "marker": {
             "line": {
              "color": "#E5ECF6",
              "width": 0.5
             },
             "pattern": {
              "fillmode": "overlay",
              "size": 10,
              "solidity": 0.2
             }
            },
            "type": "bar"
           }
          ],
          "barpolar": [
           {
            "marker": {
             "line": {
              "color": "#E5ECF6",
              "width": 0.5
             },
             "pattern": {
              "fillmode": "overlay",
              "size": 10,
              "solidity": 0.2
             }
            },
            "type": "barpolar"
           }
          ],
          "carpet": [
           {
            "aaxis": {
             "endlinecolor": "#2a3f5f",
             "gridcolor": "white",
             "linecolor": "white",
             "minorgridcolor": "white",
             "startlinecolor": "#2a3f5f"
            },
            "baxis": {
             "endlinecolor": "#2a3f5f",
             "gridcolor": "white",
             "linecolor": "white",
             "minorgridcolor": "white",
             "startlinecolor": "#2a3f5f"
            },
            "type": "carpet"
           }
          ],
          "choropleth": [
           {
            "colorbar": {
             "outlinewidth": 0,
             "ticks": ""
            },
            "type": "choropleth"
           }
          ],
          "contour": [
           {
            "colorbar": {
             "outlinewidth": 0,
             "ticks": ""
            },
            "colorscale": [
             [
              0,
              "#0d0887"
             ],
             [
              0.1111111111111111,
              "#46039f"
             ],
             [
              0.2222222222222222,
              "#7201a8"
             ],
             [
              0.3333333333333333,
              "#9c179e"
             ],
             [
              0.4444444444444444,
              "#bd3786"
             ],
             [
              0.5555555555555556,
              "#d8576b"
             ],
             [
              0.6666666666666666,
              "#ed7953"
             ],
             [
              0.7777777777777778,
              "#fb9f3a"
             ],
             [
              0.8888888888888888,
              "#fdca26"
             ],
             [
              1,
              "#f0f921"
             ]
            ],
            "type": "contour"
           }
          ],
          "contourcarpet": [
           {
            "colorbar": {
             "outlinewidth": 0,
             "ticks": ""
            },
            "type": "contourcarpet"
           }
          ],
          "heatmap": [
           {
            "colorbar": {
             "outlinewidth": 0,
             "ticks": ""
            },
            "colorscale": [
             [
              0,
              "#0d0887"
             ],
             [
              0.1111111111111111,
              "#46039f"
             ],
             [
              0.2222222222222222,
              "#7201a8"
             ],
             [
              0.3333333333333333,
              "#9c179e"
             ],
             [
              0.4444444444444444,
              "#bd3786"
             ],
             [
              0.5555555555555556,
              "#d8576b"
             ],
             [
              0.6666666666666666,
              "#ed7953"
             ],
             [
              0.7777777777777778,
              "#fb9f3a"
             ],
             [
              0.8888888888888888,
              "#fdca26"
             ],
             [
              1,
              "#f0f921"
             ]
            ],
            "type": "heatmap"
           }
          ],
          "heatmapgl": [
           {
            "colorbar": {
             "outlinewidth": 0,
             "ticks": ""
            },
            "colorscale": [
             [
              0,
              "#0d0887"
             ],
             [
              0.1111111111111111,
              "#46039f"
             ],
             [
              0.2222222222222222,
              "#7201a8"
             ],
             [
              0.3333333333333333,
              "#9c179e"
             ],
             [
              0.4444444444444444,
              "#bd3786"
             ],
             [
              0.5555555555555556,
              "#d8576b"
             ],
             [
              0.6666666666666666,
              "#ed7953"
             ],
             [
              0.7777777777777778,
              "#fb9f3a"
             ],
             [
              0.8888888888888888,
              "#fdca26"
             ],
             [
              1,
              "#f0f921"
             ]
            ],
            "type": "heatmapgl"
           }
          ],
          "histogram": [
           {
            "marker": {
             "pattern": {
              "fillmode": "overlay",
              "size": 10,
              "solidity": 0.2
             }
            },
            "type": "histogram"
           }
          ],
          "histogram2d": [
           {
            "colorbar": {
             "outlinewidth": 0,
             "ticks": ""
            },
            "colorscale": [
             [
              0,
              "#0d0887"
             ],
             [
              0.1111111111111111,
              "#46039f"
             ],
             [
              0.2222222222222222,
              "#7201a8"
             ],
             [
              0.3333333333333333,
              "#9c179e"
             ],
             [
              0.4444444444444444,
              "#bd3786"
             ],
             [
              0.5555555555555556,
              "#d8576b"
             ],
             [
              0.6666666666666666,
              "#ed7953"
             ],
             [
              0.7777777777777778,
              "#fb9f3a"
             ],
             [
              0.8888888888888888,
              "#fdca26"
             ],
             [
              1,
              "#f0f921"
             ]
            ],
            "type": "histogram2d"
           }
          ],
          "histogram2dcontour": [
           {
            "colorbar": {
             "outlinewidth": 0,
             "ticks": ""
            },
            "colorscale": [
             [
              0,
              "#0d0887"
             ],
             [
              0.1111111111111111,
              "#46039f"
             ],
             [
              0.2222222222222222,
              "#7201a8"
             ],
             [
              0.3333333333333333,
              "#9c179e"
             ],
             [
              0.4444444444444444,
              "#bd3786"
             ],
             [
              0.5555555555555556,
              "#d8576b"
             ],
             [
              0.6666666666666666,
              "#ed7953"
             ],
             [
              0.7777777777777778,
              "#fb9f3a"
             ],
             [
              0.8888888888888888,
              "#fdca26"
             ],
             [
              1,
              "#f0f921"
             ]
            ],
            "type": "histogram2dcontour"
           }
          ],
          "mesh3d": [
           {
            "colorbar": {
             "outlinewidth": 0,
             "ticks": ""
            },
            "type": "mesh3d"
           }
          ],
          "parcoords": [
           {
            "line": {
             "colorbar": {
              "outlinewidth": 0,
              "ticks": ""
             }
            },
            "type": "parcoords"
           }
          ],
          "pie": [
           {
            "automargin": true,
            "type": "pie"
           }
          ],
          "scatter": [
           {
            "fillpattern": {
             "fillmode": "overlay",
             "size": 10,
             "solidity": 0.2
            },
            "type": "scatter"
           }
          ],
          "scatter3d": [
           {
            "line": {
             "colorbar": {
              "outlinewidth": 0,
              "ticks": ""
             }
            },
            "marker": {
             "colorbar": {
              "outlinewidth": 0,
              "ticks": ""
             }
            },
            "type": "scatter3d"
           }
          ],
          "scattercarpet": [
           {
            "marker": {
             "colorbar": {
              "outlinewidth": 0,
              "ticks": ""
             }
            },
            "type": "scattercarpet"
           }
          ],
          "scattergeo": [
           {
            "marker": {
             "colorbar": {
              "outlinewidth": 0,
              "ticks": ""
             }
            },
            "type": "scattergeo"
           }
          ],
          "scattergl": [
           {
            "marker": {
             "colorbar": {
              "outlinewidth": 0,
              "ticks": ""
             }
            },
            "type": "scattergl"
           }
          ],
          "scattermapbox": [
           {
            "marker": {
             "colorbar": {
              "outlinewidth": 0,
              "ticks": ""
             }
            },
            "type": "scattermapbox"
           }
          ],
          "scatterpolar": [
           {
            "marker": {
             "colorbar": {
              "outlinewidth": 0,
              "ticks": ""
             }
            },
            "type": "scatterpolar"
           }
          ],
          "scatterpolargl": [
           {
            "marker": {
             "colorbar": {
              "outlinewidth": 0,
              "ticks": ""
             }
            },
            "type": "scatterpolargl"
           }
          ],
          "scatterternary": [
           {
            "marker": {
             "colorbar": {
              "outlinewidth": 0,
              "ticks": ""
             }
            },
            "type": "scatterternary"
           }
          ],
          "surface": [
           {
            "colorbar": {
             "outlinewidth": 0,
             "ticks": ""
            },
            "colorscale": [
             [
              0,
              "#0d0887"
             ],
             [
              0.1111111111111111,
              "#46039f"
             ],
             [
              0.2222222222222222,
              "#7201a8"
             ],
             [
              0.3333333333333333,
              "#9c179e"
             ],
             [
              0.4444444444444444,
              "#bd3786"
             ],
             [
              0.5555555555555556,
              "#d8576b"
             ],
             [
              0.6666666666666666,
              "#ed7953"
             ],
             [
              0.7777777777777778,
              "#fb9f3a"
             ],
             [
              0.8888888888888888,
              "#fdca26"
             ],
             [
              1,
              "#f0f921"
             ]
            ],
            "type": "surface"
           }
          ],
          "table": [
           {
            "cells": {
             "fill": {
              "color": "#EBF0F8"
             },
             "line": {
              "color": "white"
             }
            },
            "header": {
             "fill": {
              "color": "#C8D4E3"
             },
             "line": {
              "color": "white"
             }
            },
            "type": "table"
           }
          ]
         },
         "layout": {
          "annotationdefaults": {
           "arrowcolor": "#2a3f5f",
           "arrowhead": 0,
           "arrowwidth": 1
          },
          "autotypenumbers": "strict",
          "coloraxis": {
           "colorbar": {
            "outlinewidth": 0,
            "ticks": ""
           }
          },
          "colorscale": {
           "diverging": [
            [
             0,
             "#8e0152"
            ],
            [
             0.1,
             "#c51b7d"
            ],
            [
             0.2,
             "#de77ae"
            ],
            [
             0.3,
             "#f1b6da"
            ],
            [
             0.4,
             "#fde0ef"
            ],
            [
             0.5,
             "#f7f7f7"
            ],
            [
             0.6,
             "#e6f5d0"
            ],
            [
             0.7,
             "#b8e186"
            ],
            [
             0.8,
             "#7fbc41"
            ],
            [
             0.9,
             "#4d9221"
            ],
            [
             1,
             "#276419"
            ]
           ],
           "sequential": [
            [
             0,
             "#0d0887"
            ],
            [
             0.1111111111111111,
             "#46039f"
            ],
            [
             0.2222222222222222,
             "#7201a8"
            ],
            [
             0.3333333333333333,
             "#9c179e"
            ],
            [
             0.4444444444444444,
             "#bd3786"
            ],
            [
             0.5555555555555556,
             "#d8576b"
            ],
            [
             0.6666666666666666,
             "#ed7953"
            ],
            [
             0.7777777777777778,
             "#fb9f3a"
            ],
            [
             0.8888888888888888,
             "#fdca26"
            ],
            [
             1,
             "#f0f921"
            ]
           ],
           "sequentialminus": [
            [
             0,
             "#0d0887"
            ],
            [
             0.1111111111111111,
             "#46039f"
            ],
            [
             0.2222222222222222,
             "#7201a8"
            ],
            [
             0.3333333333333333,
             "#9c179e"
            ],
            [
             0.4444444444444444,
             "#bd3786"
            ],
            [
             0.5555555555555556,
             "#d8576b"
            ],
            [
             0.6666666666666666,
             "#ed7953"
            ],
            [
             0.7777777777777778,
             "#fb9f3a"
            ],
            [
             0.8888888888888888,
             "#fdca26"
            ],
            [
             1,
             "#f0f921"
            ]
           ]
          },
          "colorway": [
           "#636efa",
           "#EF553B",
           "#00cc96",
           "#ab63fa",
           "#FFA15A",
           "#19d3f3",
           "#FF6692",
           "#B6E880",
           "#FF97FF",
           "#FECB52"
          ],
          "font": {
           "color": "#2a3f5f"
          },
          "geo": {
           "bgcolor": "white",
           "lakecolor": "white",
           "landcolor": "#E5ECF6",
           "showlakes": true,
           "showland": true,
           "subunitcolor": "white"
          },
          "hoverlabel": {
           "align": "left"
          },
          "hovermode": "closest",
          "mapbox": {
           "style": "light"
          },
          "paper_bgcolor": "white",
          "plot_bgcolor": "#E5ECF6",
          "polar": {
           "angularaxis": {
            "gridcolor": "white",
            "linecolor": "white",
            "ticks": ""
           },
           "bgcolor": "#E5ECF6",
           "radialaxis": {
            "gridcolor": "white",
            "linecolor": "white",
            "ticks": ""
           }
          },
          "scene": {
           "xaxis": {
            "backgroundcolor": "#E5ECF6",
            "gridcolor": "white",
            "gridwidth": 2,
            "linecolor": "white",
            "showbackground": true,
            "ticks": "",
            "zerolinecolor": "white"
           },
           "yaxis": {
            "backgroundcolor": "#E5ECF6",
            "gridcolor": "white",
            "gridwidth": 2,
            "linecolor": "white",
            "showbackground": true,
            "ticks": "",
            "zerolinecolor": "white"
           },
           "zaxis": {
            "backgroundcolor": "#E5ECF6",
            "gridcolor": "white",
            "gridwidth": 2,
            "linecolor": "white",
            "showbackground": true,
            "ticks": "",
            "zerolinecolor": "white"
           }
          },
          "shapedefaults": {
           "line": {
            "color": "#2a3f5f"
           }
          },
          "ternary": {
           "aaxis": {
            "gridcolor": "white",
            "linecolor": "white",
            "ticks": ""
           },
           "baxis": {
            "gridcolor": "white",
            "linecolor": "white",
            "ticks": ""
           },
           "bgcolor": "#E5ECF6",
           "caxis": {
            "gridcolor": "white",
            "linecolor": "white",
            "ticks": ""
           }
          },
          "title": {
           "x": 0.05
          },
          "xaxis": {
           "automargin": true,
           "gridcolor": "white",
           "linecolor": "white",
           "ticks": "",
           "title": {
            "standoff": 15
           },
           "zerolinecolor": "white",
           "zerolinewidth": 2
          },
          "yaxis": {
           "automargin": true,
           "gridcolor": "white",
           "linecolor": "white",
           "ticks": "",
           "title": {
            "standoff": 15
           },
           "zerolinecolor": "white",
           "zerolinewidth": 2
          }
         }
        },
        "title": {
         "text": "Empirical Distribution to check whether <br> OUTAGE.DURATION Have Different Distribution when <br> CLIMATE.CATEGORY is warm and cold"
        },
        "xaxis": {
         "anchor": "y",
         "domain": [
          0,
          1
         ],
         "title": {
          "text": "Diff of Means"
         }
        },
        "yaxis": {
         "anchor": "x",
         "domain": [
          0,
          1
         ],
         "title": {
          "text": "probability"
         }
        }
       }
      }
     },
     "metadata": {},
     "output_type": "display_data"
    },
    {
     "name": "stdout",
     "output_type": "stream",
     "text": [
      "Fail to reject the null hypothesis, \n",
      "it's more likely that OUTAGE.DURATION is same when CLIMATE.CATEGORY is warm and cold.\n"
     ]
    },
    {
     "data": {
      "text/plain": [
       "(160.36121774568983, 0.712)"
      ]
     },
     "execution_count": 137,
     "metadata": {},
     "output_type": "execute_result"
    }
   ],
   "source": [
    "hypothesis_test(df, 'OUTAGE.DURATION', 'CLIMATE.CATEGORY', 'warm', 'cold')"
   ]
  },
  {
   "cell_type": "markdown",
   "metadata": {},
   "source": [
    "\n",
    "### Conclusion"
   ]
  },
  {
   "cell_type": "markdown",
   "metadata": {},
   "source": [
    "Out of our expectation, the result shows that p-value is 0.71, which is larger than 0.05, so we fail to reject the null hypothesis, which means that the outage duration time in the warm climate and the cold climate comes from the same distribution. That is, the outage duration have no relationship with the climate."
   ]
  },
  {
   "cell_type": "markdown",
   "metadata": {},
   "source": [
    "To check the correctness, we make a totally random column to check our correctness, it should be a same distribution below."
   ]
  },
  {
   "cell_type": "code",
   "execution_count": 109,
   "metadata": {},
   "outputs": [
    {
     "data": {
      "application/vnd.plotly.v1+json": {
       "config": {
        "plotlyServerURL": "https://plot.ly"
       },
       "data": [
        {
         "alignmentgroup": "True",
         "bingroup": "x",
         "histnorm": "probability",
         "hovertemplate": "0=%{x}<br>probability=%{y}<extra></extra>",
         "legendgroup": "",
         "marker": {
          "color": "#636efa",
          "pattern": {
           "shape": ""
          }
         },
         "name": "",
         "nbinsx": 20,
         "offsetgroup": "",
         "orientation": "v",
         "showlegend": false,
         "type": "histogram",
         "x": [
          532.040540514141,
          508.292167807233,
          185.5343896945201,
          445.7712463824987,
          653.2129446640315,
          111.65919886565052,
          429.42788140585117,
          280.17603049124773,
          26.728827802866363,
          175.69002404128514,
          100.0856349702849,
          97.36307773571616,
          25.44268603966202,
          451.45694522868416,
          74.00843430159193,
          290.08845380682715,
          333.36013250020005,
          386.7717898660908,
          292.48253566659605,
          47.380320873635355,
          396.0466036370499,
          210.7740694401,
          430.6745906705255,
          315.3975113264537,
          167.96478882869724,
          471.06274703557347,
          402.6308111571084,
          378.3678448545511,
          210.56709879530354,
          431.7590632978254,
          331.7686763227857,
          53.02652082209215,
          83.44275774826065,
          182.35193193902887,
          0.9074101708224589,
          42.069407518267326,
          124.64397447275769,
          229.10976602737037,
          230.32795140417284,
          374.5524445317101,
          81.20676542213369,
          192.18623632707113,
          283.343585313175,
          382.90451956959487,
          397.6406885647798,
          15.669479388502623,
          344.2667969971849,
          56.7085679381662,
          129.82256435155114,
          53.96770888231049,
          101.3080728937407,
          257.2886377854238,
          620.9417125929876,
          27.818511682701683,
          100.39002109187231,
          142.85322599646543,
          231.57475899982,
          39.37720519236791,
          402.3798652959945,
          329.0790418221086,
          118.93039880271135,
          118.45664668328982,
          609.0576320439818,
          485.5095385823679,
          174.54168069727575,
          207.3110661149749,
          145.8040831029707,
          192.1738147223955,
          198.00095078792128,
          629.2697308314005,
          153.12673550486443,
          63.22268955991922,
          311.31141295960197,
          308.30971417600085,
          313.62299600916094,
          65.39682700929689,
          197.34027385657828,
          532.8216622030136,
          350.5320120879892,
          463.3812580685094,
          89.29784243446511,
          238.23824072256048,
          78.35380627579343,
          315.51629701060756,
          86.88163466967808,
          578.5352378555249,
          291.45893806693766,
          154.53741327082844,
          351.86966596360435,
          422.58240213648196,
          432.9631833788185,
          322.0801890211769,
          969.0553839100819,
          161.7371453648866,
          451.4734656161663,
          84.13711727093869,
          53.42766079077819,
          278.267201665607,
          47.84574600055112,
          293.79112490562875,
          91.4530553784275,
          17.00001563966225,
          241.6664216452923,
          218.1915020616534,
          231.54245013020545,
          383.6483625070582,
          315.7299237802181,
          102.39831707542635,
          28.18769430761904,
          452.6612449171098,
          274.865510106637,
          761.934125312263,
          610.5327626153544,
          184.07721626199873,
          143.1196408134515,
          84.61105585879068,
          420.3360258988573,
          257.54680027686845,
          543.5433175159169,
          70.35524718669967,
          482.8880455407966,
          246.57437432086817,
          368.7913608130998,
          4.759872385678591,
          6.729132242730884,
          68.87479531648933,
          442.5670553169107,
          133.90549801698353,
          67.70233083016137,
          379.05461558692014,
          697.621269477947,
          61.90192229472859,
          286.3810546703053,
          57.39012553486009,
          135.60157863734548,
          255.79027419433942,
          170.02470177985333,
          7.874143850690871,
          59.70933913381805,
          291.4074828719149,
          338.92580921812214,
          478.5300151019378,
          2.082843497066733,
          503.6541132311545,
          131.74548277809117,
          90.01181703563907,
          265.11456508933816,
          276.27212761065994,
          206.68435128098645,
          45.42527369408799,
          42.458576189365886,
          90.18512192974731,
          89.8005106083283,
          56.68646936897676,
          336.9974003925936,
          384.15655139944056,
          243.85321944577072,
          333.42060034763745,
          70.27850775574325,
          482.00783455674764,
          267.31048640825566,
          47.78644313579889,
          174.7583585313173,
          148.96895295825607,
          345.93681135813677,
          209.8834669151911,
          443.0533189399298,
          346.19491152390174,
          390.68423603276597,
          216.59165082645814,
          98.6345411403554,
          573.2117353705767,
          370.3441137916284,
          178.77046866177307,
          120.15244453170999,
          255.73863896469766,
          632.330240338058,
          225.25952851496322,
          307.8791766297509,
          412.7934501276518,
          184.09783012361413,
          176.3574946004319,
          78.15189679697824,
          470.04598966731237,
          191.09621196148737,
          194.56384558787477,
          651.2283314511574,
          517.0710341681352,
          156.06061223051438,
          535.1489227030393,
          58.21386456052551,
          44.60758869618803,
          147.20091114571096,
          63.25941094935661,
          225.60354894528518,
          252.93727713481348,
          328.6369282891019,
          82.88506412261495,
          429.66347836434807,
          42.60316328349836,
          311.2315520732459,
          500.8843204002551,
          318.53837117559397,
          81.63807098519828,
          421.19078204404286,
          100.07915677434585,
          503.29014878070257,
          155.7729236855812,
          3.158652009427442,
          299.423750429195,
          115.51344989193012,
          96.83304192559626,
          329.81254845454487,
          112.7329192546581,
          100.01980653261899,
          155.2558608163131,
          58.0723655251345,
          214.58858668915582,
          7.748998371925609,
          886.4054195258891,
          662.8903671706262,
          886.2102987175476,
          0.3189964157704708,
          362.24590180016685,
          271.171073177135,
          313.8540393013104,
          197.04340744105184,
          50.86208292983565,
          165.4144693794542,
          987.550945210183,
          222.74792067543694,
          720.6224122199851,
          150.78127150453565,
          273.8781870075777,
          12.706365342508434,
          19.1212606743552,
          555.8388590544942,
          80.29227924993393,
          559.1364732810989,
          158.54290202238371,
          451.3083278559866,
          373.2890571353114,
          109.06931112365874,
          646.3413475344955,
          413.44371863720426,
          332.81274703557347,
          129.11441276115193,
          51.01449796684392,
          170.3820071283235,
          235.4991917914117,
          102.65404825485302,
          129.68797007948388,
          308.0065785983343,
          9.215879409943227,
          5.876819507582695,
          349.7913390364597,
          160.63732064878377,
          418.6121892794031,
          338.00796002454626,
          55.37887892104345,
          310.18225339677247,
          40.634281186724365,
          201.86873921229426,
          302.25662354687756,
          657.3026852627704,
          167.97598469613013,
          229.82022868435888,
          207.35497926769267,
          221.7620740269158,
          49.276115189158645,
          103.80701974204521,
          407.9703828784609,
          43.38437864632715,
          636.1583349695657,
          356.31098460889734,
          273.8979857724735,
          7.420549647621556,
          263.8290641127046,
          257.1059104645442,
          586.5966261998869,
          494.5060822579094,
          108.61006349685249,
          256.72747692911844,
          13.288423824348229,
          6.711382743905233,
          27.516005297493393,
          184.70398481973416,
          353.82977514551794,
          217.87317634713418,
          299.7847261434222,
          26.741082639220622,
          83.21114435669779,
          345.8233681816141,
          752.0482601055173,
          197.98223812201377,
          102.06489962168371,
          243.89161060948936,
          154.21586254962904,
          421.12773610838394,
          77.29828239152539,
          430.7775268210048,
          457.8113566335069,
          37.599058261297614,
          381.06488407873076,
          530.656441048035,
          88.96461154138342,
          207.60884684935309,
          206.30194805194787,
          129.33407724886501,
          723.7373530374066,
          798.2483887919698,
          233.49059883943983,
          117.31427244865927,
          354.1401010447835,
          79.16664067373677,
          505.3258913636764,
          64.88577423646075,
          268.7876045426533,
          10.48352697755854,
          142.21978825824317,
          206.74137048118928,
          221.53721550334149,
          537.7303200471233,
          304.34852205192374,
          119.67278094033327,
          40.38236795601824,
          203.79979668439182,
          306.3739545997614,
          122.62128708513092,
          440.9441699604745,
          23.010333172380797,
          108.86937754451355,
          70.382958605775,
          498.6308576158617,
          363.9198968034234,
          303.35142681852494,
          284.877536807237,
          373.697706289106,
          267.06951612019066,
          37.42631062242299,
          457.74614908729245,
          75.550139387321,
          535.2736393493901,
          264.2867950441182,
          75.94744892875906,
          164.6089972708869,
          191.1060656300583,
          370.0076604118349,
          17.338998625564727,
          320.8540303297259,
          125.40942600804146,
          75.18208521500082,
          107.3477211052359,
          474.89129652799465,
          270.7815688700598,
          76.61126796487952,
          87.04010274321263,
          26.505352711804335,
          384.0131329703495,
          56.289224272755746,
          663.0819909629827,
          573.7079179620509,
          208.3777770816855,
          354.93069897483656,
          352.8702769968918,
          660.1825633982439,
          133.48411914172812,
          179.8556480068337,
          487.7366116866551,
          225.67490616202667,
          374.2293736204442,
          45.72606858011932,
          507.7630575945791,
          25.16314513606494,
          1.1827292362067965,
          418.37986414864326,
          146.66221927635706,
          333.07552230378315,
          214.94325224628574,
          89.16813099744695,
          207.63487252629693,
          789.6614143986417,
          484.0344080109958,
          387.78865894364844,
          133.6341685640241,
          78.31949995598234,
          455.72946942953786,
          739.7017052605083,
          421.4512281197067,
          85.75474473659006,
          193.55985562109345,
          530.5355958711293,
          28.43941154228196,
          867.0052010870527,
          490.66103354033385,
          153.4366127392932,
          364.8827537635357,
          679.8433101189971,
          338.47173400676684,
          103.27699103115356,
          69.4141122092351,
          95.83608760645666,
          545.3689302318294,
          0.8591897233200143,
          427.5384777566942,
          41.87984363614305,
          80.06416057751585,
          170.77383874816587,
          266.14985184029956,
          313.8493788819874,
          83.9260143431211,
          46.81613979972508,
          458.5754794552731,
          329.3106295878033,
          124.79688256119016,
          238.5979751738705,
          369.85938882621303,
          264.75058648733193,
          186.64164271913705,
          6.159125742884044,
          59.73429865809203,
          264.960533006049,
          266.0773453760062,
          295.19046649490565,
          419.07569049125004,
          3.2494480025234225,
          68.55076319651107,
          124.73459916939373,
          195.86380726151492,
          313.037857097911,
          83.61558641038073,
          81.82657154543176,
          376.22388176415416,
          125.24609560700765,
          80.48664245540522,
          415.7220177832555,
          595.2641966697952,
          398.1291643139466,
          277.8421567094151,
          50.319111667187826,
          434.2799057529942,
          340.7579498412092,
          335.8831168831166,
          681.9740470111806,
          317.76154490708495,
          616.0893051520397,
          171.81639228805352,
          522.9240076117685,
          3.669295110936673,
          115.28685534899705,
          324.7459811603135,
          551.1998338619837,
          477.3915866741954,
          85.68249754565113,
          97.8330238562612,
          602.5270925574532,
          462.16325461370025,
          81.85967074566406,
          84.58793863599021,
          669.7935033712615,
          78.96644350369161,
          702.6860487735867,
          486.34100252942517,
          44.027185491680484,
          129.11787125917544,
          156.70147075245995,
          123.65151278852181,
          132.60439017504223,
          157.8372413793104,
          541.5191205802889,
          739.8948715700885,
          295.3057144258596,
          70.09806808304029,
          173.8697423097492,
          195.36695146536476,
          169.9515774548031,
          414.2135289004441,
          159.9170877259662,
          160.8907456859315,
          124.48183752063824,
          97.51282591889776,
          231.9537926180792,
          225.56832188696671,
          265.1430168908355,
          55.445418263876945,
          71.50568499534029,
          383.7339245597682,
          13.007552230378678,
          396.9713719527149,
          628.3669536984753,
          55.75769710767054,
          269.76574725083674,
          735.2216261998869,
          373.9951981214458,
          369.4975153412206,
          93.60539401865344,
          237.1005873586396,
          539.287706080534,
          232.06635944700474,
          145.07666838420982
         ],
         "xaxis": "x",
         "yaxis": "y"
        }
       ],
       "layout": {
        "annotations": [
         {
          "showarrow": false,
          "text": "<span style=\"color:red\">Observed = 261.05, p_value = 0.45</span>",
          "x": 0.4,
          "y": 0.1
         }
        ],
        "barmode": "relative",
        "legend": {
         "tracegroupgap": 0
        },
        "margin": {
         "t": 60
        },
        "shapes": [
         {
          "line": {
           "color": "red"
          },
          "type": "line",
          "x0": 261.0528683297448,
          "x1": 261.0528683297448,
          "xref": "x",
          "y0": 0,
          "y1": 1,
          "yref": "y domain"
         }
        ],
        "template": {
         "data": {
          "bar": [
           {
            "error_x": {
             "color": "#2a3f5f"
            },
            "error_y": {
             "color": "#2a3f5f"
            },
            "marker": {
             "line": {
              "color": "#E5ECF6",
              "width": 0.5
             },
             "pattern": {
              "fillmode": "overlay",
              "size": 10,
              "solidity": 0.2
             }
            },
            "type": "bar"
           }
          ],
          "barpolar": [
           {
            "marker": {
             "line": {
              "color": "#E5ECF6",
              "width": 0.5
             },
             "pattern": {
              "fillmode": "overlay",
              "size": 10,
              "solidity": 0.2
             }
            },
            "type": "barpolar"
           }
          ],
          "carpet": [
           {
            "aaxis": {
             "endlinecolor": "#2a3f5f",
             "gridcolor": "white",
             "linecolor": "white",
             "minorgridcolor": "white",
             "startlinecolor": "#2a3f5f"
            },
            "baxis": {
             "endlinecolor": "#2a3f5f",
             "gridcolor": "white",
             "linecolor": "white",
             "minorgridcolor": "white",
             "startlinecolor": "#2a3f5f"
            },
            "type": "carpet"
           }
          ],
          "choropleth": [
           {
            "colorbar": {
             "outlinewidth": 0,
             "ticks": ""
            },
            "type": "choropleth"
           }
          ],
          "contour": [
           {
            "colorbar": {
             "outlinewidth": 0,
             "ticks": ""
            },
            "colorscale": [
             [
              0,
              "#0d0887"
             ],
             [
              0.1111111111111111,
              "#46039f"
             ],
             [
              0.2222222222222222,
              "#7201a8"
             ],
             [
              0.3333333333333333,
              "#9c179e"
             ],
             [
              0.4444444444444444,
              "#bd3786"
             ],
             [
              0.5555555555555556,
              "#d8576b"
             ],
             [
              0.6666666666666666,
              "#ed7953"
             ],
             [
              0.7777777777777778,
              "#fb9f3a"
             ],
             [
              0.8888888888888888,
              "#fdca26"
             ],
             [
              1,
              "#f0f921"
             ]
            ],
            "type": "contour"
           }
          ],
          "contourcarpet": [
           {
            "colorbar": {
             "outlinewidth": 0,
             "ticks": ""
            },
            "type": "contourcarpet"
           }
          ],
          "heatmap": [
           {
            "colorbar": {
             "outlinewidth": 0,
             "ticks": ""
            },
            "colorscale": [
             [
              0,
              "#0d0887"
             ],
             [
              0.1111111111111111,
              "#46039f"
             ],
             [
              0.2222222222222222,
              "#7201a8"
             ],
             [
              0.3333333333333333,
              "#9c179e"
             ],
             [
              0.4444444444444444,
              "#bd3786"
             ],
             [
              0.5555555555555556,
              "#d8576b"
             ],
             [
              0.6666666666666666,
              "#ed7953"
             ],
             [
              0.7777777777777778,
              "#fb9f3a"
             ],
             [
              0.8888888888888888,
              "#fdca26"
             ],
             [
              1,
              "#f0f921"
             ]
            ],
            "type": "heatmap"
           }
          ],
          "heatmapgl": [
           {
            "colorbar": {
             "outlinewidth": 0,
             "ticks": ""
            },
            "colorscale": [
             [
              0,
              "#0d0887"
             ],
             [
              0.1111111111111111,
              "#46039f"
             ],
             [
              0.2222222222222222,
              "#7201a8"
             ],
             [
              0.3333333333333333,
              "#9c179e"
             ],
             [
              0.4444444444444444,
              "#bd3786"
             ],
             [
              0.5555555555555556,
              "#d8576b"
             ],
             [
              0.6666666666666666,
              "#ed7953"
             ],
             [
              0.7777777777777778,
              "#fb9f3a"
             ],
             [
              0.8888888888888888,
              "#fdca26"
             ],
             [
              1,
              "#f0f921"
             ]
            ],
            "type": "heatmapgl"
           }
          ],
          "histogram": [
           {
            "marker": {
             "pattern": {
              "fillmode": "overlay",
              "size": 10,
              "solidity": 0.2
             }
            },
            "type": "histogram"
           }
          ],
          "histogram2d": [
           {
            "colorbar": {
             "outlinewidth": 0,
             "ticks": ""
            },
            "colorscale": [
             [
              0,
              "#0d0887"
             ],
             [
              0.1111111111111111,
              "#46039f"
             ],
             [
              0.2222222222222222,
              "#7201a8"
             ],
             [
              0.3333333333333333,
              "#9c179e"
             ],
             [
              0.4444444444444444,
              "#bd3786"
             ],
             [
              0.5555555555555556,
              "#d8576b"
             ],
             [
              0.6666666666666666,
              "#ed7953"
             ],
             [
              0.7777777777777778,
              "#fb9f3a"
             ],
             [
              0.8888888888888888,
              "#fdca26"
             ],
             [
              1,
              "#f0f921"
             ]
            ],
            "type": "histogram2d"
           }
          ],
          "histogram2dcontour": [
           {
            "colorbar": {
             "outlinewidth": 0,
             "ticks": ""
            },
            "colorscale": [
             [
              0,
              "#0d0887"
             ],
             [
              0.1111111111111111,
              "#46039f"
             ],
             [
              0.2222222222222222,
              "#7201a8"
             ],
             [
              0.3333333333333333,
              "#9c179e"
             ],
             [
              0.4444444444444444,
              "#bd3786"
             ],
             [
              0.5555555555555556,
              "#d8576b"
             ],
             [
              0.6666666666666666,
              "#ed7953"
             ],
             [
              0.7777777777777778,
              "#fb9f3a"
             ],
             [
              0.8888888888888888,
              "#fdca26"
             ],
             [
              1,
              "#f0f921"
             ]
            ],
            "type": "histogram2dcontour"
           }
          ],
          "mesh3d": [
           {
            "colorbar": {
             "outlinewidth": 0,
             "ticks": ""
            },
            "type": "mesh3d"
           }
          ],
          "parcoords": [
           {
            "line": {
             "colorbar": {
              "outlinewidth": 0,
              "ticks": ""
             }
            },
            "type": "parcoords"
           }
          ],
          "pie": [
           {
            "automargin": true,
            "type": "pie"
           }
          ],
          "scatter": [
           {
            "fillpattern": {
             "fillmode": "overlay",
             "size": 10,
             "solidity": 0.2
            },
            "type": "scatter"
           }
          ],
          "scatter3d": [
           {
            "line": {
             "colorbar": {
              "outlinewidth": 0,
              "ticks": ""
             }
            },
            "marker": {
             "colorbar": {
              "outlinewidth": 0,
              "ticks": ""
             }
            },
            "type": "scatter3d"
           }
          ],
          "scattercarpet": [
           {
            "marker": {
             "colorbar": {
              "outlinewidth": 0,
              "ticks": ""
             }
            },
            "type": "scattercarpet"
           }
          ],
          "scattergeo": [
           {
            "marker": {
             "colorbar": {
              "outlinewidth": 0,
              "ticks": ""
             }
            },
            "type": "scattergeo"
           }
          ],
          "scattergl": [
           {
            "marker": {
             "colorbar": {
              "outlinewidth": 0,
              "ticks": ""
             }
            },
            "type": "scattergl"
           }
          ],
          "scattermapbox": [
           {
            "marker": {
             "colorbar": {
              "outlinewidth": 0,
              "ticks": ""
             }
            },
            "type": "scattermapbox"
           }
          ],
          "scatterpolar": [
           {
            "marker": {
             "colorbar": {
              "outlinewidth": 0,
              "ticks": ""
             }
            },
            "type": "scatterpolar"
           }
          ],
          "scatterpolargl": [
           {
            "marker": {
             "colorbar": {
              "outlinewidth": 0,
              "ticks": ""
             }
            },
            "type": "scatterpolargl"
           }
          ],
          "scatterternary": [
           {
            "marker": {
             "colorbar": {
              "outlinewidth": 0,
              "ticks": ""
             }
            },
            "type": "scatterternary"
           }
          ],
          "surface": [
           {
            "colorbar": {
             "outlinewidth": 0,
             "ticks": ""
            },
            "colorscale": [
             [
              0,
              "#0d0887"
             ],
             [
              0.1111111111111111,
              "#46039f"
             ],
             [
              0.2222222222222222,
              "#7201a8"
             ],
             [
              0.3333333333333333,
              "#9c179e"
             ],
             [
              0.4444444444444444,
              "#bd3786"
             ],
             [
              0.5555555555555556,
              "#d8576b"
             ],
             [
              0.6666666666666666,
              "#ed7953"
             ],
             [
              0.7777777777777778,
              "#fb9f3a"
             ],
             [
              0.8888888888888888,
              "#fdca26"
             ],
             [
              1,
              "#f0f921"
             ]
            ],
            "type": "surface"
           }
          ],
          "table": [
           {
            "cells": {
             "fill": {
              "color": "#EBF0F8"
             },
             "line": {
              "color": "white"
             }
            },
            "header": {
             "fill": {
              "color": "#C8D4E3"
             },
             "line": {
              "color": "white"
             }
            },
            "type": "table"
           }
          ]
         },
         "layout": {
          "annotationdefaults": {
           "arrowcolor": "#2a3f5f",
           "arrowhead": 0,
           "arrowwidth": 1
          },
          "autotypenumbers": "strict",
          "coloraxis": {
           "colorbar": {
            "outlinewidth": 0,
            "ticks": ""
           }
          },
          "colorscale": {
           "diverging": [
            [
             0,
             "#8e0152"
            ],
            [
             0.1,
             "#c51b7d"
            ],
            [
             0.2,
             "#de77ae"
            ],
            [
             0.3,
             "#f1b6da"
            ],
            [
             0.4,
             "#fde0ef"
            ],
            [
             0.5,
             "#f7f7f7"
            ],
            [
             0.6,
             "#e6f5d0"
            ],
            [
             0.7,
             "#b8e186"
            ],
            [
             0.8,
             "#7fbc41"
            ],
            [
             0.9,
             "#4d9221"
            ],
            [
             1,
             "#276419"
            ]
           ],
           "sequential": [
            [
             0,
             "#0d0887"
            ],
            [
             0.1111111111111111,
             "#46039f"
            ],
            [
             0.2222222222222222,
             "#7201a8"
            ],
            [
             0.3333333333333333,
             "#9c179e"
            ],
            [
             0.4444444444444444,
             "#bd3786"
            ],
            [
             0.5555555555555556,
             "#d8576b"
            ],
            [
             0.6666666666666666,
             "#ed7953"
            ],
            [
             0.7777777777777778,
             "#fb9f3a"
            ],
            [
             0.8888888888888888,
             "#fdca26"
            ],
            [
             1,
             "#f0f921"
            ]
           ],
           "sequentialminus": [
            [
             0,
             "#0d0887"
            ],
            [
             0.1111111111111111,
             "#46039f"
            ],
            [
             0.2222222222222222,
             "#7201a8"
            ],
            [
             0.3333333333333333,
             "#9c179e"
            ],
            [
             0.4444444444444444,
             "#bd3786"
            ],
            [
             0.5555555555555556,
             "#d8576b"
            ],
            [
             0.6666666666666666,
             "#ed7953"
            ],
            [
             0.7777777777777778,
             "#fb9f3a"
            ],
            [
             0.8888888888888888,
             "#fdca26"
            ],
            [
             1,
             "#f0f921"
            ]
           ]
          },
          "colorway": [
           "#636efa",
           "#EF553B",
           "#00cc96",
           "#ab63fa",
           "#FFA15A",
           "#19d3f3",
           "#FF6692",
           "#B6E880",
           "#FF97FF",
           "#FECB52"
          ],
          "font": {
           "color": "#2a3f5f"
          },
          "geo": {
           "bgcolor": "white",
           "lakecolor": "white",
           "landcolor": "#E5ECF6",
           "showlakes": true,
           "showland": true,
           "subunitcolor": "white"
          },
          "hoverlabel": {
           "align": "left"
          },
          "hovermode": "closest",
          "mapbox": {
           "style": "light"
          },
          "paper_bgcolor": "white",
          "plot_bgcolor": "#E5ECF6",
          "polar": {
           "angularaxis": {
            "gridcolor": "white",
            "linecolor": "white",
            "ticks": ""
           },
           "bgcolor": "#E5ECF6",
           "radialaxis": {
            "gridcolor": "white",
            "linecolor": "white",
            "ticks": ""
           }
          },
          "scene": {
           "xaxis": {
            "backgroundcolor": "#E5ECF6",
            "gridcolor": "white",
            "gridwidth": 2,
            "linecolor": "white",
            "showbackground": true,
            "ticks": "",
            "zerolinecolor": "white"
           },
           "yaxis": {
            "backgroundcolor": "#E5ECF6",
            "gridcolor": "white",
            "gridwidth": 2,
            "linecolor": "white",
            "showbackground": true,
            "ticks": "",
            "zerolinecolor": "white"
           },
           "zaxis": {
            "backgroundcolor": "#E5ECF6",
            "gridcolor": "white",
            "gridwidth": 2,
            "linecolor": "white",
            "showbackground": true,
            "ticks": "",
            "zerolinecolor": "white"
           }
          },
          "shapedefaults": {
           "line": {
            "color": "#2a3f5f"
           }
          },
          "ternary": {
           "aaxis": {
            "gridcolor": "white",
            "linecolor": "white",
            "ticks": ""
           },
           "baxis": {
            "gridcolor": "white",
            "linecolor": "white",
            "ticks": ""
           },
           "bgcolor": "#E5ECF6",
           "caxis": {
            "gridcolor": "white",
            "linecolor": "white",
            "ticks": ""
           }
          },
          "title": {
           "x": 0.05
          },
          "xaxis": {
           "automargin": true,
           "gridcolor": "white",
           "linecolor": "white",
           "ticks": "",
           "title": {
            "standoff": 15
           },
           "zerolinecolor": "white",
           "zerolinewidth": 2
          },
          "yaxis": {
           "automargin": true,
           "gridcolor": "white",
           "linecolor": "white",
           "ticks": "",
           "title": {
            "standoff": 15
           },
           "zerolinecolor": "white",
           "zerolinewidth": 2
          }
         }
        },
        "title": {
         "text": "Empirical Distribution to check whether <br> OUTAGE.DURATION Have Different Distribution when <br> RANDOM is a and b"
        },
        "xaxis": {
         "anchor": "y",
         "domain": [
          0,
          1
         ],
         "title": {
          "text": "Diff of Means"
         }
        },
        "yaxis": {
         "anchor": "x",
         "domain": [
          0,
          1
         ],
         "title": {
          "text": "probability"
         }
        }
       }
      }
     },
     "metadata": {},
     "output_type": "display_data"
    },
    {
     "name": "stdout",
     "output_type": "stream",
     "text": [
      "Fail to reject the null hypothesis, \n",
      "it's more likely that OUTAGE.DURATION is same when RANDOM is a and b.\n"
     ]
    },
    {
     "data": {
      "text/plain": [
       "(261.0528683297448, 0.448)"
      ]
     },
     "execution_count": 109,
     "metadata": {},
     "output_type": "execute_result"
    }
   ],
   "source": [
    "df['RANDOM'] = np.random.choice(['a','b'],df.shape[0],p=[0.4,0.6])\n",
    "hypothesis_test(df, 'OUTAGE.DURATION', 'RANDOM', 'a', 'b')"
   ]
  },
  {
   "cell_type": "markdown",
   "metadata": {},
   "source": [
    "And the below should come from different distribution. We divide duration into two groups by whether it is greater than it's mean value. So obviously it's different distribution."
   ]
  },
  {
   "cell_type": "code",
   "execution_count": 110,
   "metadata": {},
   "outputs": [
    {
     "data": {
      "application/vnd.plotly.v1+json": {
       "config": {
        "plotlyServerURL": "https://plot.ly"
       },
       "data": [
        {
         "alignmentgroup": "True",
         "bingroup": "x",
         "histnorm": "probability",
         "hovertemplate": "0=%{x}<br>probability=%{y}<extra></extra>",
         "legendgroup": "",
         "marker": {
          "color": "#636efa",
          "pattern": {
           "shape": ""
          }
         },
         "name": "",
         "nbinsx": 20,
         "offsetgroup": "",
         "orientation": "v",
         "showlegend": false,
         "type": "histogram",
         "x": [
          169.0588235294117,
          101.04304819346999,
          323.2254626569729,
          659.5209847984138,
          76.12723311546824,
          203.16101997604846,
          669.1630587910317,
          1.8567901234569035,
          215.80158372082315,
          346.04362845709875,
          16.33081503988933,
          54.53808630393996,
          331.3685558493062,
          496.6904647554311,
          466.9716495557295,
          737.1389977486865,
          743.070774976657,
          20.08062102852091,
          493.1277327437979,
          507.0544462095463,
          340.07552650689877,
          455.1177508040255,
          112.76115779645215,
          368.9566570348966,
          32.62702525403256,
          221.86603184572186,
          224.3335615727774,
          695.6465290806755,
          166.89510547819555,
          629.9138015426552,
          622.4065455033196,
          605.659616655651,
          77.26465438172227,
          636.6059184276637,
          407.27273307077803,
          451.49238202940296,
          248.28975645688524,
          564.6076792044569,
          317.39923288584987,
          375.34333958724164,
          180.551134846462,
          825.5466438131725,
          793.310944241905,
          189.159368803701,
          112.20501835281993,
          827.2662394575632,
          94.34228382532046,
          587.5852580672058,
          405.84221307197095,
          141.1149050539384,
          43.36698599852616,
          202.3922436086891,
          188.5327164573696,
          279.46697069277707,
          159.77403851678855,
          426.92791754410473,
          47.814014087749,
          110.63183625141346,
          376.23008922670215,
          591.5966228893058,
          421.37640449438186,
          368.37391547973994,
          610.7249335008128,
          510.2255452742893,
          20.200750469043214,
          219.10447141819714,
          79.04887913236189,
          364.3307318604993,
          250.05571574567512,
          117.47409482311423,
          448.4901523870908,
          645.7816370669507,
          296.19632961430443,
          166.72730267354882,
          223.5806856805084,
          185.39798667496098,
          169.13171508157575,
          46.11412535079535,
          55.04222524912211,
          382.6084066111134,
          248.77065993862425,
          12.685050165284338,
          231.52542388463826,
          175.41366490416385,
          159.40938994461567,
          584.22212773195,
          267.71466790820205,
          3.3012422004430846,
          109.37664767412207,
          105.46604127579712,
          303.51149578748664,
          467.4750270991408,
          72.97220070653202,
          6.050020928775211,
          582.3902014098458,
          229.0661338258442,
          497.8020840937297,
          138.62280250848153,
          141.97522008931173,
          262.3977591036414,
          128.4020729893923,
          37.23149372108401,
          226.18982777510746,
          313.780682643428,
          285,
          111.71661344469021,
          118.44730781201406,
          395.94751622853437,
          49.17996796013631,
          30.81838364975647,
          80.58387799564252,
          282.990006649919,
          212.93137171528224,
          94.22695300342366,
          46.02635953893923,
          200.2346301483558,
          175.42233782974972,
          473.8439395497071,
          610.1240912095177,
          110.96665238323294,
          117.95133840052904,
          79.5760615761119,
          263.98850281042405,
          78.21500938086274,
          516.9610125531694,
          252.25103189493439,
          521.8348694811475,
          313.56630355846073,
          67.60570271446068,
          40.80773105788012,
          131.6733311302046,
          67.13805353602129,
          40.91349006971086,
          176.83998999416326,
          211.78659947124925,
          98.85007921287433,
          348.809417973122,
          320.3413632119514,
          98.63664904163898,
          453.40680766688683,
          344.01248497413144,
          162.6330964970257,
          185.4493484233608,
          652.9498559817416,
          22.519769020325384,
          360.8791744840523,
          140.04765478423997,
          308.73026103770553,
          38.68367729831152,
          307.54435107376275,
          215.09144102085293,
          961.1202065169205,
          149.6791744840525,
          173.4387343808362,
          773.2325716713462,
          599.9125292829413,
          631.3408175705631,
          971.2306463975474,
          45.307248704284575,
          425.00407900188793,
          582.6504827814465,
          200.52159376385362,
          423.7813945803041,
          323.4572349339346,
          234.80617835274643,
          218.2412983703307,
          77.39897794760827,
          110.11981952948736,
          74.26506734006716,
          76.90632107177407,
          709.3316513972654,
          375.00802987861834,
          89.84974568498274,
          418.02974223397223,
          327.4416377272055,
          115.16696752775215,
          196.12167237265248,
          300.0649737843114,
          105.86775010358633,
          576.7892563028204,
          450.94013901857033,
          207.9080589824075,
          28.74628222075353,
          157.92760262615639,
          142.23835095836057,
          251.58490798807452,
          273.28274941301015,
          154.3166718539269,
          71.48536715982937,
          163.60637401048598,
          819.650656660413,
          98.04802725473019,
          320.43091607013184,
          42.834851065788826,
          678.9788223378296,
          14.546153492012309,
          1029.0733641771315,
          29.17420886111995,
          45.072045028142384,
          135.02125203191963,
          814.7743530635676,
          820.9031444224483,
          53.00983146067438,
          144.00005516188867,
          748.329455909944,
          222.68035294415085,
          306.4672349873472,
          651.9699460617703,
          431.7843094570844,
          301.63392272279043,
          584.2720768221234,
          259.5070224719102,
          137.41257400150062,
          103.42138112270959,
          13.103788959992471,
          324.7127296164999,
          272.232894213249,
          313.1417079207922,
          377.8113668623596,
          137.60667556742283,
          437.51712980891534,
          197.29375092359987,
          975.5265627309,
          1248.9332452081953,
          341.70348645076,
          659.0708526190128,
          664.3125703564729,
          461.2233738081545,
          586.443655980911,
          374.5152433129233,
          78.01083382592014,
          567.111781229346,
          526.5607982334477,
          330.22964352720464,
          7.067201024931819,
          477.4883490718439,
          254.2270521615028,
          910.2829243589156,
          525.4667626195123,
          414.27674721189624,
          210.33596581093798,
          248.92210404221987,
          203.28190686075504,
          427.8827988594394,
          358.97663292448624,
          135.28609180056173,
          482.28812155657397,
          488.21379811183715,
          360.1044515266781,
          212.0302379378718,
          132.74126421435494,
          396.7114446529081,
          115.61313320825502,
          227.60280682076746,
          116.01813906771804,
          207.1782872416984,
          224.96102123043192,
          372.9353436766264,
          426.0136323333827,
          273.2436075687124,
          186.079739776952,
          78.3924473493098,
          80.35270574501783,
          149.52217669536367,
          391.91881815661236,
          30.651310209776057,
          365.603386881633,
          51.86791744840548,
          272.39188540277246,
          123.1728290923802,
          196.05700458105503,
          234.65043692813788,
          502.89025832555217,
          171.17706367110168,
          7.176468401487,
          195.59730637272787,
          406.6526307012423,
          296.1306179775279,
          428.2059472551746,
          376.854852543981,
          156.44702717442397,
          93.68555347091933,
          195.15688266587858,
          263.00450292998903,
          976.3790074770341,
          291.7116798433576,
          146.63758574651274,
          241.65715974582554,
          299.40858335071016,
          522.2206613450767,
          651.9653906006847,
          131.53464052287563,
          26.6583893188199,
          71.17096481255385,
          212.43489988588044,
          42.4807698089121,
          400.9236536565563,
          123.78721564038597,
          80.33206764187162,
          145.8371954353861,
          471.89788499669567,
          106.15478108742673,
          107.36032476947184,
          115.85339533170645,
          84.64705882352928,
          167.46364838070076,
          220.34650897396023,
          379.65890490473384,
          329.4928113704532,
          39.94254285503166,
          170.02271753402238,
          639.7323198942499,
          473.0159345821494,
          214.4629160720042,
          636.1217152807808,
          290.9148677651224,
          22.93961504359413,
          77.77013280751589,
          29.293389996851147,
          202.89460518635906,
          546.5770308123251,
          99.9208255159474,
          296.5309884443627,
          316.1230010707204,
          415.5462526986739,
          539.6171764927612,
          129.03444592790402,
          345.387602230483,
          769.9621736356785,
          477.8305194325403,
          338.0341463414634,
          76.5432301840242,
          12.650611423082864,
          428.2386262142627,
          409.66664498141245,
          201.23274198568288,
          359.1176470588234,
          188.07802973977687,
          143.09234090675454,
          177.3774934897483,
          211.20034699272992,
          361.35195530726287,
          255.50330396728896,
          34.31259901609246,
          446.8184897554529,
          85.37672026437303,
          710.8536936727946,
          16.040482485128905,
          423.3189591078067,
          138.5774859287053,
          420.75584604212054,
          14.195497458242698,
          82.60583842623146,
          406.7565071734157,
          398.9533493067461,
          477.9226684949854,
          694.5496420790541,
          1.1740427509294022,
          75.75792090603545,
          11.771916578426499,
          162.905933456183,
          153.96360225140734,
          381.95956173879495,
          343.58681310623433,
          467.1319398545934,
          176.12889303869724,
          2.6586801265002578,
          88.75905082801637,
          43.82179457667689,
          54.90147783251223,
          12.64226410717356,
          450.2297408038303,
          667.698198942498,
          196.3558309563923,
          1063.0981154852125,
          199.28382425379095,
          47.455751319376304,
          452.1379396202924,
          562.7162783023946,
          82.34566011206698,
          377.24093948574,
          201.43051993552535,
          201.4562506484076,
          206.27807887934614,
          244.15893059485234,
          13.884759829857558,
          488.66703009917046,
          389.7490912095177,
          433.31710892831006,
          109.87204502814257,
          2.3112748031858246,
          28.963317911434387,
          554.7577082993357,
          52.62764116272092,
          110.498715366346,
          564.726596381382,
          510.80262664165093,
          159.26496017678755,
          465.78928438661706,
          260.0399734003254,
          58.95485474886027,
          99.30576169432197,
          10.670902911186658,
          64.31667217448785,
          220.78453788423985,
          238.07630103367728,
          104.517712712287,
          636.5992798651309,
          43.43993215087721,
          86.219234841858,
          231.52144413320912,
          325.98612029081323,
          230.049491275724,
          238.31593388886313,
          883.0031698380587,
          409.20341317980865,
          67.45307336417682,
          447.8655882598182,
          167.45901380146324,
          259.1674371385161,
          91.95034699272946,
          43.2461538461539,
          199.2185441507545,
          572.8802090635581,
          314.90092524359306,
          145.440306211216,
          210.48768472906386,
          196.02303079510557,
          130.31068160789573,
          473.3308434484902,
          532.3489157957738,
          387.9525556574672,
          225.00547700516108,
          386.9301204374169,
          71.44052532832984,
          59.16070289392792,
          23.83188619308521,
          523.1429584273283,
          16.67809953501228,
          356.7477464164331,
          240.1746434904685,
          536.4922609456289,
          13.681801125703714,
          345.9624442369536,
          674.7232319894251,
          865.0215705968744,
          31.68902758288459,
          129.42215900694555,
          271.5387475214802,
          233.76865493884407,
          36.84164902547627,
          70.76882606214895,
          71.49776933245221,
          71.20224089635894,
          600.6101456503698,
          306.989410489452,
          223.25966228893049,
          54.42622678701082,
          431.6084353223969,
          217.0315270935962,
          172.3427727876633,
          103.89334993256534,
          462.14133854220245,
          451.9197785855913,
          367.2072873763641,
          13.417818087778869,
          74.30882843043719,
          327.01942330427073,
          75.95755299574012,
          328.2911819887431,
          632.1846664591762,
          68.99180503631305,
          50.18142762723073,
          110.99665217700158,
          48.633782519657416,
          252.03866848394455,
          45.696853244093745,
          213.57274720176338,
          759.0926776083047,
          160.84017844053005,
          363.87102852076214,
          27.08681920721847,
          229.00298091979357,
          355.29303869696014,
          422.9508046593701,
          212.3949682281659,
          170.5368111584935,
          894.3259641365757,
          110.58529533631054,
          313.43855248277987,
          442.9556992046346,
          42.84963794886971,
          151.6694811472771,
          186.01921747194274,
          62.226701916721595,
          99.52806923875414,
          559.6396232650363,
          487.4014879087181,
          130.74685327563202,
          433.24879984784684
         ],
         "xaxis": "x",
         "yaxis": "y"
        }
       ],
       "layout": {
        "annotations": [
         {
          "showarrow": false,
          "text": "<span style=\"color:red\">Observed = 7224.88, p_value = 0.0</span>",
          "x": 0.4,
          "y": 0.1
         }
        ],
        "barmode": "relative",
        "legend": {
         "tracegroupgap": 0
        },
        "margin": {
         "t": 60
        },
        "shapes": [
         {
          "line": {
           "color": "red"
          },
          "type": "line",
          "x0": 7224.882703670063,
          "x1": 7224.882703670063,
          "xref": "x",
          "y0": 0,
          "y1": 1,
          "yref": "y domain"
         }
        ],
        "template": {
         "data": {
          "bar": [
           {
            "error_x": {
             "color": "#2a3f5f"
            },
            "error_y": {
             "color": "#2a3f5f"
            },
            "marker": {
             "line": {
              "color": "#E5ECF6",
              "width": 0.5
             },
             "pattern": {
              "fillmode": "overlay",
              "size": 10,
              "solidity": 0.2
             }
            },
            "type": "bar"
           }
          ],
          "barpolar": [
           {
            "marker": {
             "line": {
              "color": "#E5ECF6",
              "width": 0.5
             },
             "pattern": {
              "fillmode": "overlay",
              "size": 10,
              "solidity": 0.2
             }
            },
            "type": "barpolar"
           }
          ],
          "carpet": [
           {
            "aaxis": {
             "endlinecolor": "#2a3f5f",
             "gridcolor": "white",
             "linecolor": "white",
             "minorgridcolor": "white",
             "startlinecolor": "#2a3f5f"
            },
            "baxis": {
             "endlinecolor": "#2a3f5f",
             "gridcolor": "white",
             "linecolor": "white",
             "minorgridcolor": "white",
             "startlinecolor": "#2a3f5f"
            },
            "type": "carpet"
           }
          ],
          "choropleth": [
           {
            "colorbar": {
             "outlinewidth": 0,
             "ticks": ""
            },
            "type": "choropleth"
           }
          ],
          "contour": [
           {
            "colorbar": {
             "outlinewidth": 0,
             "ticks": ""
            },
            "colorscale": [
             [
              0,
              "#0d0887"
             ],
             [
              0.1111111111111111,
              "#46039f"
             ],
             [
              0.2222222222222222,
              "#7201a8"
             ],
             [
              0.3333333333333333,
              "#9c179e"
             ],
             [
              0.4444444444444444,
              "#bd3786"
             ],
             [
              0.5555555555555556,
              "#d8576b"
             ],
             [
              0.6666666666666666,
              "#ed7953"
             ],
             [
              0.7777777777777778,
              "#fb9f3a"
             ],
             [
              0.8888888888888888,
              "#fdca26"
             ],
             [
              1,
              "#f0f921"
             ]
            ],
            "type": "contour"
           }
          ],
          "contourcarpet": [
           {
            "colorbar": {
             "outlinewidth": 0,
             "ticks": ""
            },
            "type": "contourcarpet"
           }
          ],
          "heatmap": [
           {
            "colorbar": {
             "outlinewidth": 0,
             "ticks": ""
            },
            "colorscale": [
             [
              0,
              "#0d0887"
             ],
             [
              0.1111111111111111,
              "#46039f"
             ],
             [
              0.2222222222222222,
              "#7201a8"
             ],
             [
              0.3333333333333333,
              "#9c179e"
             ],
             [
              0.4444444444444444,
              "#bd3786"
             ],
             [
              0.5555555555555556,
              "#d8576b"
             ],
             [
              0.6666666666666666,
              "#ed7953"
             ],
             [
              0.7777777777777778,
              "#fb9f3a"
             ],
             [
              0.8888888888888888,
              "#fdca26"
             ],
             [
              1,
              "#f0f921"
             ]
            ],
            "type": "heatmap"
           }
          ],
          "heatmapgl": [
           {
            "colorbar": {
             "outlinewidth": 0,
             "ticks": ""
            },
            "colorscale": [
             [
              0,
              "#0d0887"
             ],
             [
              0.1111111111111111,
              "#46039f"
             ],
             [
              0.2222222222222222,
              "#7201a8"
             ],
             [
              0.3333333333333333,
              "#9c179e"
             ],
             [
              0.4444444444444444,
              "#bd3786"
             ],
             [
              0.5555555555555556,
              "#d8576b"
             ],
             [
              0.6666666666666666,
              "#ed7953"
             ],
             [
              0.7777777777777778,
              "#fb9f3a"
             ],
             [
              0.8888888888888888,
              "#fdca26"
             ],
             [
              1,
              "#f0f921"
             ]
            ],
            "type": "heatmapgl"
           }
          ],
          "histogram": [
           {
            "marker": {
             "pattern": {
              "fillmode": "overlay",
              "size": 10,
              "solidity": 0.2
             }
            },
            "type": "histogram"
           }
          ],
          "histogram2d": [
           {
            "colorbar": {
             "outlinewidth": 0,
             "ticks": ""
            },
            "colorscale": [
             [
              0,
              "#0d0887"
             ],
             [
              0.1111111111111111,
              "#46039f"
             ],
             [
              0.2222222222222222,
              "#7201a8"
             ],
             [
              0.3333333333333333,
              "#9c179e"
             ],
             [
              0.4444444444444444,
              "#bd3786"
             ],
             [
              0.5555555555555556,
              "#d8576b"
             ],
             [
              0.6666666666666666,
              "#ed7953"
             ],
             [
              0.7777777777777778,
              "#fb9f3a"
             ],
             [
              0.8888888888888888,
              "#fdca26"
             ],
             [
              1,
              "#f0f921"
             ]
            ],
            "type": "histogram2d"
           }
          ],
          "histogram2dcontour": [
           {
            "colorbar": {
             "outlinewidth": 0,
             "ticks": ""
            },
            "colorscale": [
             [
              0,
              "#0d0887"
             ],
             [
              0.1111111111111111,
              "#46039f"
             ],
             [
              0.2222222222222222,
              "#7201a8"
             ],
             [
              0.3333333333333333,
              "#9c179e"
             ],
             [
              0.4444444444444444,
              "#bd3786"
             ],
             [
              0.5555555555555556,
              "#d8576b"
             ],
             [
              0.6666666666666666,
              "#ed7953"
             ],
             [
              0.7777777777777778,
              "#fb9f3a"
             ],
             [
              0.8888888888888888,
              "#fdca26"
             ],
             [
              1,
              "#f0f921"
             ]
            ],
            "type": "histogram2dcontour"
           }
          ],
          "mesh3d": [
           {
            "colorbar": {
             "outlinewidth": 0,
             "ticks": ""
            },
            "type": "mesh3d"
           }
          ],
          "parcoords": [
           {
            "line": {
             "colorbar": {
              "outlinewidth": 0,
              "ticks": ""
             }
            },
            "type": "parcoords"
           }
          ],
          "pie": [
           {
            "automargin": true,
            "type": "pie"
           }
          ],
          "scatter": [
           {
            "fillpattern": {
             "fillmode": "overlay",
             "size": 10,
             "solidity": 0.2
            },
            "type": "scatter"
           }
          ],
          "scatter3d": [
           {
            "line": {
             "colorbar": {
              "outlinewidth": 0,
              "ticks": ""
             }
            },
            "marker": {
             "colorbar": {
              "outlinewidth": 0,
              "ticks": ""
             }
            },
            "type": "scatter3d"
           }
          ],
          "scattercarpet": [
           {
            "marker": {
             "colorbar": {
              "outlinewidth": 0,
              "ticks": ""
             }
            },
            "type": "scattercarpet"
           }
          ],
          "scattergeo": [
           {
            "marker": {
             "colorbar": {
              "outlinewidth": 0,
              "ticks": ""
             }
            },
            "type": "scattergeo"
           }
          ],
          "scattergl": [
           {
            "marker": {
             "colorbar": {
              "outlinewidth": 0,
              "ticks": ""
             }
            },
            "type": "scattergl"
           }
          ],
          "scattermapbox": [
           {
            "marker": {
             "colorbar": {
              "outlinewidth": 0,
              "ticks": ""
             }
            },
            "type": "scattermapbox"
           }
          ],
          "scatterpolar": [
           {
            "marker": {
             "colorbar": {
              "outlinewidth": 0,
              "ticks": ""
             }
            },
            "type": "scatterpolar"
           }
          ],
          "scatterpolargl": [
           {
            "marker": {
             "colorbar": {
              "outlinewidth": 0,
              "ticks": ""
             }
            },
            "type": "scatterpolargl"
           }
          ],
          "scatterternary": [
           {
            "marker": {
             "colorbar": {
              "outlinewidth": 0,
              "ticks": ""
             }
            },
            "type": "scatterternary"
           }
          ],
          "surface": [
           {
            "colorbar": {
             "outlinewidth": 0,
             "ticks": ""
            },
            "colorscale": [
             [
              0,
              "#0d0887"
             ],
             [
              0.1111111111111111,
              "#46039f"
             ],
             [
              0.2222222222222222,
              "#7201a8"
             ],
             [
              0.3333333333333333,
              "#9c179e"
             ],
             [
              0.4444444444444444,
              "#bd3786"
             ],
             [
              0.5555555555555556,
              "#d8576b"
             ],
             [
              0.6666666666666666,
              "#ed7953"
             ],
             [
              0.7777777777777778,
              "#fb9f3a"
             ],
             [
              0.8888888888888888,
              "#fdca26"
             ],
             [
              1,
              "#f0f921"
             ]
            ],
            "type": "surface"
           }
          ],
          "table": [
           {
            "cells": {
             "fill": {
              "color": "#EBF0F8"
             },
             "line": {
              "color": "white"
             }
            },
            "header": {
             "fill": {
              "color": "#C8D4E3"
             },
             "line": {
              "color": "white"
             }
            },
            "type": "table"
           }
          ]
         },
         "layout": {
          "annotationdefaults": {
           "arrowcolor": "#2a3f5f",
           "arrowhead": 0,
           "arrowwidth": 1
          },
          "autotypenumbers": "strict",
          "coloraxis": {
           "colorbar": {
            "outlinewidth": 0,
            "ticks": ""
           }
          },
          "colorscale": {
           "diverging": [
            [
             0,
             "#8e0152"
            ],
            [
             0.1,
             "#c51b7d"
            ],
            [
             0.2,
             "#de77ae"
            ],
            [
             0.3,
             "#f1b6da"
            ],
            [
             0.4,
             "#fde0ef"
            ],
            [
             0.5,
             "#f7f7f7"
            ],
            [
             0.6,
             "#e6f5d0"
            ],
            [
             0.7,
             "#b8e186"
            ],
            [
             0.8,
             "#7fbc41"
            ],
            [
             0.9,
             "#4d9221"
            ],
            [
             1,
             "#276419"
            ]
           ],
           "sequential": [
            [
             0,
             "#0d0887"
            ],
            [
             0.1111111111111111,
             "#46039f"
            ],
            [
             0.2222222222222222,
             "#7201a8"
            ],
            [
             0.3333333333333333,
             "#9c179e"
            ],
            [
             0.4444444444444444,
             "#bd3786"
            ],
            [
             0.5555555555555556,
             "#d8576b"
            ],
            [
             0.6666666666666666,
             "#ed7953"
            ],
            [
             0.7777777777777778,
             "#fb9f3a"
            ],
            [
             0.8888888888888888,
             "#fdca26"
            ],
            [
             1,
             "#f0f921"
            ]
           ],
           "sequentialminus": [
            [
             0,
             "#0d0887"
            ],
            [
             0.1111111111111111,
             "#46039f"
            ],
            [
             0.2222222222222222,
             "#7201a8"
            ],
            [
             0.3333333333333333,
             "#9c179e"
            ],
            [
             0.4444444444444444,
             "#bd3786"
            ],
            [
             0.5555555555555556,
             "#d8576b"
            ],
            [
             0.6666666666666666,
             "#ed7953"
            ],
            [
             0.7777777777777778,
             "#fb9f3a"
            ],
            [
             0.8888888888888888,
             "#fdca26"
            ],
            [
             1,
             "#f0f921"
            ]
           ]
          },
          "colorway": [
           "#636efa",
           "#EF553B",
           "#00cc96",
           "#ab63fa",
           "#FFA15A",
           "#19d3f3",
           "#FF6692",
           "#B6E880",
           "#FF97FF",
           "#FECB52"
          ],
          "font": {
           "color": "#2a3f5f"
          },
          "geo": {
           "bgcolor": "white",
           "lakecolor": "white",
           "landcolor": "#E5ECF6",
           "showlakes": true,
           "showland": true,
           "subunitcolor": "white"
          },
          "hoverlabel": {
           "align": "left"
          },
          "hovermode": "closest",
          "mapbox": {
           "style": "light"
          },
          "paper_bgcolor": "white",
          "plot_bgcolor": "#E5ECF6",
          "polar": {
           "angularaxis": {
            "gridcolor": "white",
            "linecolor": "white",
            "ticks": ""
           },
           "bgcolor": "#E5ECF6",
           "radialaxis": {
            "gridcolor": "white",
            "linecolor": "white",
            "ticks": ""
           }
          },
          "scene": {
           "xaxis": {
            "backgroundcolor": "#E5ECF6",
            "gridcolor": "white",
            "gridwidth": 2,
            "linecolor": "white",
            "showbackground": true,
            "ticks": "",
            "zerolinecolor": "white"
           },
           "yaxis": {
            "backgroundcolor": "#E5ECF6",
            "gridcolor": "white",
            "gridwidth": 2,
            "linecolor": "white",
            "showbackground": true,
            "ticks": "",
            "zerolinecolor": "white"
           },
           "zaxis": {
            "backgroundcolor": "#E5ECF6",
            "gridcolor": "white",
            "gridwidth": 2,
            "linecolor": "white",
            "showbackground": true,
            "ticks": "",
            "zerolinecolor": "white"
           }
          },
          "shapedefaults": {
           "line": {
            "color": "#2a3f5f"
           }
          },
          "ternary": {
           "aaxis": {
            "gridcolor": "white",
            "linecolor": "white",
            "ticks": ""
           },
           "baxis": {
            "gridcolor": "white",
            "linecolor": "white",
            "ticks": ""
           },
           "bgcolor": "#E5ECF6",
           "caxis": {
            "gridcolor": "white",
            "linecolor": "white",
            "ticks": ""
           }
          },
          "title": {
           "x": 0.05
          },
          "xaxis": {
           "automargin": true,
           "gridcolor": "white",
           "linecolor": "white",
           "ticks": "",
           "title": {
            "standoff": 15
           },
           "zerolinecolor": "white",
           "zerolinewidth": 2
          },
          "yaxis": {
           "automargin": true,
           "gridcolor": "white",
           "linecolor": "white",
           "ticks": "",
           "title": {
            "standoff": 15
           },
           "zerolinecolor": "white",
           "zerolinewidth": 2
          }
         }
        },
        "title": {
         "text": "Empirical Distribution to check whether <br> OUTAGE.DURATION Have Different Distribution when <br> NO_RANDOM is True and False"
        },
        "xaxis": {
         "anchor": "y",
         "domain": [
          0,
          1
         ],
         "title": {
          "text": "Diff of Means"
         }
        },
        "yaxis": {
         "anchor": "x",
         "domain": [
          0,
          1
         ],
         "title": {
          "text": "probability"
         }
        }
       }
      }
     },
     "metadata": {},
     "output_type": "display_data"
    },
    {
     "name": "stdout",
     "output_type": "stream",
     "text": [
      "Reject the null hypothesis, \n",
      "it's more likely that OUTAGE.DURATION is different when NO_RANDOM is True and False.\n"
     ]
    },
    {
     "data": {
      "text/plain": [
       "(7224.882703670063, 0.0)"
      ]
     },
     "execution_count": 110,
     "metadata": {},
     "output_type": "execute_result"
    }
   ],
   "source": [
    "mean = df['OUTAGE.DURATION'].mean()\n",
    "df['NO_RANDOM'] = df['OUTAGE.DURATION'] > mean\n",
    "hypothesis_test(df, 'OUTAGE.DURATION', 'NO_RANDOM', True, False)"
   ]
  },
  {
   "cell_type": "markdown",
   "metadata": {},
   "source": [
    "Similarily, we can use the same function to test whether different states affect the distribution."
   ]
  },
  {
   "cell_type": "code",
   "execution_count": 111,
   "metadata": {},
   "outputs": [
    {
     "data": {
      "application/vnd.plotly.v1+json": {
       "config": {
        "plotlyServerURL": "https://plot.ly"
       },
       "data": [
        {
         "alignmentgroup": "True",
         "bingroup": "x",
         "histnorm": "probability",
         "hovertemplate": "0=%{x}<br>probability=%{y}<extra></extra>",
         "legendgroup": "",
         "marker": {
          "color": "#636efa",
          "pattern": {
           "shape": ""
          }
         },
         "name": "",
         "nbinsx": 20,
         "offsetgroup": "",
         "orientation": "v",
         "showlegend": false,
         "type": "histogram",
         "x": [
          4209.738461538462,
          489.3707405724672,
          1604.9101736972707,
          2665.0303030303035,
          910.9878787878786,
          532.9430147058824,
          12.812987012986923,
          4140.741474654378,
          219.54319312528287,
          977.2329262777025,
          1645.086174242424,
          770.6367965367967,
          127.93643263757122,
          4055.530303030303,
          1312.4142857142856,
          693.9334239130435,
          75.89246323529414,
          26.063920454545496,
          843.0528169014083,
          264.450367647059,
          159.92094861660053,
          427.3520499108736,
          467.0823529411764,
          743.25,
          406.5183823529412,
          130.19263059701507,
          1999.1377640845071,
          1599.155080213904,
          50.26630434782601,
          1104.7090017825312,
          2033.2003676470588,
          1386.898097826087,
          1036.9560954816711,
          384.67325428194977,
          609.9991071428572,
          576.5083672546357,
          65.11680672268903,
          828.3642723880598,
          2734.2718360071303,
          2284.691699604743,
          1887.2042160737815,
          1150.6785243741767,
          421.25153643546946,
          1872.2897278314308,
          1522.4595588235293,
          2477.190743338008,
          331.1476739223217,
          1295.9762845849805,
          188.578125,
          1238.4879679144383,
          398.0060634328356,
          152.25,
          2624.701992753623,
          2954.174688057041,
          412.44344857020906,
          1468.7245236122617,
          417.5526785714287,
          2255.7048748353095,
          496.34737318840575,
          1046.4285714285713,
          1525.294384057971,
          1215.8741071428572,
          299.08955223880594,
          540.0052700922267,
          779.7361344537817,
          354.70772058823513,
          217.58823529411757,
          1365.514705882353,
          709.5619047619048,
          2123.935167910448,
          842.7537313432836,
          573.4419642857142,
          2412.951260504202,
          565.8625000000002,
          2631.8863849765257,
          1542.3467023172907,
          49.085481682496265,
          3541.023719165086,
          60.29055258467042,
          99.4242424242425,
          463.277626811594,
          269.60845588235316,
          580.0599078341013,
          54.665387894288415,
          492.1334503950834,
          1036.016757246377,
          1438.9885856079404,
          617.3554621848739,
          571.6166007905138,
          624.5951379149133,
          649.2794117647059,
          1759.3301630434785,
          1058.7028493894165,
          2173.619778346121,
          3459.589075630252,
          1405.075630252101,
          781.9857142857145,
          273.2205882352939,
          276.1779220779222,
          1136.0735294117646,
          1136.1791044776119,
          940.2941176470588,
          2402.729166666667,
          955.9038961038962,
          1721.5535714285716,
          1139.1554112554113,
          1747.2527684159845,
          589.9700704225352,
          562.4776119402986,
          217.355072463768,
          2049.832142857143,
          236.59339665309813,
          1428.8467023172905,
          1616.2736318407958,
          139.40679370339672,
          282.70803571428564,
          1046.8746803069055,
          958.3945769050956,
          483.36487638533663,
          456.05213903743334,
          1382.652985074627,
          1513.3203463203463,
          531.6726755218219,
          769.1520522388059,
          3259.0355769230773,
          1980.0330882352941,
          165.1232142857143,
          1752.706192358366,
          584.6742957746478,
          4395.764163372859,
          1280.53125,
          2196.079051383399,
          420.9429590017826,
          163.48123021257334,
          491.10294117647027,
          1422.674632352941,
          184.6805194805197,
          161.98550724637698,
          987.0646766169154,
          733.4335038363174,
          242.0062499999999,
          505.151515151515,
          1345.9336134453781,
          86.072463768116,
          245.98806479113364,
          570.1328273244783,
          1456.2052923602218,
          1194.0900045228404,
          1351.4465240641714,
          2209.954545454546,
          785.4407308377895,
          312.2784992784991,
          1252.0220588235293,
          565.8192668371698,
          169.8616600790515,
          417.58735733099184,
          899.391304347826,
          884.5262483994877,
          318.1773755656109,
          799.9027589326097,
          3500.324823943662,
          35.673351158645346,
          870.1398268398266,
          2740.1951992753625,
          1842.7765151515152,
          104.38235294117658,
          3198.1357234314983,
          1136.3606060606062,
          1154.0869565217392,
          3538.501865671642,
          1099.5882352941176,
          1805.7701492537315,
          351.3992519869098,
          60.243579121789935,
          1163.2640692640693,
          2468.020168067227,
          1561.6128448665763,
          1251.488801054018,
          147.96589940323975,
          509.3823529411766,
          1007.1123188405797,
          240.752305665349,
          346.786561264822,
          331.459815546772,
          27.161038961038912,
          1165.4986631016045,
          1269.7252798507461,
          1763.5873440285204,
          2264.801470588235,
          26.970588235294144,
          663.6309362279512,
          3168.534731934732,
          2218.959156785244,
          1579.5330882352941,
          453.96331521739125,
          497.8920056100983,
          1071.3143382352941,
          564.030303030303,
          183.8168449197865,
          207.23847167325448,
          110.94542910447763,
          252.957839262187,
          255.6411764705881,
          361.6654411764707,
          298.0403361344538,
          50.36786018755356,
          376.78577898550725,
          458.1501976284585,
          138.89437229437226,
          1001.4025327905924,
          1699.6707372229762,
          1811.8570836785416,
          189.40184453227903,
          1837.154891304348,
          885.7989714820012,
          326.109354413702,
          2139.16875,
          1120.0454545454545,
          884.9038208168645,
          318.19631093544194,
          104.61160714285734,
          97.71175373134338,
          531.9893048128342,
          112.1022624434388,
          565.3559782608695,
          468.546195652174,
          291.40909090909076,
          1721.9567678847143,
          502.58288770053514,
          1946.5526785714287,
          1530.5298573975047,
          2683.0606060606065,
          1536.8009950248759,
          2404.5788770053477,
          272.72977941176487,
          605.705882352941,
          42.31739130434789,
          238.73254281949949,
          235.89196310935426,
          474.6521298174439,
          297.91615452150995,
          281.7919227392449,
          1345.2429667519182,
          639.439045183291,
          125.79880647911341,
          1608.266304347826,
          1021.4957983193278,
          191.95185363505038,
          1.2791986359761722,
          383.541213768116,
          317.2044642857145,
          887.1866071428572,
          112.5902306648577,
          854.4354978354977,
          229.098814229249,
          528.9242424242425,
          1402.838768115942,
          1148.21875,
          115.078125,
          1006.1706404862084,
          1783.8048007246375,
          353.0494458653027,
          651.9732142857142,
          329.4696557971015,
          330.00535714285706,
          440.62967914438514,
          433.2364130434785,
          805.1994134897363,
          726.9697478991598,
          258.4853007688828,
          4096.430644472899,
          193.41176470588243,
          2584.200093283582,
          1322.3014705882351,
          24.761029411764866,
          1104.6436487638534,
          439.490118577075,
          565.0504201680674,
          604.8786764705883,
          168.58252853380145,
          2219.7801963294924,
          385.150649350649,
          1915.8878676470588,
          1646.2239789196312,
          719.6624999999999,
          1198.2519893899207,
          378.4883395522388,
          352.91176470588243,
          919.51341991342,
          377.9848484848485,
          1249.309329710145,
          283.88547237076637,
          1508.1452205882351,
          507.12206572769946,
          634.9276785714287,
          36.152832674571755,
          163.78832442067733,
          251.3088235294117,
          1966.5528138528139,
          2930.4227392449516,
          1711.4729907773385,
          1417.610859728507,
          1213.844532279315,
          967.6059782608695,
          1635.6057945566286,
          1687.6811594202898,
          224.12211668928057,
          815.0396613190733,
          202.31668800682883,
          800.0303442028985,
          1708.5169340463458,
          1714.7961876832846,
          1258.8640819964348,
          1930.0579710144925,
          255.3529411764705,
          1060.560606060606,
          74.10132575757598,
          1383.207632894139,
          141.11779081133932,
          1353.7137840210708,
          1677.2672268907565,
          555.0688493018779,
          808.0062499999999,
          560.774064171123,
          540.4045183290709,
          468.4171195652175,
          1423.9872122762147,
          746.318181818182,
          478.32720588235316,
          3372.7351778656125,
          1276.6229946524063,
          1258.3536861148802,
          107.03297682709444,
          769.0680970149256,
          1251.1580882352941,
          1863.0279886148005,
          1202.6657196969695,
          714.8235294117649,
          291.15558397271934,
          72.80480072463774,
          421.81167690956954,
          209.99592944369033,
          625.046875,
          185.41176470588198,
          302.4207792207792,
          5.160873440285286,
          2764.9512516469035,
          969.2132352941176,
          2170.587969244686,
          2246.0284938941654,
          1217.6328358208953,
          46.5623885918003,
          1633.824769433465,
          1213.6617647058824,
          368.36913895993166,
          1476.1136044880786,
          541.612299465241,
          1506.546359113523,
          895.8029776674939,
          982.9604779411766,
          457.651515151515,
          1793.3427109974425,
          266.86250565355067,
          186.53062178588107,
          721.8151515151517,
          1377.4150853889946,
          326.1323529411766,
          624.1259320629661,
          1592.570758738278,
          207.8243819266836,
          2252.9471715755026,
          1531.2090017825312,
          1675.441370223979,
          1522.4658994032395,
          1036.6435688405795,
          1275.2545454545457,
          2663.355801636976,
          188.95520421607398,
          1391.4246509388543,
          34.043898156277464,
          134.85914179104475,
          578.530303030303,
          1249.3636363636363,
          53.79411764705878,
          91.01428571428573,
          2331.684701492537,
          193.97605633802823,
          557.8039215686276,
          514.8596638655463,
          527.3243697478993,
          1010.5577372604018,
          683.4764705882353,
          56.34526854219985,
          1236.782608695652,
          2120.3226514486396,
          1047.4059652029828,
          769.939393939394,
          664.8819266837172,
          475.6030729833544,
          913.3845478489902,
          508.098484848485,
          323.1437229437229,
          920.7009222661397,
          1391.570588235294,
          50.30800542740826,
          455.3596256684493,
          934.0203804347825,
          1018.300892857143,
          13.864295125164517,
          955.6607843137256,
          1680.8484848484848,
          412.0093582887703,
          83.99488491048578,
          2492.4319852941176,
          199.47099567099553,
          559.8544776119402,
          714.0026408450703,
          650.2134016218522,
          777.929464285714,
          1370.2161091549297,
          1328.16783543712,
          949.6943734015344,
          48.25319693094616,
          1238.8591800356503,
          1290.4271099744242,
          1007.7923671058609,
          1163.35,
          282.98974358974374,
          522.3530961791835,
          122.99140660334706,
          864.5640417457305,
          1087.8658008658008,
          422.47662337662314,
          886.875,
          525.8767857142857,
          1148.8327731092436,
          762.2649253731342,
          49.064171122994594,
          1069.0713619402986,
          457.0438228438229,
          244.94384057971,
          203.6097228532485,
          1344.9692164179105,
          623.644927536232,
          707.0171867933061,
          1948.7444005270092,
          775.3623188405795,
          69.38076416337276,
          625.75,
          2725.5499773857982,
          173.57352941176487,
          1224.0822676896848,
          975.4255992763456,
          1045.141564902759,
          193.05971479500886,
          3799.560167910448,
          1924.1822638146164,
          133.41991341991366,
          320.1844532279315,
          437.3676470588234,
          138.9646206308612,
          590.7351778656127,
          1436.7030303030303,
          331.6007130124776,
          1362.3919642857145,
          2470.0147058823522,
          874.2924126172209,
          442.3361383824215,
          404.4085144927535,
          821.5454545454545,
          1093.3857142857141,
          4.7338603425559995,
          1036.0513833992095,
          320.8810492989596,
          375.41978609625676,
          1099.0777338603425,
          1829.4584980237155,
          146.82054560954793,
          495.31092436974814,
          31.942559927634193,
          286.9282531194294,
          71.30174989329907,
          194.40939278937367,
          129.93000426803246,
          1199.8821428571428,
          1429.637254901961,
          625.75634057971,
          1318.3820816864297,
          1428.9679144385027,
          151.12676056338023,
          1295.5761904761903,
          760.3383152173915,
          90.13187855787464,
          2016.2945439045184,
          826.2882352941174,
          1044.914748508099,
          1414.1225108225103,
          274.98484848484827,
          28.89459815546752,
          766.3676470588239
         ],
         "xaxis": "x",
         "yaxis": "y"
        }
       ],
       "layout": {
        "annotations": [
         {
          "showarrow": false,
          "text": "<span style=\"color:red\">Observed = 4992.99, p_value = 0.0</span>",
          "x": 0.4,
          "y": 0.1
         }
        ],
        "barmode": "relative",
        "legend": {
         "tracegroupgap": 0
        },
        "margin": {
         "t": 60
        },
        "shapes": [
         {
          "line": {
           "color": "red"
          },
          "type": "line",
          "x0": 4992.989400921659,
          "x1": 4992.989400921659,
          "xref": "x",
          "y0": 0,
          "y1": 1,
          "yref": "y domain"
         }
        ],
        "template": {
         "data": {
          "bar": [
           {
            "error_x": {
             "color": "#2a3f5f"
            },
            "error_y": {
             "color": "#2a3f5f"
            },
            "marker": {
             "line": {
              "color": "#E5ECF6",
              "width": 0.5
             },
             "pattern": {
              "fillmode": "overlay",
              "size": 10,
              "solidity": 0.2
             }
            },
            "type": "bar"
           }
          ],
          "barpolar": [
           {
            "marker": {
             "line": {
              "color": "#E5ECF6",
              "width": 0.5
             },
             "pattern": {
              "fillmode": "overlay",
              "size": 10,
              "solidity": 0.2
             }
            },
            "type": "barpolar"
           }
          ],
          "carpet": [
           {
            "aaxis": {
             "endlinecolor": "#2a3f5f",
             "gridcolor": "white",
             "linecolor": "white",
             "minorgridcolor": "white",
             "startlinecolor": "#2a3f5f"
            },
            "baxis": {
             "endlinecolor": "#2a3f5f",
             "gridcolor": "white",
             "linecolor": "white",
             "minorgridcolor": "white",
             "startlinecolor": "#2a3f5f"
            },
            "type": "carpet"
           }
          ],
          "choropleth": [
           {
            "colorbar": {
             "outlinewidth": 0,
             "ticks": ""
            },
            "type": "choropleth"
           }
          ],
          "contour": [
           {
            "colorbar": {
             "outlinewidth": 0,
             "ticks": ""
            },
            "colorscale": [
             [
              0,
              "#0d0887"
             ],
             [
              0.1111111111111111,
              "#46039f"
             ],
             [
              0.2222222222222222,
              "#7201a8"
             ],
             [
              0.3333333333333333,
              "#9c179e"
             ],
             [
              0.4444444444444444,
              "#bd3786"
             ],
             [
              0.5555555555555556,
              "#d8576b"
             ],
             [
              0.6666666666666666,
              "#ed7953"
             ],
             [
              0.7777777777777778,
              "#fb9f3a"
             ],
             [
              0.8888888888888888,
              "#fdca26"
             ],
             [
              1,
              "#f0f921"
             ]
            ],
            "type": "contour"
           }
          ],
          "contourcarpet": [
           {
            "colorbar": {
             "outlinewidth": 0,
             "ticks": ""
            },
            "type": "contourcarpet"
           }
          ],
          "heatmap": [
           {
            "colorbar": {
             "outlinewidth": 0,
             "ticks": ""
            },
            "colorscale": [
             [
              0,
              "#0d0887"
             ],
             [
              0.1111111111111111,
              "#46039f"
             ],
             [
              0.2222222222222222,
              "#7201a8"
             ],
             [
              0.3333333333333333,
              "#9c179e"
             ],
             [
              0.4444444444444444,
              "#bd3786"
             ],
             [
              0.5555555555555556,
              "#d8576b"
             ],
             [
              0.6666666666666666,
              "#ed7953"
             ],
             [
              0.7777777777777778,
              "#fb9f3a"
             ],
             [
              0.8888888888888888,
              "#fdca26"
             ],
             [
              1,
              "#f0f921"
             ]
            ],
            "type": "heatmap"
           }
          ],
          "heatmapgl": [
           {
            "colorbar": {
             "outlinewidth": 0,
             "ticks": ""
            },
            "colorscale": [
             [
              0,
              "#0d0887"
             ],
             [
              0.1111111111111111,
              "#46039f"
             ],
             [
              0.2222222222222222,
              "#7201a8"
             ],
             [
              0.3333333333333333,
              "#9c179e"
             ],
             [
              0.4444444444444444,
              "#bd3786"
             ],
             [
              0.5555555555555556,
              "#d8576b"
             ],
             [
              0.6666666666666666,
              "#ed7953"
             ],
             [
              0.7777777777777778,
              "#fb9f3a"
             ],
             [
              0.8888888888888888,
              "#fdca26"
             ],
             [
              1,
              "#f0f921"
             ]
            ],
            "type": "heatmapgl"
           }
          ],
          "histogram": [
           {
            "marker": {
             "pattern": {
              "fillmode": "overlay",
              "size": 10,
              "solidity": 0.2
             }
            },
            "type": "histogram"
           }
          ],
          "histogram2d": [
           {
            "colorbar": {
             "outlinewidth": 0,
             "ticks": ""
            },
            "colorscale": [
             [
              0,
              "#0d0887"
             ],
             [
              0.1111111111111111,
              "#46039f"
             ],
             [
              0.2222222222222222,
              "#7201a8"
             ],
             [
              0.3333333333333333,
              "#9c179e"
             ],
             [
              0.4444444444444444,
              "#bd3786"
             ],
             [
              0.5555555555555556,
              "#d8576b"
             ],
             [
              0.6666666666666666,
              "#ed7953"
             ],
             [
              0.7777777777777778,
              "#fb9f3a"
             ],
             [
              0.8888888888888888,
              "#fdca26"
             ],
             [
              1,
              "#f0f921"
             ]
            ],
            "type": "histogram2d"
           }
          ],
          "histogram2dcontour": [
           {
            "colorbar": {
             "outlinewidth": 0,
             "ticks": ""
            },
            "colorscale": [
             [
              0,
              "#0d0887"
             ],
             [
              0.1111111111111111,
              "#46039f"
             ],
             [
              0.2222222222222222,
              "#7201a8"
             ],
             [
              0.3333333333333333,
              "#9c179e"
             ],
             [
              0.4444444444444444,
              "#bd3786"
             ],
             [
              0.5555555555555556,
              "#d8576b"
             ],
             [
              0.6666666666666666,
              "#ed7953"
             ],
             [
              0.7777777777777778,
              "#fb9f3a"
             ],
             [
              0.8888888888888888,
              "#fdca26"
             ],
             [
              1,
              "#f0f921"
             ]
            ],
            "type": "histogram2dcontour"
           }
          ],
          "mesh3d": [
           {
            "colorbar": {
             "outlinewidth": 0,
             "ticks": ""
            },
            "type": "mesh3d"
           }
          ],
          "parcoords": [
           {
            "line": {
             "colorbar": {
              "outlinewidth": 0,
              "ticks": ""
             }
            },
            "type": "parcoords"
           }
          ],
          "pie": [
           {
            "automargin": true,
            "type": "pie"
           }
          ],
          "scatter": [
           {
            "fillpattern": {
             "fillmode": "overlay",
             "size": 10,
             "solidity": 0.2
            },
            "type": "scatter"
           }
          ],
          "scatter3d": [
           {
            "line": {
             "colorbar": {
              "outlinewidth": 0,
              "ticks": ""
             }
            },
            "marker": {
             "colorbar": {
              "outlinewidth": 0,
              "ticks": ""
             }
            },
            "type": "scatter3d"
           }
          ],
          "scattercarpet": [
           {
            "marker": {
             "colorbar": {
              "outlinewidth": 0,
              "ticks": ""
             }
            },
            "type": "scattercarpet"
           }
          ],
          "scattergeo": [
           {
            "marker": {
             "colorbar": {
              "outlinewidth": 0,
              "ticks": ""
             }
            },
            "type": "scattergeo"
           }
          ],
          "scattergl": [
           {
            "marker": {
             "colorbar": {
              "outlinewidth": 0,
              "ticks": ""
             }
            },
            "type": "scattergl"
           }
          ],
          "scattermapbox": [
           {
            "marker": {
             "colorbar": {
              "outlinewidth": 0,
              "ticks": ""
             }
            },
            "type": "scattermapbox"
           }
          ],
          "scatterpolar": [
           {
            "marker": {
             "colorbar": {
              "outlinewidth": 0,
              "ticks": ""
             }
            },
            "type": "scatterpolar"
           }
          ],
          "scatterpolargl": [
           {
            "marker": {
             "colorbar": {
              "outlinewidth": 0,
              "ticks": ""
             }
            },
            "type": "scatterpolargl"
           }
          ],
          "scatterternary": [
           {
            "marker": {
             "colorbar": {
              "outlinewidth": 0,
              "ticks": ""
             }
            },
            "type": "scatterternary"
           }
          ],
          "surface": [
           {
            "colorbar": {
             "outlinewidth": 0,
             "ticks": ""
            },
            "colorscale": [
             [
              0,
              "#0d0887"
             ],
             [
              0.1111111111111111,
              "#46039f"
             ],
             [
              0.2222222222222222,
              "#7201a8"
             ],
             [
              0.3333333333333333,
              "#9c179e"
             ],
             [
              0.4444444444444444,
              "#bd3786"
             ],
             [
              0.5555555555555556,
              "#d8576b"
             ],
             [
              0.6666666666666666,
              "#ed7953"
             ],
             [
              0.7777777777777778,
              "#fb9f3a"
             ],
             [
              0.8888888888888888,
              "#fdca26"
             ],
             [
              1,
              "#f0f921"
             ]
            ],
            "type": "surface"
           }
          ],
          "table": [
           {
            "cells": {
             "fill": {
              "color": "#EBF0F8"
             },
             "line": {
              "color": "white"
             }
            },
            "header": {
             "fill": {
              "color": "#C8D4E3"
             },
             "line": {
              "color": "white"
             }
            },
            "type": "table"
           }
          ]
         },
         "layout": {
          "annotationdefaults": {
           "arrowcolor": "#2a3f5f",
           "arrowhead": 0,
           "arrowwidth": 1
          },
          "autotypenumbers": "strict",
          "coloraxis": {
           "colorbar": {
            "outlinewidth": 0,
            "ticks": ""
           }
          },
          "colorscale": {
           "diverging": [
            [
             0,
             "#8e0152"
            ],
            [
             0.1,
             "#c51b7d"
            ],
            [
             0.2,
             "#de77ae"
            ],
            [
             0.3,
             "#f1b6da"
            ],
            [
             0.4,
             "#fde0ef"
            ],
            [
             0.5,
             "#f7f7f7"
            ],
            [
             0.6,
             "#e6f5d0"
            ],
            [
             0.7,
             "#b8e186"
            ],
            [
             0.8,
             "#7fbc41"
            ],
            [
             0.9,
             "#4d9221"
            ],
            [
             1,
             "#276419"
            ]
           ],
           "sequential": [
            [
             0,
             "#0d0887"
            ],
            [
             0.1111111111111111,
             "#46039f"
            ],
            [
             0.2222222222222222,
             "#7201a8"
            ],
            [
             0.3333333333333333,
             "#9c179e"
            ],
            [
             0.4444444444444444,
             "#bd3786"
            ],
            [
             0.5555555555555556,
             "#d8576b"
            ],
            [
             0.6666666666666666,
             "#ed7953"
            ],
            [
             0.7777777777777778,
             "#fb9f3a"
            ],
            [
             0.8888888888888888,
             "#fdca26"
            ],
            [
             1,
             "#f0f921"
            ]
           ],
           "sequentialminus": [
            [
             0,
             "#0d0887"
            ],
            [
             0.1111111111111111,
             "#46039f"
            ],
            [
             0.2222222222222222,
             "#7201a8"
            ],
            [
             0.3333333333333333,
             "#9c179e"
            ],
            [
             0.4444444444444444,
             "#bd3786"
            ],
            [
             0.5555555555555556,
             "#d8576b"
            ],
            [
             0.6666666666666666,
             "#ed7953"
            ],
            [
             0.7777777777777778,
             "#fb9f3a"
            ],
            [
             0.8888888888888888,
             "#fdca26"
            ],
            [
             1,
             "#f0f921"
            ]
           ]
          },
          "colorway": [
           "#636efa",
           "#EF553B",
           "#00cc96",
           "#ab63fa",
           "#FFA15A",
           "#19d3f3",
           "#FF6692",
           "#B6E880",
           "#FF97FF",
           "#FECB52"
          ],
          "font": {
           "color": "#2a3f5f"
          },
          "geo": {
           "bgcolor": "white",
           "lakecolor": "white",
           "landcolor": "#E5ECF6",
           "showlakes": true,
           "showland": true,
           "subunitcolor": "white"
          },
          "hoverlabel": {
           "align": "left"
          },
          "hovermode": "closest",
          "mapbox": {
           "style": "light"
          },
          "paper_bgcolor": "white",
          "plot_bgcolor": "#E5ECF6",
          "polar": {
           "angularaxis": {
            "gridcolor": "white",
            "linecolor": "white",
            "ticks": ""
           },
           "bgcolor": "#E5ECF6",
           "radialaxis": {
            "gridcolor": "white",
            "linecolor": "white",
            "ticks": ""
           }
          },
          "scene": {
           "xaxis": {
            "backgroundcolor": "#E5ECF6",
            "gridcolor": "white",
            "gridwidth": 2,
            "linecolor": "white",
            "showbackground": true,
            "ticks": "",
            "zerolinecolor": "white"
           },
           "yaxis": {
            "backgroundcolor": "#E5ECF6",
            "gridcolor": "white",
            "gridwidth": 2,
            "linecolor": "white",
            "showbackground": true,
            "ticks": "",
            "zerolinecolor": "white"
           },
           "zaxis": {
            "backgroundcolor": "#E5ECF6",
            "gridcolor": "white",
            "gridwidth": 2,
            "linecolor": "white",
            "showbackground": true,
            "ticks": "",
            "zerolinecolor": "white"
           }
          },
          "shapedefaults": {
           "line": {
            "color": "#2a3f5f"
           }
          },
          "ternary": {
           "aaxis": {
            "gridcolor": "white",
            "linecolor": "white",
            "ticks": ""
           },
           "baxis": {
            "gridcolor": "white",
            "linecolor": "white",
            "ticks": ""
           },
           "bgcolor": "#E5ECF6",
           "caxis": {
            "gridcolor": "white",
            "linecolor": "white",
            "ticks": ""
           }
          },
          "title": {
           "x": 0.05
          },
          "xaxis": {
           "automargin": true,
           "gridcolor": "white",
           "linecolor": "white",
           "ticks": "",
           "title": {
            "standoff": 15
           },
           "zerolinecolor": "white",
           "zerolinewidth": 2
          },
          "yaxis": {
           "automargin": true,
           "gridcolor": "white",
           "linecolor": "white",
           "ticks": "",
           "title": {
            "standoff": 15
           },
           "zerolinecolor": "white",
           "zerolinewidth": 2
          }
         }
        },
        "title": {
         "text": "Empirical Distribution to check whether <br> OUTAGE.DURATION Have Different Distribution when <br> U.S._STATE is New York and Tennessee"
        },
        "xaxis": {
         "anchor": "y",
         "domain": [
          0,
          1
         ],
         "title": {
          "text": "Diff of Means"
         }
        },
        "yaxis": {
         "anchor": "x",
         "domain": [
          0,
          1
         ],
         "title": {
          "text": "probability"
         }
        }
       }
      }
     },
     "metadata": {},
     "output_type": "display_data"
    },
    {
     "name": "stdout",
     "output_type": "stream",
     "text": [
      "Reject the null hypothesis, \n",
      "it's more likely that OUTAGE.DURATION is different when U.S._STATE is New York and Tennessee.\n"
     ]
    },
    {
     "data": {
      "text/plain": [
       "(4992.989400921659, 0.0)"
      ]
     },
     "execution_count": 111,
     "metadata": {},
     "output_type": "execute_result"
    }
   ],
   "source": [
    "hypothesis_test(df, 'OUTAGE.DURATION', 'U.S._STATE', 'New York', 'Tennessee')"
   ]
  },
  {
   "cell_type": "markdown",
   "metadata": {},
   "source": [
    "It shows that it's highly possible that the outage duration differs a lot in the two states."
   ]
  }
 ],
 "metadata": {
  "kernelspec": {
   "display_name": "Python 3 (ipykernel)",
   "language": "python",
   "name": "python3"
  },
  "language_info": {
   "codemirror_mode": {
    "name": "ipython",
    "version": 3
   },
   "file_extension": ".py",
   "mimetype": "text/x-python",
   "name": "python",
   "nbconvert_exporter": "python",
   "pygments_lexer": "ipython3",
   "version": "3.8.18"
  }
 },
 "nbformat": 4,
 "nbformat_minor": 2
}
